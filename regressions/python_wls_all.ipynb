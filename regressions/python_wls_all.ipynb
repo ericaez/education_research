{
 "cells": [
  {
   "cell_type": "code",
   "execution_count": 1,
   "id": "1d86f585",
   "metadata": {},
   "outputs": [],
   "source": [
    "import pandas as pd\n",
    "from linearmodels.panel import PanelOLS\n",
    "from linearmodels.iv import AbsorbingLS"
   ]
  },
  {
   "cell_type": "code",
   "execution_count": 2,
   "id": "885131e0",
   "metadata": {},
   "outputs": [],
   "source": [
    "def print_summarized_results(results):\n",
    "    # UNCOMMENT BELOW TO ONLY SEE COEFFS, STD ERRORS, AND P VALUES\n",
    "    \n",
    "#     # Extract parameter estimates, standard errors and p-values\n",
    "#     params = results.params\n",
    "#     std_errors = results.std_errors.round(5)  # Round the standard errors to 5 decimal places\n",
    "#     pvalues = results.pvalues.round(5)\n",
    "\n",
    "#     # Construct a DataFrame\n",
    "#     results_df = pd.DataFrame({\n",
    "#         'Parameter Estimates': params,\n",
    "#         'Standard Errors': std_errors,\n",
    "#         'P-values': pvalues\n",
    "#     })\n",
    "\n",
    "#     # Print the resulting DataFrame\n",
    "#     print(results_df)\n",
    "    print(results)"
   ]
  },
  {
   "cell_type": "markdown",
   "id": "59d3653d",
   "metadata": {},
   "source": [
    "# School FE"
   ]
  },
  {
   "cell_type": "markdown",
   "id": "761d0dfa",
   "metadata": {},
   "source": [
    "### Preliminary No Interactions Regression Function"
   ]
  },
  {
   "cell_type": "code",
   "execution_count": 3,
   "id": "02780388",
   "metadata": {},
   "outputs": [],
   "source": [
    "def run_preliminary_regression(outcome_var, weight):\n",
    "    data = pd.read_csv(f'../final_data_all_state/final_data_all_state_{outcome_var}.csv').iloc[:, 1:].set_index(['schoolcode', 'year'])\n",
    "\n",
    "    outcome_var = outcome_var\n",
    "    exog_vars = ['schoolmode', 'black', 'hispanic', 'lowincome', 'white']\n",
    "\n",
    "    model = PanelOLS(dependent = data[outcome_var], exog = data.loc[:, exog_vars], \n",
    "                     weights = data[weight], entity_effects = True, time_effects = True)\n",
    "\n",
    "    panel_results_no_per = model.fit(cov_type = 'clustered', clusters = data['districtcode'])\n",
    "\n",
    "    data = pd.read_csv(f'../final_data_all_state/final_data_all_state_{outcome_var}.csv').iloc[:, 1:].set_index(['schoolcode', 'year'])\n",
    "\n",
    "    outcome_var = outcome_var\n",
    "    exog_vars = ['virtualper', 'hybridper', 'black', 'hispanic', 'lowincome', 'white']\n",
    "\n",
    "    model = PanelOLS(dependent = data[outcome_var], exog = data.loc[:, exog_vars], \n",
    "                     weights = data[weight], entity_effects = True, time_effects = True)\n",
    "    \n",
    "    panel_results_per = model.fit(cov_type = 'clustered', clusters = data['districtcode'])\n",
    "\n",
    "    return [panel_results_no_per, panel_results_per]"
   ]
  },
  {
   "cell_type": "markdown",
   "id": "ed3dab1b",
   "metadata": {},
   "source": [
    "#### MATH"
   ]
  },
  {
   "cell_type": "code",
   "execution_count": 4,
   "id": "ec7e0a96",
   "metadata": {},
   "outputs": [],
   "source": [
    "results = run_preliminary_regression('mathpass', 'totaltested')"
   ]
  },
  {
   "cell_type": "code",
   "execution_count": 5,
   "id": "4fe08046",
   "metadata": {},
   "outputs": [
    {
     "name": "stdout",
     "output_type": "stream",
     "text": [
      "                          PanelOLS Estimation Summary                           \n",
      "================================================================================\n",
      "Dep. Variable:               mathpass   R-squared:                        0.0323\n",
      "Estimator:                   PanelOLS   R-squared (Between):             -0.7190\n",
      "No. Observations:               24734   R-squared (Within):              -0.0678\n",
      "Date:                Fri, Sep 22 2023   R-squared (Overall):             -0.6955\n",
      "Time:                        17:26:43   Log-likelihood                -8.718e+04\n",
      "Cov. Estimator:             Clustered                                           \n",
      "                                        F-statistic:                      136.04\n",
      "Entities:                        4348   P-value                           0.0000\n",
      "Avg Obs:                       5.6886   Distribution:                 F(5,20376)\n",
      "Min Obs:                       4.0000                                           \n",
      "Max Obs:                       6.0000   F-statistic (robust):             22.509\n",
      "                                        P-value                           0.0000\n",
      "Time periods:                       6   Distribution:                 F(5,20376)\n",
      "Avg Obs:                       4122.3                                           \n",
      "Min Obs:                       3671.0                                           \n",
      "Max Obs:                       4348.0                                           \n",
      "                                                                                \n",
      "                             Parameter Estimates                              \n",
      "==============================================================================\n",
      "            Parameter  Std. Err.     T-stat    P-value    Lower CI    Upper CI\n",
      "------------------------------------------------------------------------------\n",
      "schoolmode     7.9379     1.9025     4.1724     0.0000      4.2089      11.667\n",
      "black         -0.4080     0.0561    -7.2773     0.0000     -0.5179     -0.2981\n",
      "hispanic      -0.2226     0.0466    -4.7788     0.0000     -0.3139     -0.1313\n",
      "lowincome     -0.0468     0.0293    -1.5969     0.1103     -0.1042      0.0106\n",
      "white         -0.0298     0.0441    -0.6765     0.4987     -0.1162      0.0566\n",
      "==============================================================================\n",
      "\n",
      "F-test for Poolability: 24.932\n",
      "P-value: 0.0000\n",
      "Distribution: F(4352,20376)\n",
      "\n",
      "Included effects: Entity, Time\n"
     ]
    }
   ],
   "source": [
    "MATH_NOINT_NOPER = results[0]\n",
    "print_summarized_results(MATH_NOINT_NOPER)"
   ]
  },
  {
   "cell_type": "code",
   "execution_count": 6,
   "id": "bc18ac05",
   "metadata": {},
   "outputs": [
    {
     "name": "stdout",
     "output_type": "stream",
     "text": [
      "                          PanelOLS Estimation Summary                           \n",
      "================================================================================\n",
      "Dep. Variable:               mathpass   R-squared:                        0.0453\n",
      "Estimator:                   PanelOLS   R-squared (Between):             -0.6614\n",
      "No. Observations:               24734   R-squared (Within):              -0.0913\n",
      "Date:                Fri, Sep 22 2023   R-squared (Overall):             -0.6408\n",
      "Time:                        17:26:43   Log-likelihood                -8.702e+04\n",
      "Cov. Estimator:             Clustered                                           \n",
      "                                        F-statistic:                      161.12\n",
      "Entities:                        4348   P-value                           0.0000\n",
      "Avg Obs:                       5.6886   Distribution:                 F(6,20375)\n",
      "Min Obs:                       4.0000                                           \n",
      "Max Obs:                       6.0000   F-statistic (robust):             28.516\n",
      "                                        P-value                           0.0000\n",
      "Time periods:                       6   Distribution:                 F(6,20375)\n",
      "Avg Obs:                       4122.3                                           \n",
      "Min Obs:                       3671.0                                           \n",
      "Max Obs:                       4348.0                                           \n",
      "                                                                                \n",
      "                             Parameter Estimates                              \n",
      "==============================================================================\n",
      "            Parameter  Std. Err.     T-stat    P-value    Lower CI    Upper CI\n",
      "------------------------------------------------------------------------------\n",
      "virtualper     6.0139     1.9723     3.0492     0.0023      2.1481      9.8798\n",
      "hybridper      14.115     1.8487     7.6354     0.0000      10.492      17.739\n",
      "black         -0.3924     0.0559    -7.0252     0.0000     -0.5019     -0.2829\n",
      "hispanic      -0.2150     0.0463    -4.6412     0.0000     -0.3058     -0.1242\n",
      "lowincome     -0.0463     0.0280    -1.6522     0.0985     -0.1011      0.0086\n",
      "white         -0.0136     0.0442    -0.3078     0.7582     -0.1003      0.0731\n",
      "==============================================================================\n",
      "\n",
      "F-test for Poolability: 25.179\n",
      "P-value: 0.0000\n",
      "Distribution: F(4352,20375)\n",
      "\n",
      "Included effects: Entity, Time\n"
     ]
    }
   ],
   "source": [
    "MATH_NOINT_PER = results[1]\n",
    "print_summarized_results(MATH_NOINT_PER)"
   ]
  },
  {
   "cell_type": "markdown",
   "id": "cbd7eed7",
   "metadata": {},
   "source": [
    "#### ELA"
   ]
  },
  {
   "cell_type": "code",
   "execution_count": 7,
   "id": "7d4c57b1",
   "metadata": {},
   "outputs": [],
   "source": [
    "results = run_preliminary_regression('elapass', 'totaltested')"
   ]
  },
  {
   "cell_type": "code",
   "execution_count": 8,
   "id": "b42dabaf",
   "metadata": {},
   "outputs": [
    {
     "name": "stdout",
     "output_type": "stream",
     "text": [
      "                          PanelOLS Estimation Summary                           \n",
      "================================================================================\n",
      "Dep. Variable:                elapass   R-squared:                        0.0562\n",
      "Estimator:                   PanelOLS   R-squared (Between):             -0.7668\n",
      "No. Observations:               18554   R-squared (Within):               0.0106\n",
      "Date:                Fri, Sep 22 2023   R-squared (Overall):             -0.7581\n",
      "Time:                        17:26:44   Log-likelihood                -5.778e+04\n",
      "Cov. Estimator:             Clustered                                           \n",
      "                                        F-statistic:                      181.18\n",
      "Entities:                        3318   P-value                           0.0000\n",
      "Avg Obs:                       5.5919   Distribution:                 F(5,15226)\n",
      "Min Obs:                       4.0000                                           \n",
      "Max Obs:                       6.0000   F-statistic (robust):             15.869\n",
      "                                        P-value                           0.0000\n",
      "Time periods:                       6   Distribution:                 F(5,15226)\n",
      "Avg Obs:                       3092.3                                           \n",
      "Min Obs:                       2641.0                                           \n",
      "Max Obs:                       3318.0                                           \n",
      "                                                                                \n",
      "                             Parameter Estimates                              \n",
      "==============================================================================\n",
      "            Parameter  Std. Err.     T-stat    P-value    Lower CI    Upper CI\n",
      "------------------------------------------------------------------------------\n",
      "schoolmode    -3.2228     0.7770    -4.1477     0.0000     -4.7458     -1.6998\n",
      "black         -0.4647     0.0886    -5.2455     0.0000     -0.6384     -0.2911\n",
      "hispanic      -0.3400     0.0645    -5.2680     0.0000     -0.4665     -0.2135\n",
      "lowincome     -0.0193     0.0170    -1.1371     0.2555     -0.0527      0.0140\n",
      "white          0.1329     0.0403     3.2991     0.0010      0.0540      0.2119\n",
      "==============================================================================\n",
      "\n",
      "F-test for Poolability: 33.107\n",
      "P-value: 0.0000\n",
      "Distribution: F(3322,15226)\n",
      "\n",
      "Included effects: Entity, Time\n"
     ]
    }
   ],
   "source": [
    "ELA_NOINT_NOPER = results[0]\n",
    "print_summarized_results(ELA_NOINT_NOPER)"
   ]
  },
  {
   "cell_type": "code",
   "execution_count": 9,
   "id": "569bc521",
   "metadata": {},
   "outputs": [
    {
     "name": "stdout",
     "output_type": "stream",
     "text": [
      "                          PanelOLS Estimation Summary                           \n",
      "================================================================================\n",
      "Dep. Variable:                elapass   R-squared:                        0.0675\n",
      "Estimator:                   PanelOLS   R-squared (Between):             -0.7819\n",
      "No. Observations:               18554   R-squared (Within):               0.0122\n",
      "Date:                Fri, Sep 22 2023   R-squared (Overall):             -0.7730\n",
      "Time:                        17:26:44   Log-likelihood                -5.767e+04\n",
      "Cov. Estimator:             Clustered                                           \n",
      "                                        F-statistic:                      183.67\n",
      "Entities:                        3318   P-value                           0.0000\n",
      "Avg Obs:                       5.5919   Distribution:                 F(6,15225)\n",
      "Min Obs:                       4.0000                                           \n",
      "Max Obs:                       6.0000   F-statistic (robust):             20.807\n",
      "                                        P-value                           0.0000\n",
      "Time periods:                       6   Distribution:                 F(6,15225)\n",
      "Avg Obs:                       3092.3                                           \n",
      "Min Obs:                       2641.0                                           \n",
      "Max Obs:                       3318.0                                           \n",
      "                                                                                \n",
      "                             Parameter Estimates                              \n",
      "==============================================================================\n",
      "            Parameter  Std. Err.     T-stat    P-value    Lower CI    Upper CI\n",
      "------------------------------------------------------------------------------\n",
      "virtualper    -2.0609     0.7792    -2.6450     0.0082     -3.5882     -0.5337\n",
      "hybridper     -8.1394     1.0233    -7.9538     0.0000     -10.145     -6.1335\n",
      "black         -0.4672     0.0882    -5.2990     0.0000     -0.6400     -0.2944\n",
      "hispanic      -0.3382     0.0640    -5.2835     0.0000     -0.4637     -0.2127\n",
      "lowincome     -0.0193     0.0160    -1.2074     0.2273     -0.0507      0.0120\n",
      "white          0.1211     0.0391     3.0978     0.0020      0.0445      0.1978\n",
      "==============================================================================\n",
      "\n",
      "F-test for Poolability: 32.974\n",
      "P-value: 0.0000\n",
      "Distribution: F(3322,15225)\n",
      "\n",
      "Included effects: Entity, Time\n"
     ]
    }
   ],
   "source": [
    "ELA_NOINT_PER = results[1]\n",
    "print_summarized_results(ELA_NOINT_PER)"
   ]
  },
  {
   "cell_type": "markdown",
   "id": "65bb0642",
   "metadata": {},
   "source": [
    "#### DROPOUT"
   ]
  },
  {
   "cell_type": "code",
   "execution_count": null,
   "id": "d03fe962",
   "metadata": {},
   "outputs": [],
   "source": []
  },
  {
   "cell_type": "markdown",
   "id": "1abbb951",
   "metadata": {},
   "source": [
    "# School FE + State-Year Interaction"
   ]
  },
  {
   "cell_type": "markdown",
   "id": "c41b4ae4",
   "metadata": {},
   "source": [
    "### School FE + State-Year Regression Function"
   ]
  },
  {
   "cell_type": "code",
   "execution_count": 10,
   "id": "581a7248",
   "metadata": {},
   "outputs": [],
   "source": [
    "def run_state_year_regression(outcome_var, weight):\n",
    "    data = pd.read_csv(f'../final_data_all_state/final_data_all_state_{outcome_var}.csv').iloc[:, 1:]\n",
    "    data['state_year'] = data['state'] + data['year'].astype('str')\n",
    "\n",
    "    effect = 'state_year'\n",
    "    outcome_var = outcome_var\n",
    "    exog_vars = ['schoolmode', 'black', 'hispanic', 'lowincome', 'white']\n",
    "\n",
    "    absorb = data[['schoolcode', 'year', effect]].astype('category')\n",
    "    model = AbsorbingLS(dependent=data[outcome_var], exog=data[exog_vars], absorb=absorb, weights=data[weight])\n",
    "    panel_results_no_per = model.fit(cov_type='clustered', clusters=data['schoolcode'])\n",
    "    \n",
    "    data = pd.read_csv(f'../final_data_all_state/final_data_all_state_{outcome_var}.csv').iloc[:, 1:]\n",
    "    data['state_year'] = data['state'] + data['year'].astype('str')\n",
    "\n",
    "    effect = 'state_year'\n",
    "    outcome_var = outcome_var\n",
    "    exog_vars = ['virtualper', 'hybridper','black', 'hispanic', 'lowincome', 'white']\n",
    "\n",
    "    absorb = data[['schoolcode', 'year', effect]].astype('category')\n",
    "    model = AbsorbingLS(dependent=data[outcome_var], exog=data[exog_vars], absorb=absorb, weights=data[weight])\n",
    "    panel_results_per = model.fit(cov_type='clustered', clusters=data['schoolcode'])\n",
    "\n",
    "    return [panel_results_no_per, panel_results_per]"
   ]
  },
  {
   "cell_type": "markdown",
   "id": "0ecb265c",
   "metadata": {},
   "source": [
    "#### MATH"
   ]
  },
  {
   "cell_type": "code",
   "execution_count": 11,
   "id": "86095f06",
   "metadata": {},
   "outputs": [],
   "source": [
    "results = run_state_year_regression('mathpass', 'totaltested')"
   ]
  },
  {
   "cell_type": "code",
   "execution_count": 12,
   "id": "b483eb73",
   "metadata": {},
   "outputs": [
    {
     "name": "stdout",
     "output_type": "stream",
     "text": [
      "                         Absorbing LS Estimation Summary                          \n",
      "==================================================================================\n",
      "Dep. Variable:               mathpass   R-squared:                          0.9182\n",
      "Estimator:               Absorbing LS   Adj. R-squared:                     0.9007\n",
      "No. Observations:               24734   F-statistic:                        291.53\n",
      "Date:                Fri, Sep 22 2023   P-value (F-stat):                   0.0000\n",
      "Time:                        17:26:45   Distribution:                      chi2(5)\n",
      "Cov. Estimator:             clustered   R-squared (No Effects):             0.0319\n",
      "                                        Varaibles Absorbed:                 4368.0\n",
      "                             Parameter Estimates                              \n",
      "==============================================================================\n",
      "            Parameter  Std. Err.     T-stat    P-value    Lower CI    Upper CI\n",
      "------------------------------------------------------------------------------\n",
      "schoolmode    -8.9480     0.9053    -9.8838     0.0000     -10.722     -7.1736\n",
      "black         -0.4670     0.0452    -10.336     0.0000     -0.5555     -0.3784\n",
      "hispanic      -0.2719     0.0347    -7.8285     0.0000     -0.3400     -0.2039\n",
      "lowincome     -0.0195     0.0116    -1.6758     0.0938     -0.0422      0.0033\n",
      "white         -0.0053     0.0319    -0.1673     0.8671     -0.0678      0.0571\n",
      "==============================================================================\n"
     ]
    }
   ],
   "source": [
    "MATH_STATEYEAR__NOPER = results[0]\n",
    "print_summarized_results(MATH_STATEYEAR__NOPER)"
   ]
  },
  {
   "cell_type": "code",
   "execution_count": 13,
   "id": "975fff03",
   "metadata": {},
   "outputs": [
    {
     "name": "stdout",
     "output_type": "stream",
     "text": [
      "                         Absorbing LS Estimation Summary                          \n",
      "==================================================================================\n",
      "Dep. Variable:               mathpass   R-squared:                          0.9183\n",
      "Estimator:               Absorbing LS   Adj. R-squared:                     0.9007\n",
      "No. Observations:               24734   F-statistic:                        294.08\n",
      "Date:                Fri, Sep 22 2023   P-value (F-stat):                   0.0000\n",
      "Time:                        17:26:45   Distribution:                      chi2(6)\n",
      "Cov. Estimator:             clustered   R-squared (No Effects):             0.0323\n",
      "                                        Varaibles Absorbed:                 4368.0\n",
      "                             Parameter Estimates                              \n",
      "==============================================================================\n",
      "            Parameter  Std. Err.     T-stat    P-value    Lower CI    Upper CI\n",
      "------------------------------------------------------------------------------\n",
      "virtualper    -9.2024     0.9230    -9.9706     0.0000     -11.011     -7.3935\n",
      "hybridper     -7.2469     1.0761    -6.7344     0.0000     -9.3561     -5.1378\n",
      "black         -0.4671     0.0452    -10.343     0.0000     -0.5557     -0.3786\n",
      "hispanic      -0.2718     0.0347    -7.8295     0.0000     -0.3398     -0.2037\n",
      "lowincome     -0.0191     0.0116    -1.6454     0.0999     -0.0419      0.0037\n",
      "white         -0.0055     0.0318    -0.1741     0.8618     -0.0680      0.0569\n",
      "==============================================================================\n"
     ]
    }
   ],
   "source": [
    "MATH_STATEYEAR__NOPER = results[1]\n",
    "print_summarized_results(MATH_STATEYEAR__NOPER)"
   ]
  },
  {
   "cell_type": "markdown",
   "id": "ef3db7b0",
   "metadata": {},
   "source": [
    "#### ELA"
   ]
  },
  {
   "cell_type": "code",
   "execution_count": 14,
   "id": "84abdb5e",
   "metadata": {},
   "outputs": [],
   "source": [
    "results = run_state_year_regression('elapass', 'totaltested')"
   ]
  },
  {
   "cell_type": "code",
   "execution_count": 15,
   "id": "88b66ecf",
   "metadata": {
    "scrolled": true
   },
   "outputs": [
    {
     "name": "stdout",
     "output_type": "stream",
     "text": [
      "                         Absorbing LS Estimation Summary                          \n",
      "==================================================================================\n",
      "Dep. Variable:                elapass   R-squared:                          0.9393\n",
      "Estimator:               Absorbing LS   Adj. R-squared:                     0.9260\n",
      "No. Observations:               18554   F-statistic:                        177.92\n",
      "Date:                Fri, Sep 22 2023   P-value (F-stat):                   0.0000\n",
      "Time:                        17:26:45   Distribution:                      chi2(5)\n",
      "Cov. Estimator:             clustered   R-squared (No Effects):             0.0556\n",
      "                                        Varaibles Absorbed:                 3338.0\n",
      "                             Parameter Estimates                              \n",
      "==============================================================================\n",
      "            Parameter  Std. Err.     T-stat    P-value    Lower CI    Upper CI\n",
      "------------------------------------------------------------------------------\n",
      "schoolmode    -0.5433     0.4986    -1.0898     0.2758     -1.5205      0.4338\n",
      "black         -0.5422     0.0556    -9.7546     0.0000     -0.6511     -0.4333\n",
      "hispanic      -0.3727     0.0443    -8.4072     0.0000     -0.4596     -0.2858\n",
      "lowincome     -0.0104     0.0079    -1.3272     0.1844     -0.0258      0.0050\n",
      "white          0.0958     0.0297     3.2290     0.0012      0.0377      0.1540\n",
      "==============================================================================\n"
     ]
    }
   ],
   "source": [
    "ELA_STATEYEAR_NOPER = results[0]\n",
    "print_summarized_results(ELA_STATEYEAR_NOPER)"
   ]
  },
  {
   "cell_type": "code",
   "execution_count": 16,
   "id": "a8278efa",
   "metadata": {
    "scrolled": false
   },
   "outputs": [
    {
     "name": "stdout",
     "output_type": "stream",
     "text": [
      "                         Absorbing LS Estimation Summary                          \n",
      "==================================================================================\n",
      "Dep. Variable:                elapass   R-squared:                          0.9393\n",
      "Estimator:               Absorbing LS   Adj. R-squared:                     0.9260\n",
      "No. Observations:               18554   F-statistic:                        180.84\n",
      "Date:                Fri, Sep 22 2023   P-value (F-stat):                   0.0000\n",
      "Time:                        17:26:45   Distribution:                      chi2(6)\n",
      "Cov. Estimator:             clustered   R-squared (No Effects):             0.0559\n",
      "                                        Varaibles Absorbed:                 3338.0\n",
      "                             Parameter Estimates                              \n",
      "==============================================================================\n",
      "            Parameter  Std. Err.     T-stat    P-value    Lower CI    Upper CI\n",
      "------------------------------------------------------------------------------\n",
      "virtualper    -0.3886     0.5036    -0.7717     0.4403     -1.3756      0.5984\n",
      "hybridper      1.3691     0.7925     1.7275     0.0841     -0.1843      2.9224\n",
      "black         -0.5423     0.0556    -9.7539     0.0000     -0.6513     -0.4334\n",
      "hispanic      -0.3730     0.0444    -8.4023     0.0000     -0.4599     -0.2860\n",
      "lowincome     -0.0107     0.0078    -1.3612     0.1735     -0.0261      0.0047\n",
      "white          0.0961     0.0297     3.2349     0.0012      0.0379      0.1543\n",
      "==============================================================================\n"
     ]
    }
   ],
   "source": [
    "ELA_STATEYEAR__PER = results[1]\n",
    "print_summarized_results(ELA_STATEYEAR__PER)"
   ]
  },
  {
   "cell_type": "markdown",
   "id": "4495e473",
   "metadata": {},
   "source": [
    "#### DROPOUT"
   ]
  },
  {
   "cell_type": "code",
   "execution_count": null,
   "id": "9278c0e3",
   "metadata": {},
   "outputs": [],
   "source": []
  },
  {
   "cell_type": "markdown",
   "id": "b982afdc",
   "metadata": {},
   "source": [
    "# School FE + District-Year Interaction"
   ]
  },
  {
   "cell_type": "markdown",
   "id": "2f9d9744",
   "metadata": {},
   "source": [
    "### School FE + District-Year Regression Function"
   ]
  },
  {
   "cell_type": "code",
   "execution_count": 17,
   "id": "497f440c",
   "metadata": {},
   "outputs": [],
   "source": [
    "def run_district_year_regression(outcome_var, weight):\n",
    "    data = pd.read_csv(f'../final_data_all_state/final_data_all_state_{outcome_var}.csv').iloc[:, 1:]\n",
    "    data['district_year'] = data['districtcode'] + data['year'].astype('str')\n",
    "\n",
    "    effect = 'district_year'\n",
    "    outcome_var = outcome_var\n",
    "    exog_vars = ['schoolmode', 'black', 'hispanic', 'lowincome', 'white']\n",
    "\n",
    "    absorb = data[['schoolcode', 'year', effect]].astype('category')\n",
    "    model = AbsorbingLS(dependent=data[outcome_var], exog=data[exog_vars], absorb=absorb, weights=data[weight])\n",
    "    panel_results_no_per = model.fit(cov_type='clustered', clusters=data['schoolcode'])\n",
    "    \n",
    "    data = pd.read_csv(f'../final_data_all_state/final_data_all_state_{outcome_var}.csv').iloc[:, 1:]\n",
    "    data['district_year'] = data['districtcode'] + data['year'].astype('str')\n",
    "\n",
    "    effect = 'district_year'\n",
    "    outcome_var = outcome_var\n",
    "    exog_vars = ['virtualper', 'hybridper','black', 'hispanic', 'lowincome', 'white']\n",
    "\n",
    "    absorb = data[['schoolcode', 'year', effect]].astype('category')\n",
    "    model = AbsorbingLS(dependent=data[outcome_var], exog=data[exog_vars], absorb=absorb, weights=data[weight])\n",
    "    panel_results_per = model.fit(cov_type='clustered', clusters=data['schoolcode'])\n",
    "\n",
    "    return [panel_results_no_per, panel_results_per]"
   ]
  },
  {
   "cell_type": "markdown",
   "id": "d3084a4c",
   "metadata": {},
   "source": [
    "#### MATH"
   ]
  },
  {
   "cell_type": "code",
   "execution_count": 18,
   "id": "ba92a517",
   "metadata": {},
   "outputs": [],
   "source": [
    "results = run_district_year_regression('mathpass', 'totaltested')"
   ]
  },
  {
   "cell_type": "code",
   "execution_count": 19,
   "id": "df3d9ace",
   "metadata": {},
   "outputs": [
    {
     "name": "stdout",
     "output_type": "stream",
     "text": [
      "                         Absorbing LS Estimation Summary                          \n",
      "==================================================================================\n",
      "Dep. Variable:               mathpass   R-squared:                          0.9613\n",
      "Estimator:               Absorbing LS   Adj. R-squared:                     0.9066\n",
      "No. Observations:               24734   F-statistic:                        229.46\n",
      "Date:                Fri, Sep 22 2023   P-value (F-stat):                   0.0000\n",
      "Time:                        17:26:46   Distribution:                      chi2(5)\n",
      "Cov. Estimator:             clustered   R-squared (No Effects):             0.0248\n",
      "                                        Varaibles Absorbed:              1.449e+04\n",
      "                             Parameter Estimates                              \n",
      "==============================================================================\n",
      "            Parameter  Std. Err.     T-stat    P-value    Lower CI    Upper CI\n",
      "------------------------------------------------------------------------------\n",
      "schoolmode     2.7873     1.8619     1.4970     0.1344     -0.8619      6.4366\n",
      "black         -0.4930     0.0459    -10.732     0.0000     -0.5830     -0.4029\n",
      "hispanic      -0.3563     0.0372    -9.5780     0.0000     -0.4292     -0.2834\n",
      "lowincome     -0.0329     0.0181    -1.8166     0.0693     -0.0684      0.0026\n",
      "white         -0.0551     0.0352    -1.5663     0.1173     -0.1241      0.0139\n",
      "==============================================================================\n"
     ]
    }
   ],
   "source": [
    "MATH_DISTRICTYEAR__NOPER = results[0]\n",
    "print_summarized_results(MATH_DISTRICTYEAR__NOPER)"
   ]
  },
  {
   "cell_type": "code",
   "execution_count": 20,
   "id": "8c823498",
   "metadata": {},
   "outputs": [
    {
     "name": "stdout",
     "output_type": "stream",
     "text": [
      "                         Absorbing LS Estimation Summary                          \n",
      "==================================================================================\n",
      "Dep. Variable:               mathpass   R-squared:                          0.9613\n",
      "Estimator:               Absorbing LS   Adj. R-squared:                     0.9066\n",
      "No. Observations:               24734   F-statistic:                        230.33\n",
      "Date:                Fri, Sep 22 2023   P-value (F-stat):                   0.0000\n",
      "Time:                        17:26:46   Distribution:                      chi2(6)\n",
      "Cov. Estimator:             clustered   R-squared (No Effects):             0.0251\n",
      "                                        Varaibles Absorbed:              1.449e+04\n",
      "                             Parameter Estimates                              \n",
      "==============================================================================\n",
      "            Parameter  Std. Err.     T-stat    P-value    Lower CI    Upper CI\n",
      "------------------------------------------------------------------------------\n",
      "virtualper     3.1201     1.8827     1.6572     0.0975     -0.5700      6.8101\n",
      "hybridper      7.2401     4.0795     1.7748     0.0759     -0.7555      15.236\n",
      "black         -0.4925     0.0459    -10.726     0.0000     -0.5825     -0.4025\n",
      "hispanic      -0.3561     0.0372    -9.5726     0.0000     -0.4290     -0.2832\n",
      "lowincome     -0.0327     0.0181    -1.8029     0.0714     -0.0682      0.0028\n",
      "white         -0.0551     0.0352    -1.5646     0.1177     -0.1240      0.0139\n",
      "==============================================================================\n"
     ]
    }
   ],
   "source": [
    "MATH_DISTRICTYEAR__NOPER = results[1]\n",
    "print_summarized_results(MATH_DISTRICTYEAR__NOPER)"
   ]
  },
  {
   "cell_type": "markdown",
   "id": "4d0de5d3",
   "metadata": {},
   "source": [
    "#### ELA"
   ]
  },
  {
   "cell_type": "code",
   "execution_count": 21,
   "id": "e81dd4ec",
   "metadata": {},
   "outputs": [],
   "source": [
    "results = run_district_year_regression('elapass', 'totaltested')"
   ]
  },
  {
   "cell_type": "code",
   "execution_count": 22,
   "id": "08277f79",
   "metadata": {
    "scrolled": true
   },
   "outputs": [
    {
     "name": "stdout",
     "output_type": "stream",
     "text": [
      "                         Absorbing LS Estimation Summary                          \n",
      "==================================================================================\n",
      "Dep. Variable:                elapass   R-squared:                          0.9748\n",
      "Estimator:               Absorbing LS   Adj. R-squared:                     0.9085\n",
      "No. Observations:               18554   F-statistic:                        108.73\n",
      "Date:                Fri, Sep 22 2023   P-value (F-stat):                   0.0000\n",
      "Time:                        17:26:47   Distribution:                      chi2(5)\n",
      "Cov. Estimator:             clustered   R-squared (No Effects):             0.0385\n",
      "                                        Varaibles Absorbed:              1.344e+04\n",
      "                             Parameter Estimates                              \n",
      "==============================================================================\n",
      "            Parameter  Std. Err.     T-stat    P-value    Lower CI    Upper CI\n",
      "------------------------------------------------------------------------------\n",
      "schoolmode     1.5707     1.6474     0.9534     0.3404     -1.6582      4.7996\n",
      "black         -0.3783     0.0615    -6.1500     0.0000     -0.4989     -0.2578\n",
      "hispanic      -0.3105     0.0592    -5.2462     0.0000     -0.4265     -0.1945\n",
      "lowincome     -0.0916     0.0173    -5.2832     0.0000     -0.1255     -0.0576\n",
      "white          0.0471     0.0526     0.8961     0.3702     -0.0560      0.1502\n",
      "==============================================================================\n"
     ]
    }
   ],
   "source": [
    "ELA_DISTRICTYEAR_NOPER = results[0]\n",
    "print_summarized_results(ELA_DISTRICTYEAR_NOPER)"
   ]
  },
  {
   "cell_type": "code",
   "execution_count": 23,
   "id": "0c447e0f",
   "metadata": {
    "scrolled": true
   },
   "outputs": [
    {
     "name": "stdout",
     "output_type": "stream",
     "text": [
      "                         Absorbing LS Estimation Summary                          \n",
      "==================================================================================\n",
      "Dep. Variable:                elapass   R-squared:                          0.9748\n",
      "Estimator:               Absorbing LS   Adj. R-squared:                     0.9086\n",
      "No. Observations:               18554   F-statistic:                        114.25\n",
      "Date:                Fri, Sep 22 2023   P-value (F-stat):                   0.0000\n",
      "Time:                        17:26:47   Distribution:                      chi2(6)\n",
      "Cov. Estimator:             clustered   R-squared (No Effects):             0.0391\n",
      "                                        Varaibles Absorbed:              1.344e+04\n",
      "                             Parameter Estimates                              \n",
      "==============================================================================\n",
      "            Parameter  Std. Err.     T-stat    P-value    Lower CI    Upper CI\n",
      "------------------------------------------------------------------------------\n",
      "virtualper     1.9828     1.6608     1.1939     0.2325     -1.2723      5.2379\n",
      "hybridper      7.0543     3.3602     2.0994     0.0358      0.4686      13.640\n",
      "black         -0.3775     0.0615    -6.1397     0.0000     -0.4980     -0.2570\n",
      "hispanic      -0.3098     0.0591    -5.2380     0.0000     -0.4258     -0.1939\n",
      "lowincome     -0.0913     0.0173    -5.2704     0.0000     -0.1252     -0.0573\n",
      "white          0.0475     0.0526     0.9031     0.3665     -0.0556      0.1505\n",
      "==============================================================================\n"
     ]
    }
   ],
   "source": [
    "ELA_DISTRICTYEAR__PER = results[1]\n",
    "print_summarized_results(ELA_DISTRICTYEAR__PER)"
   ]
  },
  {
   "cell_type": "markdown",
   "id": "5b008311",
   "metadata": {},
   "source": [
    "#### DROPOUT"
   ]
  },
  {
   "cell_type": "markdown",
   "id": "0f73093d",
   "metadata": {},
   "source": [
    "# School FE + County-Year Interaction"
   ]
  },
  {
   "cell_type": "markdown",
   "id": "69d0e480",
   "metadata": {},
   "source": [
    "### School FE + County-Year Regression Function"
   ]
  },
  {
   "cell_type": "code",
   "execution_count": 24,
   "id": "f9c6f544",
   "metadata": {},
   "outputs": [],
   "source": [
    "def run_county_year_regression(outcome_var, weight):\n",
    "    data = pd.read_csv(f'../final_data_all_state/final_data_all_state_{outcome_var}.csv').iloc[:, 1:]\n",
    "    data['county_year'] = data['countycode'] + data['year'].astype('str')\n",
    "\n",
    "    effect = 'county_year'\n",
    "    outcome_var = outcome_var\n",
    "    exog_vars = ['schoolmode', 'black', 'hispanic', 'lowincome', 'white']\n",
    "\n",
    "    absorb = data[['schoolcode', 'year', effect]].astype('category')\n",
    "    model = AbsorbingLS(dependent=data[outcome_var], exog=data[exog_vars], absorb=absorb, weights=data[weight])\n",
    "    panel_results_no_per = model.fit(cov_type='clustered', clusters=data['schoolcode'])\n",
    "    \n",
    "    data = pd.read_csv(f'../final_data_all_state/final_data_all_state_{outcome_var}.csv').iloc[:, 1:]\n",
    "    data['county_year'] = data['countycode'] + data['year'].astype('str')\n",
    "\n",
    "    effect = 'county_year'\n",
    "    outcome_var = outcome_var\n",
    "    exog_vars = ['virtualper', 'hybridper','black', 'hispanic', 'lowincome', 'white']\n",
    "\n",
    "    absorb = data[['schoolcode', 'year', effect]].astype('category')\n",
    "    model = AbsorbingLS(dependent=data[outcome_var], exog=data[exog_vars], absorb=absorb, weights=data[weight])\n",
    "    panel_results_per = model.fit(cov_type='clustered', clusters=data['schoolcode'])\n",
    "\n",
    "    return [panel_results_no_per, panel_results_per]"
   ]
  },
  {
   "cell_type": "markdown",
   "id": "dd0bf476",
   "metadata": {},
   "source": [
    "#### MATH"
   ]
  },
  {
   "cell_type": "code",
   "execution_count": 25,
   "id": "604af34b",
   "metadata": {},
   "outputs": [],
   "source": [
    "results = run_county_year_regression('mathpass', 'totaltested')"
   ]
  },
  {
   "cell_type": "code",
   "execution_count": 26,
   "id": "35ca0e4c",
   "metadata": {},
   "outputs": [
    {
     "name": "stdout",
     "output_type": "stream",
     "text": [
      "                         Absorbing LS Estimation Summary                          \n",
      "==================================================================================\n",
      "Dep. Variable:               mathpass   R-squared:                          0.9359\n",
      "Estimator:               Absorbing LS   Adj. R-squared:                     0.9127\n",
      "No. Observations:               24734   F-statistic:                        196.88\n",
      "Date:                Fri, Sep 22 2023   P-value (F-stat):                   0.0000\n",
      "Time:                        17:26:48   Distribution:                      chi2(5)\n",
      "Cov. Estimator:             clustered   R-squared (No Effects):             0.0197\n",
      "                                        Varaibles Absorbed:                 6558.0\n",
      "                             Parameter Estimates                              \n",
      "==============================================================================\n",
      "            Parameter  Std. Err.     T-stat    P-value    Lower CI    Upper CI\n",
      "------------------------------------------------------------------------------\n",
      "schoolmode    -2.1969     1.0728    -2.0478     0.0406     -4.2996     -0.0942\n",
      "black         -0.4686     0.0459    -10.203     0.0000     -0.5586     -0.3786\n",
      "hispanic      -0.3290     0.0371    -8.8593     0.0000     -0.4017     -0.2562\n",
      "lowincome     -0.0186     0.0123    -1.5161     0.1295     -0.0427      0.0054\n",
      "white         -0.0648     0.0335    -1.9321     0.0533     -0.1306      0.0009\n",
      "==============================================================================\n"
     ]
    }
   ],
   "source": [
    "MATH_COUNTYYEAR__NOPER = results[0]\n",
    "print_summarized_results(MATH_COUNTYYEAR__NOPER)"
   ]
  },
  {
   "cell_type": "code",
   "execution_count": 27,
   "id": "016c2dcc",
   "metadata": {},
   "outputs": [
    {
     "name": "stdout",
     "output_type": "stream",
     "text": [
      "                         Absorbing LS Estimation Summary                          \n",
      "==================================================================================\n",
      "Dep. Variable:               mathpass   R-squared:                          0.9359\n",
      "Estimator:               Absorbing LS   Adj. R-squared:                     0.9127\n",
      "No. Observations:               24734   F-statistic:                        197.02\n",
      "Date:                Fri, Sep 22 2023   P-value (F-stat):                   0.0000\n",
      "Time:                        17:26:48   Distribution:                      chi2(6)\n",
      "Cov. Estimator:             clustered   R-squared (No Effects):             0.0197\n",
      "                                        Varaibles Absorbed:                 6558.0\n",
      "                             Parameter Estimates                              \n",
      "==============================================================================\n",
      "            Parameter  Std. Err.     T-stat    P-value    Lower CI    Upper CI\n",
      "------------------------------------------------------------------------------\n",
      "virtualper    -2.1947     1.1020    -1.9916     0.0464     -4.3545     -0.0348\n",
      "hybridper     -1.1466     1.1436    -1.0026     0.3161     -3.3879      1.0948\n",
      "black         -0.4686     0.0459    -10.203     0.0000     -0.5586     -0.3786\n",
      "hispanic      -0.3290     0.0371    -8.8596     0.0000     -0.4017     -0.2562\n",
      "lowincome     -0.0186     0.0123    -1.5163     0.1294     -0.0427      0.0054\n",
      "white         -0.0648     0.0335    -1.9324     0.0533     -0.1306      0.0009\n",
      "==============================================================================\n"
     ]
    }
   ],
   "source": [
    "MATH_COUNTYYEAR__NOPER = results[1]\n",
    "print_summarized_results(MATH_COUNTYYEAR__NOPER)"
   ]
  },
  {
   "cell_type": "markdown",
   "id": "ca03826c",
   "metadata": {},
   "source": [
    "#### ELA"
   ]
  },
  {
   "cell_type": "code",
   "execution_count": 28,
   "id": "036c4831",
   "metadata": {},
   "outputs": [],
   "source": [
    "results = run_county_year_regression('elapass', 'totaltested')"
   ]
  },
  {
   "cell_type": "code",
   "execution_count": 29,
   "id": "2a3d2523",
   "metadata": {
    "scrolled": true
   },
   "outputs": [
    {
     "name": "stdout",
     "output_type": "stream",
     "text": [
      "                         Absorbing LS Estimation Summary                          \n",
      "==================================================================================\n",
      "Dep. Variable:                elapass   R-squared:                          0.9485\n",
      "Estimator:               Absorbing LS   Adj. R-squared:                     0.9266\n",
      "No. Observations:               18554   F-statistic:                        157.06\n",
      "Date:                Fri, Sep 22 2023   P-value (F-stat):                   0.0000\n",
      "Time:                        17:26:49   Distribution:                      chi2(5)\n",
      "Cov. Estimator:             clustered   R-squared (No Effects):             0.0503\n",
      "                                        Varaibles Absorbed:                 5528.0\n",
      "                             Parameter Estimates                              \n",
      "==============================================================================\n",
      "            Parameter  Std. Err.     T-stat    P-value    Lower CI    Upper CI\n",
      "------------------------------------------------------------------------------\n",
      "schoolmode    -0.4574     0.6746    -0.6781     0.4977     -1.7797      0.8648\n",
      "black         -0.5533     0.0563    -9.8342     0.0000     -0.6636     -0.4431\n",
      "hispanic      -0.4206     0.0453    -9.2740     0.0000     -0.5095     -0.3317\n",
      "lowincome     -0.0259     0.0090    -2.8849     0.0039     -0.0435     -0.0083\n",
      "white          0.0182     0.0299     0.6091     0.5424     -0.0403      0.0767\n",
      "==============================================================================\n"
     ]
    }
   ],
   "source": [
    "ELA_COUNTYYEAR_NOPER = results[0]\n",
    "print_summarized_results(ELA_COUNTYYEAR_NOPER)"
   ]
  },
  {
   "cell_type": "code",
   "execution_count": 30,
   "id": "c472b0f5",
   "metadata": {
    "scrolled": false
   },
   "outputs": [
    {
     "name": "stdout",
     "output_type": "stream",
     "text": [
      "                         Absorbing LS Estimation Summary                          \n",
      "==================================================================================\n",
      "Dep. Variable:                elapass   R-squared:                          0.9485\n",
      "Estimator:               Absorbing LS   Adj. R-squared:                     0.9267\n",
      "No. Observations:               18554   F-statistic:                        162.04\n",
      "Date:                Fri, Sep 22 2023   P-value (F-stat):                   0.0000\n",
      "Time:                        17:26:49   Distribution:                      chi2(6)\n",
      "Cov. Estimator:             clustered   R-squared (No Effects):             0.0507\n",
      "                                        Varaibles Absorbed:                 5528.0\n",
      "                             Parameter Estimates                              \n",
      "==============================================================================\n",
      "            Parameter  Std. Err.     T-stat    P-value    Lower CI    Upper CI\n",
      "------------------------------------------------------------------------------\n",
      "virtualper    -0.1787     0.6855    -0.2608     0.7943     -1.5223      1.1648\n",
      "hybridper      1.9374     0.9409     2.0590     0.0395      0.0932      3.7816\n",
      "black         -0.5530     0.0563    -9.8260     0.0000     -0.6633     -0.4427\n",
      "hispanic      -0.4203     0.0454    -9.2616     0.0000     -0.5093     -0.3314\n",
      "lowincome     -0.0259     0.0090    -2.8851     0.0039     -0.0435     -0.0083\n",
      "white          0.0188     0.0299     0.6289     0.5294     -0.0398      0.0773\n",
      "==============================================================================\n"
     ]
    }
   ],
   "source": [
    "ELA_COUNTYYEAR__PER = results[1]\n",
    "print_summarized_results(ELA_COUNTYYEAR__PER)"
   ]
  },
  {
   "cell_type": "markdown",
   "id": "29e8ada5",
   "metadata": {},
   "source": [
    "#### DROPOUT"
   ]
  },
  {
   "cell_type": "code",
   "execution_count": null,
   "id": "9bb1d44e",
   "metadata": {},
   "outputs": [],
   "source": []
  },
  {
   "cell_type": "markdown",
   "id": "5ecfbc78",
   "metadata": {},
   "source": [
    "# School FE + District-Year Interaction + Race Interactions"
   ]
  },
  {
   "cell_type": "markdown",
   "id": "cbf4cd78",
   "metadata": {},
   "source": [
    "### School FE + District-Year Interaction + Interactions Regression Function"
   ]
  },
  {
   "cell_type": "code",
   "execution_count": 31,
   "id": "e7c16e54",
   "metadata": {},
   "outputs": [],
   "source": [
    "def run_district_interaction_year_regression(outcome_var, weight, interaction):\n",
    "    data = pd.read_csv(f'../final_data_all_state/final_data_all_state_{outcome_var}.csv').iloc[:, 1:]\n",
    "    data['district_year'] = data['districtcode'] + data['year'].astype('str')\n",
    "    data[f'{interaction}_int'] = data[interaction] * data['schoolmode']\n",
    "\n",
    "    effect = 'district_year'\n",
    "    outcome_var = outcome_var\n",
    "    exog_vars = ['schoolmode', 'black', 'hispanic', 'lowincome', 'white', f'{interaction}_int']\n",
    "\n",
    "    absorb = data[['schoolcode', 'year', effect]].astype('category')\n",
    "    model = AbsorbingLS(dependent=data[outcome_var], exog=data[exog_vars], absorb=absorb, weights=data[weight])\n",
    "    panel_results_no_per = model.fit(cov_type='clustered', clusters=data['schoolcode'])\n",
    "    \n",
    "    data = pd.read_csv(f'../final_data_all_state/final_data_all_state_{outcome_var}.csv').iloc[:, 1:]\n",
    "    data['district_year'] = data['districtcode'] + data['year'].astype('str')\n",
    "    data[f'{interaction}_virtual_per'] = data[interaction] * data['virtualper']\n",
    "    data[f'{interaction}_hybrid_per'] = data[interaction] * data['hybridper']\n",
    "\n",
    "    effect = 'district_year'\n",
    "    outcome_var = outcome_var\n",
    "    exog_vars = ['virtualper', 'hybridper','black', 'hispanic', 'lowincome', 'white', f'{interaction}_virtual_per', f'{interaction}_hybrid_per']\n",
    "\n",
    "    absorb = data[['schoolcode', 'year', effect]].astype('category')\n",
    "    model = AbsorbingLS(dependent=data[outcome_var], exog=data[exog_vars], absorb=absorb, weights=data[weight])\n",
    "    panel_results_per = model.fit(cov_type='clustered', clusters=data['schoolcode'])\n",
    "\n",
    "    return [panel_results_no_per, panel_results_per]"
   ]
  },
  {
   "cell_type": "markdown",
   "id": "e6146421",
   "metadata": {},
   "source": [
    "#### MATH - BLACK"
   ]
  },
  {
   "cell_type": "code",
   "execution_count": 32,
   "id": "d70152e8",
   "metadata": {},
   "outputs": [],
   "source": [
    "results = run_district_interaction_year_regression('mathpass', 'totaltested', 'black')"
   ]
  },
  {
   "cell_type": "code",
   "execution_count": 33,
   "id": "e3e6a4e7",
   "metadata": {
    "scrolled": true
   },
   "outputs": [
    {
     "name": "stdout",
     "output_type": "stream",
     "text": [
      "                         Absorbing LS Estimation Summary                          \n",
      "==================================================================================\n",
      "Dep. Variable:               mathpass   R-squared:                          0.9613\n",
      "Estimator:               Absorbing LS   Adj. R-squared:                     0.9066\n",
      "No. Observations:               24734   F-statistic:                        229.37\n",
      "Date:                Fri, Sep 22 2023   P-value (F-stat):                   0.0000\n",
      "Time:                        17:26:49   Distribution:                      chi2(6)\n",
      "Cov. Estimator:             clustered   R-squared (No Effects):             0.0249\n",
      "                                        Varaibles Absorbed:              1.449e+04\n",
      "                             Parameter Estimates                              \n",
      "==============================================================================\n",
      "            Parameter  Std. Err.     T-stat    P-value    Lower CI    Upper CI\n",
      "------------------------------------------------------------------------------\n",
      "schoolmode     2.5848     1.8936     1.3650     0.1722     -1.1265      6.2961\n",
      "black         -0.4934     0.0460    -10.733     0.0000     -0.5835     -0.4033\n",
      "hispanic      -0.3563     0.0372    -9.5768     0.0000     -0.4292     -0.2834\n",
      "lowincome     -0.0331     0.0181    -1.8250     0.0680     -0.0686      0.0024\n",
      "white         -0.0553     0.0352    -1.5698     0.1165     -0.1243      0.0137\n",
      "black_int      0.0122     0.0190     0.6421     0.5208     -0.0250      0.0493\n",
      "==============================================================================\n"
     ]
    }
   ],
   "source": [
    "MATH_DISTRICTYEAR_BLACK_NOPER = results[0]\n",
    "print_summarized_results(MATH_DISTRICTYEAR_BLACK_NOPER)"
   ]
  },
  {
   "cell_type": "code",
   "execution_count": 34,
   "id": "1f1d41cf",
   "metadata": {
    "scrolled": true
   },
   "outputs": [
    {
     "name": "stdout",
     "output_type": "stream",
     "text": [
      "                         Absorbing LS Estimation Summary                          \n",
      "==================================================================================\n",
      "Dep. Variable:               mathpass   R-squared:                          0.9613\n",
      "Estimator:               Absorbing LS   Adj. R-squared:                     0.9066\n",
      "No. Observations:               24734   F-statistic:                        236.73\n",
      "Date:                Fri, Sep 22 2023   P-value (F-stat):                   0.0000\n",
      "Time:                        17:26:50   Distribution:                      chi2(8)\n",
      "Cov. Estimator:             clustered   R-squared (No Effects):             0.0253\n",
      "                                        Varaibles Absorbed:              1.449e+04\n",
      "                                 Parameter Estimates                                 \n",
      "=====================================================================================\n",
      "                   Parameter  Std. Err.     T-stat    P-value    Lower CI    Upper CI\n",
      "-------------------------------------------------------------------------------------\n",
      "virtualper            3.4416     1.9122     1.7998     0.0719     -0.3062      7.1895\n",
      "hybridper             5.2660     4.1103     1.2812     0.2001     -2.7901      13.322\n",
      "black                -0.4925     0.0459    -10.718     0.0000     -0.5825     -0.4024\n",
      "hispanic             -0.3557     0.0372    -9.5632     0.0000     -0.4286     -0.2828\n",
      "lowincome            -0.0332     0.0181    -1.8290     0.0674     -0.0687      0.0024\n",
      "white                -0.0551     0.0352    -1.5654     0.1175     -0.1241      0.0139\n",
      "black_virtual_per    -0.0179     0.0259    -0.6910     0.4896     -0.0687      0.0329\n",
      "black_hybrid_per      0.1094     0.0491     2.2290     0.0258      0.0132      0.2057\n",
      "=====================================================================================\n"
     ]
    }
   ],
   "source": [
    "MATH_DISTRICTYEAR_BLACK_PER = results[1]\n",
    "print_summarized_results(MATH_DISTRICTYEAR_BLACK_PER)"
   ]
  },
  {
   "cell_type": "markdown",
   "id": "4ee1d1de",
   "metadata": {},
   "source": [
    "#### ELA - BLACK"
   ]
  },
  {
   "cell_type": "code",
   "execution_count": 35,
   "id": "d39320af",
   "metadata": {},
   "outputs": [],
   "source": [
    "results = run_district_interaction_year_regression('elapass', 'totaltested', 'black')"
   ]
  },
  {
   "cell_type": "code",
   "execution_count": 36,
   "id": "59d97c08",
   "metadata": {},
   "outputs": [
    {
     "name": "stdout",
     "output_type": "stream",
     "text": [
      "                         Absorbing LS Estimation Summary                          \n",
      "==================================================================================\n",
      "Dep. Variable:                elapass   R-squared:                          0.9748\n",
      "Estimator:               Absorbing LS   Adj. R-squared:                     0.9085\n",
      "No. Observations:               18554   F-statistic:                        109.75\n",
      "Date:                Fri, Sep 22 2023   P-value (F-stat):                   0.0000\n",
      "Time:                        17:26:50   Distribution:                      chi2(6)\n",
      "Cov. Estimator:             clustered   R-squared (No Effects):             0.0385\n",
      "                                        Varaibles Absorbed:              1.344e+04\n",
      "                             Parameter Estimates                              \n",
      "==============================================================================\n",
      "            Parameter  Std. Err.     T-stat    P-value    Lower CI    Upper CI\n",
      "------------------------------------------------------------------------------\n",
      "schoolmode     1.3697     1.7184     0.7971     0.4254     -1.9982      4.7377\n",
      "black         -0.3786     0.0615    -6.1533     0.0000     -0.4992     -0.2580\n",
      "hispanic      -0.3103     0.0592    -5.2435     0.0000     -0.4264     -0.1943\n",
      "lowincome     -0.0918     0.0173    -5.2954     0.0000     -0.1257     -0.0578\n",
      "white          0.0472     0.0526     0.8974     0.3695     -0.0559      0.1503\n",
      "black_int      0.0124     0.0162     0.7691     0.4418     -0.0193      0.0441\n",
      "==============================================================================\n"
     ]
    }
   ],
   "source": [
    "ELA_DISTRICTYEAR_BLACK_NOPER = results[0]\n",
    "print_summarized_results(ELA_DISTRICTYEAR_BLACK_NOPER)"
   ]
  },
  {
   "cell_type": "code",
   "execution_count": 37,
   "id": "c36120e4",
   "metadata": {},
   "outputs": [
    {
     "name": "stdout",
     "output_type": "stream",
     "text": [
      "                         Absorbing LS Estimation Summary                          \n",
      "==================================================================================\n",
      "Dep. Variable:                elapass   R-squared:                          0.9748\n",
      "Estimator:               Absorbing LS   Adj. R-squared:                     0.9085\n",
      "No. Observations:               18554   F-statistic:                        116.44\n",
      "Date:                Fri, Sep 22 2023   P-value (F-stat):                   0.0000\n",
      "Time:                        17:26:50   Distribution:                      chi2(8)\n",
      "Cov. Estimator:             clustered   R-squared (No Effects):             0.0392\n",
      "                                        Varaibles Absorbed:              1.344e+04\n",
      "                                 Parameter Estimates                                 \n",
      "=====================================================================================\n",
      "                   Parameter  Std. Err.     T-stat    P-value    Lower CI    Upper CI\n",
      "-------------------------------------------------------------------------------------\n",
      "virtualper            2.0389     1.7866     1.1412     0.2538     -1.4628      5.5406\n",
      "hybridper             6.0339     3.5055     1.7213     0.0852     -0.8367      12.904\n",
      "black                -0.3779     0.0615    -6.1441     0.0000     -0.4984     -0.2573\n",
      "hispanic             -0.3096     0.0591    -5.2337     0.0000     -0.4255     -0.1936\n",
      "lowincome            -0.0917     0.0173    -5.2918     0.0000     -0.1257     -0.0578\n",
      "white                 0.0473     0.0526     0.8990     0.3686     -0.0558      0.1503\n",
      "black_virtual_per    -0.0025     0.0208    -0.1197     0.9047     -0.0432      0.0382\n",
      "black_hybrid_per      0.0580     0.0423     1.3722     0.1700     -0.0248      0.1408\n",
      "=====================================================================================\n"
     ]
    }
   ],
   "source": [
    "ELA_DISTRICTYEAR_BLACK_PER = results[1]\n",
    "print_summarized_results(ELA_DISTRICTYEAR_BLACK_PER)"
   ]
  },
  {
   "cell_type": "markdown",
   "id": "81c332e5",
   "metadata": {},
   "source": [
    "#### DROPOUT - BLACK"
   ]
  },
  {
   "cell_type": "code",
   "execution_count": null,
   "id": "fa2e8562",
   "metadata": {},
   "outputs": [],
   "source": []
  },
  {
   "cell_type": "markdown",
   "id": "78a82d25",
   "metadata": {},
   "source": [
    "#### ELA - HISPANIC"
   ]
  },
  {
   "cell_type": "code",
   "execution_count": 38,
   "id": "25d0fb36",
   "metadata": {},
   "outputs": [],
   "source": [
    "results = run_district_interaction_year_regression('elapass', 'totaltested', 'hispanic')"
   ]
  },
  {
   "cell_type": "code",
   "execution_count": 39,
   "id": "a176e90e",
   "metadata": {},
   "outputs": [
    {
     "name": "stdout",
     "output_type": "stream",
     "text": [
      "                         Absorbing LS Estimation Summary                          \n",
      "==================================================================================\n",
      "Dep. Variable:                elapass   R-squared:                          0.9748\n",
      "Estimator:               Absorbing LS   Adj. R-squared:                     0.9086\n",
      "No. Observations:               18554   F-statistic:                        119.42\n",
      "Date:                Fri, Sep 22 2023   P-value (F-stat):                   0.0000\n",
      "Time:                        17:26:51   Distribution:                      chi2(6)\n",
      "Cov. Estimator:             clustered   R-squared (No Effects):             0.0391\n",
      "                                        Varaibles Absorbed:              1.344e+04\n",
      "                              Parameter Estimates                               \n",
      "================================================================================\n",
      "              Parameter  Std. Err.     T-stat    P-value    Lower CI    Upper CI\n",
      "--------------------------------------------------------------------------------\n",
      "schoolmode       3.1747     1.7272     1.8380     0.0661     -0.2106      6.5600\n",
      "black           -0.3716     0.0616    -6.0356     0.0000     -0.4922     -0.2509\n",
      "hispanic        -0.3013     0.0594    -5.0704     0.0000     -0.4178     -0.1848\n",
      "lowincome       -0.0930     0.0173    -5.3836     0.0000     -0.1269     -0.0592\n",
      "white            0.0554     0.0526     1.0533     0.2922     -0.0477      0.1585\n",
      "hispanic_int    -0.0288     0.0137    -2.0995     0.0358     -0.0557     -0.0019\n",
      "================================================================================\n"
     ]
    }
   ],
   "source": [
    "ELA_DISTRICTYEAR_HISPANIC_NOPER = results[0]\n",
    "print_summarized_results(ELA_DISTRICTYEAR_HISPANIC_NOPER)"
   ]
  },
  {
   "cell_type": "code",
   "execution_count": 40,
   "id": "04291c07",
   "metadata": {
    "scrolled": true
   },
   "outputs": [
    {
     "name": "stdout",
     "output_type": "stream",
     "text": [
      "                         Absorbing LS Estimation Summary                          \n",
      "==================================================================================\n",
      "Dep. Variable:                elapass   R-squared:                          0.9748\n",
      "Estimator:               Absorbing LS   Adj. R-squared:                     0.9086\n",
      "No. Observations:               18554   F-statistic:                        124.93\n",
      "Date:                Fri, Sep 22 2023   P-value (F-stat):                   0.0000\n",
      "Time:                        17:26:51   Distribution:                      chi2(8)\n",
      "Cov. Estimator:             clustered   R-squared (No Effects):             0.0397\n",
      "                                        Varaibles Absorbed:              1.344e+04\n",
      "                                  Parameter Estimates                                   \n",
      "========================================================================================\n",
      "                      Parameter  Std. Err.     T-stat    P-value    Lower CI    Upper CI\n",
      "----------------------------------------------------------------------------------------\n",
      "virtualper               3.7665     1.8058     2.0858     0.0370      0.2273      7.3057\n",
      "hybridper                6.8957     3.6305     1.8994     0.0575     -0.2200      14.011\n",
      "black                   -0.3712     0.0615    -6.0316     0.0000     -0.4918     -0.2506\n",
      "hispanic                -0.3013     0.0594    -5.0730     0.0000     -0.4178     -0.1849\n",
      "lowincome               -0.0926     0.0173    -5.3597     0.0000     -0.1264     -0.0587\n",
      "white                    0.0552     0.0526     1.0504     0.2935     -0.0478      0.1583\n",
      "hispanic_virtual_per    -0.0323     0.0172    -1.8835     0.0596     -0.0659      0.0013\n",
      "hispanic_hybrid_per      0.0050     0.0402     0.1247     0.9007     -0.0738      0.0838\n",
      "========================================================================================\n"
     ]
    }
   ],
   "source": [
    "ELA_DISTRICTYEAR_HISPANIC_PER = results[1]\n",
    "print_summarized_results(ELA_DISTRICTYEAR_HISPANIC_PER)"
   ]
  },
  {
   "cell_type": "markdown",
   "id": "dde51009",
   "metadata": {},
   "source": [
    "#### DROPOUT - BLACK"
   ]
  },
  {
   "cell_type": "code",
   "execution_count": null,
   "id": "e2242f14",
   "metadata": {},
   "outputs": [],
   "source": []
  },
  {
   "cell_type": "markdown",
   "id": "e4fcd43b",
   "metadata": {},
   "source": [
    "# School FE + District-Year Interaction + Other Interactions"
   ]
  },
  {
   "cell_type": "markdown",
   "id": "cc1ca301",
   "metadata": {},
   "source": [
    "### School FE + District-Year Interaction + Income Interactions Regression Function"
   ]
  },
  {
   "cell_type": "markdown",
   "id": "c10c3cdf",
   "metadata": {},
   "source": [
    "#### MATH - LOWINCOME"
   ]
  },
  {
   "cell_type": "code",
   "execution_count": 41,
   "id": "9ca69b04",
   "metadata": {},
   "outputs": [],
   "source": [
    "results = run_district_interaction_year_regression('mathpass', 'totaltested', 'lowincome')"
   ]
  },
  {
   "cell_type": "code",
   "execution_count": 42,
   "id": "c569c28a",
   "metadata": {
    "scrolled": true
   },
   "outputs": [
    {
     "name": "stdout",
     "output_type": "stream",
     "text": [
      "                         Absorbing LS Estimation Summary                          \n",
      "==================================================================================\n",
      "Dep. Variable:               mathpass   R-squared:                          0.9613\n",
      "Estimator:               Absorbing LS   Adj. R-squared:                     0.9066\n",
      "No. Observations:               24734   F-statistic:                        229.46\n",
      "Date:                Fri, Sep 22 2023   P-value (F-stat):                   0.0000\n",
      "Time:                        17:26:51   Distribution:                      chi2(6)\n",
      "Cov. Estimator:             clustered   R-squared (No Effects):             0.0249\n",
      "                                        Varaibles Absorbed:              1.449e+04\n",
      "                               Parameter Estimates                               \n",
      "=================================================================================\n",
      "               Parameter  Std. Err.     T-stat    P-value    Lower CI    Upper CI\n",
      "---------------------------------------------------------------------------------\n",
      "schoolmode        2.1836     2.4528     0.8902     0.3733     -2.6239      6.9910\n",
      "black            -0.4941     0.0461    -10.721     0.0000     -0.5844     -0.4038\n",
      "hispanic         -0.3576     0.0373    -9.5906     0.0000     -0.4306     -0.2845\n",
      "lowincome        -0.0333     0.0182    -1.8332     0.0668     -0.0690      0.0023\n",
      "white            -0.0568     0.0353    -1.6077     0.1079     -0.1261      0.0125\n",
      "lowincome_int     0.0113     0.0225     0.5016     0.6160     -0.0328      0.0553\n",
      "=================================================================================\n"
     ]
    }
   ],
   "source": [
    "MATH_DISTRICTYEAR_LOWINCOME_NOPER = results[0]\n",
    "print_summarized_results(MATH_DISTRICTYEAR_LOWINCOME_NOPER)"
   ]
  },
  {
   "cell_type": "code",
   "execution_count": 43,
   "id": "9a72cf3a",
   "metadata": {
    "scrolled": false
   },
   "outputs": [
    {
     "name": "stdout",
     "output_type": "stream",
     "text": [
      "                         Absorbing LS Estimation Summary                          \n",
      "==================================================================================\n",
      "Dep. Variable:               mathpass   R-squared:                          0.9613\n",
      "Estimator:               Absorbing LS   Adj. R-squared:                     0.9066\n",
      "No. Observations:               24734   F-statistic:                        230.64\n",
      "Date:                Fri, Sep 22 2023   P-value (F-stat):                   0.0000\n",
      "Time:                        17:26:52   Distribution:                      chi2(8)\n",
      "Cov. Estimator:             clustered   R-squared (No Effects):             0.0251\n",
      "                                        Varaibles Absorbed:              1.449e+04\n",
      "                                   Parameter Estimates                                   \n",
      "=========================================================================================\n",
      "                       Parameter  Std. Err.     T-stat    P-value    Lower CI    Upper CI\n",
      "-----------------------------------------------------------------------------------------\n",
      "virtualper                2.5224     2.6661     0.9461     0.3441     -2.7030      7.7479\n",
      "hybridper                 6.4475     4.4959     1.4341     0.1515     -2.3643      15.259\n",
      "black                    -0.4940     0.0461    -10.726     0.0000     -0.5842     -0.4037\n",
      "hispanic                 -0.3576     0.0373    -9.5935     0.0000     -0.4307     -0.2846\n",
      "lowincome                -0.0331     0.0182    -1.8191     0.0689     -0.0688      0.0026\n",
      "white                    -0.0572     0.0353    -1.6195     0.1053     -0.1264      0.0120\n",
      "lowincome_virtual_per     0.0114     0.0273     0.4171     0.6766     -0.0421      0.0648\n",
      "lowincome_hybrid_per      0.0173     0.0444     0.3902     0.6964     -0.0696      0.1042\n",
      "=========================================================================================\n"
     ]
    }
   ],
   "source": [
    "MATH_DISTRICTYEAR_LOWINCOME_PER = results[1]\n",
    "print_summarized_results(MATH_DISTRICTYEAR_LOWINCOME_PER)"
   ]
  },
  {
   "cell_type": "markdown",
   "id": "09b9cc85",
   "metadata": {},
   "source": [
    "#### ELA - LOWINCOME"
   ]
  },
  {
   "cell_type": "code",
   "execution_count": 44,
   "id": "a68b12fd",
   "metadata": {},
   "outputs": [],
   "source": [
    "results = run_district_interaction_year_regression('elapass', 'totaltested', 'lowincome')"
   ]
  },
  {
   "cell_type": "code",
   "execution_count": 45,
   "id": "564eeb14",
   "metadata": {},
   "outputs": [
    {
     "name": "stdout",
     "output_type": "stream",
     "text": [
      "                         Absorbing LS Estimation Summary                          \n",
      "==================================================================================\n",
      "Dep. Variable:                elapass   R-squared:                          0.9748\n",
      "Estimator:               Absorbing LS   Adj. R-squared:                     0.9085\n",
      "No. Observations:               18554   F-statistic:                        111.47\n",
      "Date:                Fri, Sep 22 2023   P-value (F-stat):                   0.0000\n",
      "Time:                        17:26:52   Distribution:                      chi2(6)\n",
      "Cov. Estimator:             clustered   R-squared (No Effects):             0.0385\n",
      "                                        Varaibles Absorbed:              1.344e+04\n",
      "                               Parameter Estimates                               \n",
      "=================================================================================\n",
      "               Parameter  Std. Err.     T-stat    P-value    Lower CI    Upper CI\n",
      "---------------------------------------------------------------------------------\n",
      "schoolmode        1.9647     1.9627     1.0010     0.3168     -1.8821      5.8115\n",
      "black            -0.3763     0.0618    -6.0925     0.0000     -0.4974     -0.2552\n",
      "hispanic         -0.3083     0.0594    -5.1860     0.0000     -0.4248     -0.1918\n",
      "lowincome        -0.0913     0.0174    -5.2514     0.0000     -0.1254     -0.0572\n",
      "white             0.0499     0.0525     0.9500     0.3421     -0.0530      0.1528\n",
      "lowincome_int    -0.0085     0.0169    -0.5022     0.6155     -0.0416      0.0246\n",
      "=================================================================================\n"
     ]
    }
   ],
   "source": [
    "ELA_DISTRICTYEAR_LOWINCOME_NOPER = results[0]\n",
    "print_summarized_results(ELA_DISTRICTYEAR_LOWINCOME_NOPER)"
   ]
  },
  {
   "cell_type": "code",
   "execution_count": 46,
   "id": "eee8dbdb",
   "metadata": {
    "scrolled": true
   },
   "outputs": [
    {
     "name": "stdout",
     "output_type": "stream",
     "text": [
      "                         Absorbing LS Estimation Summary                          \n",
      "==================================================================================\n",
      "Dep. Variable:                elapass   R-squared:                          0.9748\n",
      "Estimator:               Absorbing LS   Adj. R-squared:                     0.9085\n",
      "No. Observations:               18554   F-statistic:                        118.21\n",
      "Date:                Fri, Sep 22 2023   P-value (F-stat):                   0.0000\n",
      "Time:                        17:26:52   Distribution:                      chi2(8)\n",
      "Cov. Estimator:             clustered   R-squared (No Effects):             0.0393\n",
      "                                        Varaibles Absorbed:              1.344e+04\n",
      "                                   Parameter Estimates                                   \n",
      "=========================================================================================\n",
      "                       Parameter  Std. Err.     T-stat    P-value    Lower CI    Upper CI\n",
      "-----------------------------------------------------------------------------------------\n",
      "virtualper                2.7411     2.0505     1.3368     0.1813     -1.2779      6.7600\n",
      "hybridper                 3.9329     4.2207     0.9318     0.3514     -4.3395      12.205\n",
      "black                    -0.3767     0.0617    -6.1011     0.0000     -0.4978     -0.2557\n",
      "hispanic                 -0.3087     0.0594    -5.1939     0.0000     -0.4252     -0.1922\n",
      "lowincome                -0.0909     0.0174    -5.2372     0.0000     -0.1250     -0.0569\n",
      "white                     0.0483     0.0525     0.9204     0.3574     -0.0546      0.1512\n",
      "lowincome_virtual_per    -0.0166     0.0195    -0.8515     0.3945     -0.0548      0.0216\n",
      "lowincome_hybrid_per      0.0475     0.0448     1.0587     0.2897     -0.0404      0.1354\n",
      "=========================================================================================\n"
     ]
    }
   ],
   "source": [
    "ELA_DISTRICTYEAR_LOWINCOME_PER = results[1]\n",
    "print_summarized_results(ELA_DISTRICTYEAR_LOWINCOME_PER)"
   ]
  },
  {
   "cell_type": "markdown",
   "id": "5192296c",
   "metadata": {},
   "source": [
    "#### DROPOUT - LOWINCOME"
   ]
  },
  {
   "cell_type": "code",
   "execution_count": null,
   "id": "937ec1d0",
   "metadata": {},
   "outputs": [],
   "source": []
  },
  {
   "cell_type": "markdown",
   "id": "1e83c110",
   "metadata": {},
   "source": [
    "### School FE + District-Year Interaction + Charter Interactions Regression Function"
   ]
  },
  {
   "cell_type": "markdown",
   "id": "5682e47e",
   "metadata": {},
   "source": [
    "#### MATH - CHARTER"
   ]
  },
  {
   "cell_type": "code",
   "execution_count": 47,
   "id": "cd997fab",
   "metadata": {},
   "outputs": [],
   "source": [
    "results = run_district_interaction_year_regression('mathpass', 'totaltested', 'charter')"
   ]
  },
  {
   "cell_type": "code",
   "execution_count": 48,
   "id": "29c83a97",
   "metadata": {
    "scrolled": true
   },
   "outputs": [
    {
     "name": "stdout",
     "output_type": "stream",
     "text": [
      "                         Absorbing LS Estimation Summary                          \n",
      "==================================================================================\n",
      "Dep. Variable:               mathpass   R-squared:                          0.9614\n",
      "Estimator:               Absorbing LS   Adj. R-squared:                     0.9066\n",
      "No. Observations:               24734   F-statistic:                        233.40\n",
      "Date:                Fri, Sep 22 2023   P-value (F-stat):                   0.0000\n",
      "Time:                        17:26:53   Distribution:                      chi2(6)\n",
      "Cov. Estimator:             clustered   R-squared (No Effects):             0.0256\n",
      "                                        Varaibles Absorbed:              1.449e+04\n",
      "                              Parameter Estimates                              \n",
      "===============================================================================\n",
      "             Parameter  Std. Err.     T-stat    P-value    Lower CI    Upper CI\n",
      "-------------------------------------------------------------------------------\n",
      "schoolmode      3.5313     1.9007     1.8579     0.0632     -0.1941      7.2566\n",
      "black          -0.4934     0.0461    -10.712     0.0000     -0.5837     -0.4032\n",
      "hispanic       -0.3570     0.0373    -9.5775     0.0000     -0.4300     -0.2839\n",
      "lowincome      -0.0331     0.0182    -1.8214     0.0685     -0.0686      0.0025\n",
      "white          -0.0577     0.0353    -1.6321     0.1027     -0.1269      0.0116\n",
      "charter_int    -3.4021     1.5681    -2.1696     0.0300     -6.4754     -0.3288\n",
      "===============================================================================\n"
     ]
    }
   ],
   "source": [
    "MATH_DISTRICTYEAR_CHARTER_NOPER = results[0]\n",
    "print_summarized_results(MATH_DISTRICTYEAR_CHARTER_NOPER)"
   ]
  },
  {
   "cell_type": "code",
   "execution_count": 49,
   "id": "4e0ac13b",
   "metadata": {
    "scrolled": false
   },
   "outputs": [
    {
     "name": "stdout",
     "output_type": "stream",
     "text": [
      "                         Absorbing LS Estimation Summary                          \n",
      "==================================================================================\n",
      "Dep. Variable:               mathpass   R-squared:                          0.9614\n",
      "Estimator:               Absorbing LS   Adj. R-squared:                     0.9067\n",
      "No. Observations:               24734   F-statistic:                        236.92\n",
      "Date:                Fri, Sep 22 2023   P-value (F-stat):                   0.0000\n",
      "Time:                        17:26:53   Distribution:                      chi2(8)\n",
      "Cov. Estimator:             clustered   R-squared (No Effects):             0.0267\n",
      "                                        Varaibles Absorbed:              1.449e+04\n",
      "                                  Parameter Estimates                                  \n",
      "=======================================================================================\n",
      "                     Parameter  Std. Err.     T-stat    P-value    Lower CI    Upper CI\n",
      "---------------------------------------------------------------------------------------\n",
      "virtualper              4.4757     1.9658     2.2768     0.0228      0.6228      8.3286\n",
      "hybridper               2.2066     3.9631     0.5568     0.5777     -5.5609      9.9742\n",
      "black                  -0.4893     0.0460    -10.637     0.0000     -0.5795     -0.3991\n",
      "hispanic               -0.3549     0.0372    -9.5385     0.0000     -0.4279     -0.2820\n",
      "lowincome              -0.0327     0.0182    -1.7992     0.0720     -0.0683      0.0029\n",
      "white                  -0.0542     0.0352    -1.5387     0.1239     -0.1233      0.0148\n",
      "charter_virtual_per    -7.7472     2.8664    -2.7028     0.0069     -13.365     -2.1293\n",
      "charter_hybrid_per      17.522     7.3897     2.3712     0.0177      3.0387      32.006\n",
      "=======================================================================================\n"
     ]
    }
   ],
   "source": [
    "MATH_DISTRICTYEAR_CHARTER_PER = results[1]\n",
    "print_summarized_results(MATH_DISTRICTYEAR_CHARTER_PER)"
   ]
  },
  {
   "cell_type": "markdown",
   "id": "90016ba8",
   "metadata": {},
   "source": [
    "#### ELA - CHARTER"
   ]
  },
  {
   "cell_type": "code",
   "execution_count": 50,
   "id": "abf3884d",
   "metadata": {},
   "outputs": [],
   "source": [
    "results = run_district_interaction_year_regression('elapass', 'totaltested', 'charter')"
   ]
  },
  {
   "cell_type": "code",
   "execution_count": 51,
   "id": "e5bfccf7",
   "metadata": {},
   "outputs": [
    {
     "name": "stdout",
     "output_type": "stream",
     "text": [
      "                         Absorbing LS Estimation Summary                          \n",
      "==================================================================================\n",
      "Dep. Variable:                elapass   R-squared:                          0.9748\n",
      "Estimator:               Absorbing LS   Adj. R-squared:                     0.9087\n",
      "No. Observations:               18554   F-statistic:                        113.87\n",
      "Date:                Fri, Sep 22 2023   P-value (F-stat):                   0.0000\n",
      "Time:                        17:26:53   Distribution:                      chi2(6)\n",
      "Cov. Estimator:             clustered   R-squared (No Effects):             0.0402\n",
      "                                        Varaibles Absorbed:              1.344e+04\n",
      "                              Parameter Estimates                              \n",
      "===============================================================================\n",
      "             Parameter  Std. Err.     T-stat    P-value    Lower CI    Upper CI\n",
      "-------------------------------------------------------------------------------\n",
      "schoolmode      2.3729     1.7341     1.3684     0.1712     -1.0258      5.7716\n",
      "black          -0.3799     0.0614    -6.1837     0.0000     -0.5003     -0.2595\n",
      "hispanic       -0.3124     0.0591    -5.2867     0.0000     -0.4282     -0.1966\n",
      "lowincome      -0.0916     0.0174    -5.2492     0.0000     -0.1258     -0.0574\n",
      "white           0.0420     0.0524     0.8019     0.4226     -0.0606      0.1446\n",
      "charter_int    -3.5154     1.3043    -2.6952     0.0070     -6.0718     -0.9590\n",
      "===============================================================================\n"
     ]
    }
   ],
   "source": [
    "ELA_DISTRICTYEAR_CHARTER_NOPER = results[0]\n",
    "print_summarized_results(ELA_DISTRICTYEAR_CHARTER_NOPER)"
   ]
  },
  {
   "cell_type": "code",
   "execution_count": 52,
   "id": "bfee5344",
   "metadata": {
    "scrolled": true
   },
   "outputs": [
    {
     "name": "stdout",
     "output_type": "stream",
     "text": [
      "                         Absorbing LS Estimation Summary                          \n",
      "==================================================================================\n",
      "Dep. Variable:                elapass   R-squared:                          0.9749\n",
      "Estimator:               Absorbing LS   Adj. R-squared:                     0.9087\n",
      "No. Observations:               18554   F-statistic:                        119.29\n",
      "Date:                Fri, Sep 22 2023   P-value (F-stat):                   0.0000\n",
      "Time:                        17:26:54   Distribution:                      chi2(8)\n",
      "Cov. Estimator:             clustered   R-squared (No Effects):             0.0411\n",
      "                                        Varaibles Absorbed:              1.344e+04\n",
      "                                  Parameter Estimates                                  \n",
      "=======================================================================================\n",
      "                     Parameter  Std. Err.     T-stat    P-value    Lower CI    Upper CI\n",
      "---------------------------------------------------------------------------------------\n",
      "virtualper              3.0457     1.7726     1.7182     0.0858     -0.4286      6.5199\n",
      "hybridper               3.2900     3.8662     0.8510     0.3948     -4.2877      10.868\n",
      "black                  -0.3751     0.0613    -6.1217     0.0000     -0.4952     -0.2550\n",
      "hispanic               -0.3099     0.0591    -5.2389     0.0000     -0.4258     -0.1939\n",
      "lowincome              -0.0910     0.0175    -5.2062     0.0000     -0.1252     -0.0567\n",
      "white                   0.0468     0.0527     0.8893     0.3738     -0.0564      0.1501\n",
      "charter_virtual_per    -5.9656     2.4019    -2.4837     0.0130     -10.673     -1.2580\n",
      "charter_hybrid_per      9.4949     6.2901     1.5095     0.1312     -2.8334      21.823\n",
      "=======================================================================================\n"
     ]
    }
   ],
   "source": [
    "ELA_DISTRICTYEAR_CHARTER_PER = results[1]\n",
    "print_summarized_results(ELA_DISTRICTYEAR_CHARTER_PER)"
   ]
  },
  {
   "cell_type": "markdown",
   "id": "63a92a76",
   "metadata": {},
   "source": [
    "#### DROPOUT - CHARTER"
   ]
  },
  {
   "cell_type": "code",
   "execution_count": null,
   "id": "614816a4",
   "metadata": {},
   "outputs": [],
   "source": []
  }
 ],
 "metadata": {
  "kernelspec": {
   "display_name": "Python 3 (ipykernel)",
   "language": "python",
   "name": "python3"
  },
  "language_info": {
   "codemirror_mode": {
    "name": "ipython",
    "version": 3
   },
   "file_extension": ".py",
   "mimetype": "text/x-python",
   "name": "python",
   "nbconvert_exporter": "python",
   "pygments_lexer": "ipython3",
   "version": "3.9.13"
  }
 },
 "nbformat": 4,
 "nbformat_minor": 5
}
