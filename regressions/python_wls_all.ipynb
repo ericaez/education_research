{
 "cells": [
  {
   "cell_type": "code",
   "execution_count": 1,
   "id": "1d86f585",
   "metadata": {},
   "outputs": [],
   "source": [
    "import pandas as pd\n",
    "from linearmodels.panel import PanelOLS\n",
    "from linearmodels.iv import AbsorbingLS"
   ]
  },
  {
   "cell_type": "code",
   "execution_count": 2,
   "id": "885131e0",
   "metadata": {},
   "outputs": [],
   "source": [
    "def print_summarized_results(results):\n",
    "    # Extract parameter estimates, standard errors and p-values\n",
    "    params = results.params\n",
    "    std_errors = results.std_errors.round(5)  # Round the standard errors to 5 decimal places\n",
    "    pvalues = results.pvalues.round(5)\n",
    "\n",
    "    # Construct a DataFrame\n",
    "    results_df = pd.DataFrame({\n",
    "        'Parameter Estimates': params,\n",
    "        'Standard Errors': std_errors,\n",
    "        'P-values': pvalues\n",
    "    })\n",
    "\n",
    "    # Print the resulting DataFrame\n",
    "    print(results_df)"
   ]
  },
  {
   "cell_type": "markdown",
   "id": "59d3653d",
   "metadata": {},
   "source": [
    "# School FE"
   ]
  },
  {
   "cell_type": "markdown",
   "id": "761d0dfa",
   "metadata": {},
   "source": [
    "### Preliminary No Interactions Regression Function"
   ]
  },
  {
   "cell_type": "code",
   "execution_count": 3,
   "id": "02780388",
   "metadata": {},
   "outputs": [],
   "source": [
    "def run_preliminary_regression(outcome_var, weight):\n",
    "    data = pd.read_csv(f'../final_data_all_state/final_data_all_state_{outcome_var}.csv').iloc[:, 1:].set_index(['schoolcode', 'year'])\n",
    "\n",
    "    outcome_var = outcome_var\n",
    "    exog_vars = ['schoolmode', 'black', 'hispanic', 'lowincome', 'white']\n",
    "\n",
    "    model = PanelOLS(dependent = data[outcome_var], exog = data.loc[:, exog_vars], \n",
    "                     weights = data[weight], entity_effects = True, time_effects = True)\n",
    "\n",
    "    panel_results_no_per = model.fit(cov_type = 'clustered', clusters = data['districtcode'])\n",
    "\n",
    "    data = pd.read_csv(f'../final_data_all_state/final_data_all_state_{outcome_var}.csv').iloc[:, 1:].set_index(['schoolcode', 'year'])\n",
    "\n",
    "    outcome_var = outcome_var\n",
    "    exog_vars = ['virtualper', 'hybridper', 'black', 'hispanic', 'lowincome', 'white']\n",
    "\n",
    "    model = PanelOLS(dependent = data[outcome_var], exog = data.loc[:, exog_vars], \n",
    "                     weights = data[weight], entity_effects = True, time_effects = True)\n",
    "    \n",
    "    panel_results_per = model.fit(cov_type = 'clustered', clusters = data['districtcode'])\n",
    "\n",
    "    return [panel_results_no_per, panel_results_per]"
   ]
  },
  {
   "cell_type": "markdown",
   "id": "ed3dab1b",
   "metadata": {},
   "source": [
    "#### MATH"
   ]
  },
  {
   "cell_type": "code",
   "execution_count": 4,
   "id": "ec7e0a96",
   "metadata": {},
   "outputs": [],
   "source": [
    "results = run_preliminary_regression('mathpass', 'totaltested')"
   ]
  },
  {
   "cell_type": "code",
   "execution_count": 5,
   "id": "4fe08046",
   "metadata": {},
   "outputs": [
    {
     "name": "stdout",
     "output_type": "stream",
     "text": [
      "            Parameter Estimates  Standard Errors  P-values\n",
      "schoolmode             7.937898          1.90246   0.00003\n",
      "black                 -0.408005          0.05607   0.00000\n",
      "hispanic              -0.222579          0.04658   0.00000\n",
      "lowincome             -0.046789          0.02930   0.11030\n",
      "white                 -0.029814          0.04407   0.49870\n"
     ]
    }
   ],
   "source": [
    "MATH_NOINT_NOPER = results[0]\n",
    "print_summarized_results(MATH_NOINT_NOPER)"
   ]
  },
  {
   "cell_type": "code",
   "execution_count": 6,
   "id": "bc18ac05",
   "metadata": {},
   "outputs": [
    {
     "name": "stdout",
     "output_type": "stream",
     "text": [
      "            Parameter Estimates  Standard Errors  P-values\n",
      "virtualper             6.013950          1.97230   0.00230\n",
      "hybridper             14.115143          1.84865   0.00000\n",
      "black                 -0.392413          0.05586   0.00000\n",
      "hispanic              -0.215000          0.04632   0.00000\n",
      "lowincome             -0.046255          0.02800   0.09851\n",
      "white                 -0.013614          0.04422   0.75821\n"
     ]
    }
   ],
   "source": [
    "MATH_NOINT_PER = results[1]\n",
    "print_summarized_results(MATH_NOINT_PER)"
   ]
  },
  {
   "cell_type": "markdown",
   "id": "cbd7eed7",
   "metadata": {},
   "source": [
    "#### ELA"
   ]
  },
  {
   "cell_type": "code",
   "execution_count": 7,
   "id": "7d4c57b1",
   "metadata": {},
   "outputs": [],
   "source": [
    "results = run_preliminary_regression('elapass', 'totaltested')"
   ]
  },
  {
   "cell_type": "code",
   "execution_count": 8,
   "id": "b42dabaf",
   "metadata": {},
   "outputs": [
    {
     "name": "stdout",
     "output_type": "stream",
     "text": [
      "            Parameter Estimates  Standard Errors  P-values\n",
      "schoolmode            -3.222789          0.77700   0.00003\n",
      "black                 -0.464732          0.08860   0.00000\n",
      "hispanic              -0.340029          0.06455   0.00000\n",
      "lowincome             -0.019332          0.01700   0.25551\n",
      "white                  0.132937          0.04030   0.00097\n"
     ]
    }
   ],
   "source": [
    "ELA_NOINT_NOPER = results[0]\n",
    "print_summarized_results(ELA_NOINT_NOPER)"
   ]
  },
  {
   "cell_type": "code",
   "execution_count": 9,
   "id": "569bc521",
   "metadata": {},
   "outputs": [
    {
     "name": "stdout",
     "output_type": "stream",
     "text": [
      "            Parameter Estimates  Standard Errors  P-values\n",
      "virtualper            -2.060941          0.77918   0.00818\n",
      "hybridper             -8.139389          1.02333   0.00000\n",
      "black                 -0.467170          0.08816   0.00000\n",
      "hispanic              -0.338219          0.06401   0.00000\n",
      "lowincome             -0.019323          0.01600   0.22731\n",
      "white                  0.121126          0.03910   0.00195\n"
     ]
    }
   ],
   "source": [
    "ELA_NOINT_PER = results[1]\n",
    "print_summarized_results(ELA_NOINT_PER)"
   ]
  },
  {
   "cell_type": "markdown",
   "id": "65bb0642",
   "metadata": {},
   "source": [
    "#### DROPOUT"
   ]
  },
  {
   "cell_type": "code",
   "execution_count": null,
   "id": "d03fe962",
   "metadata": {},
   "outputs": [],
   "source": []
  },
  {
   "cell_type": "markdown",
   "id": "1abbb951",
   "metadata": {},
   "source": [
    "# School FE + State-Year Interaction"
   ]
  },
  {
   "cell_type": "markdown",
   "id": "c41b4ae4",
   "metadata": {},
   "source": [
    "### School FE + State-Year Regression Function"
   ]
  },
  {
   "cell_type": "code",
   "execution_count": 10,
   "id": "581a7248",
   "metadata": {},
   "outputs": [],
   "source": [
    "def run_state_year_regression(outcome_var, weight):\n",
    "    data = pd.read_csv(f'../final_data_all_state/final_data_all_state_{outcome_var}.csv').iloc[:, 1:]\n",
    "    data['state_year'] = data['state'] + data['year'].astype('str')\n",
    "\n",
    "    effect = 'state_year'\n",
    "    outcome_var = outcome_var\n",
    "    exog_vars = ['schoolmode', 'black', 'hispanic', 'lowincome', 'white']\n",
    "\n",
    "    absorb = data[['schoolcode', 'year', effect]].astype('category')\n",
    "    model = AbsorbingLS(dependent=data[outcome_var], exog=data[exog_vars], absorb=absorb, weights=data[weight])\n",
    "    panel_results_no_per = model.fit(cov_type='clustered', clusters=data['schoolcode'])\n",
    "    \n",
    "    data = pd.read_csv(f'../final_data_all_state/final_data_all_state_{outcome_var}.csv').iloc[:, 1:]\n",
    "    data['state_year'] = data['state'] + data['year'].astype('str')\n",
    "\n",
    "    effect = 'state_year'\n",
    "    outcome_var = outcome_var\n",
    "    exog_vars = ['virtualper', 'hybridper','black', 'hispanic', 'lowincome', 'white']\n",
    "\n",
    "    absorb = data[['schoolcode', 'year', effect]].astype('category')\n",
    "    model = AbsorbingLS(dependent=data[outcome_var], exog=data[exog_vars], absorb=absorb, weights=data[weight])\n",
    "    panel_results_per = model.fit(cov_type='clustered', clusters=data['schoolcode'])\n",
    "\n",
    "    return [panel_results_no_per, panel_results_per]"
   ]
  },
  {
   "cell_type": "markdown",
   "id": "0ecb265c",
   "metadata": {},
   "source": [
    "#### MATH"
   ]
  },
  {
   "cell_type": "code",
   "execution_count": 11,
   "id": "86095f06",
   "metadata": {},
   "outputs": [],
   "source": [
    "results = run_state_year_regression('mathpass', 'totaltested')"
   ]
  },
  {
   "cell_type": "code",
   "execution_count": 12,
   "id": "b483eb73",
   "metadata": {},
   "outputs": [
    {
     "name": "stdout",
     "output_type": "stream",
     "text": [
      "            Parameter Estimates  Standard Errors  P-values\n",
      "schoolmode            -8.948009          0.90532   0.00000\n",
      "black                 -0.466955          0.04518   0.00000\n",
      "hispanic              -0.271946          0.03474   0.00000\n",
      "lowincome             -0.019455          0.01161   0.09377\n",
      "white                 -0.005329          0.03185   0.86714\n"
     ]
    }
   ],
   "source": [
    "MATH_STATEYEAR__NOPER = results[0]\n",
    "print_summarized_results(MATH_STATEYEAR__NOPER)"
   ]
  },
  {
   "cell_type": "code",
   "execution_count": 13,
   "id": "975fff03",
   "metadata": {},
   "outputs": [
    {
     "name": "stdout",
     "output_type": "stream",
     "text": [
      "            Parameter Estimates  Standard Errors  P-values\n",
      "virtualper            -9.202422          0.92295   0.00000\n",
      "hybridper             -7.246941          1.07611   0.00000\n",
      "black                 -0.467133          0.04516   0.00000\n",
      "hispanic              -0.271774          0.03471   0.00000\n",
      "lowincome             -0.019108          0.01161   0.09989\n",
      "white                 -0.005544          0.03185   0.86180\n"
     ]
    }
   ],
   "source": [
    "MATH_STATEYEAR__NOPER = results[1]\n",
    "print_summarized_results(MATH_STATEYEAR__NOPER)"
   ]
  },
  {
   "cell_type": "markdown",
   "id": "ef3db7b0",
   "metadata": {},
   "source": [
    "#### ELA"
   ]
  },
  {
   "cell_type": "code",
   "execution_count": 14,
   "id": "84abdb5e",
   "metadata": {},
   "outputs": [],
   "source": [
    "results = run_state_year_regression('elapass', 'totaltested')"
   ]
  },
  {
   "cell_type": "code",
   "execution_count": 15,
   "id": "88b66ecf",
   "metadata": {
    "scrolled": true
   },
   "outputs": [
    {
     "name": "stdout",
     "output_type": "stream",
     "text": [
      "            Parameter Estimates  Standard Errors  P-values\n",
      "schoolmode            -0.543339          0.49857   0.27581\n",
      "black                 -0.542196          0.05558   0.00000\n",
      "hispanic              -0.372745          0.04434   0.00000\n",
      "lowincome             -0.010435          0.00786   0.18445\n",
      "white                  0.095805          0.02967   0.00124\n"
     ]
    }
   ],
   "source": [
    "ELA_STATEYEAR_NOPER = results[0]\n",
    "print_summarized_results(ELA_STATEYEAR_NOPER)"
   ]
  },
  {
   "cell_type": "code",
   "execution_count": 16,
   "id": "a8278efa",
   "metadata": {
    "scrolled": false
   },
   "outputs": [
    {
     "name": "stdout",
     "output_type": "stream",
     "text": [
      "            Parameter Estimates  Standard Errors  P-values\n",
      "virtualper            -0.388614          0.50360   0.44031\n",
      "hybridper              1.369056          0.79252   0.08408\n",
      "black                 -0.542342          0.05560   0.00000\n",
      "hispanic              -0.372953          0.04439   0.00000\n",
      "lowincome             -0.010684          0.00785   0.17346\n",
      "white                  0.096054          0.02969   0.00122\n"
     ]
    }
   ],
   "source": [
    "ELA_STATEYEAR__PER = results[1]\n",
    "print_summarized_results(ELA_STATEYEAR__PER)"
   ]
  },
  {
   "cell_type": "markdown",
   "id": "4495e473",
   "metadata": {},
   "source": [
    "#### DROPOUT"
   ]
  },
  {
   "cell_type": "code",
   "execution_count": null,
   "id": "9278c0e3",
   "metadata": {},
   "outputs": [],
   "source": []
  },
  {
   "cell_type": "markdown",
   "id": "b982afdc",
   "metadata": {},
   "source": [
    "# School FE + District-Year Interaction"
   ]
  },
  {
   "cell_type": "markdown",
   "id": "2f9d9744",
   "metadata": {},
   "source": [
    "### School FE + District-Year Regression Function"
   ]
  },
  {
   "cell_type": "code",
   "execution_count": 17,
   "id": "497f440c",
   "metadata": {},
   "outputs": [],
   "source": [
    "def run_district_year_regression(outcome_var, weight):\n",
    "    data = pd.read_csv(f'../final_data_all_state/final_data_all_state_{outcome_var}.csv').iloc[:, 1:]\n",
    "    data['district_year'] = data['districtcode'] + data['year'].astype('str')\n",
    "\n",
    "    effect = 'district_year'\n",
    "    outcome_var = outcome_var\n",
    "    exog_vars = ['schoolmode', 'black', 'hispanic', 'lowincome', 'white']\n",
    "\n",
    "    absorb = data[['schoolcode', 'year', effect]].astype('category')\n",
    "    model = AbsorbingLS(dependent=data[outcome_var], exog=data[exog_vars], absorb=absorb, weights=data[weight])\n",
    "    panel_results_no_per = model.fit(cov_type='clustered', clusters=data['schoolcode'])\n",
    "    \n",
    "    data = pd.read_csv(f'../final_data_all_state/final_data_all_state_{outcome_var}.csv').iloc[:, 1:]\n",
    "    data['district_year'] = data['districtcode'] + data['year'].astype('str')\n",
    "\n",
    "    effect = 'district_year'\n",
    "    outcome_var = outcome_var\n",
    "    exog_vars = ['virtualper', 'hybridper','black', 'hispanic', 'lowincome', 'white']\n",
    "\n",
    "    absorb = data[['schoolcode', 'year', effect]].astype('category')\n",
    "    model = AbsorbingLS(dependent=data[outcome_var], exog=data[exog_vars], absorb=absorb, weights=data[weight])\n",
    "    panel_results_per = model.fit(cov_type='clustered', clusters=data['schoolcode'])\n",
    "\n",
    "    return [panel_results_no_per, panel_results_per]"
   ]
  },
  {
   "cell_type": "markdown",
   "id": "d3084a4c",
   "metadata": {},
   "source": [
    "#### MATH"
   ]
  },
  {
   "cell_type": "code",
   "execution_count": 18,
   "id": "ba92a517",
   "metadata": {},
   "outputs": [],
   "source": [
    "results = run_district_year_regression('mathpass', 'totaltested')"
   ]
  },
  {
   "cell_type": "code",
   "execution_count": 19,
   "id": "df3d9ace",
   "metadata": {},
   "outputs": [
    {
     "name": "stdout",
     "output_type": "stream",
     "text": [
      "            Parameter Estimates  Standard Errors  P-values\n",
      "schoolmode             2.787333          1.86190   0.13438\n",
      "black                 -0.492969          0.04593   0.00000\n",
      "hispanic              -0.356298          0.03720   0.00000\n",
      "lowincome             -0.032914          0.01812   0.06928\n",
      "white                 -0.055144          0.03521   0.11727\n"
     ]
    }
   ],
   "source": [
    "MATH_DISTRICTYEAR__NOPER = results[0]\n",
    "print_summarized_results(MATH_DISTRICTYEAR__NOPER)"
   ]
  },
  {
   "cell_type": "code",
   "execution_count": 20,
   "id": "8c823498",
   "metadata": {},
   "outputs": [
    {
     "name": "stdout",
     "output_type": "stream",
     "text": [
      "            Parameter Estimates  Standard Errors  P-values\n",
      "virtualper             3.120072          1.88272   0.09748\n",
      "hybridper              7.240133          4.07947   0.07594\n",
      "black                 -0.492509          0.04592   0.00000\n",
      "hispanic              -0.356058          0.03720   0.00000\n",
      "lowincome             -0.032671          0.01812   0.07140\n",
      "white                 -0.055055          0.03519   0.11768\n"
     ]
    }
   ],
   "source": [
    "MATH_DISTRICTYEAR__NOPER = results[1]\n",
    "print_summarized_results(MATH_DISTRICTYEAR__NOPER)"
   ]
  },
  {
   "cell_type": "markdown",
   "id": "4d0de5d3",
   "metadata": {},
   "source": [
    "#### ELA"
   ]
  },
  {
   "cell_type": "code",
   "execution_count": 21,
   "id": "e81dd4ec",
   "metadata": {},
   "outputs": [],
   "source": [
    "results = run_district_year_regression('elapass', 'totaltested')"
   ]
  },
  {
   "cell_type": "code",
   "execution_count": 22,
   "id": "08277f79",
   "metadata": {
    "scrolled": true
   },
   "outputs": [
    {
     "name": "stdout",
     "output_type": "stream",
     "text": [
      "            Parameter Estimates  Standard Errors  P-values\n",
      "schoolmode             1.570688          1.64743   0.34038\n",
      "black                 -0.378346          0.06152   0.00000\n",
      "hispanic              -0.310484          0.05918   0.00000\n",
      "lowincome             -0.091577          0.01733   0.00000\n",
      "white                  0.047133          0.05260   0.37019\n"
     ]
    }
   ],
   "source": [
    "ELA_DISTRICTYEAR_NOPER = results[0]\n",
    "print_summarized_results(ELA_DISTRICTYEAR_NOPER)"
   ]
  },
  {
   "cell_type": "code",
   "execution_count": 23,
   "id": "0c447e0f",
   "metadata": {
    "scrolled": true
   },
   "outputs": [
    {
     "name": "stdout",
     "output_type": "stream",
     "text": [
      "            Parameter Estimates  Standard Errors  P-values\n",
      "virtualper             1.982812          1.66078   0.23252\n",
      "hybridper              7.054339          3.36015   0.03578\n",
      "black                 -0.377494          0.06148   0.00000\n",
      "hispanic              -0.309827          0.05915   0.00000\n",
      "lowincome             -0.091272          0.01732   0.00000\n",
      "white                  0.047470          0.05257   0.36649\n"
     ]
    }
   ],
   "source": [
    "ELA_DISTRICTYEAR__PER = results[1]\n",
    "print_summarized_results(ELA_DISTRICTYEAR__PER)"
   ]
  },
  {
   "cell_type": "markdown",
   "id": "5b008311",
   "metadata": {},
   "source": [
    "#### DROPOUT"
   ]
  },
  {
   "cell_type": "markdown",
   "id": "0f73093d",
   "metadata": {},
   "source": [
    "# School FE + County-Year Interaction"
   ]
  },
  {
   "cell_type": "markdown",
   "id": "69d0e480",
   "metadata": {},
   "source": [
    "### School FE + County-Year Regression Function"
   ]
  },
  {
   "cell_type": "code",
   "execution_count": 24,
   "id": "f9c6f544",
   "metadata": {},
   "outputs": [],
   "source": [
    "def run_county_year_regression(outcome_var, weight):\n",
    "    data = pd.read_csv(f'../final_data_all_state/final_data_all_state_{outcome_var}.csv').iloc[:, 1:]\n",
    "    data['county_year'] = data['countycode'] + data['year'].astype('str')\n",
    "\n",
    "    effect = 'county_year'\n",
    "    outcome_var = outcome_var\n",
    "    exog_vars = ['schoolmode', 'black', 'hispanic', 'lowincome', 'white']\n",
    "\n",
    "    absorb = data[['schoolcode', 'year', effect]].astype('category')\n",
    "    model = AbsorbingLS(dependent=data[outcome_var], exog=data[exog_vars], absorb=absorb, weights=data[weight])\n",
    "    panel_results_no_per = model.fit(cov_type='clustered', clusters=data['schoolcode'])\n",
    "    \n",
    "    data = pd.read_csv(f'../final_data_all_state/final_data_all_state_{outcome_var}.csv').iloc[:, 1:]\n",
    "    data['county_year'] = data['countycode'] + data['year'].astype('str')\n",
    "\n",
    "    effect = 'county_year'\n",
    "    outcome_var = outcome_var\n",
    "    exog_vars = ['virtualper', 'hybridper','black', 'hispanic', 'lowincome', 'white']\n",
    "\n",
    "    absorb = data[['schoolcode', 'year', effect]].astype('category')\n",
    "    model = AbsorbingLS(dependent=data[outcome_var], exog=data[exog_vars], absorb=absorb, weights=data[weight])\n",
    "    panel_results_per = model.fit(cov_type='clustered', clusters=data['schoolcode'])\n",
    "\n",
    "    return [panel_results_no_per, panel_results_per]"
   ]
  },
  {
   "cell_type": "markdown",
   "id": "dd0bf476",
   "metadata": {},
   "source": [
    "#### MATH"
   ]
  },
  {
   "cell_type": "code",
   "execution_count": 25,
   "id": "604af34b",
   "metadata": {},
   "outputs": [],
   "source": [
    "results = run_county_year_regression('mathpass', 'totaltested')"
   ]
  },
  {
   "cell_type": "code",
   "execution_count": 26,
   "id": "35ca0e4c",
   "metadata": {},
   "outputs": [
    {
     "name": "stdout",
     "output_type": "stream",
     "text": [
      "            Parameter Estimates  Standard Errors  P-values\n",
      "schoolmode            -2.196939          1.07283   0.04058\n",
      "black                 -0.468591          0.04593   0.00000\n",
      "hispanic              -0.328953          0.03713   0.00000\n",
      "lowincome             -0.018612          0.01228   0.12949\n",
      "white                 -0.064818          0.03355   0.05334\n"
     ]
    }
   ],
   "source": [
    "MATH_COUNTYYEAR__NOPER = results[0]\n",
    "print_summarized_results(MATH_COUNTYYEAR__NOPER)"
   ]
  },
  {
   "cell_type": "code",
   "execution_count": 27,
   "id": "016c2dcc",
   "metadata": {},
   "outputs": [
    {
     "name": "stdout",
     "output_type": "stream",
     "text": [
      "            Parameter Estimates  Standard Errors  P-values\n",
      "virtualper            -2.194687          1.10198   0.04642\n",
      "hybridper             -1.146561          1.14358   0.31605\n",
      "black                 -0.468600          0.04593   0.00000\n",
      "hispanic              -0.328956          0.03713   0.00000\n",
      "lowincome             -0.018615          0.01228   0.12943\n",
      "white                 -0.064826          0.03355   0.05331\n"
     ]
    }
   ],
   "source": [
    "MATH_COUNTYYEAR__NOPER = results[1]\n",
    "print_summarized_results(MATH_COUNTYYEAR__NOPER)"
   ]
  },
  {
   "cell_type": "markdown",
   "id": "ca03826c",
   "metadata": {},
   "source": [
    "#### ELA"
   ]
  },
  {
   "cell_type": "code",
   "execution_count": 28,
   "id": "036c4831",
   "metadata": {},
   "outputs": [],
   "source": [
    "results = run_county_year_regression('elapass', 'totaltested')"
   ]
  },
  {
   "cell_type": "code",
   "execution_count": 29,
   "id": "2a3d2523",
   "metadata": {
    "scrolled": true
   },
   "outputs": [
    {
     "name": "stdout",
     "output_type": "stream",
     "text": [
      "            Parameter Estimates  Standard Errors  P-values\n",
      "schoolmode            -0.457448          0.67461   0.49771\n",
      "black                 -0.553335          0.05627   0.00000\n",
      "hispanic              -0.420568          0.04535   0.00000\n",
      "lowincome             -0.025892          0.00897   0.00392\n",
      "white                  0.018193          0.02987   0.54244\n"
     ]
    }
   ],
   "source": [
    "ELA_COUNTYYEAR_NOPER = results[0]\n",
    "print_summarized_results(ELA_COUNTYYEAR_NOPER)"
   ]
  },
  {
   "cell_type": "code",
   "execution_count": 30,
   "id": "c472b0f5",
   "metadata": {
    "scrolled": false
   },
   "outputs": [
    {
     "name": "stdout",
     "output_type": "stream",
     "text": [
      "            Parameter Estimates  Standard Errors  P-values\n",
      "virtualper            -0.178748          0.68548   0.79428\n",
      "hybridper              1.937417          0.94095   0.03949\n",
      "black                 -0.553020          0.05628   0.00000\n",
      "hispanic              -0.420347          0.04539   0.00000\n",
      "lowincome             -0.025886          0.00897   0.00391\n",
      "white                  0.018781          0.02986   0.52942\n"
     ]
    }
   ],
   "source": [
    "ELA_COUNTYYEAR__PER = results[1]\n",
    "print_summarized_results(ELA_COUNTYYEAR__PER)"
   ]
  },
  {
   "cell_type": "markdown",
   "id": "29e8ada5",
   "metadata": {},
   "source": [
    "#### DROPOUT"
   ]
  },
  {
   "cell_type": "code",
   "execution_count": null,
   "id": "9bb1d44e",
   "metadata": {},
   "outputs": [],
   "source": []
  },
  {
   "cell_type": "markdown",
   "id": "5ecfbc78",
   "metadata": {},
   "source": [
    "# School FE + District-Year Interaction + Race Interactions"
   ]
  },
  {
   "cell_type": "markdown",
   "id": "cbf4cd78",
   "metadata": {},
   "source": [
    "### School FE + District-Year Interaction + Race Interactions Regression Function"
   ]
  },
  {
   "cell_type": "code",
   "execution_count": 32,
   "id": "e7c16e54",
   "metadata": {},
   "outputs": [],
   "source": [
    "def run_district_race_year_regression(outcome_var, weight, race):\n",
    "    data = pd.read_csv(f'../final_data_all_state/final_data_all_state_{outcome_var}.csv').iloc[:, 1:]\n",
    "    data['district_year'] = data['districtcode'] + data['year'].astype('str')\n",
    "    data[f'{race}_int'] = data[race] * data['schoolmode']\n",
    "\n",
    "    effect = 'district_year'\n",
    "    outcome_var = outcome_var\n",
    "    exog_vars = ['schoolmode', 'black', 'hispanic', 'lowincome', 'white', f'{race}_int']\n",
    "\n",
    "    absorb = data[['schoolcode', 'year', effect]].astype('category')\n",
    "    model = AbsorbingLS(dependent=data[outcome_var], exog=data[exog_vars], absorb=absorb, weights=data[weight])\n",
    "    panel_results_no_per = model.fit(cov_type='clustered', clusters=data['schoolcode'])\n",
    "    \n",
    "    data = pd.read_csv(f'../final_data_all_state/final_data_all_state_{outcome_var}.csv').iloc[:, 1:]\n",
    "    data['district_year'] = data['districtcode'] + data['year'].astype('str')\n",
    "    data[f'{race}_virtual_per'] = data[race] * data['virtualper']\n",
    "    data[f'{race}_hybrid_per'] = data[race] * data['hybridper']\n",
    "\n",
    "    effect = 'district_year'\n",
    "    outcome_var = outcome_var\n",
    "    exog_vars = ['virtualper', 'hybridper','black', 'hispanic', 'lowincome', 'white', f'{race}_virtual_per', f'{race}_hybrid_per']\n",
    "\n",
    "    absorb = data[['schoolcode', 'year', effect]].astype('category')\n",
    "    model = AbsorbingLS(dependent=data[outcome_var], exog=data[exog_vars], absorb=absorb, weights=data[weight])\n",
    "    panel_results_per = model.fit(cov_type='clustered', clusters=data['schoolcode'])\n",
    "\n",
    "    return [panel_results_no_per, panel_results_per]"
   ]
  },
  {
   "cell_type": "markdown",
   "id": "e6146421",
   "metadata": {},
   "source": [
    "#### MATH - BLACK"
   ]
  },
  {
   "cell_type": "code",
   "execution_count": 33,
   "id": "d70152e8",
   "metadata": {},
   "outputs": [],
   "source": [
    "results = run_district_race_year_regression('mathpass', 'totaltested', 'black')"
   ]
  },
  {
   "cell_type": "code",
   "execution_count": 34,
   "id": "e3e6a4e7",
   "metadata": {
    "scrolled": true
   },
   "outputs": [
    {
     "name": "stdout",
     "output_type": "stream",
     "text": [
      "            Parameter Estimates  Standard Errors  P-values\n",
      "schoolmode             2.584783          1.89355   0.17224\n",
      "black                 -0.493364          0.04597   0.00000\n",
      "hispanic              -0.356305          0.03721   0.00000\n",
      "lowincome             -0.033086          0.01813   0.06800\n",
      "white                 -0.055281          0.03522   0.11647\n",
      "black_int              0.012170          0.01895   0.52083\n"
     ]
    }
   ],
   "source": [
    "MATH_DISTRICTYEAR_BLACK_NOPER = results[0]\n",
    "print_summarized_results(MATH_DISTRICTYEAR_BLACK_NOPER)"
   ]
  },
  {
   "cell_type": "code",
   "execution_count": 35,
   "id": "1f1d41cf",
   "metadata": {},
   "outputs": [
    {
     "name": "stdout",
     "output_type": "stream",
     "text": [
      "                   Parameter Estimates  Standard Errors  P-values\n",
      "virtualper                    3.441647          1.91219   0.07189\n",
      "hybridper                     5.265981          4.11034   0.20014\n",
      "black                        -0.492471          0.04595   0.00000\n",
      "hispanic                     -0.355734          0.03720   0.00000\n",
      "lowincome                    -0.033158          0.01813   0.06740\n",
      "white                        -0.055098          0.03520   0.11748\n",
      "black_virtual_per            -0.017899          0.02590   0.48958\n",
      "black_hybrid_per              0.109442          0.04910   0.02582\n"
     ]
    }
   ],
   "source": [
    "MATH_DISTRICTYEAR_BLACK_PER = results[1]\n",
    "print_summarized_results(MATH_DISTRICTYEAR_BLACK_PER)"
   ]
  },
  {
   "cell_type": "markdown",
   "id": "4ee1d1de",
   "metadata": {},
   "source": [
    "#### ELA - BLACK"
   ]
  },
  {
   "cell_type": "code",
   "execution_count": 36,
   "id": "d39320af",
   "metadata": {},
   "outputs": [],
   "source": [
    "results = run_district_race_year_regression('elapass', 'totaltested', 'black')"
   ]
  },
  {
   "cell_type": "code",
   "execution_count": 37,
   "id": "59d97c08",
   "metadata": {},
   "outputs": [
    {
     "name": "stdout",
     "output_type": "stream",
     "text": [
      "            Parameter Estimates  Standard Errors  P-values\n",
      "schoolmode             1.369746          1.71837   0.42538\n",
      "black                 -0.378633          0.06153   0.00000\n",
      "hispanic              -0.310346          0.05919   0.00000\n",
      "lowincome             -0.091756          0.01733   0.00000\n",
      "white                  0.047206          0.05260   0.36952\n",
      "black_int              0.012435          0.01617   0.44182\n"
     ]
    }
   ],
   "source": [
    "ELA_DISTRICTYEAR_BLACK_NOPER = results[0]\n",
    "print_summarized_results(ELA_DISTRICTYEAR_BLACK_NOPER)"
   ]
  },
  {
   "cell_type": "code",
   "execution_count": 38,
   "id": "c36120e4",
   "metadata": {},
   "outputs": [
    {
     "name": "stdout",
     "output_type": "stream",
     "text": [
      "                   Parameter Estimates  Standard Errors  P-values\n",
      "virtualper                    2.038927          1.78661   0.25378\n",
      "hybridper                     6.033871          3.50546   0.08520\n",
      "black                        -0.377862          0.06150   0.00000\n",
      "hispanic                     -0.309567          0.05915   0.00000\n",
      "lowincome                    -0.091733          0.01733   0.00000\n",
      "white                         0.047264          0.05257   0.36865\n",
      "black_virtual_per            -0.002489          0.02078   0.90468\n",
      "black_hybrid_per              0.058002          0.04227   0.17000\n"
     ]
    }
   ],
   "source": [
    "ELA_DISTRICTYEAR_BLACK_PER = results[1]\n",
    "print_summarized_results(ELA_DISTRICTYEAR_BLACK_PER)"
   ]
  },
  {
   "cell_type": "markdown",
   "id": "81c332e5",
   "metadata": {},
   "source": [
    "#### DROPOUT"
   ]
  },
  {
   "cell_type": "code",
   "execution_count": null,
   "id": "fa2e8562",
   "metadata": {},
   "outputs": [],
   "source": []
  }
 ],
 "metadata": {
  "kernelspec": {
   "display_name": "Python 3 (ipykernel)",
   "language": "python",
   "name": "python3"
  },
  "language_info": {
   "codemirror_mode": {
    "name": "ipython",
    "version": 3
   },
   "file_extension": ".py",
   "mimetype": "text/x-python",
   "name": "python",
   "nbconvert_exporter": "python",
   "pygments_lexer": "ipython3",
   "version": "3.9.13"
  }
 },
 "nbformat": 4,
 "nbformat_minor": 5
}
