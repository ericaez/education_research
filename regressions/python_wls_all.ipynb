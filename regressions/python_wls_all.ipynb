{
 "cells": [
  {
   "cell_type": "code",
   "execution_count": 1,
   "id": "1d86f585",
   "metadata": {},
   "outputs": [],
   "source": [
    "import pandas as pd\n",
    "from linearmodels.panel import PanelOLS\n",
    "from linearmodels.iv import AbsorbingLS"
   ]
  },
  {
   "cell_type": "code",
   "execution_count": 2,
   "id": "885131e0",
   "metadata": {},
   "outputs": [],
   "source": [
    "def print_summarized_results(results):\n",
    "    # UNCOMMENT BELOW TO ONLY SEE COEFFS, STD ERRORS, AND P VALUES\n",
    "    \n",
    "#     # Extract parameter estimates, standard errors and p-values\n",
    "#     params = results.params\n",
    "#     std_errors = results.std_errors.round(5)  # Round the standard errors to 5 decimal places\n",
    "#     pvalues = results.pvalues.round(5)\n",
    "\n",
    "#     # Construct a DataFrame\n",
    "#     results_df = pd.DataFrame({\n",
    "#         'Parameter Estimates': params,\n",
    "#         'Standard Errors': std_errors,\n",
    "#         'P-values': pvalues\n",
    "#     })\n",
    "\n",
    "#     # Print the resulting DataFrame\n",
    "#     print(results_df)\n",
    "    print(results)"
   ]
  },
  {
   "cell_type": "markdown",
   "id": "59d3653d",
   "metadata": {},
   "source": [
    "# School FE"
   ]
  },
  {
   "cell_type": "markdown",
   "id": "761d0dfa",
   "metadata": {},
   "source": [
    "### Preliminary No Interactions Regression Function"
   ]
  },
  {
   "cell_type": "code",
   "execution_count": 3,
   "id": "02780388",
   "metadata": {},
   "outputs": [],
   "source": [
    "def run_preliminary_regression(outcome_var, weight):\n",
    "    data = pd.read_csv(f'../final_data_all_state/final_data_all_state_{outcome_var}.csv').iloc[:, 1:].set_index(['schoolcode', 'year'])\n",
    "\n",
    "    outcome_var = outcome_var\n",
    "    exog_vars = ['schoolmode', 'black', 'hispanic', 'lowincome', 'white']\n",
    "\n",
    "    model = PanelOLS(dependent = data[outcome_var], exog = data.loc[:, exog_vars], \n",
    "                     weights = data[weight], entity_effects = True, time_effects = True)\n",
    "\n",
    "    panel_results_no_per = model.fit(cov_type = 'clustered', clusters = data['districtcode'])\n",
    "\n",
    "    data = pd.read_csv(f'../final_data_all_state/final_data_all_state_{outcome_var}.csv').iloc[:, 1:].set_index(['schoolcode', 'year'])\n",
    "\n",
    "    outcome_var = outcome_var\n",
    "    exog_vars = ['virtualper', 'hybridper', 'black', 'hispanic', 'lowincome', 'white']\n",
    "\n",
    "    model = PanelOLS(dependent = data[outcome_var], exog = data.loc[:, exog_vars], \n",
    "                     weights = data[weight], entity_effects = True, time_effects = True)\n",
    "    \n",
    "    panel_results_per = model.fit(cov_type = 'clustered', clusters = data['districtcode'])\n",
    "\n",
    "    return [panel_results_no_per, panel_results_per]"
   ]
  },
  {
   "cell_type": "markdown",
   "id": "ed3dab1b",
   "metadata": {},
   "source": [
    "#### MATH"
   ]
  },
  {
   "cell_type": "code",
   "execution_count": 4,
   "id": "ec7e0a96",
   "metadata": {},
   "outputs": [],
   "source": [
    "results = run_preliminary_regression('mathpass', 'totaltested')"
   ]
  },
  {
   "cell_type": "code",
   "execution_count": 5,
   "id": "4fe08046",
   "metadata": {},
   "outputs": [
    {
     "name": "stdout",
     "output_type": "stream",
     "text": [
      "                          PanelOLS Estimation Summary                           \n",
      "================================================================================\n",
      "Dep. Variable:               mathpass   R-squared:                        0.0323\n",
      "Estimator:                   PanelOLS   R-squared (Between):             -0.7190\n",
      "No. Observations:               24734   R-squared (Within):              -0.0678\n",
      "Date:                Fri, Sep 22 2023   R-squared (Overall):             -0.6955\n",
      "Time:                        17:26:43   Log-likelihood                -8.718e+04\n",
      "Cov. Estimator:             Clustered                                           \n",
      "                                        F-statistic:                      136.04\n",
      "Entities:                        4348   P-value                           0.0000\n",
      "Avg Obs:                       5.6886   Distribution:                 F(5,20376)\n",
      "Min Obs:                       4.0000                                           \n",
      "Max Obs:                       6.0000   F-statistic (robust):             22.509\n",
      "                                        P-value                           0.0000\n",
      "Time periods:                       6   Distribution:                 F(5,20376)\n",
      "Avg Obs:                       4122.3                                           \n",
      "Min Obs:                       3671.0                                           \n",
      "Max Obs:                       4348.0                                           \n",
      "                                                                                \n",
      "                             Parameter Estimates                              \n",
      "==============================================================================\n",
      "            Parameter  Std. Err.     T-stat    P-value    Lower CI    Upper CI\n",
      "------------------------------------------------------------------------------\n",
      "schoolmode     7.9379     1.9025     4.1724     0.0000      4.2089      11.667\n",
      "black         -0.4080     0.0561    -7.2773     0.0000     -0.5179     -0.2981\n",
      "hispanic      -0.2226     0.0466    -4.7788     0.0000     -0.3139     -0.1313\n",
      "lowincome     -0.0468     0.0293    -1.5969     0.1103     -0.1042      0.0106\n",
      "white         -0.0298     0.0441    -0.6765     0.4987     -0.1162      0.0566\n",
      "==============================================================================\n",
      "\n",
      "F-test for Poolability: 24.932\n",
      "P-value: 0.0000\n",
      "Distribution: F(4352,20376)\n",
      "\n",
      "Included effects: Entity, Time\n"
     ]
    }
   ],
   "source": [
    "MATH_NOINT_NOPER = results[0]\n",
    "print_summarized_results(MATH_NOINT_NOPER)"
   ]
  },
  {
   "cell_type": "code",
   "execution_count": 6,
   "id": "bc18ac05",
   "metadata": {},
   "outputs": [
    {
     "name": "stdout",
     "output_type": "stream",
     "text": [
      "                          PanelOLS Estimation Summary                           \n",
      "================================================================================\n",
      "Dep. Variable:               mathpass   R-squared:                        0.0453\n",
      "Estimator:                   PanelOLS   R-squared (Between):             -0.6614\n",
      "No. Observations:               24734   R-squared (Within):              -0.0913\n",
      "Date:                Fri, Sep 22 2023   R-squared (Overall):             -0.6408\n",
      "Time:                        17:26:43   Log-likelihood                -8.702e+04\n",
      "Cov. Estimator:             Clustered                                           \n",
      "                                        F-statistic:                      161.12\n",
      "Entities:                        4348   P-value                           0.0000\n",
      "Avg Obs:                       5.6886   Distribution:                 F(6,20375)\n",
      "Min Obs:                       4.0000                                           \n",
      "Max Obs:                       6.0000   F-statistic (robust):             28.516\n",
      "                                        P-value                           0.0000\n",
      "Time periods:                       6   Distribution:                 F(6,20375)\n",
      "Avg Obs:                       4122.3                                           \n",
      "Min Obs:                       3671.0                                           \n",
      "Max Obs:                       4348.0                                           \n",
      "                                                                                \n",
      "                             Parameter Estimates                              \n",
      "==============================================================================\n",
      "            Parameter  Std. Err.     T-stat    P-value    Lower CI    Upper CI\n",
      "------------------------------------------------------------------------------\n",
      "virtualper     6.0139     1.9723     3.0492     0.0023      2.1481      9.8798\n",
      "hybridper      14.115     1.8487     7.6354     0.0000      10.492      17.739\n",
      "black         -0.3924     0.0559    -7.0252     0.0000     -0.5019     -0.2829\n",
      "hispanic      -0.2150     0.0463    -4.6412     0.0000     -0.3058     -0.1242\n",
      "lowincome     -0.0463     0.0280    -1.6522     0.0985     -0.1011      0.0086\n",
      "white         -0.0136     0.0442    -0.3078     0.7582     -0.1003      0.0731\n",
      "==============================================================================\n",
      "\n",
      "F-test for Poolability: 25.179\n",
      "P-value: 0.0000\n",
      "Distribution: F(4352,20375)\n",
      "\n",
      "Included effects: Entity, Time\n"
     ]
    }
   ],
   "source": [
    "MATH_NOINT_PER = results[1]\n",
    "print_summarized_results(MATH_NOINT_PER)"
   ]
  },
  {
   "cell_type": "markdown",
   "id": "cbd7eed7",
   "metadata": {},
   "source": [
    "#### ELA"
   ]
  },
  {
   "cell_type": "code",
   "execution_count": 7,
   "id": "7d4c57b1",
   "metadata": {},
   "outputs": [],
   "source": [
    "results = run_preliminary_regression('elapass', 'totaltested')"
   ]
  },
  {
   "cell_type": "code",
   "execution_count": 8,
   "id": "b42dabaf",
   "metadata": {},
   "outputs": [
    {
     "name": "stdout",
     "output_type": "stream",
     "text": [
      "                          PanelOLS Estimation Summary                           \n",
      "================================================================================\n",
      "Dep. Variable:                elapass   R-squared:                        0.0562\n",
      "Estimator:                   PanelOLS   R-squared (Between):             -0.7668\n",
      "No. Observations:               18554   R-squared (Within):               0.0106\n",
      "Date:                Fri, Sep 22 2023   R-squared (Overall):             -0.7581\n",
      "Time:                        17:26:44   Log-likelihood                -5.778e+04\n",
      "Cov. Estimator:             Clustered                                           \n",
      "                                        F-statistic:                      181.18\n",
      "Entities:                        3318   P-value                           0.0000\n",
      "Avg Obs:                       5.5919   Distribution:                 F(5,15226)\n",
      "Min Obs:                       4.0000                                           \n",
      "Max Obs:                       6.0000   F-statistic (robust):             15.869\n",
      "                                        P-value                           0.0000\n",
      "Time periods:                       6   Distribution:                 F(5,15226)\n",
      "Avg Obs:                       3092.3                                           \n",
      "Min Obs:                       2641.0                                           \n",
      "Max Obs:                       3318.0                                           \n",
      "                                                                                \n",
      "                             Parameter Estimates                              \n",
      "==============================================================================\n",
      "            Parameter  Std. Err.     T-stat    P-value    Lower CI    Upper CI\n",
      "------------------------------------------------------------------------------\n",
      "schoolmode    -3.2228     0.7770    -4.1477     0.0000     -4.7458     -1.6998\n",
      "black         -0.4647     0.0886    -5.2455     0.0000     -0.6384     -0.2911\n",
      "hispanic      -0.3400     0.0645    -5.2680     0.0000     -0.4665     -0.2135\n",
      "lowincome     -0.0193     0.0170    -1.1371     0.2555     -0.0527      0.0140\n",
      "white          0.1329     0.0403     3.2991     0.0010      0.0540      0.2119\n",
      "==============================================================================\n",
      "\n",
      "F-test for Poolability: 33.107\n",
      "P-value: 0.0000\n",
      "Distribution: F(3322,15226)\n",
      "\n",
      "Included effects: Entity, Time\n"
     ]
    }
   ],
   "source": [
    "ELA_NOINT_NOPER = results[0]\n",
    "print_summarized_results(ELA_NOINT_NOPER)"
   ]
  },
  {
   "cell_type": "code",
   "execution_count": 9,
   "id": "569bc521",
   "metadata": {},
   "outputs": [
    {
     "name": "stdout",
     "output_type": "stream",
     "text": [
      "                          PanelOLS Estimation Summary                           \n",
      "================================================================================\n",
      "Dep. Variable:                elapass   R-squared:                        0.0675\n",
      "Estimator:                   PanelOLS   R-squared (Between):             -0.7819\n",
      "No. Observations:               18554   R-squared (Within):               0.0122\n",
      "Date:                Fri, Sep 22 2023   R-squared (Overall):             -0.7730\n",
      "Time:                        17:26:44   Log-likelihood                -5.767e+04\n",
      "Cov. Estimator:             Clustered                                           \n",
      "                                        F-statistic:                      183.67\n",
      "Entities:                        3318   P-value                           0.0000\n",
      "Avg Obs:                       5.5919   Distribution:                 F(6,15225)\n",
      "Min Obs:                       4.0000                                           \n",
      "Max Obs:                       6.0000   F-statistic (robust):             20.807\n",
      "                                        P-value                           0.0000\n",
      "Time periods:                       6   Distribution:                 F(6,15225)\n",
      "Avg Obs:                       3092.3                                           \n",
      "Min Obs:                       2641.0                                           \n",
      "Max Obs:                       3318.0                                           \n",
      "                                                                                \n",
      "                             Parameter Estimates                              \n",
      "==============================================================================\n",
      "            Parameter  Std. Err.     T-stat    P-value    Lower CI    Upper CI\n",
      "------------------------------------------------------------------------------\n",
      "virtualper    -2.0609     0.7792    -2.6450     0.0082     -3.5882     -0.5337\n",
      "hybridper     -8.1394     1.0233    -7.9538     0.0000     -10.145     -6.1335\n",
      "black         -0.4672     0.0882    -5.2990     0.0000     -0.6400     -0.2944\n",
      "hispanic      -0.3382     0.0640    -5.2835     0.0000     -0.4637     -0.2127\n",
      "lowincome     -0.0193     0.0160    -1.2074     0.2273     -0.0507      0.0120\n",
      "white          0.1211     0.0391     3.0978     0.0020      0.0445      0.1978\n",
      "==============================================================================\n",
      "\n",
      "F-test for Poolability: 32.974\n",
      "P-value: 0.0000\n",
      "Distribution: F(3322,15225)\n",
      "\n",
      "Included effects: Entity, Time\n"
     ]
    }
   ],
   "source": [
    "ELA_NOINT_PER = results[1]\n",
    "print_summarized_results(ELA_NOINT_PER)"
   ]
  },
  {
   "cell_type": "markdown",
   "id": "65bb0642",
   "metadata": {},
   "source": [
    "#### DROPOUT"
   ]
  },
  {
   "cell_type": "code",
   "execution_count": null,
   "id": "d03fe962",
   "metadata": {},
   "outputs": [],
   "source": []
  },
  {
   "cell_type": "markdown",
   "id": "1abbb951",
   "metadata": {},
   "source": [
    "# School FE + State-Year Interaction"
   ]
  },
  {
   "cell_type": "markdown",
   "id": "c41b4ae4",
   "metadata": {},
   "source": [
    "### School FE + State-Year Regression Function"
   ]
  },
  {
   "cell_type": "code",
   "execution_count": 10,
   "id": "581a7248",
   "metadata": {},
   "outputs": [],
   "source": [
    "def run_state_year_regression(outcome_var, weight):\n",
    "    data = pd.read_csv(f'../final_data_all_state/final_data_all_state_{outcome_var}.csv').iloc[:, 1:]\n",
    "    data['state_year'] = data['state'] + data['year'].astype('str')\n",
    "\n",
    "    effect = 'state_year'\n",
    "    outcome_var = outcome_var\n",
    "    exog_vars = ['schoolmode', 'black', 'hispanic', 'lowincome', 'white']\n",
    "\n",
    "    absorb = data[['schoolcode', 'year', effect]].astype('category')\n",
    "    model = AbsorbingLS(dependent=data[outcome_var], exog=data[exog_vars], absorb=absorb, weights=data[weight])\n",
    "    panel_results_no_per = model.fit(cov_type='clustered', clusters=data['schoolcode'])\n",
    "    \n",
    "    data = pd.read_csv(f'../final_data_all_state/final_data_all_state_{outcome_var}.csv').iloc[:, 1:]\n",
    "    data['state_year'] = data['state'] + data['year'].astype('str')\n",
    "\n",
    "    effect = 'state_year'\n",
    "    outcome_var = outcome_var\n",
    "    exog_vars = ['virtualper', 'hybridper','black', 'hispanic', 'lowincome', 'white']\n",
    "\n",
    "    absorb = data[['schoolcode', 'year', effect]].astype('category')\n",
    "    model = AbsorbingLS(dependent=data[outcome_var], exog=data[exog_vars], absorb=absorb, weights=data[weight])\n",
    "    panel_results_per = model.fit(cov_type='clustered', clusters=data['schoolcode'])\n",
    "\n",
    "    return [panel_results_no_per, panel_results_per]"
   ]
  },
  {
   "cell_type": "markdown",
   "id": "0ecb265c",
   "metadata": {},
   "source": [
    "#### MATH"
   ]
  },
  {
   "cell_type": "code",
   "execution_count": 11,
   "id": "86095f06",
   "metadata": {},
   "outputs": [],
   "source": [
    "results = run_state_year_regression('mathpass', 'totaltested')"
   ]
  },
  {
   "cell_type": "code",
   "execution_count": 12,
   "id": "b483eb73",
   "metadata": {},
   "outputs": [
    {
     "name": "stdout",
     "output_type": "stream",
     "text": [
      "                         Absorbing LS Estimation Summary                          \n",
      "==================================================================================\n",
      "Dep. Variable:               mathpass   R-squared:                          0.9182\n",
      "Estimator:               Absorbing LS   Adj. R-squared:                     0.9007\n",
      "No. Observations:               24734   F-statistic:                        291.53\n",
      "Date:                Fri, Sep 22 2023   P-value (F-stat):                   0.0000\n",
      "Time:                        17:26:45   Distribution:                      chi2(5)\n",
      "Cov. Estimator:             clustered   R-squared (No Effects):             0.0319\n",
      "                                        Varaibles Absorbed:                 4368.0\n",
      "                             Parameter Estimates                              \n",
      "==============================================================================\n",
      "            Parameter  Std. Err.     T-stat    P-value    Lower CI    Upper CI\n",
      "------------------------------------------------------------------------------\n",
      "schoolmode    -8.9480     0.9053    -9.8838     0.0000     -10.722     -7.1736\n",
      "black         -0.4670     0.0452    -10.336     0.0000     -0.5555     -0.3784\n",
      "hispanic      -0.2719     0.0347    -7.8285     0.0000     -0.3400     -0.2039\n",
      "lowincome     -0.0195     0.0116    -1.6758     0.0938     -0.0422      0.0033\n",
      "white         -0.0053     0.0319    -0.1673     0.8671     -0.0678      0.0571\n",
      "==============================================================================\n"
     ]
    }
   ],
   "source": [
    "MATH_STATEYEAR__NOPER = results[0]\n",
    "print_summarized_results(MATH_STATEYEAR__NOPER)"
   ]
  },
  {
   "cell_type": "code",
   "execution_count": 13,
   "id": "975fff03",
   "metadata": {},
   "outputs": [
    {
     "name": "stdout",
     "output_type": "stream",
     "text": [
      "                         Absorbing LS Estimation Summary                          \n",
      "==================================================================================\n",
      "Dep. Variable:               mathpass   R-squared:                          0.9183\n",
      "Estimator:               Absorbing LS   Adj. R-squared:                     0.9007\n",
      "No. Observations:               24734   F-statistic:                        294.08\n",
      "Date:                Fri, Sep 22 2023   P-value (F-stat):                   0.0000\n",
      "Time:                        17:26:45   Distribution:                      chi2(6)\n",
      "Cov. Estimator:             clustered   R-squared (No Effects):             0.0323\n",
      "                                        Varaibles Absorbed:                 4368.0\n",
      "                             Parameter Estimates                              \n",
      "==============================================================================\n",
      "            Parameter  Std. Err.     T-stat    P-value    Lower CI    Upper CI\n",
      "------------------------------------------------------------------------------\n",
      "virtualper    -9.2024     0.9230    -9.9706     0.0000     -11.011     -7.3935\n",
      "hybridper     -7.2469     1.0761    -6.7344     0.0000     -9.3561     -5.1378\n",
      "black         -0.4671     0.0452    -10.343     0.0000     -0.5557     -0.3786\n",
      "hispanic      -0.2718     0.0347    -7.8295     0.0000     -0.3398     -0.2037\n",
      "lowincome     -0.0191     0.0116    -1.6454     0.0999     -0.0419      0.0037\n",
      "white         -0.0055     0.0318    -0.1741     0.8618     -0.0680      0.0569\n",
      "==============================================================================\n"
     ]
    }
   ],
   "source": [
    "MATH_STATEYEAR__NOPER = results[1]\n",
    "print_summarized_results(MATH_STATEYEAR__NOPER)"
   ]
  },
  {
   "cell_type": "markdown",
   "id": "ef3db7b0",
   "metadata": {},
   "source": [
    "#### ELA"
   ]
  },
  {
   "cell_type": "code",
   "execution_count": 14,
   "id": "84abdb5e",
   "metadata": {},
   "outputs": [],
   "source": [
    "results = run_state_year_regression('elapass', 'totaltested')"
   ]
  },
  {
   "cell_type": "code",
   "execution_count": 15,
   "id": "88b66ecf",
   "metadata": {
    "scrolled": true
   },
   "outputs": [
    {
     "name": "stdout",
     "output_type": "stream",
     "text": [
      "                         Absorbing LS Estimation Summary                          \n",
      "==================================================================================\n",
      "Dep. Variable:                elapass   R-squared:                          0.9393\n",
      "Estimator:               Absorbing LS   Adj. R-squared:                     0.9260\n",
      "No. Observations:               18554   F-statistic:                        177.92\n",
      "Date:                Fri, Sep 22 2023   P-value (F-stat):                   0.0000\n",
      "Time:                        17:26:45   Distribution:                      chi2(5)\n",
      "Cov. Estimator:             clustered   R-squared (No Effects):             0.0556\n",
      "                                        Varaibles Absorbed:                 3338.0\n",
      "                             Parameter Estimates                              \n",
      "==============================================================================\n",
      "            Parameter  Std. Err.     T-stat    P-value    Lower CI    Upper CI\n",
      "------------------------------------------------------------------------------\n",
      "schoolmode    -0.5433     0.4986    -1.0898     0.2758     -1.5205      0.4338\n",
      "black         -0.5422     0.0556    -9.7546     0.0000     -0.6511     -0.4333\n",
      "hispanic      -0.3727     0.0443    -8.4072     0.0000     -0.4596     -0.2858\n",
      "lowincome     -0.0104     0.0079    -1.3272     0.1844     -0.0258      0.0050\n",
      "white          0.0958     0.0297     3.2290     0.0012      0.0377      0.1540\n",
      "==============================================================================\n"
     ]
    }
   ],
   "source": [
    "ELA_STATEYEAR_NOPER = results[0]\n",
    "print_summarized_results(ELA_STATEYEAR_NOPER)"
   ]
  },
  {
   "cell_type": "code",
   "execution_count": 16,
   "id": "a8278efa",
   "metadata": {
    "scrolled": false
   },
   "outputs": [
    {
     "name": "stdout",
     "output_type": "stream",
     "text": [
      "                         Absorbing LS Estimation Summary                          \n",
      "==================================================================================\n",
      "Dep. Variable:                elapass   R-squared:                          0.9393\n",
      "Estimator:               Absorbing LS   Adj. R-squared:                     0.9260\n",
      "No. Observations:               18554   F-statistic:                        180.84\n",
      "Date:                Fri, Sep 22 2023   P-value (F-stat):                   0.0000\n",
      "Time:                        17:26:45   Distribution:                      chi2(6)\n",
      "Cov. Estimator:             clustered   R-squared (No Effects):             0.0559\n",
      "                                        Varaibles Absorbed:                 3338.0\n",
      "                             Parameter Estimates                              \n",
      "==============================================================================\n",
      "            Parameter  Std. Err.     T-stat    P-value    Lower CI    Upper CI\n",
      "------------------------------------------------------------------------------\n",
      "virtualper    -0.3886     0.5036    -0.7717     0.4403     -1.3756      0.5984\n",
      "hybridper      1.3691     0.7925     1.7275     0.0841     -0.1843      2.9224\n",
      "black         -0.5423     0.0556    -9.7539     0.0000     -0.6513     -0.4334\n",
      "hispanic      -0.3730     0.0444    -8.4023     0.0000     -0.4599     -0.2860\n",
      "lowincome     -0.0107     0.0078    -1.3612     0.1735     -0.0261      0.0047\n",
      "white          0.0961     0.0297     3.2349     0.0012      0.0379      0.1543\n",
      "==============================================================================\n"
     ]
    }
   ],
   "source": [
    "ELA_STATEYEAR__PER = results[1]\n",
    "print_summarized_results(ELA_STATEYEAR__PER)"
   ]
  },
  {
   "cell_type": "markdown",
   "id": "4495e473",
   "metadata": {},
   "source": [
    "#### DROPOUT"
   ]
  },
  {
   "cell_type": "code",
   "execution_count": null,
   "id": "9278c0e3",
   "metadata": {},
   "outputs": [],
   "source": []
  },
  {
   "cell_type": "markdown",
   "id": "b982afdc",
   "metadata": {},
   "source": [
    "# School FE + District-Year Interaction"
   ]
  },
  {
   "cell_type": "markdown",
   "id": "2f9d9744",
   "metadata": {},
   "source": [
    "### School FE + District-Year Regression Function"
   ]
  },
  {
   "cell_type": "code",
   "execution_count": 17,
   "id": "497f440c",
   "metadata": {},
   "outputs": [],
   "source": [
    "def run_district_year_regression(outcome_var, weight):\n",
    "    data = pd.read_csv(f'../final_data_all_state/final_data_all_state_{outcome_var}.csv').iloc[:, 1:]\n",
    "    data['district_year'] = data['districtcode'] + data['year'].astype('str')\n",
    "\n",
    "    effect = 'district_year'\n",
    "    outcome_var = outcome_var\n",
    "    exog_vars = ['schoolmode', 'black', 'hispanic', 'lowincome', 'white']\n",
    "\n",
    "    absorb = data[['schoolcode', 'year', effect]].astype('category')\n",
    "    model = AbsorbingLS(dependent=data[outcome_var], exog=data[exog_vars], absorb=absorb, weights=data[weight])\n",
    "    panel_results_no_per = model.fit(cov_type='clustered', clusters=data['schoolcode'])\n",
    "    \n",
    "    data = pd.read_csv(f'../final_data_all_state/final_data_all_state_{outcome_var}.csv').iloc[:, 1:]\n",
    "    data['district_year'] = data['districtcode'] + data['year'].astype('str')\n",
    "\n",
    "    effect = 'district_year'\n",
    "    outcome_var = outcome_var\n",
    "    exog_vars = ['virtualper', 'hybridper','black', 'hispanic', 'lowincome', 'white']\n",
    "\n",
    "    absorb = data[['schoolcode', 'year', effect]].astype('category')\n",
    "    model = AbsorbingLS(dependent=data[outcome_var], exog=data[exog_vars], absorb=absorb, weights=data[weight])\n",
    "    panel_results_per = model.fit(cov_type='clustered', clusters=data['schoolcode'])\n",
    "\n",
    "    return [panel_results_no_per, panel_results_per]"
   ]
  },
  {
   "cell_type": "markdown",
   "id": "d3084a4c",
   "metadata": {},
   "source": [
    "#### MATH"
   ]
  },
  {
   "cell_type": "code",
   "execution_count": 18,
   "id": "ba92a517",
   "metadata": {},
   "outputs": [],
   "source": [
    "results = run_district_year_regression('mathpass', 'totaltested')"
   ]
  },
  {
   "cell_type": "code",
   "execution_count": 19,
   "id": "df3d9ace",
   "metadata": {},
   "outputs": [
    {
     "name": "stdout",
     "output_type": "stream",
     "text": [
      "                         Absorbing LS Estimation Summary                          \n",
      "==================================================================================\n",
      "Dep. Variable:               mathpass   R-squared:                          0.9613\n",
      "Estimator:               Absorbing LS   Adj. R-squared:                     0.9066\n",
      "No. Observations:               24734   F-statistic:                        229.46\n",
      "Date:                Fri, Sep 22 2023   P-value (F-stat):                   0.0000\n",
      "Time:                        17:26:46   Distribution:                      chi2(5)\n",
      "Cov. Estimator:             clustered   R-squared (No Effects):             0.0248\n",
      "                                        Varaibles Absorbed:              1.449e+04\n",
      "                             Parameter Estimates                              \n",
      "==============================================================================\n",
      "            Parameter  Std. Err.     T-stat    P-value    Lower CI    Upper CI\n",
      "------------------------------------------------------------------------------\n",
      "schoolmode     2.7873     1.8619     1.4970     0.1344     -0.8619      6.4366\n",
      "black         -0.4930     0.0459    -10.732     0.0000     -0.5830     -0.4029\n",
      "hispanic      -0.3563     0.0372    -9.5780     0.0000     -0.4292     -0.2834\n",
      "lowincome     -0.0329     0.0181    -1.8166     0.0693     -0.0684      0.0026\n",
      "white         -0.0551     0.0352    -1.5663     0.1173     -0.1241      0.0139\n",
      "==============================================================================\n"
     ]
    }
   ],
   "source": [
    "MATH_DISTRICTYEAR__NOPER = results[0]\n",
    "print_summarized_results(MATH_DISTRICTYEAR__NOPER)"
   ]
  },
  {
   "cell_type": "code",
   "execution_count": 20,
   "id": "8c823498",
   "metadata": {},
   "outputs": [
    {
     "name": "stdout",
     "output_type": "stream",
     "text": [
      "                         Absorbing LS Estimation Summary                          \n",
      "==================================================================================\n",
      "Dep. Variable:               mathpass   R-squared:                          0.9613\n",
      "Estimator:               Absorbing LS   Adj. R-squared:                     0.9066\n",
      "No. Observations:               24734   F-statistic:                        230.33\n",
      "Date:                Fri, Sep 22 2023   P-value (F-stat):                   0.0000\n",
      "Time:                        17:26:46   Distribution:                      chi2(6)\n",
      "Cov. Estimator:             clustered   R-squared (No Effects):             0.0251\n",
      "                                        Varaibles Absorbed:              1.449e+04\n",
      "                             Parameter Estimates                              \n",
      "==============================================================================\n",
      "            Parameter  Std. Err.     T-stat    P-value    Lower CI    Upper CI\n",
      "------------------------------------------------------------------------------\n",
      "virtualper     3.1201     1.8827     1.6572     0.0975     -0.5700      6.8101\n",
      "hybridper      7.2401     4.0795     1.7748     0.0759     -0.7555      15.236\n",
      "black         -0.4925     0.0459    -10.726     0.0000     -0.5825     -0.4025\n",
      "hispanic      -0.3561     0.0372    -9.5726     0.0000     -0.4290     -0.2832\n",
      "lowincome     -0.0327     0.0181    -1.8029     0.0714     -0.0682      0.0028\n",
      "white         -0.0551     0.0352    -1.5646     0.1177     -0.1240      0.0139\n",
      "==============================================================================\n"
     ]
    }
   ],
   "source": [
    "MATH_DISTRICTYEAR__NOPER = results[1]\n",
    "print_summarized_results(MATH_DISTRICTYEAR__NOPER)"
   ]
  },
  {
   "cell_type": "markdown",
   "id": "4d0de5d3",
   "metadata": {},
   "source": [
    "#### ELA"
   ]
  },
  {
   "cell_type": "code",
   "execution_count": 21,
   "id": "e81dd4ec",
   "metadata": {},
   "outputs": [],
   "source": [
    "results = run_district_year_regression('elapass', 'totaltested')"
   ]
  },
  {
   "cell_type": "code",
   "execution_count": 22,
   "id": "08277f79",
   "metadata": {
    "scrolled": true
   },
   "outputs": [
    {
     "name": "stdout",
     "output_type": "stream",
     "text": [
      "                         Absorbing LS Estimation Summary                          \n",
      "==================================================================================\n",
      "Dep. Variable:                elapass   R-squared:                          0.9748\n",
      "Estimator:               Absorbing LS   Adj. R-squared:                     0.9085\n",
      "No. Observations:               18554   F-statistic:                        108.73\n",
      "Date:                Fri, Sep 22 2023   P-value (F-stat):                   0.0000\n",
      "Time:                        17:26:47   Distribution:                      chi2(5)\n",
      "Cov. Estimator:             clustered   R-squared (No Effects):             0.0385\n",
      "                                        Varaibles Absorbed:              1.344e+04\n",
      "                             Parameter Estimates                              \n",
      "==============================================================================\n",
      "            Parameter  Std. Err.     T-stat    P-value    Lower CI    Upper CI\n",
      "------------------------------------------------------------------------------\n",
      "schoolmode     1.5707     1.6474     0.9534     0.3404     -1.6582      4.7996\n",
      "black         -0.3783     0.0615    -6.1500     0.0000     -0.4989     -0.2578\n",
      "hispanic      -0.3105     0.0592    -5.2462     0.0000     -0.4265     -0.1945\n",
      "lowincome     -0.0916     0.0173    -5.2832     0.0000     -0.1255     -0.0576\n",
      "white          0.0471     0.0526     0.8961     0.3702     -0.0560      0.1502\n",
      "==============================================================================\n"
     ]
    }
   ],
   "source": [
    "ELA_DISTRICTYEAR_NOPER = results[0]\n",
    "print_summarized_results(ELA_DISTRICTYEAR_NOPER)"
   ]
  },
  {
   "cell_type": "code",
   "execution_count": 23,
   "id": "0c447e0f",
   "metadata": {
    "scrolled": true
   },
   "outputs": [
    {
     "name": "stdout",
     "output_type": "stream",
     "text": [
      "                         Absorbing LS Estimation Summary                          \n",
      "==================================================================================\n",
      "Dep. Variable:                elapass   R-squared:                          0.9748\n",
      "Estimator:               Absorbing LS   Adj. R-squared:                     0.9086\n",
      "No. Observations:               18554   F-statistic:                        114.25\n",
      "Date:                Fri, Sep 22 2023   P-value (F-stat):                   0.0000\n",
      "Time:                        17:26:47   Distribution:                      chi2(6)\n",
      "Cov. Estimator:             clustered   R-squared (No Effects):             0.0391\n",
      "                                        Varaibles Absorbed:              1.344e+04\n",
      "                             Parameter Estimates                              \n",
      "==============================================================================\n",
      "            Parameter  Std. Err.     T-stat    P-value    Lower CI    Upper CI\n",
      "------------------------------------------------------------------------------\n",
      "virtualper     1.9828     1.6608     1.1939     0.2325     -1.2723      5.2379\n",
      "hybridper      7.0543     3.3602     2.0994     0.0358      0.4686      13.640\n",
      "black         -0.3775     0.0615    -6.1397     0.0000     -0.4980     -0.2570\n",
      "hispanic      -0.3098     0.0591    -5.2380     0.0000     -0.4258     -0.1939\n",
      "lowincome     -0.0913     0.0173    -5.2704     0.0000     -0.1252     -0.0573\n",
      "white          0.0475     0.0526     0.9031     0.3665     -0.0556      0.1505\n",
      "==============================================================================\n"
     ]
    }
   ],
   "source": [
    "ELA_DISTRICTYEAR__PER = results[1]\n",
    "print_summarized_results(ELA_DISTRICTYEAR__PER)"
   ]
  },
  {
   "cell_type": "markdown",
   "id": "5b008311",
   "metadata": {},
   "source": [
    "#### DROPOUT"
   ]
  },
  {
   "cell_type": "markdown",
   "id": "0f73093d",
   "metadata": {},
   "source": [
    "# School FE + County-Year Interaction"
   ]
  },
  {
   "cell_type": "markdown",
   "id": "69d0e480",
   "metadata": {},
   "source": [
    "### School FE + County-Year Regression Function"
   ]
  },
  {
   "cell_type": "code",
   "execution_count": 24,
   "id": "f9c6f544",
   "metadata": {},
   "outputs": [],
   "source": [
    "def run_county_year_regression(outcome_var, weight):\n",
    "    data = pd.read_csv(f'../final_data_all_state/final_data_all_state_{outcome_var}.csv').iloc[:, 1:]\n",
    "    data['county_year'] = data['countycode'] + data['year'].astype('str')\n",
    "\n",
    "    effect = 'county_year'\n",
    "    outcome_var = outcome_var\n",
    "    exog_vars = ['schoolmode', 'black', 'hispanic', 'lowincome', 'white']\n",
    "\n",
    "    absorb = data[['schoolcode', 'year', effect]].astype('category')\n",
    "    model = AbsorbingLS(dependent=data[outcome_var], exog=data[exog_vars], absorb=absorb, weights=data[weight])\n",
    "    panel_results_no_per = model.fit(cov_type='clustered', clusters=data['schoolcode'])\n",
    "    \n",
    "    data = pd.read_csv(f'../final_data_all_state/final_data_all_state_{outcome_var}.csv').iloc[:, 1:]\n",
    "    data['county_year'] = data['countycode'] + data['year'].astype('str')\n",
    "\n",
    "    effect = 'county_year'\n",
    "    outcome_var = outcome_var\n",
    "    exog_vars = ['virtualper', 'hybridper','black', 'hispanic', 'lowincome', 'white']\n",
    "\n",
    "    absorb = data[['schoolcode', 'year', effect]].astype('category')\n",
    "    model = AbsorbingLS(dependent=data[outcome_var], exog=data[exog_vars], absorb=absorb, weights=data[weight])\n",
    "    panel_results_per = model.fit(cov_type='clustered', clusters=data['schoolcode'])\n",
    "\n",
    "    return [panel_results_no_per, panel_results_per]"
   ]
  },
  {
   "cell_type": "markdown",
   "id": "dd0bf476",
   "metadata": {},
   "source": [
    "#### MATH"
   ]
  },
  {
   "cell_type": "code",
   "execution_count": null,
   "id": "604af34b",
   "metadata": {},
   "outputs": [],
   "source": [
    "results = run_county_year_regression('mathpass', 'totaltested')"
   ]
  },
  {
   "cell_type": "code",
   "execution_count": null,
   "id": "35ca0e4c",
   "metadata": {},
   "outputs": [],
   "source": [
    "MATH_COUNTYYEAR__NOPER = results[0]\n",
    "print_summarized_results(MATH_COUNTYYEAR__NOPER)"
   ]
  },
  {
   "cell_type": "code",
   "execution_count": null,
   "id": "016c2dcc",
   "metadata": {},
   "outputs": [],
   "source": [
    "MATH_COUNTYYEAR__NOPER = results[1]\n",
    "print_summarized_results(MATH_COUNTYYEAR__NOPER)"
   ]
  },
  {
   "cell_type": "markdown",
   "id": "ca03826c",
   "metadata": {},
   "source": [
    "#### ELA"
   ]
  },
  {
   "cell_type": "code",
   "execution_count": null,
   "id": "036c4831",
   "metadata": {},
   "outputs": [],
   "source": [
    "results = run_county_year_regression('elapass', 'totaltested')"
   ]
  },
  {
   "cell_type": "code",
   "execution_count": null,
   "id": "2a3d2523",
   "metadata": {
    "scrolled": true
   },
   "outputs": [],
   "source": [
    "ELA_COUNTYYEAR_NOPER = results[0]\n",
    "print_summarized_results(ELA_COUNTYYEAR_NOPER)"
   ]
  },
  {
   "cell_type": "code",
   "execution_count": null,
   "id": "c472b0f5",
   "metadata": {
    "scrolled": false
   },
   "outputs": [],
   "source": [
    "ELA_COUNTYYEAR__PER = results[1]\n",
    "print_summarized_results(ELA_COUNTYYEAR__PER)"
   ]
  },
  {
   "cell_type": "markdown",
   "id": "29e8ada5",
   "metadata": {},
   "source": [
    "#### DROPOUT"
   ]
  },
  {
   "cell_type": "code",
   "execution_count": null,
   "id": "9bb1d44e",
   "metadata": {},
   "outputs": [],
   "source": []
  },
  {
   "cell_type": "markdown",
   "id": "5ecfbc78",
   "metadata": {},
   "source": [
    "# School FE + District-Year Interaction + Race Interactions"
   ]
  },
  {
   "cell_type": "markdown",
   "id": "cbf4cd78",
   "metadata": {},
   "source": [
    "### School FE + District-Year Interaction + Interactions Regression Function"
   ]
  },
  {
   "cell_type": "code",
   "execution_count": null,
   "id": "e7c16e54",
   "metadata": {},
   "outputs": [],
   "source": [
    "def run_district_interaction_year_regression(outcome_var, weight, interaction):\n",
    "    data = pd.read_csv(f'../final_data_all_state/final_data_all_state_{outcome_var}.csv').iloc[:, 1:]\n",
    "    data['district_year'] = data['districtcode'] + data['year'].astype('str')\n",
    "    data[f'{interaction}_int'] = data[interaction] * data['schoolmode']\n",
    "\n",
    "    effect = 'district_year'\n",
    "    outcome_var = outcome_var\n",
    "    exog_vars = ['schoolmode', 'black', 'hispanic', 'lowincome', 'white', f'{interaction}_int']\n",
    "\n",
    "    absorb = data[['schoolcode', 'year', effect]].astype('category')\n",
    "    model = AbsorbingLS(dependent=data[outcome_var], exog=data[exog_vars], absorb=absorb, weights=data[weight])\n",
    "    panel_results_no_per = model.fit(cov_type='clustered', clusters=data['schoolcode'])\n",
    "    \n",
    "    data = pd.read_csv(f'../final_data_all_state/final_data_all_state_{outcome_var}.csv').iloc[:, 1:]\n",
    "    data['district_year'] = data['districtcode'] + data['year'].astype('str')\n",
    "    data[f'{interaction}_virtual_per'] = data[interaction] * data['virtualper']\n",
    "    data[f'{interaction}_hybrid_per'] = data[interaction] * data['hybridper']\n",
    "\n",
    "    effect = 'district_year'\n",
    "    outcome_var = outcome_var\n",
    "    exog_vars = ['virtualper', 'hybridper','black', 'hispanic', 'lowincome', 'white', f'{interaction}_virtual_per', f'{interaction}_hybrid_per']\n",
    "\n",
    "    absorb = data[['schoolcode', 'year', effect]].astype('category')\n",
    "    model = AbsorbingLS(dependent=data[outcome_var], exog=data[exog_vars], absorb=absorb, weights=data[weight])\n",
    "    panel_results_per = model.fit(cov_type='clustered', clusters=data['schoolcode'])\n",
    "\n",
    "    return [panel_results_no_per, panel_results_per]"
   ]
  },
  {
   "cell_type": "markdown",
   "id": "e6146421",
   "metadata": {},
   "source": [
    "#### MATH - BLACK"
   ]
  },
  {
   "cell_type": "code",
   "execution_count": null,
   "id": "d70152e8",
   "metadata": {},
   "outputs": [],
   "source": [
    "results = run_district_interaction_year_regression('mathpass', 'totaltested', 'black')"
   ]
  },
  {
   "cell_type": "code",
   "execution_count": null,
   "id": "e3e6a4e7",
   "metadata": {
    "scrolled": true
   },
   "outputs": [],
   "source": [
    "MATH_DISTRICTYEAR_BLACK_NOPER = results[0]\n",
    "print_summarized_results(MATH_DISTRICTYEAR_BLACK_NOPER)"
   ]
  },
  {
   "cell_type": "code",
   "execution_count": null,
   "id": "1f1d41cf",
   "metadata": {
    "scrolled": true
   },
   "outputs": [],
   "source": [
    "MATH_DISTRICTYEAR_BLACK_PER = results[1]\n",
    "print_summarized_results(MATH_DISTRICTYEAR_BLACK_PER)"
   ]
  },
  {
   "cell_type": "markdown",
   "id": "4ee1d1de",
   "metadata": {},
   "source": [
    "#### ELA - BLACK"
   ]
  },
  {
   "cell_type": "code",
   "execution_count": null,
   "id": "d39320af",
   "metadata": {},
   "outputs": [],
   "source": [
    "results = run_district_interaction_year_regression('elapass', 'totaltested', 'black')"
   ]
  },
  {
   "cell_type": "code",
   "execution_count": null,
   "id": "59d97c08",
   "metadata": {},
   "outputs": [],
   "source": [
    "ELA_DISTRICTYEAR_BLACK_NOPER = results[0]\n",
    "print_summarized_results(ELA_DISTRICTYEAR_BLACK_NOPER)"
   ]
  },
  {
   "cell_type": "code",
   "execution_count": null,
   "id": "c36120e4",
   "metadata": {},
   "outputs": [],
   "source": [
    "ELA_DISTRICTYEAR_BLACK_PER = results[1]\n",
    "print_summarized_results(ELA_DISTRICTYEAR_BLACK_PER)"
   ]
  },
  {
   "cell_type": "markdown",
   "id": "81c332e5",
   "metadata": {},
   "source": [
    "#### DROPOUT - BLACK"
   ]
  },
  {
   "cell_type": "code",
   "execution_count": null,
   "id": "fa2e8562",
   "metadata": {},
   "outputs": [],
   "source": []
  },
  {
   "cell_type": "markdown",
   "id": "a3f217d8",
   "metadata": {},
   "source": [
    "#### ELA - HISPANIC"
   ]
  },
  {
   "cell_type": "code",
   "execution_count": null,
   "id": "222b6135",
   "metadata": {},
   "outputs": [],
   "source": [
    "results = run_district_interaction_year_regression('elapass', 'totaltested', 'hispanic')"
   ]
  },
  {
   "cell_type": "code",
   "execution_count": null,
   "id": "510c7539",
   "metadata": {},
   "outputs": [],
   "source": [
    "ELA_DISTRICTYEAR_HISPANIC_NOPER = results[0]\n",
    "print_summarized_results(ELA_DISTRICTYEAR_HISPANIC_NOPER)"
   ]
  },
  {
   "cell_type": "code",
   "execution_count": null,
   "id": "4a8dc5d0",
   "metadata": {
    "scrolled": true
   },
   "outputs": [],
   "source": [
    "ELA_DISTRICTYEAR_HISPANIC_PER = results[1]\n",
    "print_summarized_results(ELA_DISTRICTYEAR_HISPANIC_PER)"
   ]
  },
  {
   "cell_type": "markdown",
   "id": "ee96f6d9",
   "metadata": {},
   "source": [
    "#### DROPOUT - BLACK"
   ]
  },
  {
   "cell_type": "code",
   "execution_count": null,
   "id": "0f7eadc7",
   "metadata": {},
   "outputs": [],
   "source": []
  },
  {
   "cell_type": "markdown",
   "id": "67df0a6c",
   "metadata": {},
   "source": [
    "# School FE + District-Year Interaction + Other Interactions"
   ]
  },
  {
   "cell_type": "markdown",
   "id": "90e6236d",
   "metadata": {},
   "source": [
    "### School FE + District-Year Interaction + Income Interactions Regression Function"
   ]
  },
  {
   "cell_type": "markdown",
   "id": "bef8efd4",
   "metadata": {},
   "source": [
    "#### MATH - LOWINCOME"
   ]
  },
  {
   "cell_type": "code",
   "execution_count": null,
   "id": "b7d61511",
   "metadata": {},
   "outputs": [],
   "source": [
    "results = run_district_interaction_year_regression('mathpass', 'totaltested', 'lowincome')"
   ]
  },
  {
   "cell_type": "code",
   "execution_count": null,
   "id": "8ffa6350",
   "metadata": {
    "scrolled": true
   },
   "outputs": [],
   "source": [
    "MATH_DISTRICTYEAR_LOWINCOME_NOPER = results[0]\n",
    "print_summarized_results(MATH_DISTRICTYEAR_LOWINCOME_NOPER)"
   ]
  },
  {
   "cell_type": "code",
   "execution_count": null,
   "id": "a72c393e",
   "metadata": {
    "scrolled": false
   },
   "outputs": [],
   "source": [
    "MATH_DISTRICTYEAR_LOWINCOME_PER = results[1]\n",
    "print_summarized_results(MATH_DISTRICTYEAR_LOWINCOME_PER)"
   ]
  },
  {
   "cell_type": "markdown",
   "id": "cf591510",
   "metadata": {},
   "source": [
    "#### ELA - LOWINCOME"
   ]
  },
  {
   "cell_type": "code",
   "execution_count": null,
   "id": "59373281",
   "metadata": {},
   "outputs": [],
   "source": [
    "results = run_district_interaction_year_regression('elapass', 'totaltested', 'lowincome')"
   ]
  },
  {
   "cell_type": "code",
   "execution_count": null,
   "id": "fe990884",
   "metadata": {},
   "outputs": [],
   "source": [
    "ELA_DISTRICTYEAR_LOWINCOME_NOPER = results[0]\n",
    "print_summarized_results(ELA_DISTRICTYEAR_LOWINCOME_NOPER)"
   ]
  },
  {
   "cell_type": "code",
   "execution_count": null,
   "id": "cd880059",
   "metadata": {
    "scrolled": true
   },
   "outputs": [],
   "source": [
    "ELA_DISTRICTYEAR_LOWINCOME_PER = results[1]\n",
    "print_summarized_results(ELA_DISTRICTYEAR_LOWINCOME_PER)"
   ]
  },
  {
   "cell_type": "markdown",
   "id": "2991bf4a",
   "metadata": {},
   "source": [
    "#### DROPOUT - LOWINCOME"
   ]
  },
  {
   "cell_type": "code",
   "execution_count": null,
   "id": "276b4c67",
   "metadata": {},
   "outputs": [],
   "source": []
  },
  {
   "cell_type": "markdown",
   "id": "954af0e1",
   "metadata": {},
   "source": [
    "#### MATH - CHARTER"
   ]
  },
  {
   "cell_type": "code",
   "execution_count": null,
   "id": "e3746e8c",
   "metadata": {},
   "outputs": [],
   "source": [
    "results = run_district_interaction_year_regression('mathpass', 'totaltested', 'charter')"
   ]
  },
  {
   "cell_type": "code",
   "execution_count": null,
   "id": "43ae93e2",
   "metadata": {
    "scrolled": true
   },
   "outputs": [],
   "source": [
    "MATH_DISTRICTYEAR_CHARTER_NOPER = results[0]\n",
    "print_summarized_results(MATH_DISTRICTYEAR_CHARTER_NOPER)"
   ]
  },
  {
   "cell_type": "code",
   "execution_count": null,
   "id": "e68e679a",
   "metadata": {
    "scrolled": false
   },
   "outputs": [],
   "source": [
    "MATH_DISTRICTYEAR_CHARTER_PER = results[1]\n",
    "print_summarized_results(MATH_DISTRICTYEAR_CHARTER_PER)"
   ]
  },
  {
   "cell_type": "markdown",
   "id": "ef4d70ed",
   "metadata": {},
   "source": [
    "#### ELA - CHARTER"
   ]
  },
  {
   "cell_type": "code",
   "execution_count": null,
   "id": "42ba5e5b",
   "metadata": {},
   "outputs": [],
   "source": [
    "results = run_district_interaction_year_regression('elapass', 'totaltested', 'charter')"
   ]
  },
  {
   "cell_type": "code",
   "execution_count": null,
   "id": "fc75d37f",
   "metadata": {},
   "outputs": [],
   "source": [
    "ELA_DISTRICTYEAR_CHARTER_NOPER = results[0]\n",
    "print_summarized_results(ELA_DISTRICTYEAR_CHARTER_NOPER)"
   ]
  },
  {
   "cell_type": "code",
   "execution_count": null,
   "id": "caf3c70d",
   "metadata": {
    "scrolled": true
   },
   "outputs": [],
   "source": [
    "ELA_DISTRICTYEAR_CHARTER_PER = results[1]\n",
    "print_summarized_results(ELA_DISTRICTYEAR_CHARTER_PER)"
   ]
  },
  {
   "cell_type": "markdown",
   "id": "a41a10ee",
   "metadata": {},
   "source": [
    "#### DROPOUT - CHARTER"
   ]
  },
  {
   "cell_type": "code",
   "execution_count": null,
   "id": "29377435",
   "metadata": {},
   "outputs": [],
   "source": []
  }
 ],
 "metadata": {
  "kernelspec": {
   "display_name": "Python 3 (ipykernel)",
   "language": "python",
   "name": "python3"
  },
  "language_info": {
   "codemirror_mode": {
    "name": "ipython",
    "version": 3
   },
   "file_extension": ".py",
   "mimetype": "text/x-python",
   "name": "python",
   "nbconvert_exporter": "python",
   "pygments_lexer": "ipython3",
   "version": "3.9.13"
  }
 },
 "nbformat": 4,
 "nbformat_minor": 5
}
