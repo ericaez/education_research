{
 "cells": [
  {
   "cell_type": "code",
   "execution_count": 16,
   "id": "1d86f585",
   "metadata": {},
   "outputs": [],
   "source": [
    "import pandas as pd\n",
    "from python_wls_functions import *\n",
    "import io"
   ]
  },
  {
   "cell_type": "markdown",
   "id": "59d3653d",
   "metadata": {},
   "source": [
    "# School FE"
   ]
  },
  {
   "cell_type": "markdown",
   "id": "ed3dab1b",
   "metadata": {},
   "source": [
    "#### MATH"
   ]
  },
  {
   "cell_type": "code",
   "execution_count": 17,
   "id": "ec7e0a96",
   "metadata": {},
   "outputs": [],
   "source": [
    "results = run_generalized_regression_function(\"mathpass\", \"totaltested\", None, None)"
   ]
  },
  {
   "cell_type": "code",
   "execution_count": 18,
   "id": "4fe08046",
   "metadata": {},
   "outputs": [
    {
     "name": "stdout",
     "output_type": "stream",
     "text": [
      "                         Absorbing LS Estimation Summary                          \n",
      "==================================================================================\n",
      "Dep. Variable:               mathpass   R-squared:                          0.8985\n",
      "Estimator:               Absorbing LS   Adj. R-squared:                     0.8767\n",
      "No. Observations:               24734   F-statistic:                        285.31\n",
      "Date:                Wed, Sep 27 2023   P-value (F-stat):                   0.0000\n",
      "Time:                        17:22:38   Distribution:                      chi2(5)\n",
      "Cov. Estimator:             clustered   R-squared (No Effects):             0.0323\n",
      "                                        Varaibles Absorbed:                 4353.0\n",
      "                             Parameter Estimates                              \n",
      "==============================================================================\n",
      "            Parameter  Std. Err.     T-stat    P-value    Lower CI    Upper CI\n",
      "------------------------------------------------------------------------------\n",
      "schoolmode     7.9379     0.7111     11.163     0.0000      6.5442      9.3316\n",
      "black         -0.4080     0.0471    -8.6563     0.0000     -0.5004     -0.3156\n",
      "hispanic      -0.2226     0.0355    -6.2689     0.0000     -0.2922     -0.1530\n",
      "lowincome     -0.0468     0.0128    -3.6601     0.0003     -0.0718     -0.0217\n",
      "white         -0.0298     0.0325    -0.9175     0.3589     -0.0935      0.0339\n",
      "==============================================================================\n"
     ]
    }
   ],
   "source": [
    "MATH_NOINT_NOPER = results[0]\n",
    "print_summarized_results(MATH_NOINT_NOPER)"
   ]
  },
  {
   "cell_type": "code",
   "execution_count": 19,
   "id": "bc18ac05",
   "metadata": {},
   "outputs": [
    {
     "name": "stdout",
     "output_type": "stream",
     "text": [
      "                         Absorbing LS Estimation Summary                          \n",
      "==================================================================================\n",
      "Dep. Variable:               mathpass   R-squared:                          0.8998\n",
      "Estimator:               Absorbing LS   Adj. R-squared:                     0.8784\n",
      "No. Observations:               24734   F-statistic:                        569.39\n",
      "Date:                Wed, Sep 27 2023   P-value (F-stat):                   0.0000\n",
      "Time:                        17:22:38   Distribution:                      chi2(6)\n",
      "Cov. Estimator:             clustered   R-squared (No Effects):             0.0453\n",
      "                                        Varaibles Absorbed:                 4353.0\n",
      "                             Parameter Estimates                              \n",
      "==============================================================================\n",
      "            Parameter  Std. Err.     T-stat    P-value    Lower CI    Upper CI\n",
      "------------------------------------------------------------------------------\n",
      "virtualper     6.0139     0.7611     7.9012     0.0000      4.5221      7.5058\n",
      "hybridper      14.115     0.7905     17.857     0.0000      12.566      15.664\n",
      "black         -0.3924     0.0470    -8.3539     0.0000     -0.4845     -0.3003\n",
      "hispanic      -0.2150     0.0353    -6.0976     0.0000     -0.2841     -0.1459\n",
      "lowincome     -0.0463     0.0126    -3.6724     0.0002     -0.0709     -0.0216\n",
      "white         -0.0136     0.0324    -0.4198     0.6746     -0.0772      0.0499\n",
      "==============================================================================\n"
     ]
    }
   ],
   "source": [
    "MATH_NOINT_PER = results[1]\n",
    "print_summarized_results(MATH_NOINT_PER)"
   ]
  },
  {
   "cell_type": "markdown",
   "id": "cbd7eed7",
   "metadata": {},
   "source": [
    "#### ELA"
   ]
  },
  {
   "cell_type": "code",
   "execution_count": 20,
   "id": "7d4c57b1",
   "metadata": {},
   "outputs": [],
   "source": [
    "results = run_generalized_regression_function('elapass', 'totaltested', None, None)"
   ]
  },
  {
   "cell_type": "code",
   "execution_count": 21,
   "id": "b42dabaf",
   "metadata": {},
   "outputs": [
    {
     "name": "stdout",
     "output_type": "stream",
     "text": [
      "                         Absorbing LS Estimation Summary                          \n",
      "==================================================================================\n",
      "Dep. Variable:                elapass   R-squared:                          0.9330\n",
      "Estimator:               Absorbing LS   Adj. R-squared:                     0.9184\n",
      "No. Observations:               18554   F-statistic:                        223.59\n",
      "Date:                Wed, Sep 27 2023   P-value (F-stat):                   0.0000\n",
      "Time:                        17:22:39   Distribution:                      chi2(5)\n",
      "Cov. Estimator:             clustered   R-squared (No Effects):             0.0562\n",
      "                                        Varaibles Absorbed:                 3323.0\n",
      "                             Parameter Estimates                              \n",
      "==============================================================================\n",
      "            Parameter  Std. Err.     T-stat    P-value    Lower CI    Upper CI\n",
      "------------------------------------------------------------------------------\n",
      "schoolmode    -3.2228     0.3923    -8.2151     0.0000     -3.9917     -2.4539\n",
      "black         -0.4647     0.0562    -8.2653     0.0000     -0.5749     -0.3545\n",
      "hispanic      -0.3400     0.0447    -7.6130     0.0000     -0.4276     -0.2525\n",
      "lowincome     -0.0193     0.0093    -2.0867     0.0369     -0.0375     -0.0012\n",
      "white          0.1329     0.0320     4.1546     0.0000      0.0702      0.1957\n",
      "==============================================================================\n"
     ]
    }
   ],
   "source": [
    "ELA_NOINT_NOPER = results[0]\n",
    "print_summarized_results(ELA_NOINT_NOPER)"
   ]
  },
  {
   "cell_type": "code",
   "execution_count": 22,
   "id": "569bc521",
   "metadata": {
    "scrolled": true
   },
   "outputs": [
    {
     "name": "stdout",
     "output_type": "stream",
     "text": [
      "                         Absorbing LS Estimation Summary                          \n",
      "==================================================================================\n",
      "Dep. Variable:                elapass   R-squared:                          0.9338\n",
      "Estimator:               Absorbing LS   Adj. R-squared:                     0.9193\n",
      "No. Observations:               18554   F-statistic:                        365.32\n",
      "Date:                Wed, Sep 27 2023   P-value (F-stat):                   0.0000\n",
      "Time:                        17:22:39   Distribution:                      chi2(6)\n",
      "Cov. Estimator:             clustered   R-squared (No Effects):             0.0675\n",
      "                                        Varaibles Absorbed:                 3323.0\n",
      "                             Parameter Estimates                              \n",
      "==============================================================================\n",
      "            Parameter  Std. Err.     T-stat    P-value    Lower CI    Upper CI\n",
      "------------------------------------------------------------------------------\n",
      "virtualper    -2.0609     0.3979    -5.1790     0.0000     -2.8409     -1.2810\n",
      "hybridper     -8.1394     0.5942    -13.698     0.0000     -9.3040     -6.9748\n",
      "black         -0.4672     0.0558    -8.3708     0.0000     -0.5766     -0.3578\n",
      "hispanic      -0.3382     0.0442    -7.6562     0.0000     -0.4248     -0.2516\n",
      "lowincome     -0.0193     0.0089    -2.1720     0.0299     -0.0368     -0.0019\n",
      "white          0.1211     0.0311     3.8924     0.0001      0.0601      0.1821\n",
      "==============================================================================\n"
     ]
    }
   ],
   "source": [
    "ELA_NOINT_PER = results[1]\n",
    "print_summarized_results(ELA_NOINT_PER)"
   ]
  },
  {
   "cell_type": "markdown",
   "id": "65bb0642",
   "metadata": {},
   "source": [
    "#### DROPOUT"
   ]
  },
  {
   "cell_type": "code",
   "execution_count": 23,
   "id": "d03fe962",
   "metadata": {},
   "outputs": [],
   "source": [
    "results = run_generalized_regression_function('dropout', 'totalenrolled', None, None)"
   ]
  },
  {
   "cell_type": "code",
   "execution_count": 24,
   "id": "24980125",
   "metadata": {},
   "outputs": [
    {
     "name": "stdout",
     "output_type": "stream",
     "text": [
      "                         Absorbing LS Estimation Summary                          \n",
      "==================================================================================\n",
      "Dep. Variable:                dropout   R-squared:                          0.8960\n",
      "Estimator:               Absorbing LS   Adj. R-squared:                     0.8612\n",
      "No. Observations:               15568   F-statistic:                        28.382\n",
      "Date:                Wed, Sep 27 2023   P-value (F-stat):                   0.0000\n",
      "Time:                        17:22:39   Distribution:                      chi2(5)\n",
      "Cov. Estimator:             clustered   R-squared (No Effects):             0.0057\n",
      "                                        Varaibles Absorbed:                 3895.0\n",
      "                             Parameter Estimates                              \n",
      "==============================================================================\n",
      "            Parameter  Std. Err.     T-stat    P-value    Lower CI    Upper CI\n",
      "------------------------------------------------------------------------------\n",
      "schoolmode    -0.2552     0.2381    -1.0717     0.2839     -0.7218      0.2115\n",
      "black          0.1066     0.0354     3.0127     0.0026      0.0373      0.1760\n",
      "hispanic      -0.0291     0.0209    -1.3913     0.1641     -0.0702      0.0119\n",
      "lowincome      0.0062     0.0141     0.4370     0.6621     -0.0215      0.0339\n",
      "white         -0.0297     0.0154    -1.9243     0.0543     -0.0599      0.0006\n",
      "==============================================================================\n"
     ]
    }
   ],
   "source": [
    "DROPOUT_NOINT_NOPER = results[0]\n",
    "print_summarized_results(DROPOUT_NOINT_NOPER)"
   ]
  },
  {
   "cell_type": "code",
   "execution_count": 25,
   "id": "b59f7c97",
   "metadata": {
    "scrolled": true
   },
   "outputs": [
    {
     "name": "stdout",
     "output_type": "stream",
     "text": [
      "                         Absorbing LS Estimation Summary                          \n",
      "==================================================================================\n",
      "Dep. Variable:                dropout   R-squared:                          0.8964\n",
      "Estimator:               Absorbing LS   Adj. R-squared:                     0.8617\n",
      "No. Observations:               15568   F-statistic:                        84.436\n",
      "Date:                Wed, Sep 27 2023   P-value (F-stat):                   0.0000\n",
      "Time:                        17:22:39   Distribution:                      chi2(6)\n",
      "Cov. Estimator:             clustered   R-squared (No Effects):             0.0096\n",
      "                                        Varaibles Absorbed:                 3895.0\n",
      "                             Parameter Estimates                              \n",
      "==============================================================================\n",
      "            Parameter  Std. Err.     T-stat    P-value    Lower CI    Upper CI\n",
      "------------------------------------------------------------------------------\n",
      "virtualper    -0.5900     0.2040    -2.8924     0.0038     -0.9897     -0.1902\n",
      "hybridper     -1.4248     0.1952    -7.2988     0.0000     -1.8074     -1.0422\n",
      "black          0.1002     0.0352     2.8458     0.0044      0.0312      0.1691\n",
      "hispanic      -0.0269     0.0208    -1.2916     0.1965     -0.0677      0.0139\n",
      "lowincome      0.0064     0.0140     0.4575     0.6473     -0.0210      0.0337\n",
      "white         -0.0324     0.0154    -2.1071     0.0351     -0.0626     -0.0023\n",
      "==============================================================================\n"
     ]
    }
   ],
   "source": [
    "DROPOUT_NOINT_PER = results[1]\n",
    "print_summarized_results(DROPOUT_NOINT_PER)"
   ]
  },
  {
   "cell_type": "markdown",
   "id": "1abbb951",
   "metadata": {},
   "source": [
    "# School FE + State-Year Interaction"
   ]
  },
  {
   "cell_type": "markdown",
   "id": "c41b4ae4",
   "metadata": {},
   "source": [
    "### School FE + State-Year Regression Function"
   ]
  },
  {
   "cell_type": "markdown",
   "id": "0ecb265c",
   "metadata": {},
   "source": [
    "#### MATH"
   ]
  },
  {
   "cell_type": "code",
   "execution_count": 26,
   "id": "86095f06",
   "metadata": {},
   "outputs": [],
   "source": [
    "results = run_generalized_regression_function('mathpass', 'totaltested', 'state', None)"
   ]
  },
  {
   "cell_type": "code",
   "execution_count": 27,
   "id": "b483eb73",
   "metadata": {},
   "outputs": [
    {
     "name": "stdout",
     "output_type": "stream",
     "text": [
      "                         Absorbing LS Estimation Summary                          \n",
      "==================================================================================\n",
      "Dep. Variable:               mathpass   R-squared:                          0.9182\n",
      "Estimator:               Absorbing LS   Adj. R-squared:                     0.9007\n",
      "No. Observations:               24734   F-statistic:                        291.53\n",
      "Date:                Wed, Sep 27 2023   P-value (F-stat):                   0.0000\n",
      "Time:                        17:22:39   Distribution:                      chi2(5)\n",
      "Cov. Estimator:             clustered   R-squared (No Effects):             0.0319\n",
      "                                        Varaibles Absorbed:                 4368.0\n",
      "                             Parameter Estimates                              \n",
      "==============================================================================\n",
      "            Parameter  Std. Err.     T-stat    P-value    Lower CI    Upper CI\n",
      "------------------------------------------------------------------------------\n",
      "schoolmode    -8.9480     0.9053    -9.8838     0.0000     -10.722     -7.1736\n",
      "black         -0.4670     0.0452    -10.336     0.0000     -0.5555     -0.3784\n",
      "hispanic      -0.2719     0.0347    -7.8285     0.0000     -0.3400     -0.2039\n",
      "lowincome     -0.0195     0.0116    -1.6758     0.0938     -0.0422      0.0033\n",
      "white         -0.0053     0.0319    -0.1673     0.8671     -0.0678      0.0571\n",
      "==============================================================================\n"
     ]
    }
   ],
   "source": [
    "MATH_STATEYEAR_NOPER = results[0]\n",
    "print_summarized_results(MATH_STATEYEAR_NOPER)"
   ]
  },
  {
   "cell_type": "code",
   "execution_count": 28,
   "id": "975fff03",
   "metadata": {},
   "outputs": [
    {
     "name": "stdout",
     "output_type": "stream",
     "text": [
      "                         Absorbing LS Estimation Summary                          \n",
      "==================================================================================\n",
      "Dep. Variable:               mathpass   R-squared:                          0.9183\n",
      "Estimator:               Absorbing LS   Adj. R-squared:                     0.9007\n",
      "No. Observations:               24734   F-statistic:                        294.08\n",
      "Date:                Wed, Sep 27 2023   P-value (F-stat):                   0.0000\n",
      "Time:                        17:22:39   Distribution:                      chi2(6)\n",
      "Cov. Estimator:             clustered   R-squared (No Effects):             0.0323\n",
      "                                        Varaibles Absorbed:                 4368.0\n",
      "                             Parameter Estimates                              \n",
      "==============================================================================\n",
      "            Parameter  Std. Err.     T-stat    P-value    Lower CI    Upper CI\n",
      "------------------------------------------------------------------------------\n",
      "virtualper    -9.2024     0.9230    -9.9706     0.0000     -11.011     -7.3935\n",
      "hybridper     -7.2469     1.0761    -6.7344     0.0000     -9.3561     -5.1378\n",
      "black         -0.4671     0.0452    -10.343     0.0000     -0.5557     -0.3786\n",
      "hispanic      -0.2718     0.0347    -7.8295     0.0000     -0.3398     -0.2037\n",
      "lowincome     -0.0191     0.0116    -1.6454     0.0999     -0.0419      0.0037\n",
      "white         -0.0055     0.0318    -0.1741     0.8618     -0.0680      0.0569\n",
      "==============================================================================\n"
     ]
    }
   ],
   "source": [
    "MATH_STATEYEAR_PER = results[1]\n",
    "print_summarized_results(MATH_STATEYEAR_PER)"
   ]
  },
  {
   "cell_type": "markdown",
   "id": "ef3db7b0",
   "metadata": {},
   "source": [
    "#### ELA"
   ]
  },
  {
   "cell_type": "code",
   "execution_count": 29,
   "id": "84abdb5e",
   "metadata": {},
   "outputs": [],
   "source": [
    "results = run_generalized_regression_function(\"elapass\", \"totaltested\", \"state\", None)"
   ]
  },
  {
   "cell_type": "code",
   "execution_count": 30,
   "id": "88b66ecf",
   "metadata": {
    "scrolled": true
   },
   "outputs": [
    {
     "name": "stdout",
     "output_type": "stream",
     "text": [
      "                         Absorbing LS Estimation Summary                          \n",
      "==================================================================================\n",
      "Dep. Variable:                elapass   R-squared:                          0.9393\n",
      "Estimator:               Absorbing LS   Adj. R-squared:                     0.9260\n",
      "No. Observations:               18554   F-statistic:                        177.92\n",
      "Date:                Wed, Sep 27 2023   P-value (F-stat):                   0.0000\n",
      "Time:                        17:22:40   Distribution:                      chi2(5)\n",
      "Cov. Estimator:             clustered   R-squared (No Effects):             0.0556\n",
      "                                        Varaibles Absorbed:                 3338.0\n",
      "                             Parameter Estimates                              \n",
      "==============================================================================\n",
      "            Parameter  Std. Err.     T-stat    P-value    Lower CI    Upper CI\n",
      "------------------------------------------------------------------------------\n",
      "schoolmode    -0.5433     0.4986    -1.0898     0.2758     -1.5205      0.4338\n",
      "black         -0.5422     0.0556    -9.7546     0.0000     -0.6511     -0.4333\n",
      "hispanic      -0.3727     0.0443    -8.4072     0.0000     -0.4596     -0.2858\n",
      "lowincome     -0.0104     0.0079    -1.3272     0.1844     -0.0258      0.0050\n",
      "white          0.0958     0.0297     3.2290     0.0012      0.0377      0.1540\n",
      "==============================================================================\n"
     ]
    }
   ],
   "source": [
    "ELA_STATEYEAR_NOPER = results[0]\n",
    "print_summarized_results(ELA_STATEYEAR_NOPER)"
   ]
  },
  {
   "cell_type": "code",
   "execution_count": 31,
   "id": "a8278efa",
   "metadata": {
    "scrolled": false
   },
   "outputs": [
    {
     "name": "stdout",
     "output_type": "stream",
     "text": [
      "                         Absorbing LS Estimation Summary                          \n",
      "==================================================================================\n",
      "Dep. Variable:                elapass   R-squared:                          0.9393\n",
      "Estimator:               Absorbing LS   Adj. R-squared:                     0.9260\n",
      "No. Observations:               18554   F-statistic:                        180.84\n",
      "Date:                Wed, Sep 27 2023   P-value (F-stat):                   0.0000\n",
      "Time:                        17:22:40   Distribution:                      chi2(6)\n",
      "Cov. Estimator:             clustered   R-squared (No Effects):             0.0559\n",
      "                                        Varaibles Absorbed:                 3338.0\n",
      "                             Parameter Estimates                              \n",
      "==============================================================================\n",
      "            Parameter  Std. Err.     T-stat    P-value    Lower CI    Upper CI\n",
      "------------------------------------------------------------------------------\n",
      "virtualper    -0.3886     0.5036    -0.7717     0.4403     -1.3756      0.5984\n",
      "hybridper      1.3691     0.7925     1.7275     0.0841     -0.1843      2.9224\n",
      "black         -0.5423     0.0556    -9.7539     0.0000     -0.6513     -0.4334\n",
      "hispanic      -0.3730     0.0444    -8.4023     0.0000     -0.4599     -0.2860\n",
      "lowincome     -0.0107     0.0078    -1.3612     0.1735     -0.0261      0.0047\n",
      "white          0.0961     0.0297     3.2349     0.0012      0.0379      0.1543\n",
      "==============================================================================\n"
     ]
    }
   ],
   "source": [
    "ELA_STATEYEAR_PER = results[1]\n",
    "print_summarized_results(ELA_STATEYEAR_PER)"
   ]
  },
  {
   "cell_type": "markdown",
   "id": "4495e473",
   "metadata": {},
   "source": [
    "#### DROPOUT"
   ]
  },
  {
   "cell_type": "code",
   "execution_count": 32,
   "id": "9278c0e3",
   "metadata": {},
   "outputs": [],
   "source": [
    "results = run_generalized_regression_function('dropout', 'totalenrolled', \"state\", None)"
   ]
  },
  {
   "cell_type": "code",
   "execution_count": 33,
   "id": "42bec451",
   "metadata": {},
   "outputs": [
    {
     "name": "stdout",
     "output_type": "stream",
     "text": [
      "                         Absorbing LS Estimation Summary                          \n",
      "==================================================================================\n",
      "Dep. Variable:                dropout   R-squared:                          0.9025\n",
      "Estimator:               Absorbing LS   Adj. R-squared:                     0.8697\n",
      "No. Observations:               15568   F-statistic:                        107.39\n",
      "Date:                Wed, Sep 27 2023   P-value (F-stat):                   0.0000\n",
      "Time:                        17:22:41   Distribution:                      chi2(5)\n",
      "Cov. Estimator:             clustered   R-squared (No Effects):             0.0101\n",
      "                                        Varaibles Absorbed:                 3910.0\n",
      "                             Parameter Estimates                              \n",
      "==============================================================================\n",
      "            Parameter  Std. Err.     T-stat    P-value    Lower CI    Upper CI\n",
      "------------------------------------------------------------------------------\n",
      "schoolmode    -2.0250     0.2530    -8.0032     0.0000     -2.5209     -1.5291\n",
      "black          0.0427     0.0345     1.2382     0.2156     -0.0249      0.1103\n",
      "hispanic      -0.0394     0.0204    -1.9357     0.0529     -0.0793      0.0005\n",
      "lowincome      0.0204     0.0131     1.5597     0.1188     -0.0052      0.0460\n",
      "white         -0.0263     0.0156    -1.6804     0.0929     -0.0569      0.0044\n",
      "==============================================================================\n"
     ]
    }
   ],
   "source": [
    "DROPOUT_STATEYEAR_NOPER = results[0]\n",
    "print_summarized_results(DROPOUT_STATEYEAR_NOPER)"
   ]
  },
  {
   "cell_type": "code",
   "execution_count": 34,
   "id": "d6f071da",
   "metadata": {},
   "outputs": [
    {
     "name": "stdout",
     "output_type": "stream",
     "text": [
      "                         Absorbing LS Estimation Summary                          \n",
      "==================================================================================\n",
      "Dep. Variable:                dropout   R-squared:                          0.9025\n",
      "Estimator:               Absorbing LS   Adj. R-squared:                     0.8697\n",
      "No. Observations:               15568   F-statistic:                        109.85\n",
      "Date:                Wed, Sep 27 2023   P-value (F-stat):                   0.0000\n",
      "Time:                        17:22:41   Distribution:                      chi2(6)\n",
      "Cov. Estimator:             clustered   R-squared (No Effects):             0.0104\n",
      "                                        Varaibles Absorbed:                 3910.0\n",
      "                             Parameter Estimates                              \n",
      "==============================================================================\n",
      "            Parameter  Std. Err.     T-stat    P-value    Lower CI    Upper CI\n",
      "------------------------------------------------------------------------------\n",
      "virtualper    -1.9840     0.2417    -8.2098     0.0000     -2.4577     -1.5104\n",
      "hybridper     -0.6303     0.2119    -2.9740     0.0029     -1.0456     -0.2149\n",
      "black          0.0425     0.0345     1.2319     0.2180     -0.0251      0.1102\n",
      "hispanic      -0.0398     0.0203    -1.9575     0.0503     -0.0797   5.078e-05\n",
      "lowincome      0.0206     0.0131     1.5785     0.1145     -0.0050      0.0462\n",
      "white         -0.0250     0.0155    -1.6114     0.1071     -0.0555      0.0054\n",
      "==============================================================================\n"
     ]
    }
   ],
   "source": [
    "DROPOUT_STATEYEAR_PER = results[1]\n",
    "print_summarized_results(DROPOUT_STATEYEAR_PER)"
   ]
  },
  {
   "cell_type": "markdown",
   "id": "b982afdc",
   "metadata": {},
   "source": [
    "# School FE + District-Year Interaction"
   ]
  },
  {
   "cell_type": "markdown",
   "id": "2f9d9744",
   "metadata": {},
   "source": [
    "### School FE + District-Year Regression Function"
   ]
  },
  {
   "cell_type": "markdown",
   "id": "d3084a4c",
   "metadata": {},
   "source": [
    "#### MATH"
   ]
  },
  {
   "cell_type": "code",
   "execution_count": 35,
   "id": "ba92a517",
   "metadata": {},
   "outputs": [],
   "source": [
    "results = run_generalized_regression_function(\"mathpass\", \"totaltested\", \"district\", None)"
   ]
  },
  {
   "cell_type": "code",
   "execution_count": 36,
   "id": "df3d9ace",
   "metadata": {},
   "outputs": [
    {
     "name": "stdout",
     "output_type": "stream",
     "text": [
      "                         Absorbing LS Estimation Summary                          \n",
      "==================================================================================\n",
      "Dep. Variable:               mathpass   R-squared:                          0.9613\n",
      "Estimator:               Absorbing LS   Adj. R-squared:                     0.9066\n",
      "No. Observations:               24734   F-statistic:                        229.46\n",
      "Date:                Wed, Sep 27 2023   P-value (F-stat):                   0.0000\n",
      "Time:                        17:22:42   Distribution:                      chi2(5)\n",
      "Cov. Estimator:             clustered   R-squared (No Effects):             0.0248\n",
      "                                        Varaibles Absorbed:              1.449e+04\n",
      "                             Parameter Estimates                              \n",
      "==============================================================================\n",
      "            Parameter  Std. Err.     T-stat    P-value    Lower CI    Upper CI\n",
      "------------------------------------------------------------------------------\n",
      "schoolmode     2.7873     1.8619     1.4970     0.1344     -0.8619      6.4366\n",
      "black         -0.4930     0.0459    -10.732     0.0000     -0.5830     -0.4029\n",
      "hispanic      -0.3563     0.0372    -9.5780     0.0000     -0.4292     -0.2834\n",
      "lowincome     -0.0329     0.0181    -1.8166     0.0693     -0.0684      0.0026\n",
      "white         -0.0551     0.0352    -1.5663     0.1173     -0.1241      0.0139\n",
      "==============================================================================\n"
     ]
    }
   ],
   "source": [
    "MATH_DISTRICTYEAR_NOPER = results[0]\n",
    "print_summarized_results(MATH_DISTRICTYEAR_NOPER)"
   ]
  },
  {
   "cell_type": "code",
   "execution_count": 37,
   "id": "8c823498",
   "metadata": {},
   "outputs": [
    {
     "name": "stdout",
     "output_type": "stream",
     "text": [
      "                         Absorbing LS Estimation Summary                          \n",
      "==================================================================================\n",
      "Dep. Variable:               mathpass   R-squared:                          0.9613\n",
      "Estimator:               Absorbing LS   Adj. R-squared:                     0.9066\n",
      "No. Observations:               24734   F-statistic:                        230.33\n",
      "Date:                Wed, Sep 27 2023   P-value (F-stat):                   0.0000\n",
      "Time:                        17:22:42   Distribution:                      chi2(6)\n",
      "Cov. Estimator:             clustered   R-squared (No Effects):             0.0251\n",
      "                                        Varaibles Absorbed:              1.449e+04\n",
      "                             Parameter Estimates                              \n",
      "==============================================================================\n",
      "            Parameter  Std. Err.     T-stat    P-value    Lower CI    Upper CI\n",
      "------------------------------------------------------------------------------\n",
      "virtualper     3.1201     1.8827     1.6572     0.0975     -0.5700      6.8101\n",
      "hybridper      7.2401     4.0795     1.7748     0.0759     -0.7555      15.236\n",
      "black         -0.4925     0.0459    -10.726     0.0000     -0.5825     -0.4025\n",
      "hispanic      -0.3561     0.0372    -9.5726     0.0000     -0.4290     -0.2832\n",
      "lowincome     -0.0327     0.0181    -1.8029     0.0714     -0.0682      0.0028\n",
      "white         -0.0551     0.0352    -1.5646     0.1177     -0.1240      0.0139\n",
      "==============================================================================\n"
     ]
    }
   ],
   "source": [
    "MATH_DISTRICTYEAR_PER = results[1]\n",
    "print_summarized_results(MATH_DISTRICTYEAR_PER)"
   ]
  },
  {
   "cell_type": "markdown",
   "id": "4d0de5d3",
   "metadata": {},
   "source": [
    "#### ELA"
   ]
  },
  {
   "cell_type": "code",
   "execution_count": 38,
   "id": "e81dd4ec",
   "metadata": {},
   "outputs": [],
   "source": [
    "results = run_generalized_regression_function('elapass', 'totaltested', \"district\", None)"
   ]
  },
  {
   "cell_type": "code",
   "execution_count": 39,
   "id": "08277f79",
   "metadata": {
    "scrolled": true
   },
   "outputs": [
    {
     "name": "stdout",
     "output_type": "stream",
     "text": [
      "                         Absorbing LS Estimation Summary                          \n",
      "==================================================================================\n",
      "Dep. Variable:                elapass   R-squared:                          0.9748\n",
      "Estimator:               Absorbing LS   Adj. R-squared:                     0.9085\n",
      "No. Observations:               18554   F-statistic:                        108.73\n",
      "Date:                Wed, Sep 27 2023   P-value (F-stat):                   0.0000\n",
      "Time:                        17:22:42   Distribution:                      chi2(5)\n",
      "Cov. Estimator:             clustered   R-squared (No Effects):             0.0385\n",
      "                                        Varaibles Absorbed:              1.344e+04\n",
      "                             Parameter Estimates                              \n",
      "==============================================================================\n",
      "            Parameter  Std. Err.     T-stat    P-value    Lower CI    Upper CI\n",
      "------------------------------------------------------------------------------\n",
      "schoolmode     1.5707     1.6474     0.9534     0.3404     -1.6582      4.7996\n",
      "black         -0.3783     0.0615    -6.1500     0.0000     -0.4989     -0.2578\n",
      "hispanic      -0.3105     0.0592    -5.2462     0.0000     -0.4265     -0.1945\n",
      "lowincome     -0.0916     0.0173    -5.2832     0.0000     -0.1255     -0.0576\n",
      "white          0.0471     0.0526     0.8961     0.3702     -0.0560      0.1502\n",
      "==============================================================================\n"
     ]
    }
   ],
   "source": [
    "ELA_DISTRICTYEAR_NOPER = results[0]\n",
    "print_summarized_results(ELA_DISTRICTYEAR_NOPER)"
   ]
  },
  {
   "cell_type": "code",
   "execution_count": 40,
   "id": "0c447e0f",
   "metadata": {
    "scrolled": true
   },
   "outputs": [
    {
     "name": "stdout",
     "output_type": "stream",
     "text": [
      "                         Absorbing LS Estimation Summary                          \n",
      "==================================================================================\n",
      "Dep. Variable:                elapass   R-squared:                          0.9748\n",
      "Estimator:               Absorbing LS   Adj. R-squared:                     0.9086\n",
      "No. Observations:               18554   F-statistic:                        114.25\n",
      "Date:                Wed, Sep 27 2023   P-value (F-stat):                   0.0000\n",
      "Time:                        17:22:43   Distribution:                      chi2(6)\n",
      "Cov. Estimator:             clustered   R-squared (No Effects):             0.0391\n",
      "                                        Varaibles Absorbed:              1.344e+04\n",
      "                             Parameter Estimates                              \n",
      "==============================================================================\n",
      "            Parameter  Std. Err.     T-stat    P-value    Lower CI    Upper CI\n",
      "------------------------------------------------------------------------------\n",
      "virtualper     1.9828     1.6608     1.1939     0.2325     -1.2723      5.2379\n",
      "hybridper      7.0543     3.3602     2.0994     0.0358      0.4686      13.640\n",
      "black         -0.3775     0.0615    -6.1397     0.0000     -0.4980     -0.2570\n",
      "hispanic      -0.3098     0.0591    -5.2380     0.0000     -0.4258     -0.1939\n",
      "lowincome     -0.0913     0.0173    -5.2704     0.0000     -0.1252     -0.0573\n",
      "white          0.0475     0.0526     0.9031     0.3665     -0.0556      0.1505\n",
      "==============================================================================\n"
     ]
    }
   ],
   "source": [
    "ELA_DISTRICTYEAR_PER = results[1]\n",
    "print_summarized_results(ELA_DISTRICTYEAR_PER)"
   ]
  },
  {
   "cell_type": "markdown",
   "id": "5b008311",
   "metadata": {},
   "source": [
    "#### DROPOUT"
   ]
  },
  {
   "cell_type": "code",
   "execution_count": 41,
   "id": "503578c8",
   "metadata": {},
   "outputs": [],
   "source": [
    "results = run_generalized_regression_function('dropout', 'totalenrolled', 'district', None)"
   ]
  },
  {
   "cell_type": "code",
   "execution_count": 42,
   "id": "f706fcfc",
   "metadata": {},
   "outputs": [
    {
     "name": "stdout",
     "output_type": "stream",
     "text": [
      "                         Absorbing LS Estimation Summary                          \n",
      "==================================================================================\n",
      "Dep. Variable:                dropout   R-squared:                          0.9380\n",
      "Estimator:               Absorbing LS   Adj. R-squared:                     0.7555\n",
      "No. Observations:               15568   F-statistic:                        24.045\n",
      "Date:                Wed, Sep 27 2023   P-value (F-stat):                   0.0002\n",
      "Time:                        17:22:43   Distribution:                      chi2(5)\n",
      "Cov. Estimator:             clustered   R-squared (No Effects):             0.0046\n",
      "                                        Varaibles Absorbed:              1.161e+04\n",
      "                             Parameter Estimates                              \n",
      "==============================================================================\n",
      "            Parameter  Std. Err.     T-stat    P-value    Lower CI    Upper CI\n",
      "------------------------------------------------------------------------------\n",
      "schoolmode    -4.1376     1.0190    -4.0606     0.0000     -6.1347     -2.1405\n",
      "black          0.0129     0.0403     0.3201     0.7489     -0.0661      0.0920\n",
      "hispanic      -0.0502     0.0298    -1.6833     0.0923     -0.1086      0.0082\n",
      "lowincome      0.0288     0.0250     1.1537     0.2486     -0.0202      0.0778\n",
      "white         -0.0317     0.0258    -1.2262     0.2201     -0.0823      0.0189\n",
      "==============================================================================\n"
     ]
    }
   ],
   "source": [
    "DROPOUT_DISTRICTYEAR_NOPER = results[0]\n",
    "print_summarized_results(DROPOUT_DISTRICTYEAR_NOPER)"
   ]
  },
  {
   "cell_type": "code",
   "execution_count": 43,
   "id": "41724050",
   "metadata": {},
   "outputs": [
    {
     "name": "stdout",
     "output_type": "stream",
     "text": [
      "                         Absorbing LS Estimation Summary                          \n",
      "==================================================================================\n",
      "Dep. Variable:                dropout   R-squared:                          0.9381\n",
      "Estimator:               Absorbing LS   Adj. R-squared:                     0.7561\n",
      "No. Observations:               15568   F-statistic:                        27.601\n",
      "Date:                Wed, Sep 27 2023   P-value (F-stat):                   0.0001\n",
      "Time:                        17:22:43   Distribution:                      chi2(6)\n",
      "Cov. Estimator:             clustered   R-squared (No Effects):             0.0071\n",
      "                                        Varaibles Absorbed:              1.161e+04\n",
      "                             Parameter Estimates                              \n",
      "==============================================================================\n",
      "            Parameter  Std. Err.     T-stat    P-value    Lower CI    Upper CI\n",
      "------------------------------------------------------------------------------\n",
      "virtualper    -2.1116     0.6905    -3.0579     0.0022     -3.4650     -0.7582\n",
      "hybridper      3.2572     1.2526     2.6005     0.0093      0.8023      5.7122\n",
      "black          0.0108     0.0402     0.2684     0.7884     -0.0681      0.0897\n",
      "hispanic      -0.0526     0.0298    -1.7634     0.0778     -0.1111      0.0059\n",
      "lowincome      0.0291     0.0250     1.1643     0.2443     -0.0199      0.0782\n",
      "white         -0.0332     0.0257    -1.2920     0.1964     -0.0837      0.0172\n",
      "==============================================================================\n"
     ]
    }
   ],
   "source": [
    "DROPOUT_DISTRICTYEAR_PER = results[1]\n",
    "print_summarized_results(DROPOUT_DISTRICTYEAR_PER)"
   ]
  },
  {
   "cell_type": "markdown",
   "id": "0f73093d",
   "metadata": {},
   "source": [
    "# School FE + County-Year Interaction"
   ]
  },
  {
   "cell_type": "markdown",
   "id": "69d0e480",
   "metadata": {},
   "source": [
    "### School FE + County-Year Regression Function"
   ]
  },
  {
   "cell_type": "markdown",
   "id": "dd0bf476",
   "metadata": {},
   "source": [
    "#### MATH"
   ]
  },
  {
   "cell_type": "code",
   "execution_count": 44,
   "id": "604af34b",
   "metadata": {},
   "outputs": [],
   "source": [
    "results = run_generalized_regression_function('mathpass', 'totaltested', 'county', None)"
   ]
  },
  {
   "cell_type": "code",
   "execution_count": 45,
   "id": "35ca0e4c",
   "metadata": {},
   "outputs": [
    {
     "name": "stdout",
     "output_type": "stream",
     "text": [
      "                         Absorbing LS Estimation Summary                          \n",
      "==================================================================================\n",
      "Dep. Variable:               mathpass   R-squared:                          0.9359\n",
      "Estimator:               Absorbing LS   Adj. R-squared:                     0.9127\n",
      "No. Observations:               24734   F-statistic:                        196.88\n",
      "Date:                Wed, Sep 27 2023   P-value (F-stat):                   0.0000\n",
      "Time:                        17:22:44   Distribution:                      chi2(5)\n",
      "Cov. Estimator:             clustered   R-squared (No Effects):             0.0197\n",
      "                                        Varaibles Absorbed:                 6558.0\n",
      "                             Parameter Estimates                              \n",
      "==============================================================================\n",
      "            Parameter  Std. Err.     T-stat    P-value    Lower CI    Upper CI\n",
      "------------------------------------------------------------------------------\n",
      "schoolmode    -2.1969     1.0728    -2.0478     0.0406     -4.2996     -0.0942\n",
      "black         -0.4686     0.0459    -10.203     0.0000     -0.5586     -0.3786\n",
      "hispanic      -0.3290     0.0371    -8.8593     0.0000     -0.4017     -0.2562\n",
      "lowincome     -0.0186     0.0123    -1.5161     0.1295     -0.0427      0.0054\n",
      "white         -0.0648     0.0335    -1.9321     0.0533     -0.1306      0.0009\n",
      "==============================================================================\n"
     ]
    }
   ],
   "source": [
    "MATH_COUNTYYEAR_NOPER = results[0]\n",
    "print_summarized_results(MATH_COUNTYYEAR_NOPER)"
   ]
  },
  {
   "cell_type": "code",
   "execution_count": 46,
   "id": "016c2dcc",
   "metadata": {},
   "outputs": [
    {
     "name": "stdout",
     "output_type": "stream",
     "text": [
      "                         Absorbing LS Estimation Summary                          \n",
      "==================================================================================\n",
      "Dep. Variable:               mathpass   R-squared:                          0.9359\n",
      "Estimator:               Absorbing LS   Adj. R-squared:                     0.9127\n",
      "No. Observations:               24734   F-statistic:                        197.02\n",
      "Date:                Wed, Sep 27 2023   P-value (F-stat):                   0.0000\n",
      "Time:                        17:22:44   Distribution:                      chi2(6)\n",
      "Cov. Estimator:             clustered   R-squared (No Effects):             0.0197\n",
      "                                        Varaibles Absorbed:                 6558.0\n",
      "                             Parameter Estimates                              \n",
      "==============================================================================\n",
      "            Parameter  Std. Err.     T-stat    P-value    Lower CI    Upper CI\n",
      "------------------------------------------------------------------------------\n",
      "virtualper    -2.1947     1.1020    -1.9916     0.0464     -4.3545     -0.0348\n",
      "hybridper     -1.1466     1.1436    -1.0026     0.3161     -3.3879      1.0948\n",
      "black         -0.4686     0.0459    -10.203     0.0000     -0.5586     -0.3786\n",
      "hispanic      -0.3290     0.0371    -8.8596     0.0000     -0.4017     -0.2562\n",
      "lowincome     -0.0186     0.0123    -1.5163     0.1294     -0.0427      0.0054\n",
      "white         -0.0648     0.0335    -1.9324     0.0533     -0.1306      0.0009\n",
      "==============================================================================\n"
     ]
    }
   ],
   "source": [
    "MATH_COUNTYYEAR_PER = results[1]\n",
    "print_summarized_results(MATH_COUNTYYEAR_PER)"
   ]
  },
  {
   "cell_type": "markdown",
   "id": "ca03826c",
   "metadata": {},
   "source": [
    "#### ELA"
   ]
  },
  {
   "cell_type": "code",
   "execution_count": 47,
   "id": "036c4831",
   "metadata": {},
   "outputs": [],
   "source": [
    "results = run_generalized_regression_function('elapass', 'totaltested', 'county', None)"
   ]
  },
  {
   "cell_type": "code",
   "execution_count": 48,
   "id": "2a3d2523",
   "metadata": {
    "scrolled": true
   },
   "outputs": [
    {
     "name": "stdout",
     "output_type": "stream",
     "text": [
      "                         Absorbing LS Estimation Summary                          \n",
      "==================================================================================\n",
      "Dep. Variable:                elapass   R-squared:                          0.9485\n",
      "Estimator:               Absorbing LS   Adj. R-squared:                     0.9266\n",
      "No. Observations:               18554   F-statistic:                        157.06\n",
      "Date:                Wed, Sep 27 2023   P-value (F-stat):                   0.0000\n",
      "Time:                        17:22:44   Distribution:                      chi2(5)\n",
      "Cov. Estimator:             clustered   R-squared (No Effects):             0.0503\n",
      "                                        Varaibles Absorbed:                 5528.0\n",
      "                             Parameter Estimates                              \n",
      "==============================================================================\n",
      "            Parameter  Std. Err.     T-stat    P-value    Lower CI    Upper CI\n",
      "------------------------------------------------------------------------------\n",
      "schoolmode    -0.4574     0.6746    -0.6781     0.4977     -1.7797      0.8648\n",
      "black         -0.5533     0.0563    -9.8342     0.0000     -0.6636     -0.4431\n",
      "hispanic      -0.4206     0.0453    -9.2740     0.0000     -0.5095     -0.3317\n",
      "lowincome     -0.0259     0.0090    -2.8849     0.0039     -0.0435     -0.0083\n",
      "white          0.0182     0.0299     0.6091     0.5424     -0.0403      0.0767\n",
      "==============================================================================\n"
     ]
    }
   ],
   "source": [
    "ELA_COUNTYYEAR_NOPER = results[0]\n",
    "print_summarized_results(ELA_COUNTYYEAR_NOPER)"
   ]
  },
  {
   "cell_type": "code",
   "execution_count": 49,
   "id": "c472b0f5",
   "metadata": {
    "scrolled": false
   },
   "outputs": [
    {
     "name": "stdout",
     "output_type": "stream",
     "text": [
      "                         Absorbing LS Estimation Summary                          \n",
      "==================================================================================\n",
      "Dep. Variable:                elapass   R-squared:                          0.9485\n",
      "Estimator:               Absorbing LS   Adj. R-squared:                     0.9267\n",
      "No. Observations:               18554   F-statistic:                        162.04\n",
      "Date:                Wed, Sep 27 2023   P-value (F-stat):                   0.0000\n",
      "Time:                        17:22:44   Distribution:                      chi2(6)\n",
      "Cov. Estimator:             clustered   R-squared (No Effects):             0.0507\n",
      "                                        Varaibles Absorbed:                 5528.0\n",
      "                             Parameter Estimates                              \n",
      "==============================================================================\n",
      "            Parameter  Std. Err.     T-stat    P-value    Lower CI    Upper CI\n",
      "------------------------------------------------------------------------------\n",
      "virtualper    -0.1787     0.6855    -0.2608     0.7943     -1.5223      1.1648\n",
      "hybridper      1.9374     0.9409     2.0590     0.0395      0.0932      3.7816\n",
      "black         -0.5530     0.0563    -9.8260     0.0000     -0.6633     -0.4427\n",
      "hispanic      -0.4203     0.0454    -9.2616     0.0000     -0.5093     -0.3314\n",
      "lowincome     -0.0259     0.0090    -2.8851     0.0039     -0.0435     -0.0083\n",
      "white          0.0188     0.0299     0.6289     0.5294     -0.0398      0.0773\n",
      "==============================================================================\n"
     ]
    }
   ],
   "source": [
    "ELA_COUNTYYEAR_PER = results[1]\n",
    "print_summarized_results(ELA_COUNTYYEAR_PER)"
   ]
  },
  {
   "cell_type": "markdown",
   "id": "29e8ada5",
   "metadata": {},
   "source": [
    "#### DROPOUT"
   ]
  },
  {
   "cell_type": "code",
   "execution_count": 50,
   "id": "fc2e2ba5",
   "metadata": {},
   "outputs": [],
   "source": [
    "results = run_generalized_regression_function('dropout', 'totalenrolled', 'county', None)"
   ]
  },
  {
   "cell_type": "code",
   "execution_count": 51,
   "id": "7be3d6a8",
   "metadata": {},
   "outputs": [
    {
     "name": "stdout",
     "output_type": "stream",
     "text": [
      "                         Absorbing LS Estimation Summary                          \n",
      "==================================================================================\n",
      "Dep. Variable:                dropout   R-squared:                          0.9141\n",
      "Estimator:               Absorbing LS   Adj. R-squared:                     0.8620\n",
      "No. Observations:               15568   F-statistic:                        27.283\n",
      "Date:                Wed, Sep 27 2023   P-value (F-stat):                   0.0001\n",
      "Time:                        17:22:45   Distribution:                      chi2(5)\n",
      "Cov. Estimator:             clustered   R-squared (No Effects):             0.0048\n",
      "                                        Varaibles Absorbed:                 5874.0\n",
      "                             Parameter Estimates                              \n",
      "==============================================================================\n",
      "            Parameter  Std. Err.     T-stat    P-value    Lower CI    Upper CI\n",
      "------------------------------------------------------------------------------\n",
      "schoolmode    -1.1138     0.3085    -3.6099     0.0003     -1.7185     -0.5091\n",
      "black          0.0290     0.0358     0.8090     0.4185     -0.0412      0.0991\n",
      "hispanic      -0.0549     0.0234    -2.3438     0.0191     -0.1008     -0.0090\n",
      "lowincome      0.0203     0.0111     1.8231     0.0683     -0.0015      0.0422\n",
      "white         -0.0367     0.0176    -2.0917     0.0365     -0.0711     -0.0023\n",
      "==============================================================================\n"
     ]
    }
   ],
   "source": [
    "DROPOUT_COUNTYYEAR_NOPER = results[0]\n",
    "print_summarized_results(DROPOUT_COUNTYYEAR_NOPER)"
   ]
  },
  {
   "cell_type": "code",
   "execution_count": 52,
   "id": "428604d6",
   "metadata": {},
   "outputs": [
    {
     "name": "stdout",
     "output_type": "stream",
     "text": [
      "                         Absorbing LS Estimation Summary                          \n",
      "==================================================================================\n",
      "Dep. Variable:                dropout   R-squared:                          0.9141\n",
      "Estimator:               Absorbing LS   Adj. R-squared:                     0.8620\n",
      "No. Observations:               15568   F-statistic:                        27.066\n",
      "Date:                Wed, Sep 27 2023   P-value (F-stat):                   0.0001\n",
      "Time:                        17:22:45   Distribution:                      chi2(6)\n",
      "Cov. Estimator:             clustered   R-squared (No Effects):             0.0049\n",
      "                                        Varaibles Absorbed:                 5874.0\n",
      "                             Parameter Estimates                              \n",
      "==============================================================================\n",
      "            Parameter  Std. Err.     T-stat    P-value    Lower CI    Upper CI\n",
      "------------------------------------------------------------------------------\n",
      "virtualper    -1.1168     0.3110    -3.5915     0.0003     -1.7263     -0.5073\n",
      "hybridper     -0.3490     0.2349    -1.4856     0.1374     -0.8095      0.1114\n",
      "black          0.0292     0.0358     0.8148     0.4152     -0.0410      0.0994\n",
      "hispanic      -0.0549     0.0234    -2.3433     0.0191     -0.1008     -0.0090\n",
      "lowincome      0.0204     0.0112     1.8251     0.0680     -0.0015      0.0423\n",
      "white         -0.0368     0.0176    -2.0935     0.0363     -0.0712     -0.0023\n",
      "==============================================================================\n"
     ]
    }
   ],
   "source": [
    "DROPOUT_COUNTYYEAR_PER = results[1]\n",
    "print_summarized_results(DROPOUT_COUNTYYEAR_PER)"
   ]
  },
  {
   "cell_type": "markdown",
   "id": "5ecfbc78",
   "metadata": {},
   "source": [
    "# School FE + District-Year Interaction + Race Interactions"
   ]
  },
  {
   "cell_type": "markdown",
   "id": "cbf4cd78",
   "metadata": {},
   "source": [
    "### School FE + District-Year Interaction + Interactions Regression Function"
   ]
  },
  {
   "cell_type": "markdown",
   "id": "e6146421",
   "metadata": {},
   "source": [
    "#### MATH - BLACK"
   ]
  },
  {
   "cell_type": "code",
   "execution_count": 53,
   "id": "d70152e8",
   "metadata": {},
   "outputs": [],
   "source": [
    "results = run_generalized_regression_function('mathpass', 'totaltested', 'district', \"black\")"
   ]
  },
  {
   "cell_type": "code",
   "execution_count": 54,
   "id": "e3e6a4e7",
   "metadata": {
    "scrolled": true
   },
   "outputs": [
    {
     "name": "stdout",
     "output_type": "stream",
     "text": [
      "                         Absorbing LS Estimation Summary                          \n",
      "==================================================================================\n",
      "Dep. Variable:               mathpass   R-squared:                          0.9613\n",
      "Estimator:               Absorbing LS   Adj. R-squared:                     0.9066\n",
      "No. Observations:               24734   F-statistic:                        229.37\n",
      "Date:                Wed, Sep 27 2023   P-value (F-stat):                   0.0000\n",
      "Time:                        17:22:46   Distribution:                      chi2(6)\n",
      "Cov. Estimator:             clustered   R-squared (No Effects):             0.0249\n",
      "                                        Varaibles Absorbed:              1.449e+04\n",
      "                             Parameter Estimates                              \n",
      "==============================================================================\n",
      "            Parameter  Std. Err.     T-stat    P-value    Lower CI    Upper CI\n",
      "------------------------------------------------------------------------------\n",
      "schoolmode     2.5848     1.8936     1.3650     0.1722     -1.1265      6.2961\n",
      "black         -0.4934     0.0460    -10.733     0.0000     -0.5835     -0.4033\n",
      "hispanic      -0.3563     0.0372    -9.5768     0.0000     -0.4292     -0.2834\n",
      "lowincome     -0.0331     0.0181    -1.8250     0.0680     -0.0686      0.0024\n",
      "white         -0.0553     0.0352    -1.5698     0.1165     -0.1243      0.0137\n",
      "black_int      0.0122     0.0190     0.6421     0.5208     -0.0250      0.0493\n",
      "==============================================================================\n"
     ]
    }
   ],
   "source": [
    "MATH_DISTRICTYEAR_BLACK_NOPER = results[0]\n",
    "print_summarized_results(MATH_DISTRICTYEAR_BLACK_NOPER)"
   ]
  },
  {
   "cell_type": "code",
   "execution_count": 55,
   "id": "1f1d41cf",
   "metadata": {
    "scrolled": false
   },
   "outputs": [
    {
     "name": "stdout",
     "output_type": "stream",
     "text": [
      "                         Absorbing LS Estimation Summary                          \n",
      "==================================================================================\n",
      "Dep. Variable:               mathpass   R-squared:                          0.9613\n",
      "Estimator:               Absorbing LS   Adj. R-squared:                     0.9066\n",
      "No. Observations:               24734   F-statistic:                        236.73\n",
      "Date:                Wed, Sep 27 2023   P-value (F-stat):                   0.0000\n",
      "Time:                        17:22:46   Distribution:                      chi2(8)\n",
      "Cov. Estimator:             clustered   R-squared (No Effects):             0.0253\n",
      "                                        Varaibles Absorbed:              1.449e+04\n",
      "                                 Parameter Estimates                                 \n",
      "=====================================================================================\n",
      "                   Parameter  Std. Err.     T-stat    P-value    Lower CI    Upper CI\n",
      "-------------------------------------------------------------------------------------\n",
      "virtualper            3.4416     1.9122     1.7998     0.0719     -0.3062      7.1895\n",
      "hybridper             5.2660     4.1103     1.2812     0.2001     -2.7901      13.322\n",
      "black                -0.4925     0.0459    -10.718     0.0000     -0.5825     -0.4024\n",
      "hispanic             -0.3557     0.0372    -9.5632     0.0000     -0.4286     -0.2828\n",
      "lowincome            -0.0332     0.0181    -1.8290     0.0674     -0.0687      0.0024\n",
      "white                -0.0551     0.0352    -1.5654     0.1175     -0.1241      0.0139\n",
      "black_virtual_int    -0.0179     0.0259    -0.6910     0.4896     -0.0687      0.0329\n",
      "black_hybrid_int      0.1094     0.0491     2.2290     0.0258      0.0132      0.2057\n",
      "=====================================================================================\n"
     ]
    }
   ],
   "source": [
    "MATH_DISTRICTYEAR_BLACK_PER = results[1]\n",
    "print_summarized_results(MATH_DISTRICTYEAR_BLACK_PER)"
   ]
  },
  {
   "cell_type": "markdown",
   "id": "4ee1d1de",
   "metadata": {},
   "source": [
    "#### ELA - BLACK"
   ]
  },
  {
   "cell_type": "code",
   "execution_count": 56,
   "id": "d39320af",
   "metadata": {},
   "outputs": [],
   "source": [
    "results = run_generalized_regression_function('elapass', 'totaltested', 'district', \"black\")"
   ]
  },
  {
   "cell_type": "code",
   "execution_count": 57,
   "id": "59d97c08",
   "metadata": {},
   "outputs": [
    {
     "name": "stdout",
     "output_type": "stream",
     "text": [
      "                         Absorbing LS Estimation Summary                          \n",
      "==================================================================================\n",
      "Dep. Variable:                elapass   R-squared:                          0.9748\n",
      "Estimator:               Absorbing LS   Adj. R-squared:                     0.9085\n",
      "No. Observations:               18554   F-statistic:                        109.75\n",
      "Date:                Wed, Sep 27 2023   P-value (F-stat):                   0.0000\n",
      "Time:                        17:22:47   Distribution:                      chi2(6)\n",
      "Cov. Estimator:             clustered   R-squared (No Effects):             0.0385\n",
      "                                        Varaibles Absorbed:              1.344e+04\n",
      "                             Parameter Estimates                              \n",
      "==============================================================================\n",
      "            Parameter  Std. Err.     T-stat    P-value    Lower CI    Upper CI\n",
      "------------------------------------------------------------------------------\n",
      "schoolmode     1.3697     1.7184     0.7971     0.4254     -1.9982      4.7377\n",
      "black         -0.3786     0.0615    -6.1533     0.0000     -0.4992     -0.2580\n",
      "hispanic      -0.3103     0.0592    -5.2435     0.0000     -0.4264     -0.1943\n",
      "lowincome     -0.0918     0.0173    -5.2954     0.0000     -0.1257     -0.0578\n",
      "white          0.0472     0.0526     0.8974     0.3695     -0.0559      0.1503\n",
      "black_int      0.0124     0.0162     0.7691     0.4418     -0.0193      0.0441\n",
      "==============================================================================\n"
     ]
    }
   ],
   "source": [
    "ELA_DISTRICTYEAR_BLACK_NOPER = results[0]\n",
    "print_summarized_results(ELA_DISTRICTYEAR_BLACK_NOPER)"
   ]
  },
  {
   "cell_type": "code",
   "execution_count": 58,
   "id": "c36120e4",
   "metadata": {},
   "outputs": [
    {
     "name": "stdout",
     "output_type": "stream",
     "text": [
      "                         Absorbing LS Estimation Summary                          \n",
      "==================================================================================\n",
      "Dep. Variable:                elapass   R-squared:                          0.9748\n",
      "Estimator:               Absorbing LS   Adj. R-squared:                     0.9085\n",
      "No. Observations:               18554   F-statistic:                        116.44\n",
      "Date:                Wed, Sep 27 2023   P-value (F-stat):                   0.0000\n",
      "Time:                        17:22:47   Distribution:                      chi2(8)\n",
      "Cov. Estimator:             clustered   R-squared (No Effects):             0.0392\n",
      "                                        Varaibles Absorbed:              1.344e+04\n",
      "                                 Parameter Estimates                                 \n",
      "=====================================================================================\n",
      "                   Parameter  Std. Err.     T-stat    P-value    Lower CI    Upper CI\n",
      "-------------------------------------------------------------------------------------\n",
      "virtualper            2.0389     1.7866     1.1412     0.2538     -1.4628      5.5406\n",
      "hybridper             6.0339     3.5055     1.7213     0.0852     -0.8367      12.904\n",
      "black                -0.3779     0.0615    -6.1441     0.0000     -0.4984     -0.2573\n",
      "hispanic             -0.3096     0.0591    -5.2337     0.0000     -0.4255     -0.1936\n",
      "lowincome            -0.0917     0.0173    -5.2918     0.0000     -0.1257     -0.0578\n",
      "white                 0.0473     0.0526     0.8990     0.3686     -0.0558      0.1503\n",
      "black_virtual_int    -0.0025     0.0208    -0.1197     0.9047     -0.0432      0.0382\n",
      "black_hybrid_int      0.0580     0.0423     1.3722     0.1700     -0.0248      0.1408\n",
      "=====================================================================================\n"
     ]
    }
   ],
   "source": [
    "ELA_DISTRICTYEAR_BLACK_PER = results[1]\n",
    "print_summarized_results(ELA_DISTRICTYEAR_BLACK_PER)"
   ]
  },
  {
   "cell_type": "markdown",
   "id": "81c332e5",
   "metadata": {},
   "source": [
    "#### DROPOUT - BLACK"
   ]
  },
  {
   "cell_type": "code",
   "execution_count": 59,
   "id": "5bc5c49b",
   "metadata": {},
   "outputs": [],
   "source": [
    "results = run_generalized_regression_function('dropout', 'totalenrolled', \"district\", 'black')"
   ]
  },
  {
   "cell_type": "code",
   "execution_count": 60,
   "id": "c5a8a8fc",
   "metadata": {},
   "outputs": [
    {
     "name": "stdout",
     "output_type": "stream",
     "text": [
      "                         Absorbing LS Estimation Summary                          \n",
      "==================================================================================\n",
      "Dep. Variable:                dropout   R-squared:                          0.9381\n",
      "Estimator:               Absorbing LS   Adj. R-squared:                     0.7559\n",
      "No. Observations:               15568   F-statistic:                        29.656\n",
      "Date:                Wed, Sep 27 2023   P-value (F-stat):                   0.0000\n",
      "Time:                        17:22:48   Distribution:                      chi2(6)\n",
      "Cov. Estimator:             clustered   R-squared (No Effects):             0.0064\n",
      "                                        Varaibles Absorbed:              1.161e+04\n",
      "                             Parameter Estimates                              \n",
      "==============================================================================\n",
      "            Parameter  Std. Err.     T-stat    P-value    Lower CI    Upper CI\n",
      "------------------------------------------------------------------------------\n",
      "schoolmode    -3.7647     0.9940    -3.7876     0.0002     -5.7129     -1.8166\n",
      "black          0.0131     0.0403     0.3241     0.7459     -0.0660      0.0921\n",
      "hispanic      -0.0499     0.0298    -1.6760     0.0937     -0.1082      0.0085\n",
      "lowincome      0.0305     0.0249     1.2247     0.2207     -0.0183      0.0794\n",
      "white         -0.0302     0.0256    -1.1790     0.2384     -0.0804      0.0200\n",
      "black_int     -0.0224     0.0087    -2.5861     0.0097     -0.0394     -0.0054\n",
      "==============================================================================\n"
     ]
    }
   ],
   "source": [
    "DROPOUT_DISTRICTYEAR_BLACK_NOPER = results[0]\n",
    "print_summarized_results(DROPOUT_DISTRICTYEAR_BLACK_NOPER)"
   ]
  },
  {
   "cell_type": "code",
   "execution_count": 61,
   "id": "c1a2d5d1",
   "metadata": {},
   "outputs": [
    {
     "name": "stdout",
     "output_type": "stream",
     "text": [
      "                         Absorbing LS Estimation Summary                          \n",
      "==================================================================================\n",
      "Dep. Variable:                dropout   R-squared:                          0.9383\n",
      "Estimator:               Absorbing LS   Adj. R-squared:                     0.7565\n",
      "No. Observations:               15568   F-statistic:                        31.007\n",
      "Date:                Wed, Sep 27 2023   P-value (F-stat):                   0.0001\n",
      "Time:                        17:22:48   Distribution:                      chi2(8)\n",
      "Cov. Estimator:             clustered   R-squared (No Effects):             0.0091\n",
      "                                        Varaibles Absorbed:              1.161e+04\n",
      "                                 Parameter Estimates                                 \n",
      "=====================================================================================\n",
      "                   Parameter  Std. Err.     T-stat    P-value    Lower CI    Upper CI\n",
      "-------------------------------------------------------------------------------------\n",
      "virtualper           -1.6556     0.6751    -2.4522     0.0142     -2.9788     -0.3324\n",
      "hybridper             2.3682     1.2519     1.8917     0.0585     -0.0855      4.8219\n",
      "black                 0.0117     0.0403     0.2898     0.7720     -0.0673      0.0906\n",
      "hispanic             -0.0533     0.0297    -1.7940     0.0728     -0.1115      0.0049\n",
      "lowincome             0.0300     0.0252     1.1880     0.2348     -0.0195      0.0794\n",
      "white                -0.0346     0.0257    -1.3454     0.1785     -0.0851      0.0158\n",
      "black_virtual_int    -0.0314     0.0155    -2.0187     0.0435     -0.0618     -0.0009\n",
      "black_hybrid_int      0.0133     0.0190     0.6988     0.4847     -0.0240      0.0505\n",
      "=====================================================================================\n"
     ]
    }
   ],
   "source": [
    "DROPOUT_DISTRICTYEAR_BLACK_PER = results[1]\n",
    "print_summarized_results(DROPOUT_DISTRICTYEAR_BLACK_PER)"
   ]
  },
  {
   "cell_type": "markdown",
   "id": "572dce63",
   "metadata": {},
   "source": [
    "#### MATH - HISPANIC"
   ]
  },
  {
   "cell_type": "code",
   "execution_count": 62,
   "id": "ffcc5a28",
   "metadata": {},
   "outputs": [],
   "source": [
    "results = run_generalized_regression_function('mathpass', 'totaltested', 'district', 'hispanic')"
   ]
  },
  {
   "cell_type": "code",
   "execution_count": 63,
   "id": "6b0bf0ef",
   "metadata": {
    "scrolled": true
   },
   "outputs": [
    {
     "name": "stdout",
     "output_type": "stream",
     "text": [
      "                         Absorbing LS Estimation Summary                          \n",
      "==================================================================================\n",
      "Dep. Variable:               mathpass   R-squared:                          0.9613\n",
      "Estimator:               Absorbing LS   Adj. R-squared:                     0.9066\n",
      "No. Observations:               24734   F-statistic:                        235.42\n",
      "Date:                Wed, Sep 27 2023   P-value (F-stat):                   0.0000\n",
      "Time:                        17:22:49   Distribution:                      chi2(6)\n",
      "Cov. Estimator:             clustered   R-squared (No Effects):             0.0253\n",
      "                                        Varaibles Absorbed:              1.449e+04\n",
      "                              Parameter Estimates                               \n",
      "================================================================================\n",
      "              Parameter  Std. Err.     T-stat    P-value    Lower CI    Upper CI\n",
      "--------------------------------------------------------------------------------\n",
      "schoolmode       4.9048     2.2984     2.1340     0.0328      0.4000      9.4097\n",
      "black           -0.4900     0.0459    -10.672     0.0000     -0.5800     -0.4000\n",
      "hispanic        -0.3514     0.0372    -9.4358     0.0000     -0.4244     -0.2784\n",
      "lowincome       -0.0340     0.0181    -1.8790     0.0602     -0.0695      0.0015\n",
      "white           -0.0511     0.0352    -1.4542     0.1459     -0.1201      0.0178\n",
      "hispanic_int    -0.0349     0.0168    -2.0788     0.0376     -0.0677     -0.0020\n",
      "================================================================================\n"
     ]
    }
   ],
   "source": [
    "MATH_DISTRICTYEAR_HISPANIC_NOPER = results[0]\n",
    "print_summarized_results(MATH_DISTRICTYEAR_HISPANIC_NOPER)"
   ]
  },
  {
   "cell_type": "code",
   "execution_count": 64,
   "id": "a1dd57b7",
   "metadata": {
    "scrolled": false
   },
   "outputs": [
    {
     "name": "stdout",
     "output_type": "stream",
     "text": [
      "                         Absorbing LS Estimation Summary                          \n",
      "==================================================================================\n",
      "Dep. Variable:               mathpass   R-squared:                          0.9614\n",
      "Estimator:               Absorbing LS   Adj. R-squared:                     0.9066\n",
      "No. Observations:               24734   F-statistic:                        236.08\n",
      "Date:                Wed, Sep 27 2023   P-value (F-stat):                   0.0000\n",
      "Time:                        17:22:49   Distribution:                      chi2(8)\n",
      "Cov. Estimator:             clustered   R-squared (No Effects):             0.0255\n",
      "                                        Varaibles Absorbed:              1.449e+04\n",
      "                                  Parameter Estimates                                   \n",
      "========================================================================================\n",
      "                      Parameter  Std. Err.     T-stat    P-value    Lower CI    Upper CI\n",
      "----------------------------------------------------------------------------------------\n",
      "virtualper               5.2448     2.5973     2.0193     0.0435      0.1541      10.335\n",
      "hybridper                7.9141     4.0379     1.9600     0.0500   1.414e-05      15.828\n",
      "black                   -0.4896     0.0459    -10.669     0.0000     -0.5796     -0.3997\n",
      "hispanic                -0.3513     0.0372    -9.4324     0.0000     -0.4243     -0.2783\n",
      "lowincome               -0.0337     0.0181    -1.8620     0.0626     -0.0693      0.0018\n",
      "white                   -0.0512     0.0352    -1.4554     0.1456     -0.1201      0.0177\n",
      "hispanic_virtual_int    -0.0352     0.0226    -1.5580     0.1192     -0.0794      0.0091\n",
      "hispanic_hybrid_int     -0.0132     0.0392    -0.3377     0.7356     -0.0901      0.0636\n",
      "========================================================================================\n"
     ]
    }
   ],
   "source": [
    "MATH_DISTRICTYEAR_HISPANIC_PER = results[1]\n",
    "print_summarized_results(MATH_DISTRICTYEAR_HISPANIC_PER)"
   ]
  },
  {
   "cell_type": "markdown",
   "id": "78a82d25",
   "metadata": {},
   "source": [
    "#### ELA - HISPANIC"
   ]
  },
  {
   "cell_type": "code",
   "execution_count": 65,
   "id": "25d0fb36",
   "metadata": {},
   "outputs": [],
   "source": [
    "results = run_generalized_regression_function('elapass', 'totaltested', 'district', 'hispanic')"
   ]
  },
  {
   "cell_type": "code",
   "execution_count": 66,
   "id": "a176e90e",
   "metadata": {},
   "outputs": [
    {
     "name": "stdout",
     "output_type": "stream",
     "text": [
      "                         Absorbing LS Estimation Summary                          \n",
      "==================================================================================\n",
      "Dep. Variable:                elapass   R-squared:                          0.9748\n",
      "Estimator:               Absorbing LS   Adj. R-squared:                     0.9086\n",
      "No. Observations:               18554   F-statistic:                        119.42\n",
      "Date:                Wed, Sep 27 2023   P-value (F-stat):                   0.0000\n",
      "Time:                        17:22:50   Distribution:                      chi2(6)\n",
      "Cov. Estimator:             clustered   R-squared (No Effects):             0.0391\n",
      "                                        Varaibles Absorbed:              1.344e+04\n",
      "                              Parameter Estimates                               \n",
      "================================================================================\n",
      "              Parameter  Std. Err.     T-stat    P-value    Lower CI    Upper CI\n",
      "--------------------------------------------------------------------------------\n",
      "schoolmode       3.1747     1.7272     1.8380     0.0661     -0.2106      6.5600\n",
      "black           -0.3716     0.0616    -6.0356     0.0000     -0.4922     -0.2509\n",
      "hispanic        -0.3013     0.0594    -5.0704     0.0000     -0.4178     -0.1848\n",
      "lowincome       -0.0930     0.0173    -5.3836     0.0000     -0.1269     -0.0592\n",
      "white            0.0554     0.0526     1.0533     0.2922     -0.0477      0.1585\n",
      "hispanic_int    -0.0288     0.0137    -2.0995     0.0358     -0.0557     -0.0019\n",
      "================================================================================\n"
     ]
    }
   ],
   "source": [
    "ELA_DISTRICTYEAR_HISPANIC_NOPER = results[0]\n",
    "print_summarized_results(ELA_DISTRICTYEAR_HISPANIC_NOPER)"
   ]
  },
  {
   "cell_type": "code",
   "execution_count": 67,
   "id": "04291c07",
   "metadata": {
    "scrolled": true
   },
   "outputs": [
    {
     "name": "stdout",
     "output_type": "stream",
     "text": [
      "                         Absorbing LS Estimation Summary                          \n",
      "==================================================================================\n",
      "Dep. Variable:                elapass   R-squared:                          0.9748\n",
      "Estimator:               Absorbing LS   Adj. R-squared:                     0.9086\n",
      "No. Observations:               18554   F-statistic:                        124.93\n",
      "Date:                Wed, Sep 27 2023   P-value (F-stat):                   0.0000\n",
      "Time:                        17:22:50   Distribution:                      chi2(8)\n",
      "Cov. Estimator:             clustered   R-squared (No Effects):             0.0397\n",
      "                                        Varaibles Absorbed:              1.344e+04\n",
      "                                  Parameter Estimates                                   \n",
      "========================================================================================\n",
      "                      Parameter  Std. Err.     T-stat    P-value    Lower CI    Upper CI\n",
      "----------------------------------------------------------------------------------------\n",
      "virtualper               3.7665     1.8058     2.0858     0.0370      0.2273      7.3057\n",
      "hybridper                6.8957     3.6305     1.8994     0.0575     -0.2200      14.011\n",
      "black                   -0.3712     0.0615    -6.0316     0.0000     -0.4918     -0.2506\n",
      "hispanic                -0.3013     0.0594    -5.0730     0.0000     -0.4178     -0.1849\n",
      "lowincome               -0.0926     0.0173    -5.3597     0.0000     -0.1264     -0.0587\n",
      "white                    0.0552     0.0526     1.0504     0.2935     -0.0478      0.1583\n",
      "hispanic_virtual_int    -0.0323     0.0172    -1.8835     0.0596     -0.0659      0.0013\n",
      "hispanic_hybrid_int      0.0050     0.0402     0.1247     0.9007     -0.0738      0.0838\n",
      "========================================================================================\n"
     ]
    }
   ],
   "source": [
    "ELA_DISTRICTYEAR_HISPANIC_PER = results[1]\n",
    "print_summarized_results(ELA_DISTRICTYEAR_HISPANIC_PER)"
   ]
  },
  {
   "cell_type": "markdown",
   "id": "dde51009",
   "metadata": {},
   "source": [
    "#### DROPOUT - BLACK"
   ]
  },
  {
   "cell_type": "code",
   "execution_count": 68,
   "id": "626323b5",
   "metadata": {},
   "outputs": [],
   "source": [
    "results = run_generalized_regression_function('dropout', 'totalenrolled', 'district', 'hispanic')"
   ]
  },
  {
   "cell_type": "code",
   "execution_count": 69,
   "id": "8950fde6",
   "metadata": {},
   "outputs": [
    {
     "name": "stdout",
     "output_type": "stream",
     "text": [
      "                         Absorbing LS Estimation Summary                          \n",
      "==================================================================================\n",
      "Dep. Variable:                dropout   R-squared:                          0.9380\n",
      "Estimator:               Absorbing LS   Adj. R-squared:                     0.7555\n",
      "No. Observations:               15568   F-statistic:                        26.050\n",
      "Date:                Wed, Sep 27 2023   P-value (F-stat):                   0.0002\n",
      "Time:                        17:22:50   Distribution:                      chi2(6)\n",
      "Cov. Estimator:             clustered   R-squared (No Effects):             0.0046\n",
      "                                        Varaibles Absorbed:              1.161e+04\n",
      "                              Parameter Estimates                               \n",
      "================================================================================\n",
      "              Parameter  Std. Err.     T-stat    P-value    Lower CI    Upper CI\n",
      "--------------------------------------------------------------------------------\n",
      "schoolmode      -4.0564     1.1844    -3.4249     0.0006     -6.3778     -1.7350\n",
      "black            0.0133     0.0410     0.3253     0.7449     -0.0669      0.0936\n",
      "hispanic        -0.0494     0.0318    -1.5534     0.1203     -0.1116      0.0129\n",
      "lowincome        0.0288     0.0253     1.1362     0.2559     -0.0209      0.0784\n",
      "white           -0.0310     0.0262    -1.1833     0.2367     -0.0823      0.0203\n",
      "hispanic_int    -0.0012     0.0079    -0.1549     0.8769     -0.0167      0.0142\n",
      "================================================================================\n"
     ]
    }
   ],
   "source": [
    "DROPOUT_DISTRICTYEAR_HISPANIC_NOPER = results[0]\n",
    "print_summarized_results(DROPOUT_DISTRICTYEAR_HISPANIC_NOPER)"
   ]
  },
  {
   "cell_type": "code",
   "execution_count": 70,
   "id": "2329dcbd",
   "metadata": {},
   "outputs": [
    {
     "name": "stdout",
     "output_type": "stream",
     "text": [
      "                         Absorbing LS Estimation Summary                          \n",
      "==================================================================================\n",
      "Dep. Variable:                dropout   R-squared:                          0.9384\n",
      "Estimator:               Absorbing LS   Adj. R-squared:                     0.7571\n",
      "No. Observations:               15568   F-statistic:                        54.253\n",
      "Date:                Wed, Sep 27 2023   P-value (F-stat):                   0.0000\n",
      "Time:                        17:22:51   Distribution:                      chi2(8)\n",
      "Cov. Estimator:             clustered   R-squared (No Effects):             0.0118\n",
      "                                        Varaibles Absorbed:              1.161e+04\n",
      "                                  Parameter Estimates                                   \n",
      "========================================================================================\n",
      "                      Parameter  Std. Err.     T-stat    P-value    Lower CI    Upper CI\n",
      "----------------------------------------------------------------------------------------\n",
      "virtualper              -3.9606     1.1226    -3.5280     0.0004     -6.1609     -1.7603\n",
      "hybridper                5.0821     1.3178     3.8564     0.0001      2.4992      7.6650\n",
      "black                    0.0093     0.0405     0.2304     0.8178     -0.0701      0.0888\n",
      "hispanic                -0.0456     0.0305    -1.4930     0.1354     -0.1054      0.0142\n",
      "lowincome                0.0263     0.0248     1.0627     0.2879     -0.0222      0.0749\n",
      "white                   -0.0293     0.0253    -1.1562     0.2476     -0.0789      0.0204\n",
      "hispanic_virtual_int     0.0263     0.0118     2.2323     0.0256      0.0032      0.0493\n",
      "hispanic_hybrid_int     -0.0715     0.0138    -5.1844     0.0000     -0.0985     -0.0445\n",
      "========================================================================================\n"
     ]
    }
   ],
   "source": [
    "DROPOUT_DISTRICTYEAR_HISPANIC_PER = results[1]\n",
    "print_summarized_results(DROPOUT_DISTRICTYEAR_HISPANIC_PER)"
   ]
  },
  {
   "cell_type": "markdown",
   "id": "e4fcd43b",
   "metadata": {},
   "source": [
    "# School FE + District-Year Interaction + Other Interactions"
   ]
  },
  {
   "cell_type": "markdown",
   "id": "cc1ca301",
   "metadata": {},
   "source": [
    "### School FE + District-Year Interaction + Income Interactions Regression Function"
   ]
  },
  {
   "cell_type": "markdown",
   "id": "c10c3cdf",
   "metadata": {},
   "source": [
    "#### MATH - LOWINCOME"
   ]
  },
  {
   "cell_type": "code",
   "execution_count": 71,
   "id": "9ca69b04",
   "metadata": {},
   "outputs": [],
   "source": [
    "results = run_generalized_regression_function('mathpass', 'totaltested', 'district', 'lowincome')"
   ]
  },
  {
   "cell_type": "code",
   "execution_count": 72,
   "id": "c569c28a",
   "metadata": {
    "scrolled": true
   },
   "outputs": [
    {
     "name": "stdout",
     "output_type": "stream",
     "text": [
      "                         Absorbing LS Estimation Summary                          \n",
      "==================================================================================\n",
      "Dep. Variable:               mathpass   R-squared:                          0.9613\n",
      "Estimator:               Absorbing LS   Adj. R-squared:                     0.9066\n",
      "No. Observations:               24734   F-statistic:                        229.46\n",
      "Date:                Wed, Sep 27 2023   P-value (F-stat):                   0.0000\n",
      "Time:                        17:22:52   Distribution:                      chi2(6)\n",
      "Cov. Estimator:             clustered   R-squared (No Effects):             0.0249\n",
      "                                        Varaibles Absorbed:              1.449e+04\n",
      "                               Parameter Estimates                               \n",
      "=================================================================================\n",
      "               Parameter  Std. Err.     T-stat    P-value    Lower CI    Upper CI\n",
      "---------------------------------------------------------------------------------\n",
      "schoolmode        2.1836     2.4528     0.8902     0.3733     -2.6239      6.9910\n",
      "black            -0.4941     0.0461    -10.721     0.0000     -0.5844     -0.4038\n",
      "hispanic         -0.3576     0.0373    -9.5906     0.0000     -0.4306     -0.2845\n",
      "lowincome        -0.0333     0.0182    -1.8332     0.0668     -0.0690      0.0023\n",
      "white            -0.0568     0.0353    -1.6077     0.1079     -0.1261      0.0125\n",
      "lowincome_int     0.0113     0.0225     0.5016     0.6160     -0.0328      0.0553\n",
      "=================================================================================\n"
     ]
    }
   ],
   "source": [
    "MATH_DISTRICTYEAR_LOWINCOME_NOPER = results[0]\n",
    "print_summarized_results(MATH_DISTRICTYEAR_LOWINCOME_NOPER)"
   ]
  },
  {
   "cell_type": "code",
   "execution_count": 73,
   "id": "9a72cf3a",
   "metadata": {
    "scrolled": false
   },
   "outputs": [
    {
     "name": "stdout",
     "output_type": "stream",
     "text": [
      "                         Absorbing LS Estimation Summary                          \n",
      "==================================================================================\n",
      "Dep. Variable:               mathpass   R-squared:                          0.9613\n",
      "Estimator:               Absorbing LS   Adj. R-squared:                     0.9066\n",
      "No. Observations:               24734   F-statistic:                        230.64\n",
      "Date:                Wed, Sep 27 2023   P-value (F-stat):                   0.0000\n",
      "Time:                        17:22:52   Distribution:                      chi2(8)\n",
      "Cov. Estimator:             clustered   R-squared (No Effects):             0.0251\n",
      "                                        Varaibles Absorbed:              1.449e+04\n",
      "                                   Parameter Estimates                                   \n",
      "=========================================================================================\n",
      "                       Parameter  Std. Err.     T-stat    P-value    Lower CI    Upper CI\n",
      "-----------------------------------------------------------------------------------------\n",
      "virtualper                2.5224     2.6661     0.9461     0.3441     -2.7030      7.7479\n",
      "hybridper                 6.4475     4.4959     1.4341     0.1515     -2.3643      15.259\n",
      "black                    -0.4940     0.0461    -10.726     0.0000     -0.5842     -0.4037\n",
      "hispanic                 -0.3576     0.0373    -9.5935     0.0000     -0.4307     -0.2846\n",
      "lowincome                -0.0331     0.0182    -1.8191     0.0689     -0.0688      0.0026\n",
      "white                    -0.0572     0.0353    -1.6195     0.1053     -0.1264      0.0120\n",
      "lowincome_virtual_int     0.0114     0.0273     0.4171     0.6766     -0.0421      0.0648\n",
      "lowincome_hybrid_int      0.0173     0.0444     0.3902     0.6964     -0.0696      0.1042\n",
      "=========================================================================================\n"
     ]
    }
   ],
   "source": [
    "MATH_DISTRICTYEAR_LOWINCOME_PER = results[1]\n",
    "print_summarized_results(MATH_DISTRICTYEAR_LOWINCOME_PER)"
   ]
  },
  {
   "cell_type": "markdown",
   "id": "09b9cc85",
   "metadata": {},
   "source": [
    "#### ELA - LOWINCOME"
   ]
  },
  {
   "cell_type": "code",
   "execution_count": 74,
   "id": "a68b12fd",
   "metadata": {},
   "outputs": [],
   "source": [
    "results = run_generalized_regression_function('elapass', 'totaltested', 'district', 'lowincome')"
   ]
  },
  {
   "cell_type": "code",
   "execution_count": 75,
   "id": "564eeb14",
   "metadata": {},
   "outputs": [
    {
     "name": "stdout",
     "output_type": "stream",
     "text": [
      "                         Absorbing LS Estimation Summary                          \n",
      "==================================================================================\n",
      "Dep. Variable:                elapass   R-squared:                          0.9748\n",
      "Estimator:               Absorbing LS   Adj. R-squared:                     0.9085\n",
      "No. Observations:               18554   F-statistic:                        111.47\n",
      "Date:                Wed, Sep 27 2023   P-value (F-stat):                   0.0000\n",
      "Time:                        17:22:53   Distribution:                      chi2(6)\n",
      "Cov. Estimator:             clustered   R-squared (No Effects):             0.0385\n",
      "                                        Varaibles Absorbed:              1.344e+04\n",
      "                               Parameter Estimates                               \n",
      "=================================================================================\n",
      "               Parameter  Std. Err.     T-stat    P-value    Lower CI    Upper CI\n",
      "---------------------------------------------------------------------------------\n",
      "schoolmode        1.9647     1.9627     1.0010     0.3168     -1.8821      5.8115\n",
      "black            -0.3763     0.0618    -6.0925     0.0000     -0.4974     -0.2552\n",
      "hispanic         -0.3083     0.0594    -5.1860     0.0000     -0.4248     -0.1918\n",
      "lowincome        -0.0913     0.0174    -5.2514     0.0000     -0.1254     -0.0572\n",
      "white             0.0499     0.0525     0.9500     0.3421     -0.0530      0.1528\n",
      "lowincome_int    -0.0085     0.0169    -0.5022     0.6155     -0.0416      0.0246\n",
      "=================================================================================\n"
     ]
    }
   ],
   "source": [
    "ELA_DISTRICTYEAR_LOWINCOME_NOPER = results[0]\n",
    "print_summarized_results(ELA_DISTRICTYEAR_LOWINCOME_NOPER)"
   ]
  },
  {
   "cell_type": "code",
   "execution_count": 76,
   "id": "eee8dbdb",
   "metadata": {
    "scrolled": true
   },
   "outputs": [
    {
     "name": "stdout",
     "output_type": "stream",
     "text": [
      "                         Absorbing LS Estimation Summary                          \n",
      "==================================================================================\n",
      "Dep. Variable:                elapass   R-squared:                          0.9748\n",
      "Estimator:               Absorbing LS   Adj. R-squared:                     0.9085\n",
      "No. Observations:               18554   F-statistic:                        118.21\n",
      "Date:                Wed, Sep 27 2023   P-value (F-stat):                   0.0000\n",
      "Time:                        17:22:53   Distribution:                      chi2(8)\n",
      "Cov. Estimator:             clustered   R-squared (No Effects):             0.0393\n",
      "                                        Varaibles Absorbed:              1.344e+04\n",
      "                                   Parameter Estimates                                   \n",
      "=========================================================================================\n",
      "                       Parameter  Std. Err.     T-stat    P-value    Lower CI    Upper CI\n",
      "-----------------------------------------------------------------------------------------\n",
      "virtualper                2.7411     2.0505     1.3368     0.1813     -1.2779      6.7600\n",
      "hybridper                 3.9329     4.2207     0.9318     0.3514     -4.3395      12.205\n",
      "black                    -0.3767     0.0617    -6.1011     0.0000     -0.4978     -0.2557\n",
      "hispanic                 -0.3087     0.0594    -5.1939     0.0000     -0.4252     -0.1922\n",
      "lowincome                -0.0909     0.0174    -5.2372     0.0000     -0.1250     -0.0569\n",
      "white                     0.0483     0.0525     0.9204     0.3574     -0.0546      0.1512\n",
      "lowincome_virtual_int    -0.0166     0.0195    -0.8515     0.3945     -0.0548      0.0216\n",
      "lowincome_hybrid_int      0.0475     0.0448     1.0587     0.2897     -0.0404      0.1354\n",
      "=========================================================================================\n"
     ]
    }
   ],
   "source": [
    "ELA_DISTRICTYEAR_LOWINCOME_PER = results[1]\n",
    "print_summarized_results(ELA_DISTRICTYEAR_LOWINCOME_PER)"
   ]
  },
  {
   "cell_type": "markdown",
   "id": "5192296c",
   "metadata": {},
   "source": [
    "#### DROPOUT - LOWINCOME"
   ]
  },
  {
   "cell_type": "code",
   "execution_count": 77,
   "id": "9769d1a0",
   "metadata": {},
   "outputs": [],
   "source": [
    "results = run_generalized_regression_function('dropout', 'totalenrolled', 'district', 'lowincome')"
   ]
  },
  {
   "cell_type": "code",
   "execution_count": 78,
   "id": "d93daa10",
   "metadata": {},
   "outputs": [
    {
     "name": "stdout",
     "output_type": "stream",
     "text": [
      "                         Absorbing LS Estimation Summary                          \n",
      "==================================================================================\n",
      "Dep. Variable:                dropout   R-squared:                          0.9383\n",
      "Estimator:               Absorbing LS   Adj. R-squared:                     0.7567\n",
      "No. Observations:               15568   F-statistic:                        48.116\n",
      "Date:                Wed, Sep 27 2023   P-value (F-stat):                   0.0000\n",
      "Time:                        17:22:54   Distribution:                      chi2(6)\n",
      "Cov. Estimator:             clustered   R-squared (No Effects):             0.0095\n",
      "                                        Varaibles Absorbed:              1.161e+04\n",
      "                               Parameter Estimates                               \n",
      "=================================================================================\n",
      "               Parameter  Std. Err.     T-stat    P-value    Lower CI    Upper CI\n",
      "---------------------------------------------------------------------------------\n",
      "schoolmode       -1.1642     1.1037    -1.0549     0.2915     -3.3274      0.9989\n",
      "black             0.0242     0.0402     0.6019     0.5472     -0.0546      0.1029\n",
      "hispanic         -0.0349     0.0293    -1.1917     0.2334     -0.0924      0.0225\n",
      "lowincome         0.0351     0.0247     1.4205     0.1555     -0.0133      0.0836\n",
      "white            -0.0085     0.0261    -0.3266     0.7440     -0.0597      0.0426\n",
      "lowincome_int    -0.0383     0.0084    -4.5843     0.0000     -0.0547     -0.0219\n",
      "=================================================================================\n"
     ]
    }
   ],
   "source": [
    "DROPOUT_DISTRICTYEAR_LOWINCOME_NOPER = results[0]\n",
    "print_summarized_results(DROPOUT_DISTRICTYEAR_LOWINCOME_NOPER)"
   ]
  },
  {
   "cell_type": "code",
   "execution_count": 79,
   "id": "51b4fb5a",
   "metadata": {},
   "outputs": [
    {
     "name": "stdout",
     "output_type": "stream",
     "text": [
      "                         Absorbing LS Estimation Summary                          \n",
      "==================================================================================\n",
      "Dep. Variable:                dropout   R-squared:                          0.9384\n",
      "Estimator:               Absorbing LS   Adj. R-squared:                     0.7571\n",
      "No. Observations:               15568   F-statistic:                        69.137\n",
      "Date:                Wed, Sep 27 2023   P-value (F-stat):                   0.0000\n",
      "Time:                        17:22:54   Distribution:                      chi2(8)\n",
      "Cov. Estimator:             clustered   R-squared (No Effects):             0.0119\n",
      "                                        Varaibles Absorbed:              1.161e+04\n",
      "                                   Parameter Estimates                                   \n",
      "=========================================================================================\n",
      "                       Parameter  Std. Err.     T-stat    P-value    Lower CI    Upper CI\n",
      "-----------------------------------------------------------------------------------------\n",
      "virtualper               -0.3928     1.1003    -0.3570     0.7211     -2.5493      1.7638\n",
      "hybridper                 5.3452     1.3242     4.0366     0.0001      2.7498      7.9406\n",
      "black                     0.0221     0.0400     0.5533     0.5801     -0.0563      0.1006\n",
      "hispanic                 -0.0353     0.0287    -1.2326     0.2177     -0.0915      0.0209\n",
      "lowincome                 0.0349     0.0247     1.4149     0.1571     -0.0135      0.0834\n",
      "white                    -0.0086     0.0259    -0.3313     0.7404     -0.0593      0.0422\n",
      "lowincome_virtual_int    -0.0260     0.0124    -2.1004     0.0357     -0.0503     -0.0017\n",
      "lowincome_hybrid_int     -0.0410     0.0145    -2.8335     0.0046     -0.0693     -0.0126\n",
      "=========================================================================================\n"
     ]
    }
   ],
   "source": [
    "DROPOUT_DISTRICTYEAR_LOWINCOME_PER = results[1]\n",
    "print_summarized_results(DROPOUT_DISTRICTYEAR_LOWINCOME_PER)"
   ]
  },
  {
   "cell_type": "markdown",
   "id": "1e83c110",
   "metadata": {},
   "source": [
    "### School FE + District-Year Interaction + Charter Interactions Regression Function"
   ]
  },
  {
   "cell_type": "markdown",
   "id": "5682e47e",
   "metadata": {},
   "source": [
    "#### MATH - CHARTER"
   ]
  },
  {
   "cell_type": "code",
   "execution_count": 80,
   "id": "cd997fab",
   "metadata": {},
   "outputs": [],
   "source": [
    "results = run_generalized_regression_function('mathpass', 'totaltested', 'district', 'charter')"
   ]
  },
  {
   "cell_type": "code",
   "execution_count": 81,
   "id": "29c83a97",
   "metadata": {
    "scrolled": true
   },
   "outputs": [
    {
     "name": "stdout",
     "output_type": "stream",
     "text": [
      "                         Absorbing LS Estimation Summary                          \n",
      "==================================================================================\n",
      "Dep. Variable:               mathpass   R-squared:                          0.9614\n",
      "Estimator:               Absorbing LS   Adj. R-squared:                     0.9066\n",
      "No. Observations:               24734   F-statistic:                        233.40\n",
      "Date:                Wed, Sep 27 2023   P-value (F-stat):                   0.0000\n",
      "Time:                        17:22:54   Distribution:                      chi2(6)\n",
      "Cov. Estimator:             clustered   R-squared (No Effects):             0.0256\n",
      "                                        Varaibles Absorbed:              1.449e+04\n",
      "                              Parameter Estimates                              \n",
      "===============================================================================\n",
      "             Parameter  Std. Err.     T-stat    P-value    Lower CI    Upper CI\n",
      "-------------------------------------------------------------------------------\n",
      "schoolmode      3.5313     1.9007     1.8579     0.0632     -0.1941      7.2566\n",
      "black          -0.4934     0.0461    -10.712     0.0000     -0.5837     -0.4032\n",
      "hispanic       -0.3570     0.0373    -9.5775     0.0000     -0.4300     -0.2839\n",
      "lowincome      -0.0331     0.0182    -1.8214     0.0685     -0.0686      0.0025\n",
      "white          -0.0577     0.0353    -1.6321     0.1027     -0.1269      0.0116\n",
      "charter_int    -3.4021     1.5681    -2.1696     0.0300     -6.4754     -0.3288\n",
      "===============================================================================\n"
     ]
    }
   ],
   "source": [
    "MATH_DISTRICTYEAR_CHARTER_NOPER = results[0]\n",
    "print_summarized_results(MATH_DISTRICTYEAR_CHARTER_NOPER)"
   ]
  },
  {
   "cell_type": "code",
   "execution_count": 82,
   "id": "4e0ac13b",
   "metadata": {
    "scrolled": false
   },
   "outputs": [
    {
     "name": "stdout",
     "output_type": "stream",
     "text": [
      "                         Absorbing LS Estimation Summary                          \n",
      "==================================================================================\n",
      "Dep. Variable:               mathpass   R-squared:                          0.9614\n",
      "Estimator:               Absorbing LS   Adj. R-squared:                     0.9067\n",
      "No. Observations:               24734   F-statistic:                        236.92\n",
      "Date:                Wed, Sep 27 2023   P-value (F-stat):                   0.0000\n",
      "Time:                        17:22:54   Distribution:                      chi2(8)\n",
      "Cov. Estimator:             clustered   R-squared (No Effects):             0.0267\n",
      "                                        Varaibles Absorbed:              1.449e+04\n",
      "                                  Parameter Estimates                                  \n",
      "=======================================================================================\n",
      "                     Parameter  Std. Err.     T-stat    P-value    Lower CI    Upper CI\n",
      "---------------------------------------------------------------------------------------\n",
      "virtualper              4.4757     1.9658     2.2768     0.0228      0.6228      8.3286\n",
      "hybridper               2.2066     3.9631     0.5568     0.5777     -5.5609      9.9742\n",
      "black                  -0.4893     0.0460    -10.637     0.0000     -0.5795     -0.3991\n",
      "hispanic               -0.3549     0.0372    -9.5385     0.0000     -0.4279     -0.2820\n",
      "lowincome              -0.0327     0.0182    -1.7992     0.0720     -0.0683      0.0029\n",
      "white                  -0.0542     0.0352    -1.5387     0.1239     -0.1233      0.0148\n",
      "charter_virtual_int    -7.7472     2.8664    -2.7028     0.0069     -13.365     -2.1293\n",
      "charter_hybrid_int      17.522     7.3897     2.3712     0.0177      3.0387      32.006\n",
      "=======================================================================================\n"
     ]
    }
   ],
   "source": [
    "MATH_DISTRICTYEAR_CHARTER_PER = results[1]\n",
    "print_summarized_results(MATH_DISTRICTYEAR_CHARTER_PER)"
   ]
  },
  {
   "cell_type": "markdown",
   "id": "90016ba8",
   "metadata": {},
   "source": [
    "#### ELA - CHARTER"
   ]
  },
  {
   "cell_type": "code",
   "execution_count": 83,
   "id": "abf3884d",
   "metadata": {},
   "outputs": [],
   "source": [
    "results = run_generalized_regression_function('elapass', 'totaltested', 'district', 'charter')"
   ]
  },
  {
   "cell_type": "code",
   "execution_count": 84,
   "id": "e5bfccf7",
   "metadata": {},
   "outputs": [
    {
     "name": "stdout",
     "output_type": "stream",
     "text": [
      "                         Absorbing LS Estimation Summary                          \n",
      "==================================================================================\n",
      "Dep. Variable:                elapass   R-squared:                          0.9748\n",
      "Estimator:               Absorbing LS   Adj. R-squared:                     0.9087\n",
      "No. Observations:               18554   F-statistic:                        113.87\n",
      "Date:                Wed, Sep 27 2023   P-value (F-stat):                   0.0000\n",
      "Time:                        17:22:55   Distribution:                      chi2(6)\n",
      "Cov. Estimator:             clustered   R-squared (No Effects):             0.0402\n",
      "                                        Varaibles Absorbed:              1.344e+04\n",
      "                              Parameter Estimates                              \n",
      "===============================================================================\n",
      "             Parameter  Std. Err.     T-stat    P-value    Lower CI    Upper CI\n",
      "-------------------------------------------------------------------------------\n",
      "schoolmode      2.3729     1.7341     1.3684     0.1712     -1.0258      5.7716\n",
      "black          -0.3799     0.0614    -6.1837     0.0000     -0.5003     -0.2595\n",
      "hispanic       -0.3124     0.0591    -5.2867     0.0000     -0.4282     -0.1966\n",
      "lowincome      -0.0916     0.0174    -5.2492     0.0000     -0.1258     -0.0574\n",
      "white           0.0420     0.0524     0.8019     0.4226     -0.0606      0.1446\n",
      "charter_int    -3.5154     1.3043    -2.6952     0.0070     -6.0718     -0.9590\n",
      "===============================================================================\n"
     ]
    }
   ],
   "source": [
    "ELA_DISTRICTYEAR_CHARTER_NOPER = results[0]\n",
    "print_summarized_results(ELA_DISTRICTYEAR_CHARTER_NOPER)"
   ]
  },
  {
   "cell_type": "code",
   "execution_count": 85,
   "id": "bfee5344",
   "metadata": {
    "scrolled": true
   },
   "outputs": [
    {
     "name": "stdout",
     "output_type": "stream",
     "text": [
      "                         Absorbing LS Estimation Summary                          \n",
      "==================================================================================\n",
      "Dep. Variable:                elapass   R-squared:                          0.9749\n",
      "Estimator:               Absorbing LS   Adj. R-squared:                     0.9087\n",
      "No. Observations:               18554   F-statistic:                        119.29\n",
      "Date:                Wed, Sep 27 2023   P-value (F-stat):                   0.0000\n",
      "Time:                        17:22:55   Distribution:                      chi2(8)\n",
      "Cov. Estimator:             clustered   R-squared (No Effects):             0.0411\n",
      "                                        Varaibles Absorbed:              1.344e+04\n",
      "                                  Parameter Estimates                                  \n",
      "=======================================================================================\n",
      "                     Parameter  Std. Err.     T-stat    P-value    Lower CI    Upper CI\n",
      "---------------------------------------------------------------------------------------\n",
      "virtualper              3.0457     1.7726     1.7182     0.0858     -0.4286      6.5199\n",
      "hybridper               3.2900     3.8662     0.8510     0.3948     -4.2877      10.868\n",
      "black                  -0.3751     0.0613    -6.1217     0.0000     -0.4952     -0.2550\n",
      "hispanic               -0.3099     0.0591    -5.2389     0.0000     -0.4258     -0.1939\n",
      "lowincome              -0.0910     0.0175    -5.2062     0.0000     -0.1252     -0.0567\n",
      "white                   0.0468     0.0527     0.8893     0.3738     -0.0564      0.1501\n",
      "charter_virtual_int    -5.9656     2.4019    -2.4837     0.0130     -10.673     -1.2580\n",
      "charter_hybrid_int      9.4949     6.2901     1.5095     0.1312     -2.8334      21.823\n",
      "=======================================================================================\n"
     ]
    }
   ],
   "source": [
    "ELA_DISTRICTYEAR_CHARTER_PER = results[1]\n",
    "print_summarized_results(ELA_DISTRICTYEAR_CHARTER_PER)"
   ]
  },
  {
   "cell_type": "markdown",
   "id": "63a92a76",
   "metadata": {},
   "source": [
    "#### DROPOUT - CHARTER"
   ]
  },
  {
   "cell_type": "code",
   "execution_count": 86,
   "id": "1a423d9c",
   "metadata": {},
   "outputs": [],
   "source": [
    "results = run_generalized_regression_function('dropout', 'totalenrolled', 'district', 'charter')"
   ]
  },
  {
   "cell_type": "code",
   "execution_count": 87,
   "id": "1571f257",
   "metadata": {},
   "outputs": [
    {
     "name": "stdout",
     "output_type": "stream",
     "text": [
      "                         Absorbing LS Estimation Summary                          \n",
      "==================================================================================\n",
      "Dep. Variable:                dropout   R-squared:                          0.9380\n",
      "Estimator:               Absorbing LS   Adj. R-squared:                     0.7555\n",
      "No. Observations:               15568   F-statistic:                        24.312\n",
      "Date:                Wed, Sep 27 2023   P-value (F-stat):                   0.0005\n",
      "Time:                        17:22:55   Distribution:                      chi2(6)\n",
      "Cov. Estimator:             clustered   R-squared (No Effects):             0.0046\n",
      "                                        Varaibles Absorbed:              1.161e+04\n",
      "                              Parameter Estimates                              \n",
      "===============================================================================\n",
      "             Parameter  Std. Err.     T-stat    P-value    Lower CI    Upper CI\n",
      "-------------------------------------------------------------------------------\n",
      "schoolmode     -4.3228     1.3344    -3.2395     0.0012     -6.9381     -1.7074\n",
      "black           0.0126     0.0410     0.3058     0.7598     -0.0679      0.0930\n",
      "hispanic       -0.0504     0.0303    -1.6617     0.0966     -0.1098      0.0090\n",
      "lowincome       0.0289     0.0250     1.1529     0.2490     -0.0202      0.0779\n",
      "white          -0.0315     0.0258    -1.2193     0.2227     -0.0822      0.0191\n",
      "charter_int     0.1775     0.8818     0.2013     0.8405     -1.5509      1.9059\n",
      "===============================================================================\n"
     ]
    }
   ],
   "source": [
    "DROPOUT_DISTRICTYEAR_CHARTER_NOPER = results[0]\n",
    "print_summarized_results(DROPOUT_DISTRICTYEAR_CHARTER_NOPER)"
   ]
  },
  {
   "cell_type": "code",
   "execution_count": 88,
   "id": "7a18ceec",
   "metadata": {
    "scrolled": true
   },
   "outputs": [
    {
     "name": "stdout",
     "output_type": "stream",
     "text": [
      "                         Absorbing LS Estimation Summary                          \n",
      "==================================================================================\n",
      "Dep. Variable:                dropout   R-squared:                          0.9382\n",
      "Estimator:               Absorbing LS   Adj. R-squared:                     0.7560\n",
      "No. Observations:               15568   F-statistic:                        29.046\n",
      "Date:                Wed, Sep 27 2023   P-value (F-stat):                   0.0003\n",
      "Time:                        17:22:55   Distribution:                      chi2(8)\n",
      "Cov. Estimator:             clustered   R-squared (No Effects):             0.0074\n",
      "                                        Varaibles Absorbed:              1.161e+04\n",
      "                                  Parameter Estimates                                  \n",
      "=======================================================================================\n",
      "                     Parameter  Std. Err.     T-stat    P-value    Lower CI    Upper CI\n",
      "---------------------------------------------------------------------------------------\n",
      "virtualper             -2.6332     1.3592    -1.9373     0.0527     -5.2972      0.0308\n",
      "hybridper               3.4764     1.4285     2.4337     0.0149      0.6767      6.2761\n",
      "black                   0.0092     0.0416     0.2213     0.8248     -0.0723      0.0907\n",
      "hispanic               -0.0539     0.0313    -1.7201     0.0854     -0.1152      0.0075\n",
      "lowincome               0.0291     0.0245     1.1891     0.2344     -0.0189      0.0772\n",
      "white                  -0.0331     0.0258    -1.2829     0.1995     -0.0836      0.0175\n",
      "charter_virtual_int     0.7043     1.6197     0.4348     0.6637     -2.4703      3.8790\n",
      "charter_hybrid_int     -0.4179     3.2714    -0.1277     0.8984     -6.8297      5.9940\n",
      "=======================================================================================\n"
     ]
    }
   ],
   "source": [
    "DROPOUT_DISTRICTYEAR_CHARTER_PER = results[1]\n",
    "print_summarized_results(DROPOUT_DISTRICTYEAR_CHARTER_PER)"
   ]
  },
  {
   "cell_type": "code",
   "execution_count": 89,
   "id": "1c793d85",
   "metadata": {},
   "outputs": [],
   "source": [
    "# # Create a mapping for variable renaming\n",
    "rename_dict = {\n",
    "    'schoolmode': 'Learning Mode',\n",
    "    'black': 'Black',\n",
    "    'hispanic': 'Hispanic',\n",
    "    'white': 'White',\n",
    "    'lowincome': 'Low Income'\n",
    "}\n",
    "\n",
    "# Define the headers for each group of regressions\n",
    "group_headers = [\n",
    "    \"\\\\textbf{\\\\substack{\\\\text{Dependent Variables} \\\\\\\\ \\\\text{w/ Schoolmode}}}\",\n",
    "    \"\\\\textbf{\\\\substack{\\\\text{Dependent Variables} \\\\\\\\ \\\\text{w/o Schoolmode}}}\"\n",
    "]\n",
    "\n",
    "order = ['schoolmode', 'virtualper', 'hybridper', 'black_int', 'black_virtual_int', 'black_hybrid_int', 'hispanic_int', 'hispanic_virtual_int', 'hispanic_hybrid_int', 'lowincome_int', 'lowincome_virtual_int', 'lowincome_hybrid_int', 'charter_int', '','lowincome', 'black', 'hispanic', 'white', 'charter']\n",
    "\n",
    "rename_dict = {\n",
    "    'schoolmode': 'Learning Mode',\n",
    "    'hispanic_int': 'Hispanic I',\n",
    "    'black_int': 'Black I',\n",
    "    'virtualper': 'Virtual \\%',\n",
    "    'hybridper': 'Hybrid \\%',\n",
    "    'charter': 'Charter',\n",
    "    'hispanic_virtual_int': 'Hispanic Virtual I',\n",
    "    'hispanic_hybrid_int': 'Hispanic Hybrid I',\n",
    "    'black_virtual_int': 'Black Virtual I',\n",
    "    'black_hybrid_int': 'Black Hybrid I',\n",
    "    'lowincome': 'Low Income',\n",
    "    'female': 'Female',\n",
    "    'totaltested': 'Total Tested',\n",
    "    'white': 'White',\n",
    "    'black': 'Black',\n",
    "    'hispanic': 'Hispanic',\n",
    "    'retention': 'Retention',\n",
    "    'classize_int': 'Class Size I',\n",
    "    'lowincome_int': 'Low Income I',\n",
    "    'lowincome_virtual_int': 'Low Income Virtual I',\n",
    "    'lowincome_hybrid_int': 'Low Income Hybrid I'\n",
    "}\n",
    "\n",
    "def get_significance(coeff, std_error):\n",
    "    z_value = abs(coeff / std_error)\n",
    "    if z_value >= 1.96:\n",
    "        return '***'\n",
    "    elif z_value >= 1.64:\n",
    "        return '**'\n",
    "    elif z_value >= 1.28:\n",
    "        return '*'\n",
    "    else:\n",
    "        return ''\n",
    "    \n",
    "def get_summary_dictionary_from_table(table):\n",
    "    summary = {}\n",
    "    \n",
    "    for regression_name in table:\n",
    "        regression = globals()[regression_name]  # Get the variable using its name as a string\n",
    "        summary[regression_name] = {\n",
    "            'coefficients': regression.params,\n",
    "            'standard_errors': regression.std_errors,\n",
    "            'observations': regression.nobs,\n",
    "            'name': regression_name.split(\"_\")[0] if regression_name.split(\"_\")[0] != \"DROPOUT\" else \"DROP\"\n",
    "        }\n",
    "        \n",
    "    return summary \n",
    "    \n",
    "def create_latex_table(summary, order, rename_dict, variable_grouping, headers_latex):\n",
    "    latex_table = headers_latex + \"\\n\\\\midrule\\n\"\n",
    "    \n",
    "    for var in order:\n",
    "        row_coeff = []\n",
    "        row_se = []\n",
    "        is_control = var in variable_grouping\n",
    "        is_present_in_any_regression = False  # Flag to check if the variable is present in any regression\n",
    "        \n",
    "        if var in variable_grouping:\n",
    "            latex_table += f\"\\\\textbf{{\\\\emph{{{variable_grouping[var]}}}}}\" + \"&  ref.  \" * len(summary) + \" \\\\\\\\ \\\\addlinespace \"\n",
    "        row_coeff.append(rename_dict.get(var, var))\n",
    "            \n",
    "        for regression in summary.values():\n",
    "            coefficients = regression.get('coefficients', {})\n",
    "            standard_errors = regression.get('standard_errors', {})\n",
    "            \n",
    "            if var in coefficients and var in standard_errors:\n",
    "                is_present_in_any_regression = True\n",
    "                coeff = f\"{coefficients[var]:.3f}\"\n",
    "                se = f\"({standard_errors[var]:.3f})\"\n",
    "                significance = get_significance(coefficients[var], standard_errors[var])  # Assuming this function is defined elsewhere in your code\n",
    "                row_coeff.append(f\"{coeff}\\\\sym{{{significance}}}\")\n",
    "                row_se.append(se)\n",
    "            else:\n",
    "                row_coeff.append(\" \" if is_control else \"ref.\")\n",
    "                row_se.append(\" \")\n",
    "        \n",
    "        # If the variable is not present in any regression, skip adding rows for this variable\n",
    "        if not is_present_in_any_regression:\n",
    "            continue\n",
    "        \n",
    "        latex_table += \" & \".join(row_coeff) + \" \\\\\\\\\\n\"\n",
    "        latex_table += \" & \" + \" & \".join(row_se) + \" \\\\\\\\\\n\"\n",
    "        latex_table += \"\\\\addlinespace\\n\"\n",
    "    \n",
    "    latex_table += \" \\midrule \\midrule Observations\"\n",
    "    for reg_name, regression in summary.items():\n",
    "        observation_number_array = []\n",
    "        for dep_var in summary:\n",
    "            if dep_var == reg_name:\n",
    "                observation_number_array.append(f\"{regression['observations']}\")\n",
    "        latex_table += \" & \" + \" & \".join(observation_number_array)\n",
    "    latex_table += \" \\\\\\ \"\n",
    "    \n",
    "    return latex_table"
   ]
  },
  {
   "cell_type": "code",
   "execution_count": 90,
   "id": "f91ecd7a",
   "metadata": {},
   "outputs": [],
   "source": [
    "table = ['MATH_NOINT_NOPER', 'ELA_NOINT_NOPER', 'DROPOUT_NOINT_NOPER', 'MATH_NOINT_PER', 'ELA_NOINT_PER', 'DROPOUT_NOINT_PER']\n",
    "summary = get_summary_dictionary_from_table(table)\n",
    "\n",
    "header_row1 = \" \".join([f\"&\\\\multicolumn{{3}}{{c}}{{{gh}}}\" for gh in group_headers]) + \" \\\\\\\\ \\\\cmidrule(lr){2-4} \\\\cmidrule(lr){5-7}\"\n",
    "header_row2 = \" \".join([f\"&\\\\multicolumn{{1}}{{c}}{{{summary[regression]['name']}}}\" for regression in table]) + \" \\\\\\\\\"\n",
    "headers_latex = header_row1 + \"\\n\" + header_row2\n",
    "\n",
    "latex_table_str = create_latex_table(summary, order, rename_dict, {\"lowincome\": \"Controls\"}, headers_latex)\n",
    "\n",
    "with io.open(\"../tables/table_noint.tex\", \"w\") as f:\n",
    "    # Write the string to the LaTeX file.\n",
    "    f.write(latex_table_str)\n",
    "\n",
    "# Close the LaTeX file.\n",
    "f.close()"
   ]
  },
  {
   "cell_type": "code",
   "execution_count": 91,
   "id": "5db38dc9",
   "metadata": {},
   "outputs": [],
   "source": [
    "table = ['MATH_DISTRICTYEAR_NOPER', 'ELA_DISTRICTYEAR_NOPER', 'DROPOUT_DISTRICTYEAR_NOPER', 'MATH_DISTRICTYEAR_PER', 'ELA_DISTRICTYEAR_PER', 'DROPOUT_DISTRICTYEAR_PER']\n",
    "\n",
    "summary = get_summary_dictionary_from_table(table)\n",
    "\n",
    "header_row1 = \" \".join([f\"&\\\\multicolumn{{3}}{{c}}{{{gh}}}\" for gh in group_headers]) + \" \\\\\\\\ \\\\cmidrule(lr){2-4} \\\\cmidrule(lr){5-7}\"\n",
    "header_row2 = \" \".join([f\"&\\\\multicolumn{{1}}{{c}}{{{summary[regression]['name']}}}\" for regression in table]) + \" \\\\\\\\\"\n",
    "headers_latex = header_row1 + \"\\n\" + header_row2\n",
    "\n",
    "latex_table_str = create_latex_table(summary, order, rename_dict, {\"lowincome\": \"Controls\"}, headers_latex)\n",
    "\n",
    "with io.open(\"../tables/table_districtyear.tex\", \"w\") as f:\n",
    "    # Write the string to the LaTeX file.\n",
    "    f.write(latex_table_str)\n",
    "\n",
    "# Close the LaTeX file.\n",
    "f.close()\n"
   ]
  },
  {
   "cell_type": "code",
   "execution_count": 92,
   "id": "07196266",
   "metadata": {},
   "outputs": [],
   "source": [
    "table = ['MATH_STATEYEAR_NOPER', 'ELA_STATEYEAR_NOPER', 'DROPOUT_STATEYEAR_NOPER', 'MATH_STATEYEAR_PER', 'ELA_STATEYEAR_PER', 'DROPOUT_STATEYEAR_PER']\n",
    "\n",
    "summary = get_summary_dictionary_from_table(table)\n",
    "\n",
    "header_row1 = \" \".join([f\"&\\\\multicolumn{{3}}{{c}}{{{gh}}}\" for gh in group_headers]) + \" \\\\\\\\ \\\\cmidrule(lr){2-4} \\\\cmidrule(lr){5-7}\"\n",
    "header_row2 = \" \".join([f\"&\\\\multicolumn{{1}}{{c}}{{{summary[regression]['name']}}}\" for regression in table]) + \" \\\\\\\\\"\n",
    "headers_latex = header_row1 + \"\\n\" + header_row2\n",
    "\n",
    "latex_table_str = create_latex_table(summary, order, rename_dict, {\"lowincome\": \"Controls\"}, headers_latex)\n",
    "\n",
    "with io.open(\"../tables/table_stateyear.tex\", \"w\") as f:\n",
    "    # Write the string to the LaTeX file.\n",
    "    f.write(latex_table_str)\n",
    "\n",
    "# Close the LaTeX file.\n",
    "f.close()"
   ]
  },
  {
   "cell_type": "code",
   "execution_count": 93,
   "id": "34cfc936",
   "metadata": {},
   "outputs": [],
   "source": [
    "table = ['MATH_COUNTYYEAR_NOPER', 'ELA_COUNTYYEAR_NOPER', 'DROPOUT_COUNTYYEAR_NOPER', 'MATH_COUNTYYEAR_PER', 'ELA_COUNTYYEAR_PER', 'DROPOUT_COUNTYYEAR_PER']\n",
    "\n",
    "summary = get_summary_dictionary_from_table(table)\n",
    "\n",
    "header_row1 = \" \".join([f\"&\\\\multicolumn{{3}}{{c}}{{{gh}}}\" for gh in group_headers]) + \" \\\\\\\\ \\\\cmidrule(lr){2-4} \\\\cmidrule(lr){5-7}\"\n",
    "header_row2 = \" \".join([f\"&\\\\multicolumn{{1}}{{c}}{{{summary[regression]['name']}}}\" for regression in table]) + \" \\\\\\\\\"\n",
    "headers_latex = header_row1 + \"\\n\" + header_row2\n",
    "\n",
    "latex_table_str = create_latex_table(summary, order, rename_dict, {\"lowincome\": \"Controls\"}, headers_latex)\n",
    "\n",
    "with io.open(\"../tables/table_countyyear.tex\", \"w\") as f:\n",
    "    # Write the string to the LaTeX file.\n",
    "    f.write(latex_table_str)\n",
    "\n",
    "# Close the LaTeX file.\n",
    "f.close()"
   ]
  },
  {
   "cell_type": "code",
   "execution_count": 94,
   "id": "bf632879",
   "metadata": {},
   "outputs": [],
   "source": [
    "table = ['MATH_DISTRICTYEAR_BLACK_NOPER', 'ELA_DISTRICTYEAR_BLACK_NOPER', 'DROPOUT_DISTRICTYEAR_BLACK_NOPER', 'MATH_DISTRICTYEAR_BLACK_PER', 'ELA_DISTRICTYEAR_BLACK_PER', 'DROPOUT_DISTRICTYEAR_BLACK_PER']\n",
    "\n",
    "summary = get_summary_dictionary_from_table(table)\n",
    "\n",
    "header_row1 = \" \".join([f\"&\\\\multicolumn{{3}}{{c}}{{{gh}}}\" for gh in group_headers]) + \" \\\\\\\\ \\\\cmidrule(lr){2-4} \\\\cmidrule(lr){5-7}\"\n",
    "header_row2 = \" \".join([f\"&\\\\multicolumn{{1}}{{c}}{{{summary[regression]['name']}}}\" for regression in table]) + \" \\\\\\\\\"\n",
    "headers_latex = header_row1 + \"\\n\" + header_row2\n",
    "\n",
    "latex_table_str = create_latex_table(summary, order, rename_dict, {\"lowincome\": \"Controls\", \"black_int\": \"Interactions\"}, headers_latex)\n",
    "\n",
    "with io.open(\"../tables/table_districtyear_black.tex\", \"w\") as f:\n",
    "    # Write the string to the LaTeX file.\n",
    "    f.write(latex_table_str)\n",
    "\n",
    "# Close the LaTeX file.\n",
    "f.close()"
   ]
  },
  {
   "cell_type": "code",
   "execution_count": 95,
   "id": "0cfec992",
   "metadata": {},
   "outputs": [],
   "source": [
    "table = ['MATH_DISTRICTYEAR_HISPANIC_NOPER', 'ELA_DISTRICTYEAR_HISPANIC_NOPER', 'DROPOUT_DISTRICTYEAR_HISPANIC_NOPER', 'MATH_DISTRICTYEAR_HISPANIC_PER', 'ELA_DISTRICTYEAR_HISPANIC_PER', 'DROPOUT_DISTRICTYEAR_HISPANIC_PER']\n",
    "\n",
    "summary = get_summary_dictionary_from_table(table)\n",
    "\n",
    "header_row1 = \" \".join([f\"&\\\\multicolumn{{3}}{{c}}{{{gh}}}\" for gh in group_headers]) + \" \\\\\\\\ \\\\cmidrule(lr){2-4} \\\\cmidrule(lr){5-7}\"\n",
    "header_row2 = \" \".join([f\"&\\\\multicolumn{{1}}{{c}}{{{summary[regression]['name']}}}\" for regression in table]) + \" \\\\\\\\\"\n",
    "headers_latex = header_row1 + \"\\n\" + header_row2\n",
    "\n",
    "latex_table_str = create_latex_table(summary, order, rename_dict, {\"lowincome\": \"Controls\", \"black_int\": \"Interactions\"}, headers_latex)\n",
    "\n",
    "with io.open(\"../tables/table_districtyear_hispanic.tex\", \"w\") as f:\n",
    "    # Write the string to the LaTeX file.\n",
    "    f.write(latex_table_str)\n",
    "\n",
    "# Close the LaTeX file.\n",
    "f.close()"
   ]
  },
  {
   "cell_type": "code",
   "execution_count": 96,
   "id": "5839b78c",
   "metadata": {},
   "outputs": [],
   "source": [
    "table = ['MATH_DISTRICTYEAR_LOWINCOME_NOPER', 'ELA_DISTRICTYEAR_LOWINCOME_NOPER', 'DROPOUT_DISTRICTYEAR_LOWINCOME_NOPER', 'MATH_DISTRICTYEAR_LOWINCOME_PER', 'ELA_DISTRICTYEAR_LOWINCOME_PER', 'DROPOUT_DISTRICTYEAR_LOWINCOME_PER']\n",
    "\n",
    "summary = get_summary_dictionary_from_table(table)\n",
    "\n",
    "header_row1 = \" \".join([f\"&\\\\multicolumn{{3}}{{c}}{{{gh}}}\" for gh in group_headers]) + \" \\\\\\\\ \\\\cmidrule(lr){2-4} \\\\cmidrule(lr){5-7}\"\n",
    "header_row2 = \" \".join([f\"&\\\\multicolumn{{1}}{{c}}{{{summary[regression]['name']}}}\" for regression in table]) + \" \\\\\\\\\"\n",
    "headers_latex = header_row1 + \"\\n\" + header_row2\n",
    "\n",
    "latex_table_str = create_latex_table(summary, order, rename_dict, {\"lowincome\": \"Controls\", \"black_int\": \"Interactions\"}, headers_latex)\n",
    "\n",
    "with io.open(\"../tables/table_districtyear_lowincome.tex\", \"w\") as f:\n",
    "    # Write the string to the LaTeX file.\n",
    "    f.write(latex_table_str)\n",
    "\n",
    "# Close the LaTeX file.\n",
    "f.close()"
   ]
  },
  {
   "cell_type": "code",
   "execution_count": 97,
   "id": "ad88e44a",
   "metadata": {},
   "outputs": [],
   "source": [
    "table = ['MATH_DISTRICTYEAR_CHARTER_NOPER', 'ELA_DISTRICTYEAR_CHARTER_NOPER', 'DROPOUT_DISTRICTYEAR_CHARTER_NOPER', 'MATH_DISTRICTYEAR_CHARTER_PER', 'ELA_DISTRICTYEAR_CHARTER_PER', 'DROPOUT_DISTRICTYEAR_CHARTER_PER']\n",
    "\n",
    "summary = get_summary_dictionary_from_table(table)\n",
    "\n",
    "header_row1 = \" \".join([f\"&\\\\multicolumn{{3}}{{c}}{{{gh}}}\" for gh in group_headers]) + \" \\\\\\\\ \\\\cmidrule(lr){2-4} \\\\cmidrule(lr){5-7}\"\n",
    "header_row2 = \" \".join([f\"&\\\\multicolumn{{1}}{{c}}{{{summary[regression]['name']}}}\" for regression in table]) + \" \\\\\\\\\"\n",
    "headers_latex = header_row1 + \"\\n\" + header_row2\n",
    "\n",
    "latex_table_str = create_latex_table(summary, order, rename_dict, {\"lowincome\": \"Controls\", \"charter_int\": \"Interactions\"}, headers_latex)\n",
    "\n",
    "with io.open(\"../tables/table_districtyear_charter.tex\", \"w\") as f:\n",
    "    # Write the string to the LaTeX file.\n",
    "    f.write(latex_table_str)\n",
    "\n",
    "# Close the LaTeX file.\n",
    "f.close()"
   ]
  }
 ],
 "metadata": {
  "kernelspec": {
   "display_name": "Python 3 (ipykernel)",
   "language": "python",
   "name": "python3"
  },
  "language_info": {
   "codemirror_mode": {
    "name": "ipython",
    "version": 3
   },
   "file_extension": ".py",
   "mimetype": "text/x-python",
   "name": "python",
   "nbconvert_exporter": "python",
   "pygments_lexer": "ipython3",
   "version": "3.10.4"
  }
 },
 "nbformat": 4,
 "nbformat_minor": 5
}
