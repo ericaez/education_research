{
 "cells": [
  {
   "cell_type": "code",
   "execution_count": 1,
   "id": "aa1cec1e",
   "metadata": {},
   "outputs": [],
   "source": [
    "import pandas as pd"
   ]
  },
  {
   "cell_type": "markdown",
   "id": "5429d64f",
   "metadata": {},
   "source": [
    "## Year 2021"
   ]
  },
  {
   "cell_type": "markdown",
   "id": "9cb04ebe",
   "metadata": {},
   "source": [
    "### Assessment Data"
   ]
  },
  {
   "cell_type": "markdown",
   "id": "76aa6a67",
   "metadata": {},
   "source": [
    "https://caaspp-elpac.ets.org/caaspp/researchfiles/sb_ca2021_1_csv_v2.zip"
   ]
  },
  {
   "cell_type": "code",
   "execution_count": 2,
   "id": "96854ce0",
   "metadata": {},
   "outputs": [],
   "source": [
    "data = pd.read_csv('test21.txt', sep = '^')"
   ]
  },
  {
   "cell_type": "code",
   "execution_count": 3,
   "id": "83129367",
   "metadata": {},
   "outputs": [
    {
     "data": {
      "text/plain": [
       "Index(['County Code', 'District Code', 'School Code', 'Filler', 'Test Year',\n",
       "       'Student Group ID', 'Test Type', 'Total Tested at Reporting Level',\n",
       "       'Total Tested with Scores at Reporting Level', 'Grade', 'Test ID',\n",
       "       'Students Enrolled', 'Students Tested', 'Mean Scale Score',\n",
       "       'Percentage Standard Exceeded', 'Percentage Standard Met',\n",
       "       'Percentage Standard Met and Above', 'Percentage Standard Nearly Met',\n",
       "       'Percentage Standard Not Met', 'Students with Scores',\n",
       "       'Area 1 Percentage Above Standard', 'Area 1 Percentage Near Standard',\n",
       "       'Area 1 Percentage Below Standard', 'Area 2 Percentage Above Standard',\n",
       "       'Area 2 Percentage Near Standard', 'Area 2 Percentage Below Standard',\n",
       "       'Area 3 Percentage Above Standard', 'Area 3 Percentage Near Standard',\n",
       "       'Area 3 Percentage Below Standard', 'Area 4 Percentage Above Standard',\n",
       "       'Area 4 Percentage Near Standard', 'Area 4 Percentage Below Standard',\n",
       "       'Type ID'],\n",
       "      dtype='object')"
      ]
     },
     "execution_count": 3,
     "metadata": {},
     "output_type": "execute_result"
    }
   ],
   "source": [
    "data.columns"
   ]
  },
  {
   "cell_type": "code",
   "execution_count": 4,
   "id": "91a287b6",
   "metadata": {},
   "outputs": [],
   "source": [
    "condition = ((data['Grade'] == 11) & (data['Test ID'] == 2) & (data['School Code'] != 0) & \n",
    "            (data['Percentage Standard Met and Above'].notnull()) &\n",
    "            (data['Percentage Standard Met and Above'] != '*'))"
   ]
  },
  {
   "cell_type": "code",
   "execution_count": 8,
   "id": "dfd17a34",
   "metadata": {},
   "outputs": [
    {
     "data": {
      "text/html": [
       "<div>\n",
       "<style scoped>\n",
       "    .dataframe tbody tr th:only-of-type {\n",
       "        vertical-align: middle;\n",
       "    }\n",
       "\n",
       "    .dataframe tbody tr th {\n",
       "        vertical-align: top;\n",
       "    }\n",
       "\n",
       "    .dataframe thead th {\n",
       "        text-align: right;\n",
       "    }\n",
       "</style>\n",
       "<table border=\"1\" class=\"dataframe\">\n",
       "  <thead>\n",
       "    <tr style=\"text-align: right;\">\n",
       "      <th></th>\n",
       "      <th>County Code</th>\n",
       "      <th>District Code</th>\n",
       "      <th>School Code</th>\n",
       "      <th>year</th>\n",
       "      <th>totaltested</th>\n",
       "      <th>mathpass</th>\n",
       "      <th>schoolcode</th>\n",
       "    </tr>\n",
       "  </thead>\n",
       "  <tbody>\n",
       "    <tr>\n",
       "      <th>46</th>\n",
       "      <td>1</td>\n",
       "      <td>10017</td>\n",
       "      <td>0112607</td>\n",
       "      <td>2021</td>\n",
       "      <td>59</td>\n",
       "      <td>22.03</td>\n",
       "      <td>1100170112607</td>\n",
       "    </tr>\n",
       "    <tr>\n",
       "      <th>422</th>\n",
       "      <td>1</td>\n",
       "      <td>61127</td>\n",
       "      <td>0130450</td>\n",
       "      <td>2021</td>\n",
       "      <td>218</td>\n",
       "      <td>83.49</td>\n",
       "      <td>1611270130450</td>\n",
       "    </tr>\n",
       "    <tr>\n",
       "      <th>482</th>\n",
       "      <td>1</td>\n",
       "      <td>61143</td>\n",
       "      <td>0131177</td>\n",
       "      <td>2021</td>\n",
       "      <td>56</td>\n",
       "      <td>73.21</td>\n",
       "      <td>1611430131177</td>\n",
       "    </tr>\n",
       "    <tr>\n",
       "      <th>630</th>\n",
       "      <td>1</td>\n",
       "      <td>61150</td>\n",
       "      <td>0132225</td>\n",
       "      <td>2021</td>\n",
       "      <td>249</td>\n",
       "      <td>86.35</td>\n",
       "      <td>1611500132225</td>\n",
       "    </tr>\n",
       "    <tr>\n",
       "      <th>634</th>\n",
       "      <td>1</td>\n",
       "      <td>61150</td>\n",
       "      <td>0133876</td>\n",
       "      <td>2021</td>\n",
       "      <td>32</td>\n",
       "      <td>34.38</td>\n",
       "      <td>1611500133876</td>\n",
       "    </tr>\n",
       "  </tbody>\n",
       "</table>\n",
       "</div>"
      ],
      "text/plain": [
       "    County Code District Code School Code  year totaltested  mathpass  \\\n",
       "46            1         10017     0112607  2021          59     22.03   \n",
       "422           1         61127     0130450  2021         218     83.49   \n",
       "482           1         61143     0131177  2021          56     73.21   \n",
       "630           1         61150     0132225  2021         249     86.35   \n",
       "634           1         61150     0133876  2021          32     34.38   \n",
       "\n",
       "        schoolcode  \n",
       "46   1100170112607  \n",
       "422  1611270130450  \n",
       "482  1611430131177  \n",
       "630  1611500132225  \n",
       "634  1611500133876  "
      ]
     },
     "execution_count": 8,
     "metadata": {},
     "output_type": "execute_result"
    }
   ],
   "source": [
    "test_data = data.loc[condition, ['County Code', 'District Code', 'School Code', 'Test Year',\n",
    "                   'Students with Scores','Percentage Standard Met and Above']].rename(columns = {\n",
    "    'Students with Scores':'totaltested', 'Percentage Standard Met and Above':'mathpass', 'Test Year':'year'\n",
    "})\n",
    "test_data.loc[:, ['County Code', 'District Code', 'School Code', 'year']] = test_data.loc[:, [\n",
    "    'County Code', 'District Code', 'School Code', 'year']].astype('str')\n",
    "test_data['mathpass'] = round(test_data['mathpass'].astype('float'), 2)\n",
    "\n",
    "for i in list(test_data['School Code']):\n",
    "    if len(i) == 6:\n",
    "        test_data.loc[test_data['School Code'] == i, 'School Code'] = '0' + i\n",
    "\n",
    "test_data['schoolcode'] = test_data['County Code'] + test_data['District Code'] + test_data['School Code']\n",
    "\n",
    "test_data = test_data.loc[test_data['totaltested'].astype('int') > 0, :]\n",
    "\n",
    "test_data.head()"
   ]
  },
  {
   "cell_type": "markdown",
   "id": "c1bfa833",
   "metadata": {},
   "source": [
    "### Demographics Data"
   ]
  },
  {
   "cell_type": "markdown",
   "id": "09eca451",
   "metadata": {},
   "source": [
    "https://dq.cde.ca.gov/dataquest/dlfile/dlfile.aspx?cLevel=School&cYear=2020-21&cCat=Enrollment&cPage=filesenr.asp"
   ]
  },
  {
   "cell_type": "code",
   "execution_count": 9,
   "id": "0ac52e41",
   "metadata": {},
   "outputs": [],
   "source": [
    "data = pd.read_csv('enr21.txt', sep = '\\t')"
   ]
  },
  {
   "cell_type": "code",
   "execution_count": 10,
   "id": "6c752de5",
   "metadata": {},
   "outputs": [
    {
     "data": {
      "text/plain": [
       "Index(['CDS_CODE', 'COUNTY', 'DISTRICT', 'SCHOOL', 'ETHNIC', 'GENDER', 'KDGN',\n",
       "       'GR_1', 'GR_2', 'GR_3', 'GR_4', 'GR_5', 'GR_6', 'GR_7', 'GR_8',\n",
       "       'UNGR_ELM', 'GR_9', 'GR_10', 'GR_11', 'GR_12', 'UNGR_SEC', 'ENR_TOTAL',\n",
       "       'ADULT'],\n",
       "      dtype='object')"
      ]
     },
     "execution_count": 10,
     "metadata": {},
     "output_type": "execute_result"
    }
   ],
   "source": [
    "data.columns"
   ]
  },
  {
   "cell_type": "code",
   "execution_count": 11,
   "id": "cfd1949f",
   "metadata": {},
   "outputs": [
    {
     "name": "stderr",
     "output_type": "stream",
     "text": [
      "/var/folders/7s/7pz0sdt94z3dpk3yrw82q8jm0000gn/T/ipykernel_31669/2122975960.py:12: SettingWithCopyWarning: \n",
      "A value is trying to be set on a copy of a slice from a DataFrame.\n",
      "Try using .loc[row_indexer,col_indexer] = value instead\n",
      "\n",
      "See the caveats in the documentation: https://pandas.pydata.org/pandas-docs/stable/user_guide/indexing.html#returning-a-view-versus-a-copy\n",
      "  demo['ETHNIC'] = demo['ETHNIC'].map(race_map)\n"
     ]
    },
    {
     "data": {
      "text/html": [
       "<div>\n",
       "<style scoped>\n",
       "    .dataframe tbody tr th:only-of-type {\n",
       "        vertical-align: middle;\n",
       "    }\n",
       "\n",
       "    .dataframe tbody tr th {\n",
       "        vertical-align: top;\n",
       "    }\n",
       "\n",
       "    .dataframe thead th {\n",
       "        text-align: right;\n",
       "    }\n",
       "</style>\n",
       "<table border=\"1\" class=\"dataframe\">\n",
       "  <thead>\n",
       "    <tr style=\"text-align: right;\">\n",
       "      <th></th>\n",
       "      <th>schoolcode</th>\n",
       "      <th>black</th>\n",
       "      <th>hispanic</th>\n",
       "      <th>white</th>\n",
       "      <th>totalenrolled</th>\n",
       "    </tr>\n",
       "  </thead>\n",
       "  <tbody>\n",
       "    <tr>\n",
       "      <th>0</th>\n",
       "      <td>1100170112607</td>\n",
       "      <td>35.54</td>\n",
       "      <td>49.51</td>\n",
       "      <td>4.17</td>\n",
       "      <td>408</td>\n",
       "    </tr>\n",
       "    <tr>\n",
       "      <th>1</th>\n",
       "      <td>1100170123968</td>\n",
       "      <td>18.58</td>\n",
       "      <td>63.24</td>\n",
       "      <td>1.98</td>\n",
       "      <td>253</td>\n",
       "    </tr>\n",
       "    <tr>\n",
       "      <th>2</th>\n",
       "      <td>1100170124172</td>\n",
       "      <td>8.83</td>\n",
       "      <td>6.67</td>\n",
       "      <td>9.01</td>\n",
       "      <td>555</td>\n",
       "    </tr>\n",
       "    <tr>\n",
       "      <th>3</th>\n",
       "      <td>1100170125567</td>\n",
       "      <td>20.51</td>\n",
       "      <td>29.87</td>\n",
       "      <td>27.09</td>\n",
       "      <td>395</td>\n",
       "    </tr>\n",
       "    <tr>\n",
       "      <th>4</th>\n",
       "      <td>1100170130401</td>\n",
       "      <td>62.00</td>\n",
       "      <td>32.00</td>\n",
       "      <td>2.00</td>\n",
       "      <td>50</td>\n",
       "    </tr>\n",
       "  </tbody>\n",
       "</table>\n",
       "</div>"
      ],
      "text/plain": [
       "      schoolcode  black  hispanic  white  totalenrolled\n",
       "0  1100170112607  35.54     49.51   4.17            408\n",
       "1  1100170123968  18.58     63.24   1.98            253\n",
       "2  1100170124172   8.83      6.67   9.01            555\n",
       "3  1100170125567  20.51     29.87  27.09            395\n",
       "4  1100170130401  62.00     32.00   2.00             50"
      ]
     },
     "execution_count": 11,
     "metadata": {},
     "output_type": "execute_result"
    }
   ],
   "source": [
    "total_enroll = data.loc[:, ['CDS_CODE', 'ETHNIC', 'GENDER', 'ENR_TOTAL']].groupby('CDS_CODE'\n",
    "    ).sum().reset_index().loc[:,['CDS_CODE', 'ENR_TOTAL']].rename(columns = {'ENR_TOTAL':'total'})\n",
    "total_enroll = total_enroll.loc[total_enroll['total'] > 0, :]\n",
    "\n",
    "group_enroll = data.loc[:, ['CDS_CODE', 'ETHNIC', 'GENDER', 'ENR_TOTAL']].groupby(['CDS_CODE', 'ETHNIC']\n",
    "    ).sum().reset_index()\n",
    "\n",
    "race_map = {5:'hispanic', 6:'black', 7:'white'}\n",
    "\n",
    "demo = group_enroll.loc[group_enroll['ETHNIC'].isin([5, 6, 7]), :]\n",
    "\n",
    "demo['ETHNIC'] = demo['ETHNIC'].map(race_map)\n",
    "\n",
    "demo = demo.merge(total_enroll, on ='CDS_CODE')\n",
    "\n",
    "demo['percent'] = round((demo['ENR_TOTAL'] / demo['total']) * 100, 2)\n",
    "\n",
    "demo = demo.pivot(columns = 'ETHNIC', index = 'CDS_CODE', values = 'percent').reset_index().fillna(0)\n",
    "\n",
    "demo = demo.merge(total_enroll, on = 'CDS_CODE').rename(columns = {'total':'totalenrolled', \n",
    "                                                                   'CDS_CODE':'schoolcode'})\n",
    "\n",
    "demo['schoolcode'] = demo['schoolcode'].astype('str')\n",
    "\n",
    "demo.head()"
   ]
  },
  {
   "cell_type": "markdown",
   "id": "3112a125",
   "metadata": {},
   "source": [
    "### FRPM Data"
   ]
  },
  {
   "cell_type": "markdown",
   "id": "74543e58",
   "metadata": {},
   "source": [
    "https://www.cde.ca.gov/ds/ad/documents/frpm2021.xlsx"
   ]
  },
  {
   "cell_type": "code",
   "execution_count": 12,
   "id": "929b6817",
   "metadata": {},
   "outputs": [
    {
     "data": {
      "text/plain": [
       "Index(['Academic Year', 'County Code', 'District Code', 'School Code',\n",
       "       'County Name', 'District Name', 'School Name', 'District Type',\n",
       "       'School Type', 'Educational \\nOption Type', 'NSLP \\nProvision \\nStatus',\n",
       "       'Charter \\nSchool \\n(Y/N)', 'Charter \\nSchool \\nNumber',\n",
       "       'Charter \\nFunding \\nType', 'IRC', 'Low Grade', 'High Grade',\n",
       "       'Enrollment \\n(K-12)', 'Free Meal \\nCount \\n(K-12)',\n",
       "       'Percent (%) \\nEligible Free \\n(K-12)', 'FRPM Count \\n(K-12)',\n",
       "       'Percent (%) \\nEligible FRPM \\n(K-12)', 'Enrollment \\n(Ages 5-17)',\n",
       "       'Free Meal \\nCount \\n(Ages 5-17)',\n",
       "       'Percent (%) \\nEligible Free \\n(Ages 5-17)', 'FRPM Count \\n(Ages 5-17)',\n",
       "       'Percent (%) \\nEligible FRPM \\n(Ages 5-17)',\n",
       "       'CALPADS Fall 1 \\nCertification Status'],\n",
       "      dtype='object', name=1)"
      ]
     },
     "execution_count": 12,
     "metadata": {},
     "output_type": "execute_result"
    }
   ],
   "source": [
    "data = pd.read_csv('frpm21.csv', header = None).iloc[1:, :]\n",
    "\n",
    "data.columns = data.iloc[0, :]\n",
    "\n",
    "data = data.iloc[1:, :]\n",
    "\n",
    "data.columns"
   ]
  },
  {
   "cell_type": "code",
   "execution_count": 13,
   "id": "e980949d",
   "metadata": {},
   "outputs": [
    {
     "data": {
      "text/html": [
       "<div>\n",
       "<style scoped>\n",
       "    .dataframe tbody tr th:only-of-type {\n",
       "        vertical-align: middle;\n",
       "    }\n",
       "\n",
       "    .dataframe tbody tr th {\n",
       "        vertical-align: top;\n",
       "    }\n",
       "\n",
       "    .dataframe thead th {\n",
       "        text-align: right;\n",
       "    }\n",
       "</style>\n",
       "<table border=\"1\" class=\"dataframe\">\n",
       "  <thead>\n",
       "    <tr style=\"text-align: right;\">\n",
       "      <th>1</th>\n",
       "      <th>schoolcode</th>\n",
       "      <th>lowincome</th>\n",
       "    </tr>\n",
       "  </thead>\n",
       "  <tbody>\n",
       "    <tr>\n",
       "      <th>2</th>\n",
       "      <td>1100170130419</td>\n",
       "      <td>72.0</td>\n",
       "    </tr>\n",
       "    <tr>\n",
       "      <th>3</th>\n",
       "      <td>1100170130401</td>\n",
       "      <td>100.0</td>\n",
       "    </tr>\n",
       "    <tr>\n",
       "      <th>4</th>\n",
       "      <td>1100170137448</td>\n",
       "      <td>74.1</td>\n",
       "    </tr>\n",
       "    <tr>\n",
       "      <th>5</th>\n",
       "      <td>1100170123968</td>\n",
       "      <td>69.8</td>\n",
       "    </tr>\n",
       "    <tr>\n",
       "      <th>6</th>\n",
       "      <td>1100170136101</td>\n",
       "      <td>26.9</td>\n",
       "    </tr>\n",
       "  </tbody>\n",
       "</table>\n",
       "</div>"
      ],
      "text/plain": [
       "1     schoolcode  lowincome\n",
       "2  1100170130419       72.0\n",
       "3  1100170130401      100.0\n",
       "4  1100170137448       74.1\n",
       "5  1100170123968       69.8\n",
       "6  1100170136101       26.9"
      ]
     },
     "execution_count": 13,
     "metadata": {},
     "output_type": "execute_result"
    }
   ],
   "source": [
    "frpm = data.loc[:, ['County Code', 'District Code', 'School Code',\n",
    "            'Percent (%) \\nEligible FRPM \\n(Ages 5-17)']].rename(columns = {'Academic Year':'year',\n",
    "            'Percent (%) \\nEligible FRPM \\n(Ages 5-17)':'lowincome'})\n",
    "\n",
    "frpm['lowincome'] = round(frpm['lowincome'].str.rstrip('%').astype('float'), 2)\n",
    "frpm['County Code'] = frpm['County Code'].astype('int').astype('str')\n",
    "frpm['schoolcode'] = frpm['County Code'] + frpm['District Code'] + frpm['School Code']\n",
    "\n",
    "frpm = frpm.loc[:, ['schoolcode', 'lowincome']]\n",
    "\n",
    "frpm.head()"
   ]
  },
  {
   "cell_type": "code",
   "execution_count": 14,
   "id": "64d6c042",
   "metadata": {},
   "outputs": [],
   "source": [
    "math21 = frpm.merge(demo, on = 'schoolcode').merge(test_data, on = 'schoolcode')"
   ]
  },
  {
   "cell_type": "markdown",
   "id": "2e8f3cad",
   "metadata": {},
   "source": [
    "## Year 2019"
   ]
  },
  {
   "cell_type": "markdown",
   "id": "30e12812",
   "metadata": {},
   "source": [
    "### Assessment Data"
   ]
  },
  {
   "cell_type": "markdown",
   "id": "e9e2f5c1",
   "metadata": {},
   "source": [
    "https://caaspp-elpac.ets.org/caaspp/researchfiles/sb_ca2019_1_csv_v4.zip"
   ]
  },
  {
   "cell_type": "code",
   "execution_count": 15,
   "id": "5366a95b",
   "metadata": {},
   "outputs": [],
   "source": [
    "data = pd.read_csv('test19.txt', sep = ',')"
   ]
  },
  {
   "cell_type": "code",
   "execution_count": 16,
   "id": "ac45e0db",
   "metadata": {},
   "outputs": [
    {
     "data": {
      "text/plain": [
       "Index(['County Code', 'District Code', 'School Code', 'Filler', 'Test Year',\n",
       "       'Subgroup ID', 'Test Type', 'Total Tested At Entity Level',\n",
       "       'Total Tested with Scores', 'Grade', 'Test Id',\n",
       "       'CAASPP Reported Enrollment', 'Students Tested', 'Mean Scale Score',\n",
       "       'Percentage Standard Exceeded', 'Percentage Standard Met',\n",
       "       'Percentage Standard Met and Above', 'Percentage Standard Nearly Met',\n",
       "       'Percentage Standard Not Met', 'Students with Scores',\n",
       "       'Area 1 Percentage Above Standard', 'Area 1 Percentage Near Standard',\n",
       "       'Area 1 Percentage Below Standard', 'Area 2 Percentage Above Standard',\n",
       "       'Area 2 Percentage Near Standard', 'Area 2 Percentage Below Standard',\n",
       "       'Area 3 Percentage Above Standard', 'Area 3 Percentage Near Standard',\n",
       "       'Area 3 Percentage Below Standard', 'Area 4 Percentage Above Standard',\n",
       "       'Area 4 Percentage Near Standard', 'Area 4 Percentage Below Standard'],\n",
       "      dtype='object')"
      ]
     },
     "execution_count": 16,
     "metadata": {},
     "output_type": "execute_result"
    }
   ],
   "source": [
    "data.columns"
   ]
  },
  {
   "cell_type": "code",
   "execution_count": 17,
   "id": "1ae58276",
   "metadata": {},
   "outputs": [],
   "source": [
    "condition = ((data['Grade'] == 11) & (data['Test Id'] == 2) & (data['School Code'] != 0) \n",
    "            & (data['Percentage Standard Met and Above'].notnull()) &\n",
    "            (data['Percentage Standard Met and Above'] != '*'))"
   ]
  },
  {
   "cell_type": "code",
   "execution_count": 18,
   "id": "a1cda651",
   "metadata": {},
   "outputs": [
    {
     "data": {
      "text/html": [
       "<div>\n",
       "<style scoped>\n",
       "    .dataframe tbody tr th:only-of-type {\n",
       "        vertical-align: middle;\n",
       "    }\n",
       "\n",
       "    .dataframe tbody tr th {\n",
       "        vertical-align: top;\n",
       "    }\n",
       "\n",
       "    .dataframe thead th {\n",
       "        text-align: right;\n",
       "    }\n",
       "</style>\n",
       "<table border=\"1\" class=\"dataframe\">\n",
       "  <thead>\n",
       "    <tr style=\"text-align: right;\">\n",
       "      <th></th>\n",
       "      <th>County Code</th>\n",
       "      <th>District Code</th>\n",
       "      <th>School Code</th>\n",
       "      <th>year</th>\n",
       "      <th>totaltested</th>\n",
       "      <th>mathpass</th>\n",
       "      <th>schoolcode</th>\n",
       "    </tr>\n",
       "  </thead>\n",
       "  <tbody>\n",
       "    <tr>\n",
       "      <th>42</th>\n",
       "      <td>1</td>\n",
       "      <td>10017</td>\n",
       "      <td>0112607</td>\n",
       "      <td>2019</td>\n",
       "      <td>84</td>\n",
       "      <td>10.71</td>\n",
       "      <td>1100170112607</td>\n",
       "    </tr>\n",
       "    <tr>\n",
       "      <th>124</th>\n",
       "      <td>1</td>\n",
       "      <td>10017</td>\n",
       "      <td>0136101</td>\n",
       "      <td>2019</td>\n",
       "      <td>18</td>\n",
       "      <td>33.33</td>\n",
       "      <td>1100170136101</td>\n",
       "    </tr>\n",
       "    <tr>\n",
       "      <th>170</th>\n",
       "      <td>1</td>\n",
       "      <td>15725</td>\n",
       "      <td>0115725</td>\n",
       "      <td>2019</td>\n",
       "      <td>63</td>\n",
       "      <td>23.81</td>\n",
       "      <td>1157250115725</td>\n",
       "    </tr>\n",
       "    <tr>\n",
       "      <th>230</th>\n",
       "      <td>1</td>\n",
       "      <td>31617</td>\n",
       "      <td>0131763</td>\n",
       "      <td>2019</td>\n",
       "      <td>35</td>\n",
       "      <td>2.86</td>\n",
       "      <td>1316170131763</td>\n",
       "    </tr>\n",
       "    <tr>\n",
       "      <th>250</th>\n",
       "      <td>1</td>\n",
       "      <td>61119</td>\n",
       "      <td>0106401</td>\n",
       "      <td>2019</td>\n",
       "      <td>48</td>\n",
       "      <td>89.58</td>\n",
       "      <td>1611190106401</td>\n",
       "    </tr>\n",
       "  </tbody>\n",
       "</table>\n",
       "</div>"
      ],
      "text/plain": [
       "    County Code District Code School Code  year totaltested  mathpass  \\\n",
       "42            1         10017     0112607  2019          84     10.71   \n",
       "124           1         10017     0136101  2019          18     33.33   \n",
       "170           1         15725     0115725  2019          63     23.81   \n",
       "230           1         31617     0131763  2019          35      2.86   \n",
       "250           1         61119     0106401  2019          48     89.58   \n",
       "\n",
       "        schoolcode  \n",
       "42   1100170112607  \n",
       "124  1100170136101  \n",
       "170  1157250115725  \n",
       "230  1316170131763  \n",
       "250  1611190106401  "
      ]
     },
     "execution_count": 18,
     "metadata": {},
     "output_type": "execute_result"
    }
   ],
   "source": [
    "test_data = data.loc[condition, ['County Code', 'District Code', 'School Code', 'Test Year',\n",
    "                   'Students with Scores','Percentage Standard Met and Above']].rename(columns = {\n",
    "    'Students with Scores':'totaltested', 'Percentage Standard Met and Above':'mathpass', \n",
    "    'Test Year':'year'\n",
    "})\n",
    "test_data.loc[:, ['County Code', 'District Code', 'School Code', 'year']] = test_data.loc[:, [\n",
    "    'County Code', 'District Code', 'School Code', 'year']].astype('str')\n",
    "test_data['mathpass'] = round(test_data['mathpass'].astype('float'), 2)\n",
    "\n",
    "for i in list(test_data['School Code']):\n",
    "    if len(i) == 6:\n",
    "        test_data.loc[test_data['School Code'] == i, 'School Code'] = '0' + i\n",
    "\n",
    "test_data['schoolcode'] = test_data['County Code'] + test_data['District Code'] + test_data['School Code']\n",
    "\n",
    "test_data = test_data.loc[test_data['totaltested'].astype('int') > 0, :]\n",
    "\n",
    "test_data.head()"
   ]
  },
  {
   "cell_type": "markdown",
   "id": "6e634db8",
   "metadata": {},
   "source": [
    "### Demographics Data"
   ]
  },
  {
   "cell_type": "markdown",
   "id": "97244d35",
   "metadata": {},
   "source": [
    "https://dq.cde.ca.gov/dataquest/dlfile/dlfile.aspx?cLevel=School&cYear=2018-19&cCat=Enrollment&cPage=filesenr.asp"
   ]
  },
  {
   "cell_type": "code",
   "execution_count": 19,
   "id": "471263b7",
   "metadata": {},
   "outputs": [],
   "source": [
    "data = pd.read_csv('enr19.txt', sep = '\\t')"
   ]
  },
  {
   "cell_type": "code",
   "execution_count": 20,
   "id": "dd1f88c5",
   "metadata": {},
   "outputs": [
    {
     "data": {
      "text/plain": [
       "Index(['CDS_CODE', 'COUNTY', 'DISTRICT', 'SCHOOL', 'ETHNIC', 'GENDER', 'KDGN',\n",
       "       'GR_1', 'GR_2', 'GR_3', 'GR_4', 'GR_5', 'GR_6', 'GR_7', 'GR_8',\n",
       "       'UNGR_ELM', 'GR_9', 'GR_10', 'GR_11', 'GR_12', 'UNGR_SEC', 'ENR_TOTAL',\n",
       "       'ADULT'],\n",
       "      dtype='object')"
      ]
     },
     "execution_count": 20,
     "metadata": {},
     "output_type": "execute_result"
    }
   ],
   "source": [
    "data.columns"
   ]
  },
  {
   "cell_type": "code",
   "execution_count": 21,
   "id": "ea4f7430",
   "metadata": {},
   "outputs": [
    {
     "name": "stderr",
     "output_type": "stream",
     "text": [
      "/var/folders/7s/7pz0sdt94z3dpk3yrw82q8jm0000gn/T/ipykernel_31669/2122975960.py:12: SettingWithCopyWarning: \n",
      "A value is trying to be set on a copy of a slice from a DataFrame.\n",
      "Try using .loc[row_indexer,col_indexer] = value instead\n",
      "\n",
      "See the caveats in the documentation: https://pandas.pydata.org/pandas-docs/stable/user_guide/indexing.html#returning-a-view-versus-a-copy\n",
      "  demo['ETHNIC'] = demo['ETHNIC'].map(race_map)\n"
     ]
    },
    {
     "data": {
      "text/html": [
       "<div>\n",
       "<style scoped>\n",
       "    .dataframe tbody tr th:only-of-type {\n",
       "        vertical-align: middle;\n",
       "    }\n",
       "\n",
       "    .dataframe tbody tr th {\n",
       "        vertical-align: top;\n",
       "    }\n",
       "\n",
       "    .dataframe thead th {\n",
       "        text-align: right;\n",
       "    }\n",
       "</style>\n",
       "<table border=\"1\" class=\"dataframe\">\n",
       "  <thead>\n",
       "    <tr style=\"text-align: right;\">\n",
       "      <th></th>\n",
       "      <th>schoolcode</th>\n",
       "      <th>black</th>\n",
       "      <th>hispanic</th>\n",
       "      <th>white</th>\n",
       "      <th>totalenrolled</th>\n",
       "    </tr>\n",
       "  </thead>\n",
       "  <tbody>\n",
       "    <tr>\n",
       "      <th>0</th>\n",
       "      <td>1100170112607</td>\n",
       "      <td>32.73</td>\n",
       "      <td>56.36</td>\n",
       "      <td>3.64</td>\n",
       "      <td>385</td>\n",
       "    </tr>\n",
       "    <tr>\n",
       "      <th>1</th>\n",
       "      <td>1100170123968</td>\n",
       "      <td>14.94</td>\n",
       "      <td>57.68</td>\n",
       "      <td>2.90</td>\n",
       "      <td>241</td>\n",
       "    </tr>\n",
       "    <tr>\n",
       "      <th>2</th>\n",
       "      <td>1100170124172</td>\n",
       "      <td>6.07</td>\n",
       "      <td>5.84</td>\n",
       "      <td>8.09</td>\n",
       "      <td>445</td>\n",
       "    </tr>\n",
       "    <tr>\n",
       "      <th>3</th>\n",
       "      <td>1100170125567</td>\n",
       "      <td>18.98</td>\n",
       "      <td>25.69</td>\n",
       "      <td>30.56</td>\n",
       "      <td>432</td>\n",
       "    </tr>\n",
       "    <tr>\n",
       "      <th>4</th>\n",
       "      <td>1100170130401</td>\n",
       "      <td>63.04</td>\n",
       "      <td>26.09</td>\n",
       "      <td>10.87</td>\n",
       "      <td>46</td>\n",
       "    </tr>\n",
       "  </tbody>\n",
       "</table>\n",
       "</div>"
      ],
      "text/plain": [
       "      schoolcode  black  hispanic  white  totalenrolled\n",
       "0  1100170112607  32.73     56.36   3.64            385\n",
       "1  1100170123968  14.94     57.68   2.90            241\n",
       "2  1100170124172   6.07      5.84   8.09            445\n",
       "3  1100170125567  18.98     25.69  30.56            432\n",
       "4  1100170130401  63.04     26.09  10.87             46"
      ]
     },
     "execution_count": 21,
     "metadata": {},
     "output_type": "execute_result"
    }
   ],
   "source": [
    "total_enroll = data.loc[:, ['CDS_CODE', 'ETHNIC', 'GENDER', 'ENR_TOTAL']].groupby('CDS_CODE'\n",
    "    ).sum().reset_index().loc[:,['CDS_CODE', 'ENR_TOTAL']].rename(columns = {'ENR_TOTAL':'total'})\n",
    "total_enroll = total_enroll.loc[total_enroll['total'] > 0, :]\n",
    "\n",
    "group_enroll = data.loc[:, ['CDS_CODE', 'ETHNIC', 'GENDER', 'ENR_TOTAL']].groupby(['CDS_CODE', 'ETHNIC']\n",
    "    ).sum().reset_index()\n",
    "\n",
    "race_map = {5:'hispanic', 6:'black', 7:'white'}\n",
    "\n",
    "demo = group_enroll.loc[group_enroll['ETHNIC'].isin([5, 6, 7]), :]\n",
    "\n",
    "demo['ETHNIC'] = demo['ETHNIC'].map(race_map)\n",
    "\n",
    "demo = demo.merge(total_enroll, on ='CDS_CODE')\n",
    "\n",
    "demo['percent'] = round((demo['ENR_TOTAL'] / demo['total']) * 100, 2)\n",
    "\n",
    "demo = demo.pivot(columns = 'ETHNIC', index = 'CDS_CODE', values = 'percent').reset_index().fillna(0)\n",
    "\n",
    "demo = demo.merge(total_enroll, on = 'CDS_CODE').rename(columns = {'total':'totalenrolled', \n",
    "                                                                   'CDS_CODE':'schoolcode'})\n",
    "\n",
    "demo['schoolcode'] = demo['schoolcode'].astype('str')\n",
    "\n",
    "demo.head()"
   ]
  },
  {
   "cell_type": "markdown",
   "id": "e3cbe41d",
   "metadata": {},
   "source": [
    "### FRPM Data"
   ]
  },
  {
   "cell_type": "markdown",
   "id": "bef21e32",
   "metadata": {},
   "source": [
    "https://www.cde.ca.gov/ds/ad/documents/frpm1819.xlsx"
   ]
  },
  {
   "cell_type": "code",
   "execution_count": 22,
   "id": "4cafa179",
   "metadata": {},
   "outputs": [
    {
     "data": {
      "text/plain": [
       "Index(['Academic Year', 'County Code', 'District Code', 'School Code',\n",
       "       'County Name', 'District Name', 'School Name', 'District Type',\n",
       "       'School Type', 'Educational \\nOption Type', 'NSLP \\nProvision \\nStatus',\n",
       "       'Charter \\nSchool \\n(Y/N)', 'Charter \\nSchool \\nNumber',\n",
       "       'Charter \\nFunding \\nType', 'IRC', 'Low Grade', 'High Grade',\n",
       "       'Enrollment \\n(K-12)', 'Free Meal \\nCount \\n(K-12)',\n",
       "       'Percent (%) \\nEligible Free \\n(K-12)', 'FRPM Count \\n(K-12)',\n",
       "       'Percent (%) \\nEligible FRPM \\n(K-12)', 'Enrollment \\n(Ages 5-17)',\n",
       "       'Free Meal \\nCount \\n(Ages 5-17)',\n",
       "       'Percent (%) \\nEligible Free \\n(Ages 5-17)', 'FRPM Count \\n(Ages 5-17)',\n",
       "       'Percent (%) \\nEligible FRPM \\n(Ages 5-17)',\n",
       "       'CALPADS Fall 1 \\nCertification Status'],\n",
       "      dtype='object', name=1)"
      ]
     },
     "execution_count": 22,
     "metadata": {},
     "output_type": "execute_result"
    }
   ],
   "source": [
    "data = pd.read_csv('frpm19.csv', header = None).iloc[1:, :]\n",
    "\n",
    "data.columns = data.iloc[0, :]\n",
    "\n",
    "data = data.iloc[1:, :]\n",
    "\n",
    "data.columns"
   ]
  },
  {
   "cell_type": "code",
   "execution_count": 23,
   "id": "85a82744",
   "metadata": {},
   "outputs": [
    {
     "data": {
      "text/html": [
       "<div>\n",
       "<style scoped>\n",
       "    .dataframe tbody tr th:only-of-type {\n",
       "        vertical-align: middle;\n",
       "    }\n",
       "\n",
       "    .dataframe tbody tr th {\n",
       "        vertical-align: top;\n",
       "    }\n",
       "\n",
       "    .dataframe thead th {\n",
       "        text-align: right;\n",
       "    }\n",
       "</style>\n",
       "<table border=\"1\" class=\"dataframe\">\n",
       "  <thead>\n",
       "    <tr style=\"text-align: right;\">\n",
       "      <th>1</th>\n",
       "      <th>schoolcode</th>\n",
       "      <th>lowincome</th>\n",
       "    </tr>\n",
       "  </thead>\n",
       "  <tbody>\n",
       "    <tr>\n",
       "      <th>2</th>\n",
       "      <td>1100170112607</td>\n",
       "      <td>78.6</td>\n",
       "    </tr>\n",
       "    <tr>\n",
       "      <th>3</th>\n",
       "      <td>1100170123968</td>\n",
       "      <td>51.3</td>\n",
       "    </tr>\n",
       "    <tr>\n",
       "      <th>4</th>\n",
       "      <td>1100170124172</td>\n",
       "      <td>14.4</td>\n",
       "    </tr>\n",
       "    <tr>\n",
       "      <th>5</th>\n",
       "      <td>1100170125567</td>\n",
       "      <td>30.9</td>\n",
       "    </tr>\n",
       "    <tr>\n",
       "      <th>6</th>\n",
       "      <td>1100170130401</td>\n",
       "      <td>100.0</td>\n",
       "    </tr>\n",
       "  </tbody>\n",
       "</table>\n",
       "</div>"
      ],
      "text/plain": [
       "1     schoolcode  lowincome\n",
       "2  1100170112607       78.6\n",
       "3  1100170123968       51.3\n",
       "4  1100170124172       14.4\n",
       "5  1100170125567       30.9\n",
       "6  1100170130401      100.0"
      ]
     },
     "execution_count": 23,
     "metadata": {},
     "output_type": "execute_result"
    }
   ],
   "source": [
    "frpm = data.loc[:, ['County Code', 'District Code', 'School Code',\n",
    "            'Percent (%) \\nEligible FRPM \\n(Ages 5-17)']].rename(columns = {'Academic Year':'year',\n",
    "            'Percent (%) \\nEligible FRPM \\n(Ages 5-17)':'lowincome'})\n",
    "\n",
    "frpm['lowincome'] = round(frpm['lowincome'].str.rstrip('%').astype('float'), 2)\n",
    "frpm['County Code'] = frpm['County Code'].astype('int').astype('str')\n",
    "frpm['schoolcode'] = frpm['County Code'] + frpm['District Code'] + frpm['School Code']\n",
    "\n",
    "frpm = frpm.loc[:, ['schoolcode', 'lowincome']]\n",
    "\n",
    "frpm.head()"
   ]
  },
  {
   "cell_type": "code",
   "execution_count": 24,
   "id": "564e5331",
   "metadata": {},
   "outputs": [],
   "source": [
    "math19 = frpm.merge(demo, on = 'schoolcode').merge(test_data, on = 'schoolcode')"
   ]
  },
  {
   "cell_type": "markdown",
   "id": "3206582a",
   "metadata": {},
   "source": [
    "## Year 2018"
   ]
  },
  {
   "cell_type": "markdown",
   "id": "6a3f70f9",
   "metadata": {},
   "source": [
    "### Assessment Data"
   ]
  },
  {
   "cell_type": "markdown",
   "id": "de622f4f",
   "metadata": {},
   "source": [
    "https://caaspp-elpac.ets.org/caaspp/researchfiles/sb_ca2018_1_csv_v3.zip"
   ]
  },
  {
   "cell_type": "code",
   "execution_count": 25,
   "id": "293fb771",
   "metadata": {},
   "outputs": [],
   "source": [
    "data = pd.read_csv('test18.txt', sep = ',')"
   ]
  },
  {
   "cell_type": "code",
   "execution_count": 26,
   "id": "52df7a36",
   "metadata": {},
   "outputs": [
    {
     "data": {
      "text/plain": [
       "Index(['County Code', 'District Code', 'School Code', 'Filler', 'Test Year',\n",
       "       'Subgroup ID', 'Test Type', 'Total Tested At Entity Level',\n",
       "       'Total Tested with Scores', 'Grade', 'Test Id',\n",
       "       'CAASPP Reported Enrollment', 'Students Tested', 'Mean Scale Score',\n",
       "       'Percentage Standard Exceeded', 'Percentage Standard Met',\n",
       "       'Percentage Standard Met and Above', 'Percentage Standard Nearly Met',\n",
       "       'Percentage Standard Not Met', 'Students with Scores',\n",
       "       'Area 1 Percentage Above Standard', 'Area 1 Percentage Near Standard',\n",
       "       'Area 1 Percentage Below Standard', 'Area 2 Percentage Above Standard',\n",
       "       'Area 2 Percentage Near Standard', 'Area 2 Percentage Below Standard',\n",
       "       'Area 3 Percentage Above Standard', 'Area 3 Percentage Near Standard',\n",
       "       'Area 3 Percentage Below Standard', 'Area 4 Percentage Above Standard',\n",
       "       'Area 4 Percentage Near Standard', 'Area 4 Percentage Below Standard'],\n",
       "      dtype='object')"
      ]
     },
     "execution_count": 26,
     "metadata": {},
     "output_type": "execute_result"
    }
   ],
   "source": [
    "data.columns"
   ]
  },
  {
   "cell_type": "code",
   "execution_count": 27,
   "id": "b36a7faf",
   "metadata": {},
   "outputs": [],
   "source": [
    "condition = ((data['Grade'] == 11) & (data['Test Id'] == 2) & (data['School Code'] != 0) \n",
    "            & (data['Percentage Standard Met and Above'].notnull()) &\n",
    "            (data['Percentage Standard Met and Above'] != '*'))"
   ]
  },
  {
   "cell_type": "code",
   "execution_count": 28,
   "id": "fc169137",
   "metadata": {},
   "outputs": [
    {
     "data": {
      "text/html": [
       "<div>\n",
       "<style scoped>\n",
       "    .dataframe tbody tr th:only-of-type {\n",
       "        vertical-align: middle;\n",
       "    }\n",
       "\n",
       "    .dataframe tbody tr th {\n",
       "        vertical-align: top;\n",
       "    }\n",
       "\n",
       "    .dataframe thead th {\n",
       "        text-align: right;\n",
       "    }\n",
       "</style>\n",
       "<table border=\"1\" class=\"dataframe\">\n",
       "  <thead>\n",
       "    <tr style=\"text-align: right;\">\n",
       "      <th></th>\n",
       "      <th>County Code</th>\n",
       "      <th>District Code</th>\n",
       "      <th>School Code</th>\n",
       "      <th>year</th>\n",
       "      <th>totaltested</th>\n",
       "      <th>mathpass</th>\n",
       "      <th>schoolcode</th>\n",
       "    </tr>\n",
       "  </thead>\n",
       "  <tbody>\n",
       "    <tr>\n",
       "      <th>41</th>\n",
       "      <td>1</td>\n",
       "      <td>10017</td>\n",
       "      <td>0112607</td>\n",
       "      <td>2018</td>\n",
       "      <td>96</td>\n",
       "      <td>19.79</td>\n",
       "      <td>1100170112607</td>\n",
       "    </tr>\n",
       "    <tr>\n",
       "      <th>86</th>\n",
       "      <td>1</td>\n",
       "      <td>10017</td>\n",
       "      <td>0130401</td>\n",
       "      <td>2018</td>\n",
       "      <td>15</td>\n",
       "      <td>0.00</td>\n",
       "      <td>1100170130401</td>\n",
       "    </tr>\n",
       "    <tr>\n",
       "      <th>94</th>\n",
       "      <td>1</td>\n",
       "      <td>10017</td>\n",
       "      <td>0130419</td>\n",
       "      <td>2018</td>\n",
       "      <td>23</td>\n",
       "      <td>0.00</td>\n",
       "      <td>1100170130419</td>\n",
       "    </tr>\n",
       "    <tr>\n",
       "      <th>205</th>\n",
       "      <td>1</td>\n",
       "      <td>31617</td>\n",
       "      <td>0131763</td>\n",
       "      <td>2018</td>\n",
       "      <td>37</td>\n",
       "      <td>5.41</td>\n",
       "      <td>1316170131763</td>\n",
       "    </tr>\n",
       "    <tr>\n",
       "      <th>225</th>\n",
       "      <td>1</td>\n",
       "      <td>61119</td>\n",
       "      <td>0106401</td>\n",
       "      <td>2018</td>\n",
       "      <td>44</td>\n",
       "      <td>88.64</td>\n",
       "      <td>1611190106401</td>\n",
       "    </tr>\n",
       "  </tbody>\n",
       "</table>\n",
       "</div>"
      ],
      "text/plain": [
       "    County Code District Code School Code  year totaltested  mathpass  \\\n",
       "41            1         10017     0112607  2018          96     19.79   \n",
       "86            1         10017     0130401  2018          15      0.00   \n",
       "94            1         10017     0130419  2018          23      0.00   \n",
       "205           1         31617     0131763  2018          37      5.41   \n",
       "225           1         61119     0106401  2018          44     88.64   \n",
       "\n",
       "        schoolcode  \n",
       "41   1100170112607  \n",
       "86   1100170130401  \n",
       "94   1100170130419  \n",
       "205  1316170131763  \n",
       "225  1611190106401  "
      ]
     },
     "execution_count": 28,
     "metadata": {},
     "output_type": "execute_result"
    }
   ],
   "source": [
    "test_data = data.loc[condition, ['County Code', 'District Code', 'School Code', 'Test Year',\n",
    "                   'Students with Scores','Percentage Standard Met and Above']].rename(columns = {\n",
    "    'Students with Scores':'totaltested', 'Percentage Standard Met and Above':'mathpass', \n",
    "    'Test Year':'year'\n",
    "})\n",
    "test_data.loc[:, ['County Code', 'District Code', 'School Code', 'year']] = test_data.loc[:, [\n",
    "    'County Code', 'District Code', 'School Code', 'year']].astype('str')\n",
    "test_data['mathpass'] = round(test_data['mathpass'].astype('float'), 2)\n",
    "\n",
    "for i in list(test_data['School Code']):\n",
    "    if len(i) == 6:\n",
    "        test_data.loc[test_data['School Code'] == i, 'School Code'] = '0' + i\n",
    "\n",
    "test_data['schoolcode'] = test_data['County Code'] + test_data['District Code'] + test_data['School Code']\n",
    "\n",
    "test_data = test_data.loc[test_data['totaltested'].astype('int') > 0, :]\n",
    "\n",
    "test_data.head()"
   ]
  },
  {
   "cell_type": "markdown",
   "id": "b135cf51",
   "metadata": {},
   "source": [
    "### Demographics Data"
   ]
  },
  {
   "cell_type": "markdown",
   "id": "a295a16b",
   "metadata": {},
   "source": [
    "https://dq.cde.ca.gov/dataquest/dlfile/dlfile.aspx?cLevel=School&cYear=2017-18&cCat=Enrollment&cPage=filesenr.asp"
   ]
  },
  {
   "cell_type": "code",
   "execution_count": 29,
   "id": "549e9a3b",
   "metadata": {},
   "outputs": [],
   "source": [
    "data = pd.read_csv('enr18.txt', sep = '\\t')"
   ]
  },
  {
   "cell_type": "code",
   "execution_count": 30,
   "id": "5dd0d7c0",
   "metadata": {},
   "outputs": [
    {
     "data": {
      "text/plain": [
       "Index(['CDS_CODE', 'COUNTY', 'DISTRICT', 'SCHOOL', 'ETHNIC', 'GENDER', 'KDGN',\n",
       "       'GR_1', 'GR_2', 'GR_3', 'GR_4', 'GR_5', 'GR_6', 'GR_7', 'GR_8',\n",
       "       'UNGR_ELM', 'GR_9', 'GR_10', 'GR_11', 'GR_12', 'UNGR_SEC', 'ENR_TOTAL',\n",
       "       'ADULT'],\n",
       "      dtype='object')"
      ]
     },
     "execution_count": 30,
     "metadata": {},
     "output_type": "execute_result"
    }
   ],
   "source": [
    "data.columns"
   ]
  },
  {
   "cell_type": "code",
   "execution_count": 31,
   "id": "8f0e76e6",
   "metadata": {},
   "outputs": [
    {
     "name": "stderr",
     "output_type": "stream",
     "text": [
      "/var/folders/7s/7pz0sdt94z3dpk3yrw82q8jm0000gn/T/ipykernel_31669/2122975960.py:12: SettingWithCopyWarning: \n",
      "A value is trying to be set on a copy of a slice from a DataFrame.\n",
      "Try using .loc[row_indexer,col_indexer] = value instead\n",
      "\n",
      "See the caveats in the documentation: https://pandas.pydata.org/pandas-docs/stable/user_guide/indexing.html#returning-a-view-versus-a-copy\n",
      "  demo['ETHNIC'] = demo['ETHNIC'].map(race_map)\n"
     ]
    },
    {
     "data": {
      "text/html": [
       "<div>\n",
       "<style scoped>\n",
       "    .dataframe tbody tr th:only-of-type {\n",
       "        vertical-align: middle;\n",
       "    }\n",
       "\n",
       "    .dataframe tbody tr th {\n",
       "        vertical-align: top;\n",
       "    }\n",
       "\n",
       "    .dataframe thead th {\n",
       "        text-align: right;\n",
       "    }\n",
       "</style>\n",
       "<table border=\"1\" class=\"dataframe\">\n",
       "  <thead>\n",
       "    <tr style=\"text-align: right;\">\n",
       "      <th></th>\n",
       "      <th>schoolcode</th>\n",
       "      <th>black</th>\n",
       "      <th>hispanic</th>\n",
       "      <th>white</th>\n",
       "      <th>totalenrolled</th>\n",
       "    </tr>\n",
       "  </thead>\n",
       "  <tbody>\n",
       "    <tr>\n",
       "      <th>0</th>\n",
       "      <td>1100170112607</td>\n",
       "      <td>33.41</td>\n",
       "      <td>55.69</td>\n",
       "      <td>2.66</td>\n",
       "      <td>413</td>\n",
       "    </tr>\n",
       "    <tr>\n",
       "      <th>1</th>\n",
       "      <td>1100170123968</td>\n",
       "      <td>19.05</td>\n",
       "      <td>57.94</td>\n",
       "      <td>3.97</td>\n",
       "      <td>252</td>\n",
       "    </tr>\n",
       "    <tr>\n",
       "      <th>2</th>\n",
       "      <td>1100170124172</td>\n",
       "      <td>4.91</td>\n",
       "      <td>4.39</td>\n",
       "      <td>8.27</td>\n",
       "      <td>387</td>\n",
       "    </tr>\n",
       "    <tr>\n",
       "      <th>3</th>\n",
       "      <td>1100170125567</td>\n",
       "      <td>19.42</td>\n",
       "      <td>26.56</td>\n",
       "      <td>30.36</td>\n",
       "      <td>448</td>\n",
       "    </tr>\n",
       "    <tr>\n",
       "      <th>4</th>\n",
       "      <td>1100170130401</td>\n",
       "      <td>69.86</td>\n",
       "      <td>16.44</td>\n",
       "      <td>5.48</td>\n",
       "      <td>73</td>\n",
       "    </tr>\n",
       "  </tbody>\n",
       "</table>\n",
       "</div>"
      ],
      "text/plain": [
       "      schoolcode  black  hispanic  white  totalenrolled\n",
       "0  1100170112607  33.41     55.69   2.66            413\n",
       "1  1100170123968  19.05     57.94   3.97            252\n",
       "2  1100170124172   4.91      4.39   8.27            387\n",
       "3  1100170125567  19.42     26.56  30.36            448\n",
       "4  1100170130401  69.86     16.44   5.48             73"
      ]
     },
     "execution_count": 31,
     "metadata": {},
     "output_type": "execute_result"
    }
   ],
   "source": [
    "total_enroll = data.loc[:, ['CDS_CODE', 'ETHNIC', 'GENDER', 'ENR_TOTAL']].groupby('CDS_CODE'\n",
    "    ).sum().reset_index().loc[:,['CDS_CODE', 'ENR_TOTAL']].rename(columns = {'ENR_TOTAL':'total'})\n",
    "total_enroll = total_enroll.loc[total_enroll['total'] > 0, :]\n",
    "\n",
    "group_enroll = data.loc[:, ['CDS_CODE', 'ETHNIC', 'GENDER', 'ENR_TOTAL']].groupby(['CDS_CODE', 'ETHNIC']\n",
    "    ).sum().reset_index()\n",
    "\n",
    "race_map = {5:'hispanic', 6:'black', 7:'white'}\n",
    "\n",
    "demo = group_enroll.loc[group_enroll['ETHNIC'].isin([5, 6, 7]), :]\n",
    "\n",
    "demo['ETHNIC'] = demo['ETHNIC'].map(race_map)\n",
    "\n",
    "demo = demo.merge(total_enroll, on ='CDS_CODE')\n",
    "\n",
    "demo['percent'] = round((demo['ENR_TOTAL'] / demo['total']) * 100, 2)\n",
    "\n",
    "demo = demo.pivot(columns = 'ETHNIC', index = 'CDS_CODE', values = 'percent').reset_index().fillna(0)\n",
    "\n",
    "demo = demo.merge(total_enroll, on = 'CDS_CODE').rename(columns = {'total':'totalenrolled', \n",
    "                                                                   'CDS_CODE':'schoolcode'})\n",
    "\n",
    "demo['schoolcode'] = demo['schoolcode'].astype('str')\n",
    "\n",
    "demo.head()"
   ]
  },
  {
   "cell_type": "markdown",
   "id": "eefb481a",
   "metadata": {},
   "source": [
    "### FRPM Data"
   ]
  },
  {
   "cell_type": "markdown",
   "id": "b6b49262",
   "metadata": {},
   "source": [
    "https://www.cde.ca.gov/ds/ad/documents/frpm1718.xlsx"
   ]
  },
  {
   "cell_type": "code",
   "execution_count": 32,
   "id": "35e50459",
   "metadata": {},
   "outputs": [
    {
     "data": {
      "text/plain": [
       "Index(['Academic Year', 'County Code', 'District Code', 'School Code',\n",
       "       'County Name', 'District Name', 'School Name', 'District Type',\n",
       "       'School Type', 'Educational \\nOption Type', 'NSLP \\nProvision \\nStatus',\n",
       "       'Charter \\nSchool \\n(Y/N)', 'Charter \\nSchool \\nNumber',\n",
       "       'Charter \\nFunding \\nType', 'IRC', 'Low Grade', 'High Grade',\n",
       "       'Enrollment \\n(K-12)', 'Free Meal \\nCount \\n(K-12)',\n",
       "       'Percent (%) \\nEligible Free \\n(K-12)', 'FRPM Count \\n(K-12)',\n",
       "       'Percent (%) \\nEligible FRPM \\n(K-12)', 'Enrollment \\n(Ages 5-17)',\n",
       "       'Free Meal \\nCount \\n(Ages 5-17)',\n",
       "       'Percent (%) \\nEligible Free \\n(Ages 5-17)', 'FRPM Count \\n(Ages 5-17)',\n",
       "       'Percent (%) \\nEligible FRPM \\n(Ages 5-17)',\n",
       "       '2017-18 \\nCALPADS Fall 1 \\nCertification Status'],\n",
       "      dtype='object', name=1)"
      ]
     },
     "execution_count": 32,
     "metadata": {},
     "output_type": "execute_result"
    }
   ],
   "source": [
    "data = pd.read_csv('frpm18.csv', header = None).iloc[1:, :]\n",
    "\n",
    "data.columns = data.iloc[0, :]\n",
    "\n",
    "data = data.iloc[1:, :]\n",
    "\n",
    "data.columns"
   ]
  },
  {
   "cell_type": "code",
   "execution_count": 33,
   "id": "d180837b",
   "metadata": {},
   "outputs": [
    {
     "data": {
      "text/html": [
       "<div>\n",
       "<style scoped>\n",
       "    .dataframe tbody tr th:only-of-type {\n",
       "        vertical-align: middle;\n",
       "    }\n",
       "\n",
       "    .dataframe tbody tr th {\n",
       "        vertical-align: top;\n",
       "    }\n",
       "\n",
       "    .dataframe thead th {\n",
       "        text-align: right;\n",
       "    }\n",
       "</style>\n",
       "<table border=\"1\" class=\"dataframe\">\n",
       "  <thead>\n",
       "    <tr style=\"text-align: right;\">\n",
       "      <th>1</th>\n",
       "      <th>schoolcode</th>\n",
       "      <th>lowincome</th>\n",
       "    </tr>\n",
       "  </thead>\n",
       "  <tbody>\n",
       "    <tr>\n",
       "      <th>2</th>\n",
       "      <td>1100170112607</td>\n",
       "      <td>74.6</td>\n",
       "    </tr>\n",
       "    <tr>\n",
       "      <th>3</th>\n",
       "      <td>1100170123968</td>\n",
       "      <td>70.0</td>\n",
       "    </tr>\n",
       "    <tr>\n",
       "      <th>4</th>\n",
       "      <td>1100170124172</td>\n",
       "      <td>13.7</td>\n",
       "    </tr>\n",
       "    <tr>\n",
       "      <th>5</th>\n",
       "      <td>1100170125567</td>\n",
       "      <td>29.0</td>\n",
       "    </tr>\n",
       "    <tr>\n",
       "      <th>6</th>\n",
       "      <td>1100170130401</td>\n",
       "      <td>100.0</td>\n",
       "    </tr>\n",
       "  </tbody>\n",
       "</table>\n",
       "</div>"
      ],
      "text/plain": [
       "1     schoolcode  lowincome\n",
       "2  1100170112607       74.6\n",
       "3  1100170123968       70.0\n",
       "4  1100170124172       13.7\n",
       "5  1100170125567       29.0\n",
       "6  1100170130401      100.0"
      ]
     },
     "execution_count": 33,
     "metadata": {},
     "output_type": "execute_result"
    }
   ],
   "source": [
    "frpm = data.loc[:, ['County Code', 'District Code', 'School Code',\n",
    "            'Percent (%) \\nEligible FRPM \\n(Ages 5-17)']].rename(columns = {'Academic Year':'year',\n",
    "            'Percent (%) \\nEligible FRPM \\n(Ages 5-17)':'lowincome'})\n",
    "\n",
    "frpm['lowincome'] = round(frpm['lowincome'].str.rstrip('%').astype('float'), 2)\n",
    "frpm['County Code'] = frpm['County Code'].astype('int').astype('str')\n",
    "frpm['schoolcode'] = frpm['County Code'] + frpm['District Code'] + frpm['School Code']\n",
    "\n",
    "frpm = frpm.loc[:, ['schoolcode', 'lowincome']]\n",
    "\n",
    "frpm.head()"
   ]
  },
  {
   "cell_type": "code",
   "execution_count": 34,
   "id": "c8ae904f",
   "metadata": {},
   "outputs": [],
   "source": [
    "math18 = frpm.merge(demo, on = 'schoolcode').merge(test_data, on = 'schoolcode')"
   ]
  },
  {
   "cell_type": "markdown",
   "id": "e2b616e9",
   "metadata": {},
   "source": [
    "## Year 2017"
   ]
  },
  {
   "cell_type": "markdown",
   "id": "02400489",
   "metadata": {},
   "source": [
    "### Assessment Data"
   ]
  },
  {
   "cell_type": "markdown",
   "id": "ac41110c",
   "metadata": {},
   "source": [
    "https://caaspp-elpac.ets.org/caaspp/researchfiles/sb_ca2017_1_csv_v2.zip"
   ]
  },
  {
   "cell_type": "code",
   "execution_count": 35,
   "id": "7934941a",
   "metadata": {},
   "outputs": [],
   "source": [
    "data = pd.read_csv('test17.txt', sep = ',')"
   ]
  },
  {
   "cell_type": "code",
   "execution_count": 36,
   "id": "471e26b2",
   "metadata": {},
   "outputs": [
    {
     "data": {
      "text/plain": [
       "Index(['County Code', 'District Code', 'School Code', 'Filler', 'Test Year',\n",
       "       'Subgroup ID', 'Test Type', 'Total Tested At Entity Level',\n",
       "       'Total Tested with Scores', 'Grade', 'Test Id',\n",
       "       'CAASPP Reported Enrollment', 'Students Tested', 'Mean Scale Score',\n",
       "       'Percentage Standard Exceeded', 'Percentage Standard Met',\n",
       "       'Percentage Standard Met and Above', 'Percentage Standard Nearly Met',\n",
       "       'Percentage Standard Not Met', 'Students with Scores',\n",
       "       'Area 1 Percentage Above Standard', 'Area 1 Percentage Near Standard',\n",
       "       'Area 1 Percentage Below Standard', 'Area 2 Percentage Above Standard',\n",
       "       'Area 2 Percentage Near Standard', 'Area 2 Percentage Below Standard',\n",
       "       'Area 3 Percentage Above Standard', 'Area 3 Percentage Near Standard',\n",
       "       'Area 3 Percentage Below Standard', 'Area 4 Percentage Above Standard',\n",
       "       'Area 4 Percentage Near Standard', 'Area 4 Percentage Below Standard'],\n",
       "      dtype='object')"
      ]
     },
     "execution_count": 36,
     "metadata": {},
     "output_type": "execute_result"
    }
   ],
   "source": [
    "data.columns"
   ]
  },
  {
   "cell_type": "code",
   "execution_count": 37,
   "id": "62eccd62",
   "metadata": {},
   "outputs": [],
   "source": [
    "condition = ((data['Grade'] == 11) & (data['Test Id'] == 2) & (data['School Code'] != 0) \n",
    "            & (data['Percentage Standard Met and Above'].notnull()) &\n",
    "            (data['Percentage Standard Met and Above'] != '*'))"
   ]
  },
  {
   "cell_type": "code",
   "execution_count": 38,
   "id": "b6a4859a",
   "metadata": {},
   "outputs": [
    {
     "data": {
      "text/html": [
       "<div>\n",
       "<style scoped>\n",
       "    .dataframe tbody tr th:only-of-type {\n",
       "        vertical-align: middle;\n",
       "    }\n",
       "\n",
       "    .dataframe tbody tr th {\n",
       "        vertical-align: top;\n",
       "    }\n",
       "\n",
       "    .dataframe thead th {\n",
       "        text-align: right;\n",
       "    }\n",
       "</style>\n",
       "<table border=\"1\" class=\"dataframe\">\n",
       "  <thead>\n",
       "    <tr style=\"text-align: right;\">\n",
       "      <th></th>\n",
       "      <th>County Code</th>\n",
       "      <th>District Code</th>\n",
       "      <th>School Code</th>\n",
       "      <th>year</th>\n",
       "      <th>totaltested</th>\n",
       "      <th>mathpass</th>\n",
       "      <th>schoolcode</th>\n",
       "    </tr>\n",
       "  </thead>\n",
       "  <tbody>\n",
       "    <tr>\n",
       "      <th>43</th>\n",
       "      <td>1</td>\n",
       "      <td>10017</td>\n",
       "      <td>0112607</td>\n",
       "      <td>2017</td>\n",
       "      <td>90</td>\n",
       "      <td>18.89</td>\n",
       "      <td>1100170112607</td>\n",
       "    </tr>\n",
       "    <tr>\n",
       "      <th>86</th>\n",
       "      <td>1</td>\n",
       "      <td>10017</td>\n",
       "      <td>0130401</td>\n",
       "      <td>2017</td>\n",
       "      <td>24</td>\n",
       "      <td>0.00</td>\n",
       "      <td>1100170130401</td>\n",
       "    </tr>\n",
       "    <tr>\n",
       "      <th>94</th>\n",
       "      <td>1</td>\n",
       "      <td>10017</td>\n",
       "      <td>0130419</td>\n",
       "      <td>2017</td>\n",
       "      <td>20</td>\n",
       "      <td>0.00</td>\n",
       "      <td>1100170130419</td>\n",
       "    </tr>\n",
       "    <tr>\n",
       "      <th>185</th>\n",
       "      <td>1</td>\n",
       "      <td>31617</td>\n",
       "      <td>0131763</td>\n",
       "      <td>2017</td>\n",
       "      <td>29</td>\n",
       "      <td>0.00</td>\n",
       "      <td>1316170131763</td>\n",
       "    </tr>\n",
       "    <tr>\n",
       "      <th>205</th>\n",
       "      <td>1</td>\n",
       "      <td>61119</td>\n",
       "      <td>0106401</td>\n",
       "      <td>2017</td>\n",
       "      <td>45</td>\n",
       "      <td>84.44</td>\n",
       "      <td>1611190106401</td>\n",
       "    </tr>\n",
       "  </tbody>\n",
       "</table>\n",
       "</div>"
      ],
      "text/plain": [
       "    County Code District Code School Code  year totaltested  mathpass  \\\n",
       "43            1         10017     0112607  2017          90     18.89   \n",
       "86            1         10017     0130401  2017          24      0.00   \n",
       "94            1         10017     0130419  2017          20      0.00   \n",
       "185           1         31617     0131763  2017          29      0.00   \n",
       "205           1         61119     0106401  2017          45     84.44   \n",
       "\n",
       "        schoolcode  \n",
       "43   1100170112607  \n",
       "86   1100170130401  \n",
       "94   1100170130419  \n",
       "185  1316170131763  \n",
       "205  1611190106401  "
      ]
     },
     "execution_count": 38,
     "metadata": {},
     "output_type": "execute_result"
    }
   ],
   "source": [
    "test_data = data.loc[condition, ['County Code', 'District Code', 'School Code', 'Test Year',\n",
    "                   'Students with Scores','Percentage Standard Met and Above']].rename(columns = {\n",
    "    'Students with Scores':'totaltested', 'Percentage Standard Met and Above':'mathpass', \n",
    "    'Test Year':'year'\n",
    "})\n",
    "test_data.loc[:, ['County Code', 'District Code', 'School Code', 'year']] = test_data.loc[:, [\n",
    "    'County Code', 'District Code', 'School Code', 'year']].astype('str')\n",
    "test_data['mathpass'] = round(test_data['mathpass'].astype('float'), 2)\n",
    "\n",
    "for i in list(test_data['School Code']):\n",
    "    if len(i) == 6:\n",
    "        test_data.loc[test_data['School Code'] == i, 'School Code'] = '0' + i\n",
    "\n",
    "test_data['schoolcode'] = test_data['County Code'] + test_data['District Code'] + test_data['School Code']\n",
    "\n",
    "test_data = test_data.loc[test_data['totaltested'].astype('int') > 0, :]\n",
    "\n",
    "test_data.head()"
   ]
  },
  {
   "cell_type": "markdown",
   "id": "c7c22cb8",
   "metadata": {},
   "source": [
    "### Demographics Data"
   ]
  },
  {
   "cell_type": "markdown",
   "id": "d8c2ac24",
   "metadata": {},
   "source": [
    "https://dq.cde.ca.gov/dataquest/dlfile/dlfile.aspx?cLevel=School&cYear=2016-17&cCat=Enrollment&cPage=filesenr.asp"
   ]
  },
  {
   "cell_type": "code",
   "execution_count": 39,
   "id": "a0079c08",
   "metadata": {},
   "outputs": [],
   "source": [
    "data = pd.read_csv('enr17.txt', sep = '\\t')"
   ]
  },
  {
   "cell_type": "code",
   "execution_count": 40,
   "id": "90fd007d",
   "metadata": {},
   "outputs": [
    {
     "data": {
      "text/plain": [
       "Index(['CDS_CODE', 'COUNTY', 'DISTRICT', 'SCHOOL', 'ETHNIC', 'GENDER', 'KDGN',\n",
       "       'GR_1', 'GR_2', 'GR_3', 'GR_4', 'GR_5', 'GR_6', 'GR_7', 'GR_8',\n",
       "       'UNGR_ELM', 'GR_9', 'GR_10', 'GR_11', 'GR_12', 'UNGR_SEC', 'ENR_TOTAL',\n",
       "       'ADULT'],\n",
       "      dtype='object')"
      ]
     },
     "execution_count": 40,
     "metadata": {},
     "output_type": "execute_result"
    }
   ],
   "source": [
    "data.columns"
   ]
  },
  {
   "cell_type": "code",
   "execution_count": 41,
   "id": "6d7829d3",
   "metadata": {},
   "outputs": [
    {
     "name": "stderr",
     "output_type": "stream",
     "text": [
      "/var/folders/7s/7pz0sdt94z3dpk3yrw82q8jm0000gn/T/ipykernel_31669/2122975960.py:12: SettingWithCopyWarning: \n",
      "A value is trying to be set on a copy of a slice from a DataFrame.\n",
      "Try using .loc[row_indexer,col_indexer] = value instead\n",
      "\n",
      "See the caveats in the documentation: https://pandas.pydata.org/pandas-docs/stable/user_guide/indexing.html#returning-a-view-versus-a-copy\n",
      "  demo['ETHNIC'] = demo['ETHNIC'].map(race_map)\n"
     ]
    },
    {
     "data": {
      "text/html": [
       "<div>\n",
       "<style scoped>\n",
       "    .dataframe tbody tr th:only-of-type {\n",
       "        vertical-align: middle;\n",
       "    }\n",
       "\n",
       "    .dataframe tbody tr th {\n",
       "        vertical-align: top;\n",
       "    }\n",
       "\n",
       "    .dataframe thead th {\n",
       "        text-align: right;\n",
       "    }\n",
       "</style>\n",
       "<table border=\"1\" class=\"dataframe\">\n",
       "  <thead>\n",
       "    <tr style=\"text-align: right;\">\n",
       "      <th></th>\n",
       "      <th>schoolcode</th>\n",
       "      <th>black</th>\n",
       "      <th>hispanic</th>\n",
       "      <th>white</th>\n",
       "      <th>totalenrolled</th>\n",
       "    </tr>\n",
       "  </thead>\n",
       "  <tbody>\n",
       "    <tr>\n",
       "      <th>0</th>\n",
       "      <td>1100170112607</td>\n",
       "      <td>37.22</td>\n",
       "      <td>52.61</td>\n",
       "      <td>4.47</td>\n",
       "      <td>403</td>\n",
       "    </tr>\n",
       "    <tr>\n",
       "      <th>1</th>\n",
       "      <td>1100170123968</td>\n",
       "      <td>11.06</td>\n",
       "      <td>60.10</td>\n",
       "      <td>7.69</td>\n",
       "      <td>208</td>\n",
       "    </tr>\n",
       "    <tr>\n",
       "      <th>2</th>\n",
       "      <td>1100170124172</td>\n",
       "      <td>3.92</td>\n",
       "      <td>5.04</td>\n",
       "      <td>9.80</td>\n",
       "      <td>357</td>\n",
       "    </tr>\n",
       "    <tr>\n",
       "      <th>3</th>\n",
       "      <td>1100170125567</td>\n",
       "      <td>20.05</td>\n",
       "      <td>25.67</td>\n",
       "      <td>30.75</td>\n",
       "      <td>374</td>\n",
       "    </tr>\n",
       "    <tr>\n",
       "      <th>4</th>\n",
       "      <td>1100170130401</td>\n",
       "      <td>66.67</td>\n",
       "      <td>24.14</td>\n",
       "      <td>2.30</td>\n",
       "      <td>87</td>\n",
       "    </tr>\n",
       "  </tbody>\n",
       "</table>\n",
       "</div>"
      ],
      "text/plain": [
       "      schoolcode  black  hispanic  white  totalenrolled\n",
       "0  1100170112607  37.22     52.61   4.47            403\n",
       "1  1100170123968  11.06     60.10   7.69            208\n",
       "2  1100170124172   3.92      5.04   9.80            357\n",
       "3  1100170125567  20.05     25.67  30.75            374\n",
       "4  1100170130401  66.67     24.14   2.30             87"
      ]
     },
     "execution_count": 41,
     "metadata": {},
     "output_type": "execute_result"
    }
   ],
   "source": [
    "total_enroll = data.loc[:, ['CDS_CODE', 'ETHNIC', 'GENDER', 'ENR_TOTAL']].groupby('CDS_CODE'\n",
    "    ).sum().reset_index().loc[:,['CDS_CODE', 'ENR_TOTAL']].rename(columns = {'ENR_TOTAL':'total'})\n",
    "total_enroll = total_enroll.loc[total_enroll['total'] > 0, :]\n",
    "\n",
    "group_enroll = data.loc[:, ['CDS_CODE', 'ETHNIC', 'GENDER', 'ENR_TOTAL']].groupby(['CDS_CODE', 'ETHNIC']\n",
    "    ).sum().reset_index()\n",
    "\n",
    "race_map = {5:'hispanic', 6:'black', 7:'white'}\n",
    "\n",
    "demo = group_enroll.loc[group_enroll['ETHNIC'].isin([5, 6, 7]), :]\n",
    "\n",
    "demo['ETHNIC'] = demo['ETHNIC'].map(race_map)\n",
    "\n",
    "demo = demo.merge(total_enroll, on ='CDS_CODE')\n",
    "\n",
    "demo['percent'] = round((demo['ENR_TOTAL'] / demo['total']) * 100, 2)\n",
    "\n",
    "demo = demo.pivot(columns = 'ETHNIC', index = 'CDS_CODE', values = 'percent').reset_index().fillna(0)\n",
    "\n",
    "demo = demo.merge(total_enroll, on = 'CDS_CODE').rename(columns = {'total':'totalenrolled', \n",
    "                                                                   'CDS_CODE':'schoolcode'})\n",
    "\n",
    "demo['schoolcode'] = demo['schoolcode'].astype('str')\n",
    "\n",
    "demo.head()"
   ]
  },
  {
   "cell_type": "markdown",
   "id": "6ebcdc7d",
   "metadata": {},
   "source": [
    "### FRPM Data"
   ]
  },
  {
   "cell_type": "markdown",
   "id": "08849a96",
   "metadata": {},
   "source": [
    "https://www.cde.ca.gov/ds/ad/documents/frpm1617.xls"
   ]
  },
  {
   "cell_type": "code",
   "execution_count": 42,
   "id": "876cc535",
   "metadata": {},
   "outputs": [
    {
     "data": {
      "text/plain": [
       "Index(['Academic Year', 'County Code', 'District Code', 'School Code',\n",
       "       'County Name', 'District Name', 'School Name', 'District Type',\n",
       "       'School Type', 'Educational \\nOption Type', 'NSLP \\nProvision \\nStatus',\n",
       "       'Charter \\nSchool \\n(Y/N)', 'Charter \\nSchool \\nNumber',\n",
       "       'Charter \\nFunding \\nType', 'IRC', 'Low Grade', 'High Grade',\n",
       "       'Enrollment \\n(K-12)', 'Free Meal \\nCount \\n(K-12)',\n",
       "       'Percent (%) \\nEligible Free \\n(K-12)', 'FRPM Count \\n(K-12)',\n",
       "       'Percent (%) \\nEligible FRPM \\n(K-12)', 'Enrollment \\n(Ages 5-17)',\n",
       "       'Free Meal \\nCount \\n(Ages 5-17)',\n",
       "       'Percent (%) \\nEligible Free \\n(Ages 5-17)', 'FRPM Count \\n(Ages 5-17)',\n",
       "       'Percent (%) \\nEligible FRPM \\n(Ages 5-17)',\n",
       "       '2016-17 \\nCALPADS Fall 1 \\nCertification Status'],\n",
       "      dtype='object', name=1)"
      ]
     },
     "execution_count": 42,
     "metadata": {},
     "output_type": "execute_result"
    }
   ],
   "source": [
    "data = pd.read_csv('frpm17.csv', header = None).iloc[1:, :]\n",
    "\n",
    "data.columns = data.iloc[0, :]\n",
    "\n",
    "data = data.iloc[1:, :]\n",
    "\n",
    "data.columns"
   ]
  },
  {
   "cell_type": "code",
   "execution_count": 43,
   "id": "446e708b",
   "metadata": {},
   "outputs": [
    {
     "data": {
      "text/html": [
       "<div>\n",
       "<style scoped>\n",
       "    .dataframe tbody tr th:only-of-type {\n",
       "        vertical-align: middle;\n",
       "    }\n",
       "\n",
       "    .dataframe tbody tr th {\n",
       "        vertical-align: top;\n",
       "    }\n",
       "\n",
       "    .dataframe thead th {\n",
       "        text-align: right;\n",
       "    }\n",
       "</style>\n",
       "<table border=\"1\" class=\"dataframe\">\n",
       "  <thead>\n",
       "    <tr style=\"text-align: right;\">\n",
       "      <th>1</th>\n",
       "      <th>schoolcode</th>\n",
       "      <th>lowincome</th>\n",
       "    </tr>\n",
       "  </thead>\n",
       "  <tbody>\n",
       "    <tr>\n",
       "      <th>2</th>\n",
       "      <td>1100170112607</td>\n",
       "      <td>74.3</td>\n",
       "    </tr>\n",
       "    <tr>\n",
       "      <th>3</th>\n",
       "      <td>1100170123968</td>\n",
       "      <td>63.3</td>\n",
       "    </tr>\n",
       "    <tr>\n",
       "      <th>4</th>\n",
       "      <td>1100170124172</td>\n",
       "      <td>9.2</td>\n",
       "    </tr>\n",
       "    <tr>\n",
       "      <th>5</th>\n",
       "      <td>1100170125567</td>\n",
       "      <td>27.5</td>\n",
       "    </tr>\n",
       "    <tr>\n",
       "      <th>6</th>\n",
       "      <td>1100170130401</td>\n",
       "      <td>100.0</td>\n",
       "    </tr>\n",
       "  </tbody>\n",
       "</table>\n",
       "</div>"
      ],
      "text/plain": [
       "1     schoolcode  lowincome\n",
       "2  1100170112607       74.3\n",
       "3  1100170123968       63.3\n",
       "4  1100170124172        9.2\n",
       "5  1100170125567       27.5\n",
       "6  1100170130401      100.0"
      ]
     },
     "execution_count": 43,
     "metadata": {},
     "output_type": "execute_result"
    }
   ],
   "source": [
    "frpm = data.loc[:, ['County Code', 'District Code', 'School Code',\n",
    "            'Percent (%) \\nEligible FRPM \\n(Ages 5-17)']].rename(columns = {'Academic Year':'year',\n",
    "            'Percent (%) \\nEligible FRPM \\n(Ages 5-17)':'lowincome'})\n",
    "\n",
    "frpm['lowincome'] = round(frpm['lowincome'].str.rstrip('%').astype('float'), 2)\n",
    "frpm['County Code'] = frpm['County Code'].astype('int').astype('str')\n",
    "frpm['schoolcode'] = frpm['County Code'] + frpm['District Code'] + frpm['School Code']\n",
    "\n",
    "frpm = frpm.loc[:, ['schoolcode', 'lowincome']]\n",
    "\n",
    "frpm.head()"
   ]
  },
  {
   "cell_type": "code",
   "execution_count": 44,
   "id": "c65ee932",
   "metadata": {},
   "outputs": [],
   "source": [
    "math17 = frpm.merge(demo, on = 'schoolcode').merge(test_data, on = 'schoolcode')"
   ]
  },
  {
   "cell_type": "markdown",
   "id": "b4028158",
   "metadata": {},
   "source": [
    "## Year 2016"
   ]
  },
  {
   "cell_type": "markdown",
   "id": "4c245044",
   "metadata": {},
   "source": [
    "### Assessment Data"
   ]
  },
  {
   "cell_type": "markdown",
   "id": "4c32389b",
   "metadata": {},
   "source": [
    "https://caaspp-elpac.ets.org/caaspp/researchfiles/sb_ca2016_1_csv_v3.zip"
   ]
  },
  {
   "cell_type": "code",
   "execution_count": 45,
   "id": "56439a22",
   "metadata": {},
   "outputs": [],
   "source": [
    "data = pd.read_csv('test16.txt', sep = ',')"
   ]
  },
  {
   "cell_type": "code",
   "execution_count": 46,
   "id": "c6e0b15d",
   "metadata": {},
   "outputs": [
    {
     "data": {
      "text/plain": [
       "Index(['County Code', 'District Code', 'School Code', 'Filler', 'Test Year',\n",
       "       'Subgroup ID', 'Test Type', 'Total CAASPP Enrollment',\n",
       "       'Total Tested At Entity Level', 'Total Tested with Scores', 'Grade',\n",
       "       'Test Id', 'CAASPP Reported Enrollment', 'Students Tested',\n",
       "       'Mean Scale Score', 'Percentage Standard Exceeded',\n",
       "       'Percentage Standard Met', 'Percentage Standard Met and Above',\n",
       "       'Percentage Standard Nearly Met', 'Percentage Standard Not Met',\n",
       "       'Students with Scores', 'Area 1 Percentage Above Standard',\n",
       "       'Area 1 Percentage Near Standard', 'Area 1 Percentage Below Standard',\n",
       "       'Area 2 Percentage Above Standard', 'Area 2 Percentage Near Standard',\n",
       "       'Area 2 Percentage Below Standard', 'Area 3 Percentage Above Standard',\n",
       "       'Area 3 Percentage Near Standard', 'Area 3 Percentage Below Standard',\n",
       "       'Area 4 Percentage Above Standard', 'Area 4 Percentage Near Standard',\n",
       "       'Area 4 Percentage Below Standard'],\n",
       "      dtype='object')"
      ]
     },
     "execution_count": 46,
     "metadata": {},
     "output_type": "execute_result"
    }
   ],
   "source": [
    "data.columns"
   ]
  },
  {
   "cell_type": "code",
   "execution_count": 47,
   "id": "ce2149ec",
   "metadata": {},
   "outputs": [],
   "source": [
    "condition = ((data['Grade'] == 11) & (data['Test Id'] == 2) & (data['School Code'] != 0) \n",
    "            & (data['Percentage Standard Met and Above'].notnull()) &\n",
    "            (data['Percentage Standard Met and Above'] != '*'))"
   ]
  },
  {
   "cell_type": "code",
   "execution_count": 48,
   "id": "75a5f8a4",
   "metadata": {},
   "outputs": [
    {
     "data": {
      "text/html": [
       "<div>\n",
       "<style scoped>\n",
       "    .dataframe tbody tr th:only-of-type {\n",
       "        vertical-align: middle;\n",
       "    }\n",
       "\n",
       "    .dataframe tbody tr th {\n",
       "        vertical-align: top;\n",
       "    }\n",
       "\n",
       "    .dataframe thead th {\n",
       "        text-align: right;\n",
       "    }\n",
       "</style>\n",
       "<table border=\"1\" class=\"dataframe\">\n",
       "  <thead>\n",
       "    <tr style=\"text-align: right;\">\n",
       "      <th></th>\n",
       "      <th>County Code</th>\n",
       "      <th>District Code</th>\n",
       "      <th>School Code</th>\n",
       "      <th>year</th>\n",
       "      <th>totaltested</th>\n",
       "      <th>mathpass</th>\n",
       "      <th>schoolcode</th>\n",
       "    </tr>\n",
       "  </thead>\n",
       "  <tbody>\n",
       "    <tr>\n",
       "      <th>47</th>\n",
       "      <td>1</td>\n",
       "      <td>10017</td>\n",
       "      <td>0112607</td>\n",
       "      <td>2016</td>\n",
       "      <td>89</td>\n",
       "      <td>11.0</td>\n",
       "      <td>1100170112607</td>\n",
       "    </tr>\n",
       "    <tr>\n",
       "      <th>83</th>\n",
       "      <td>1</td>\n",
       "      <td>10017</td>\n",
       "      <td>0130401</td>\n",
       "      <td>2016</td>\n",
       "      <td>17</td>\n",
       "      <td>0.0</td>\n",
       "      <td>1100170130401</td>\n",
       "    </tr>\n",
       "    <tr>\n",
       "      <th>90</th>\n",
       "      <td>1</td>\n",
       "      <td>10017</td>\n",
       "      <td>0130419</td>\n",
       "      <td>2016</td>\n",
       "      <td>36</td>\n",
       "      <td>3.0</td>\n",
       "      <td>1100170130419</td>\n",
       "    </tr>\n",
       "    <tr>\n",
       "      <th>182</th>\n",
       "      <td>1</td>\n",
       "      <td>31617</td>\n",
       "      <td>0131763</td>\n",
       "      <td>2016</td>\n",
       "      <td>38</td>\n",
       "      <td>0.0</td>\n",
       "      <td>1316170131763</td>\n",
       "    </tr>\n",
       "    <tr>\n",
       "      <th>202</th>\n",
       "      <td>1</td>\n",
       "      <td>61119</td>\n",
       "      <td>0106401</td>\n",
       "      <td>2016</td>\n",
       "      <td>46</td>\n",
       "      <td>96.0</td>\n",
       "      <td>1611190106401</td>\n",
       "    </tr>\n",
       "  </tbody>\n",
       "</table>\n",
       "</div>"
      ],
      "text/plain": [
       "    County Code District Code School Code  year  totaltested  mathpass  \\\n",
       "47            1         10017     0112607  2016           89      11.0   \n",
       "83            1         10017     0130401  2016           17       0.0   \n",
       "90            1         10017     0130419  2016           36       3.0   \n",
       "182           1         31617     0131763  2016           38       0.0   \n",
       "202           1         61119     0106401  2016           46      96.0   \n",
       "\n",
       "        schoolcode  \n",
       "47   1100170112607  \n",
       "83   1100170130401  \n",
       "90   1100170130419  \n",
       "182  1316170131763  \n",
       "202  1611190106401  "
      ]
     },
     "execution_count": 48,
     "metadata": {},
     "output_type": "execute_result"
    }
   ],
   "source": [
    "test_data = data.loc[condition, ['County Code', 'District Code', 'School Code', 'Test Year',\n",
    "                   'Students with Scores','Percentage Standard Met and Above']].rename(columns = {\n",
    "    'Students with Scores':'totaltested', 'Percentage Standard Met and Above':'mathpass', \n",
    "    'Test Year':'year'\n",
    "})\n",
    "test_data.loc[:, ['County Code', 'District Code', 'School Code', 'year']] = test_data.loc[:, [\n",
    "    'County Code', 'District Code', 'School Code', 'year']].astype('str')\n",
    "test_data['mathpass'] = round(test_data['mathpass'].astype('float'), 2)\n",
    "\n",
    "for i in list(test_data['School Code']):\n",
    "    if len(i) == 6:\n",
    "        test_data.loc[test_data['School Code'] == i, 'School Code'] = '0' + i\n",
    "\n",
    "test_data['schoolcode'] = test_data['County Code'] + test_data['District Code'] + test_data['School Code']\n",
    "\n",
    "test_data = test_data.loc[test_data['totaltested'].astype('int') > 0, :]\n",
    "\n",
    "test_data.head()"
   ]
  },
  {
   "cell_type": "markdown",
   "id": "6da027f9",
   "metadata": {},
   "source": [
    "### Demographics Data"
   ]
  },
  {
   "cell_type": "markdown",
   "id": "e7bb9c7c",
   "metadata": {},
   "source": [
    "https://dq.cde.ca.gov/dataquest/dlfile/dlfile.aspx?cLevel=School&cYear=2015-16&cCat=Enrollment&cPage=filesenr.asp"
   ]
  },
  {
   "cell_type": "code",
   "execution_count": 49,
   "id": "85587707",
   "metadata": {},
   "outputs": [],
   "source": [
    "data = pd.read_csv('enr16.txt', sep = '\\t')"
   ]
  },
  {
   "cell_type": "code",
   "execution_count": 50,
   "id": "d78500d4",
   "metadata": {},
   "outputs": [
    {
     "data": {
      "text/plain": [
       "Index(['CDS_CODE', 'COUNTY', 'DISTRICT', 'SCHOOL', 'ETHNIC', 'GENDER', 'KDGN',\n",
       "       'GR_1', 'GR_2', 'GR_3', 'GR_4', 'GR_5', 'GR_6', 'GR_7', 'GR_8',\n",
       "       'UNGR_ELM', 'GR_9', 'GR_10', 'GR_11', 'GR_12', 'UNGR_SEC', 'ENR_TOTAL',\n",
       "       'ADULT'],\n",
       "      dtype='object')"
      ]
     },
     "execution_count": 50,
     "metadata": {},
     "output_type": "execute_result"
    }
   ],
   "source": [
    "data.columns"
   ]
  },
  {
   "cell_type": "code",
   "execution_count": 51,
   "id": "49c806a9",
   "metadata": {},
   "outputs": [
    {
     "name": "stderr",
     "output_type": "stream",
     "text": [
      "/var/folders/7s/7pz0sdt94z3dpk3yrw82q8jm0000gn/T/ipykernel_31669/2122975960.py:12: SettingWithCopyWarning: \n",
      "A value is trying to be set on a copy of a slice from a DataFrame.\n",
      "Try using .loc[row_indexer,col_indexer] = value instead\n",
      "\n",
      "See the caveats in the documentation: https://pandas.pydata.org/pandas-docs/stable/user_guide/indexing.html#returning-a-view-versus-a-copy\n",
      "  demo['ETHNIC'] = demo['ETHNIC'].map(race_map)\n"
     ]
    },
    {
     "data": {
      "text/html": [
       "<div>\n",
       "<style scoped>\n",
       "    .dataframe tbody tr th:only-of-type {\n",
       "        vertical-align: middle;\n",
       "    }\n",
       "\n",
       "    .dataframe tbody tr th {\n",
       "        vertical-align: top;\n",
       "    }\n",
       "\n",
       "    .dataframe thead th {\n",
       "        text-align: right;\n",
       "    }\n",
       "</style>\n",
       "<table border=\"1\" class=\"dataframe\">\n",
       "  <thead>\n",
       "    <tr style=\"text-align: right;\">\n",
       "      <th></th>\n",
       "      <th>schoolcode</th>\n",
       "      <th>black</th>\n",
       "      <th>hispanic</th>\n",
       "      <th>white</th>\n",
       "      <th>totalenrolled</th>\n",
       "    </tr>\n",
       "  </thead>\n",
       "  <tbody>\n",
       "    <tr>\n",
       "      <th>0</th>\n",
       "      <td>1100170112607</td>\n",
       "      <td>38.33</td>\n",
       "      <td>51.35</td>\n",
       "      <td>3.19</td>\n",
       "      <td>407</td>\n",
       "    </tr>\n",
       "    <tr>\n",
       "      <th>1</th>\n",
       "      <td>1100170123968</td>\n",
       "      <td>17.71</td>\n",
       "      <td>48.96</td>\n",
       "      <td>10.42</td>\n",
       "      <td>192</td>\n",
       "    </tr>\n",
       "    <tr>\n",
       "      <th>2</th>\n",
       "      <td>1100170124172</td>\n",
       "      <td>3.26</td>\n",
       "      <td>4.23</td>\n",
       "      <td>9.12</td>\n",
       "      <td>307</td>\n",
       "    </tr>\n",
       "    <tr>\n",
       "      <th>3</th>\n",
       "      <td>1100170125567</td>\n",
       "      <td>21.45</td>\n",
       "      <td>25.55</td>\n",
       "      <td>32.49</td>\n",
       "      <td>317</td>\n",
       "    </tr>\n",
       "    <tr>\n",
       "      <th>4</th>\n",
       "      <td>1100170130401</td>\n",
       "      <td>47.54</td>\n",
       "      <td>36.89</td>\n",
       "      <td>4.92</td>\n",
       "      <td>122</td>\n",
       "    </tr>\n",
       "  </tbody>\n",
       "</table>\n",
       "</div>"
      ],
      "text/plain": [
       "      schoolcode  black  hispanic  white  totalenrolled\n",
       "0  1100170112607  38.33     51.35   3.19            407\n",
       "1  1100170123968  17.71     48.96  10.42            192\n",
       "2  1100170124172   3.26      4.23   9.12            307\n",
       "3  1100170125567  21.45     25.55  32.49            317\n",
       "4  1100170130401  47.54     36.89   4.92            122"
      ]
     },
     "execution_count": 51,
     "metadata": {},
     "output_type": "execute_result"
    }
   ],
   "source": [
    "total_enroll = data.loc[:, ['CDS_CODE', 'ETHNIC', 'GENDER', 'ENR_TOTAL']].groupby('CDS_CODE'\n",
    "    ).sum().reset_index().loc[:,['CDS_CODE', 'ENR_TOTAL']].rename(columns = {'ENR_TOTAL':'total'})\n",
    "total_enroll = total_enroll.loc[total_enroll['total'] > 0, :]\n",
    "\n",
    "group_enroll = data.loc[:, ['CDS_CODE', 'ETHNIC', 'GENDER', 'ENR_TOTAL']].groupby(['CDS_CODE', 'ETHNIC']\n",
    "    ).sum().reset_index()\n",
    "\n",
    "race_map = {5:'hispanic', 6:'black', 7:'white'}\n",
    "\n",
    "demo = group_enroll.loc[group_enroll['ETHNIC'].isin([5, 6, 7]), :]\n",
    "\n",
    "demo['ETHNIC'] = demo['ETHNIC'].map(race_map)\n",
    "\n",
    "demo = demo.merge(total_enroll, on ='CDS_CODE')\n",
    "\n",
    "demo['percent'] = round((demo['ENR_TOTAL'] / demo['total']) * 100, 2)\n",
    "\n",
    "demo = demo.pivot(columns = 'ETHNIC', index = 'CDS_CODE', values = 'percent').reset_index().fillna(0)\n",
    "\n",
    "demo = demo.merge(total_enroll, on = 'CDS_CODE').rename(columns = {'total':'totalenrolled', \n",
    "                                                                   'CDS_CODE':'schoolcode'})\n",
    "\n",
    "demo['schoolcode'] = demo['schoolcode'].astype('str')\n",
    "\n",
    "demo.head()"
   ]
  },
  {
   "cell_type": "markdown",
   "id": "eab16a12",
   "metadata": {},
   "source": [
    "### FRPM Data"
   ]
  },
  {
   "cell_type": "markdown",
   "id": "963d37d2",
   "metadata": {},
   "source": [
    "https://www.cde.ca.gov/ds/ad/documents/frpm1516.xls"
   ]
  },
  {
   "cell_type": "code",
   "execution_count": 52,
   "id": "76fa9bcc",
   "metadata": {},
   "outputs": [
    {
     "data": {
      "text/plain": [
       "Index(['Academic Year', 'County Code', 'District Code', 'School Code',\n",
       "       'County Name', 'District Name', 'School Name', 'District Type',\n",
       "       'School Type', 'Educational \\nOption Type', 'NSLP \\nProvision \\nStatus',\n",
       "       'Charter \\nSchool \\n(Y/N)', 'Charter \\nSchool \\nNumber',\n",
       "       'Charter \\nFunding \\nType', 'IRC', 'Low Grade', 'High Grade',\n",
       "       'Enrollment \\n(K-12)', 'Free Meal \\nCount \\n(K-12)',\n",
       "       'Percent (%) \\nEligible Free \\n(K-12)', 'FRPM Count \\n(K-12)',\n",
       "       'Percent (%) \\nEligible FRPM \\n(K-12)', 'Enrollment \\n(Ages 5-17)',\n",
       "       'Free Meal \\nCount \\n(Ages 5-17)',\n",
       "       'Percent (%) \\nEligible Free \\n(Ages 5-17)', 'FRPM Count \\n(Ages 5-17)',\n",
       "       'Percent (%) \\nEligible FRPM \\n(Ages 5-17)',\n",
       "       '2015-16 \\nCALPADS Fall 1 \\nCertification Status'],\n",
       "      dtype='object', name=1)"
      ]
     },
     "execution_count": 52,
     "metadata": {},
     "output_type": "execute_result"
    }
   ],
   "source": [
    "data = pd.read_csv('frpm16.csv', header = None).iloc[1:, :]\n",
    "\n",
    "data.columns = data.iloc[0, :]\n",
    "\n",
    "data = data.iloc[1:, :]\n",
    "\n",
    "data.columns"
   ]
  },
  {
   "cell_type": "code",
   "execution_count": 53,
   "id": "11e70e59",
   "metadata": {},
   "outputs": [
    {
     "data": {
      "text/html": [
       "<div>\n",
       "<style scoped>\n",
       "    .dataframe tbody tr th:only-of-type {\n",
       "        vertical-align: middle;\n",
       "    }\n",
       "\n",
       "    .dataframe tbody tr th {\n",
       "        vertical-align: top;\n",
       "    }\n",
       "\n",
       "    .dataframe thead th {\n",
       "        text-align: right;\n",
       "    }\n",
       "</style>\n",
       "<table border=\"1\" class=\"dataframe\">\n",
       "  <thead>\n",
       "    <tr style=\"text-align: right;\">\n",
       "      <th>1</th>\n",
       "      <th>schoolcode</th>\n",
       "      <th>lowincome</th>\n",
       "    </tr>\n",
       "  </thead>\n",
       "  <tbody>\n",
       "    <tr>\n",
       "      <th>2</th>\n",
       "      <td>1100170112607</td>\n",
       "      <td>66.8</td>\n",
       "    </tr>\n",
       "    <tr>\n",
       "      <th>3</th>\n",
       "      <td>1100170123968</td>\n",
       "      <td>82.7</td>\n",
       "    </tr>\n",
       "    <tr>\n",
       "      <th>4</th>\n",
       "      <td>1100170124172</td>\n",
       "      <td>6.8</td>\n",
       "    </tr>\n",
       "    <tr>\n",
       "      <th>5</th>\n",
       "      <td>1100170125567</td>\n",
       "      <td>34.3</td>\n",
       "    </tr>\n",
       "    <tr>\n",
       "      <th>6</th>\n",
       "      <td>1100170130401</td>\n",
       "      <td>54.5</td>\n",
       "    </tr>\n",
       "  </tbody>\n",
       "</table>\n",
       "</div>"
      ],
      "text/plain": [
       "1     schoolcode  lowincome\n",
       "2  1100170112607       66.8\n",
       "3  1100170123968       82.7\n",
       "4  1100170124172        6.8\n",
       "5  1100170125567       34.3\n",
       "6  1100170130401       54.5"
      ]
     },
     "execution_count": 53,
     "metadata": {},
     "output_type": "execute_result"
    }
   ],
   "source": [
    "frpm = data.loc[:, ['County Code', 'District Code', 'School Code',\n",
    "            'Percent (%) \\nEligible FRPM \\n(Ages 5-17)']].rename(columns = {'Academic Year':'year',\n",
    "            'Percent (%) \\nEligible FRPM \\n(Ages 5-17)':'lowincome'})\n",
    "\n",
    "frpm['lowincome'] = round(frpm['lowincome'].str.rstrip('%').astype('float'), 2)\n",
    "frpm['County Code'] = frpm['County Code'].astype('int').astype('str')\n",
    "frpm['schoolcode'] = frpm['County Code'] + frpm['District Code'] + frpm['School Code']\n",
    "\n",
    "frpm = frpm.loc[:, ['schoolcode', 'lowincome']]\n",
    "\n",
    "frpm.head()"
   ]
  },
  {
   "cell_type": "code",
   "execution_count": 54,
   "id": "6ad3ea80",
   "metadata": {},
   "outputs": [],
   "source": [
    "math16 = frpm.merge(demo, on = 'schoolcode').merge(test_data, on = 'schoolcode')"
   ]
  },
  {
   "cell_type": "markdown",
   "id": "82320c91",
   "metadata": {},
   "source": [
    "## Year 2015"
   ]
  },
  {
   "cell_type": "markdown",
   "id": "85d8aed4",
   "metadata": {},
   "source": [
    "### Assessment Data"
   ]
  },
  {
   "cell_type": "markdown",
   "id": "17f21504",
   "metadata": {},
   "source": [
    "https://caaspp-elpac.ets.org/caaspp/researchfiles/sb_ca2015_1_csv_v3.zip"
   ]
  },
  {
   "cell_type": "code",
   "execution_count": 55,
   "id": "972cb2d5",
   "metadata": {},
   "outputs": [],
   "source": [
    "data = pd.read_csv('test15.txt', sep = ',')"
   ]
  },
  {
   "cell_type": "code",
   "execution_count": 56,
   "id": "b5db882b",
   "metadata": {},
   "outputs": [
    {
     "data": {
      "text/plain": [
       "Index(['County Code', 'District Code', 'School Code', 'Filler', 'Test Year',\n",
       "       'Subgroup ID', 'Test Type', 'Total CAASPP Enrollment',\n",
       "       'Total Tested At Entity Level', 'Total Tested at Subgroup Level',\n",
       "       'Grade', 'Test Id', 'CAASPP Reported Enrollment', 'Students Tested',\n",
       "       'Mean Scale Score', 'Percentage Standard Exceeded',\n",
       "       'Percentage Standard Met', 'Percentage Standard Met and Above',\n",
       "       'Percentage Standard Nearly Met', 'Percentage Standard Not Met',\n",
       "       'Students with Scores', 'Area 1 Percentage Above Standard',\n",
       "       'Area 1 Percentage At or Near Standard',\n",
       "       'Area 1 Percentage Below Standard', 'Area 2 Percentage Above Standard',\n",
       "       'Area 2 Percentage At or Near Standard',\n",
       "       'Area 2 Percentage Below Standard', 'Area 3 Percentage Above Standard',\n",
       "       'Area 3 Percentage At or Near Standard',\n",
       "       'Area 3 Percentage Below Standard', 'Area 4 Percentage Above Standard',\n",
       "       'Area 4 Percentage At or Near Standard',\n",
       "       'Area 4 Percentage Below Standard'],\n",
       "      dtype='object')"
      ]
     },
     "execution_count": 56,
     "metadata": {},
     "output_type": "execute_result"
    }
   ],
   "source": [
    "data.columns"
   ]
  },
  {
   "cell_type": "code",
   "execution_count": 57,
   "id": "c45db89a",
   "metadata": {},
   "outputs": [],
   "source": [
    "condition = ((data['Grade'] == 11) & (data['Test Id'] == 2) & (data['School Code'] != 0) \n",
    "            & (data['Percentage Standard Met and Above'].notnull()) &\n",
    "            (data['Percentage Standard Met and Above'] != '*'))"
   ]
  },
  {
   "cell_type": "code",
   "execution_count": 58,
   "id": "eb9dea3a",
   "metadata": {},
   "outputs": [
    {
     "data": {
      "text/html": [
       "<div>\n",
       "<style scoped>\n",
       "    .dataframe tbody tr th:only-of-type {\n",
       "        vertical-align: middle;\n",
       "    }\n",
       "\n",
       "    .dataframe tbody tr th {\n",
       "        vertical-align: top;\n",
       "    }\n",
       "\n",
       "    .dataframe thead th {\n",
       "        text-align: right;\n",
       "    }\n",
       "</style>\n",
       "<table border=\"1\" class=\"dataframe\">\n",
       "  <thead>\n",
       "    <tr style=\"text-align: right;\">\n",
       "      <th></th>\n",
       "      <th>County Code</th>\n",
       "      <th>District Code</th>\n",
       "      <th>School Code</th>\n",
       "      <th>year</th>\n",
       "      <th>totaltested</th>\n",
       "      <th>mathpass</th>\n",
       "      <th>schoolcode</th>\n",
       "    </tr>\n",
       "  </thead>\n",
       "  <tbody>\n",
       "    <tr>\n",
       "      <th>62</th>\n",
       "      <td>1</td>\n",
       "      <td>10017</td>\n",
       "      <td>0109835</td>\n",
       "      <td>2015</td>\n",
       "      <td>55</td>\n",
       "      <td>5.0</td>\n",
       "      <td>1100170109835</td>\n",
       "    </tr>\n",
       "    <tr>\n",
       "      <th>67</th>\n",
       "      <td>1</td>\n",
       "      <td>10017</td>\n",
       "      <td>0112607</td>\n",
       "      <td>2015</td>\n",
       "      <td>85</td>\n",
       "      <td>8.0</td>\n",
       "      <td>1100170112607</td>\n",
       "    </tr>\n",
       "    <tr>\n",
       "      <th>71</th>\n",
       "      <td>1</td>\n",
       "      <td>10017</td>\n",
       "      <td>0118489</td>\n",
       "      <td>2015</td>\n",
       "      <td>58</td>\n",
       "      <td>21.0</td>\n",
       "      <td>1100170118489</td>\n",
       "    </tr>\n",
       "    <tr>\n",
       "      <th>102</th>\n",
       "      <td>1</td>\n",
       "      <td>10017</td>\n",
       "      <td>0130401</td>\n",
       "      <td>2015</td>\n",
       "      <td>39</td>\n",
       "      <td>3.0</td>\n",
       "      <td>1100170130401</td>\n",
       "    </tr>\n",
       "    <tr>\n",
       "      <th>110</th>\n",
       "      <td>1</td>\n",
       "      <td>10017</td>\n",
       "      <td>0130419</td>\n",
       "      <td>2015</td>\n",
       "      <td>27</td>\n",
       "      <td>0.0</td>\n",
       "      <td>1100170130419</td>\n",
       "    </tr>\n",
       "  </tbody>\n",
       "</table>\n",
       "</div>"
      ],
      "text/plain": [
       "    County Code District Code School Code  year  totaltested  mathpass  \\\n",
       "62            1         10017     0109835  2015           55       5.0   \n",
       "67            1         10017     0112607  2015           85       8.0   \n",
       "71            1         10017     0118489  2015           58      21.0   \n",
       "102           1         10017     0130401  2015           39       3.0   \n",
       "110           1         10017     0130419  2015           27       0.0   \n",
       "\n",
       "        schoolcode  \n",
       "62   1100170109835  \n",
       "67   1100170112607  \n",
       "71   1100170118489  \n",
       "102  1100170130401  \n",
       "110  1100170130419  "
      ]
     },
     "execution_count": 58,
     "metadata": {},
     "output_type": "execute_result"
    }
   ],
   "source": [
    "test_data = data.loc[condition, ['County Code', 'District Code', 'School Code', 'Test Year',\n",
    "                   'Students with Scores','Percentage Standard Met and Above']].rename(columns = {\n",
    "    'Students with Scores':'totaltested', 'Percentage Standard Met and Above':'mathpass', \n",
    "    'Test Year':'year'\n",
    "})\n",
    "test_data.loc[:, ['County Code', 'District Code', 'School Code', 'year']] = test_data.loc[:, [\n",
    "    'County Code', 'District Code', 'School Code', 'year']].astype('str')\n",
    "test_data['mathpass'] = round(test_data['mathpass'].astype('float'), 2)\n",
    "\n",
    "for i in list(test_data['School Code']):\n",
    "    if len(i) == 6:\n",
    "        test_data.loc[test_data['School Code'] == i, 'School Code'] = '0' + i\n",
    "\n",
    "test_data['schoolcode'] = test_data['County Code'] + test_data['District Code'] + test_data['School Code']\n",
    "\n",
    "test_data = test_data.loc[test_data['totaltested'].astype('int') > 0, :]\n",
    "\n",
    "test_data.head()"
   ]
  },
  {
   "cell_type": "markdown",
   "id": "ffdeffbe",
   "metadata": {},
   "source": [
    "### Demographics Data"
   ]
  },
  {
   "cell_type": "markdown",
   "id": "93e419ea",
   "metadata": {},
   "source": [
    "https://dq.cde.ca.gov/dataquest/dlfile/dlfile.aspx?cLevel=School&cYear=2014-15&cCat=Enrollment&cPage=filesenr.asp"
   ]
  },
  {
   "cell_type": "code",
   "execution_count": 59,
   "id": "3b457daa",
   "metadata": {},
   "outputs": [],
   "source": [
    "data = pd.read_csv('enr15.txt', sep = '\\t')"
   ]
  },
  {
   "cell_type": "code",
   "execution_count": 60,
   "id": "00de88c6",
   "metadata": {},
   "outputs": [
    {
     "data": {
      "text/plain": [
       "Index(['CDS_CODE', 'COUNTY', 'DISTRICT', 'SCHOOL', 'ETHNIC', 'GENDER', 'KDGN',\n",
       "       'GR_1', 'GR_2', 'GR_3', 'GR_4', 'GR_5', 'GR_6', 'GR_7', 'GR_8',\n",
       "       'UNGR_ELM', 'GR_9', 'GR_10', 'GR_11', 'GR_12', 'UNGR_SEC', 'ENR_TOTAL',\n",
       "       'ADULT'],\n",
       "      dtype='object')"
      ]
     },
     "execution_count": 60,
     "metadata": {},
     "output_type": "execute_result"
    }
   ],
   "source": [
    "data.columns"
   ]
  },
  {
   "cell_type": "code",
   "execution_count": 61,
   "id": "f6fc91de",
   "metadata": {},
   "outputs": [
    {
     "name": "stderr",
     "output_type": "stream",
     "text": [
      "/var/folders/7s/7pz0sdt94z3dpk3yrw82q8jm0000gn/T/ipykernel_31669/2122975960.py:12: SettingWithCopyWarning: \n",
      "A value is trying to be set on a copy of a slice from a DataFrame.\n",
      "Try using .loc[row_indexer,col_indexer] = value instead\n",
      "\n",
      "See the caveats in the documentation: https://pandas.pydata.org/pandas-docs/stable/user_guide/indexing.html#returning-a-view-versus-a-copy\n",
      "  demo['ETHNIC'] = demo['ETHNIC'].map(race_map)\n"
     ]
    },
    {
     "data": {
      "text/html": [
       "<div>\n",
       "<style scoped>\n",
       "    .dataframe tbody tr th:only-of-type {\n",
       "        vertical-align: middle;\n",
       "    }\n",
       "\n",
       "    .dataframe tbody tr th {\n",
       "        vertical-align: top;\n",
       "    }\n",
       "\n",
       "    .dataframe thead th {\n",
       "        text-align: right;\n",
       "    }\n",
       "</style>\n",
       "<table border=\"1\" class=\"dataframe\">\n",
       "  <thead>\n",
       "    <tr style=\"text-align: right;\">\n",
       "      <th></th>\n",
       "      <th>schoolcode</th>\n",
       "      <th>black</th>\n",
       "      <th>hispanic</th>\n",
       "      <th>white</th>\n",
       "      <th>totalenrolled</th>\n",
       "    </tr>\n",
       "  </thead>\n",
       "  <tbody>\n",
       "    <tr>\n",
       "      <th>0</th>\n",
       "      <td>1100170109835</td>\n",
       "      <td>7.91</td>\n",
       "      <td>15.27</td>\n",
       "      <td>47.93</td>\n",
       "      <td>1087</td>\n",
       "    </tr>\n",
       "    <tr>\n",
       "      <th>1</th>\n",
       "      <td>1100170112607</td>\n",
       "      <td>41.27</td>\n",
       "      <td>46.84</td>\n",
       "      <td>2.78</td>\n",
       "      <td>395</td>\n",
       "    </tr>\n",
       "    <tr>\n",
       "      <th>2</th>\n",
       "      <td>1100170118489</td>\n",
       "      <td>28.69</td>\n",
       "      <td>64.75</td>\n",
       "      <td>0.82</td>\n",
       "      <td>244</td>\n",
       "    </tr>\n",
       "    <tr>\n",
       "      <th>3</th>\n",
       "      <td>1100170123968</td>\n",
       "      <td>25.13</td>\n",
       "      <td>45.03</td>\n",
       "      <td>12.57</td>\n",
       "      <td>191</td>\n",
       "    </tr>\n",
       "    <tr>\n",
       "      <th>4</th>\n",
       "      <td>1100170124172</td>\n",
       "      <td>3.89</td>\n",
       "      <td>4.67</td>\n",
       "      <td>8.95</td>\n",
       "      <td>257</td>\n",
       "    </tr>\n",
       "  </tbody>\n",
       "</table>\n",
       "</div>"
      ],
      "text/plain": [
       "      schoolcode  black  hispanic  white  totalenrolled\n",
       "0  1100170109835   7.91     15.27  47.93           1087\n",
       "1  1100170112607  41.27     46.84   2.78            395\n",
       "2  1100170118489  28.69     64.75   0.82            244\n",
       "3  1100170123968  25.13     45.03  12.57            191\n",
       "4  1100170124172   3.89      4.67   8.95            257"
      ]
     },
     "execution_count": 61,
     "metadata": {},
     "output_type": "execute_result"
    }
   ],
   "source": [
    "total_enroll = data.loc[:, ['CDS_CODE', 'ETHNIC', 'GENDER', 'ENR_TOTAL']].groupby('CDS_CODE'\n",
    "    ).sum().reset_index().loc[:,['CDS_CODE', 'ENR_TOTAL']].rename(columns = {'ENR_TOTAL':'total'})\n",
    "total_enroll = total_enroll.loc[total_enroll['total'] > 0, :]\n",
    "\n",
    "group_enroll = data.loc[:, ['CDS_CODE', 'ETHNIC', 'GENDER', 'ENR_TOTAL']].groupby(['CDS_CODE', 'ETHNIC']\n",
    "    ).sum().reset_index()\n",
    "\n",
    "race_map = {5:'hispanic', 6:'black', 7:'white'}\n",
    "\n",
    "demo = group_enroll.loc[group_enroll['ETHNIC'].isin([5, 6, 7]), :]\n",
    "\n",
    "demo['ETHNIC'] = demo['ETHNIC'].map(race_map)\n",
    "\n",
    "demo = demo.merge(total_enroll, on ='CDS_CODE')\n",
    "\n",
    "demo['percent'] = round((demo['ENR_TOTAL'] / demo['total']) * 100, 2)\n",
    "\n",
    "demo = demo.pivot(columns = 'ETHNIC', index = 'CDS_CODE', values = 'percent').reset_index().fillna(0)\n",
    "\n",
    "demo = demo.merge(total_enroll, on = 'CDS_CODE').rename(columns = {'total':'totalenrolled', \n",
    "                                                                   'CDS_CODE':'schoolcode'})\n",
    "\n",
    "demo['schoolcode'] = demo['schoolcode'].astype('str')\n",
    "\n",
    "demo.head()"
   ]
  },
  {
   "cell_type": "markdown",
   "id": "9a4920df",
   "metadata": {},
   "source": [
    "### FRPM Data"
   ]
  },
  {
   "cell_type": "markdown",
   "id": "0c01a172",
   "metadata": {},
   "source": [
    "https://www.cde.ca.gov/ds/ad/documents/frpm1415.xls"
   ]
  },
  {
   "cell_type": "code",
   "execution_count": 62,
   "id": "5779d514",
   "metadata": {},
   "outputs": [
    {
     "data": {
      "text/plain": [
       "Index(['Academic Year', 'County Code', 'District Code', 'School Code',\n",
       "       'County Name', 'District Name', 'School Name', 'District Type',\n",
       "       'School Type', 'Educational \\nOption Type', 'NSLP \\nProvision \\nStatus',\n",
       "       'Charter \\nSchool \\n(Y/N)', 'Charter \\nSchool \\nNumber',\n",
       "       'Charter \\nFunding \\nType', 'IRC', 'Low Grade', 'High Grade',\n",
       "       'Enrollment \\n(K-12)', 'Free Meal \\nCount \\n(K-12)',\n",
       "       'Percent (%) \\nEligible Free \\n(K-12)', 'FRPM Count \\n(K-12)',\n",
       "       'Percent (%) \\nEligible FRPM \\n(K-12)', 'Enrollment \\n(Ages 5-17)',\n",
       "       'Free Meal \\nCount \\n(Ages 5-17)',\n",
       "       'Percent (%) \\nEligible Free \\n(Ages 5-17)', 'FRPM Count \\n(Ages 5-17)',\n",
       "       'Percent (%) \\nEligible FRPM \\n(Ages 5-17)',\n",
       "       '2013-14 \\nCALPADS Fall 1 \\nCertification Status'],\n",
       "      dtype='object', name=1)"
      ]
     },
     "execution_count": 62,
     "metadata": {},
     "output_type": "execute_result"
    }
   ],
   "source": [
    "data = pd.read_csv('frpm15.csv', header = None).iloc[1:, :]\n",
    "\n",
    "data.columns = data.iloc[0, :]\n",
    "\n",
    "data = data.iloc[1:, :]\n",
    "\n",
    "data.columns"
   ]
  },
  {
   "cell_type": "code",
   "execution_count": 63,
   "id": "f0b7ad21",
   "metadata": {},
   "outputs": [
    {
     "data": {
      "text/html": [
       "<div>\n",
       "<style scoped>\n",
       "    .dataframe tbody tr th:only-of-type {\n",
       "        vertical-align: middle;\n",
       "    }\n",
       "\n",
       "    .dataframe tbody tr th {\n",
       "        vertical-align: top;\n",
       "    }\n",
       "\n",
       "    .dataframe thead th {\n",
       "        text-align: right;\n",
       "    }\n",
       "</style>\n",
       "<table border=\"1\" class=\"dataframe\">\n",
       "  <thead>\n",
       "    <tr style=\"text-align: right;\">\n",
       "      <th>1</th>\n",
       "      <th>schoolcode</th>\n",
       "      <th>lowincome</th>\n",
       "    </tr>\n",
       "  </thead>\n",
       "  <tbody>\n",
       "    <tr>\n",
       "      <th>2</th>\n",
       "      <td>1100170109835</td>\n",
       "      <td>65.6</td>\n",
       "    </tr>\n",
       "    <tr>\n",
       "      <th>3</th>\n",
       "      <td>1100170112607</td>\n",
       "      <td>48.4</td>\n",
       "    </tr>\n",
       "    <tr>\n",
       "      <th>4</th>\n",
       "      <td>1100170118489</td>\n",
       "      <td>73.0</td>\n",
       "    </tr>\n",
       "    <tr>\n",
       "      <th>5</th>\n",
       "      <td>1100170123968</td>\n",
       "      <td>73.2</td>\n",
       "    </tr>\n",
       "    <tr>\n",
       "      <th>6</th>\n",
       "      <td>1100170124172</td>\n",
       "      <td>8.2</td>\n",
       "    </tr>\n",
       "  </tbody>\n",
       "</table>\n",
       "</div>"
      ],
      "text/plain": [
       "1     schoolcode  lowincome\n",
       "2  1100170109835       65.6\n",
       "3  1100170112607       48.4\n",
       "4  1100170118489       73.0\n",
       "5  1100170123968       73.2\n",
       "6  1100170124172        8.2"
      ]
     },
     "execution_count": 63,
     "metadata": {},
     "output_type": "execute_result"
    }
   ],
   "source": [
    "frpm = data.loc[:, ['County Code', 'District Code', 'School Code',\n",
    "            'Percent (%) \\nEligible FRPM \\n(Ages 5-17)']].rename(columns = {'Academic Year':'year',\n",
    "            'Percent (%) \\nEligible FRPM \\n(Ages 5-17)':'lowincome'}).dropna()\n",
    "\n",
    "frpm['lowincome'] = round(frpm['lowincome'].str.rstrip('%').astype('float'), 2)\n",
    "frpm['County Code'] = frpm['County Code'].astype('int').astype('str')\n",
    "frpm['schoolcode'] = frpm['County Code'] + frpm['District Code'] + frpm['School Code']\n",
    "\n",
    "frpm = frpm.loc[:, ['schoolcode', 'lowincome']]\n",
    "\n",
    "frpm.head()"
   ]
  },
  {
   "cell_type": "code",
   "execution_count": 64,
   "id": "69d96ead",
   "metadata": {},
   "outputs": [],
   "source": [
    "math15 = frpm.merge(demo, on = 'schoolcode').merge(test_data, on = 'schoolcode')"
   ]
  },
  {
   "cell_type": "markdown",
   "id": "fa449461",
   "metadata": {},
   "source": [
    "### Merge Data (2015 - 2021)"
   ]
  },
  {
   "cell_type": "code",
   "execution_count": 65,
   "id": "fb2844bf",
   "metadata": {},
   "outputs": [],
   "source": [
    "mutual_school = list(set(math15.schoolcode).intersection(set(math16.schoolcode)).intersection(\n",
    "    set(math17.schoolcode)).intersection(set(math18.schoolcode)).intersection(\n",
    "    set(math19.schoolcode)).intersection(set(math21.schoolcode)))\n",
    "\n",
    "mutual_math15 = math15.loc[math15['schoolcode'].isin(mutual_school)]\n",
    "mutual_math16 = math16.loc[math16['schoolcode'].isin(mutual_school)]\n",
    "mutual_math17 = math17.loc[math17['schoolcode'].isin(mutual_school)]\n",
    "mutual_math18 = math18.loc[math18['schoolcode'].isin(mutual_school)]\n",
    "mutual_math19 = math19.loc[math19['schoolcode'].isin(mutual_school)]\n",
    "mutual_math21 = math21.loc[math21['schoolcode'].isin(mutual_school)]"
   ]
  },
  {
   "cell_type": "code",
   "execution_count": 66,
   "id": "fa1847f5",
   "metadata": {},
   "outputs": [],
   "source": [
    "pd.concat([mutual_math15,mutual_math16,mutual_math17,mutual_math18,\n",
    "           mutual_math19,mutual_math21]).to_csv('mathpass_ca_15_21.csv')"
   ]
  },
  {
   "cell_type": "markdown",
   "id": "fc4864ac",
   "metadata": {},
   "source": [
    "### Pandemic Instruction Modality Data"
   ]
  },
  {
   "cell_type": "code",
   "execution_count": 67,
   "id": "340a98c4",
   "metadata": {},
   "outputs": [],
   "source": [
    "mode = pd.read_csv('schoolmode.csv')"
   ]
  },
  {
   "cell_type": "code",
   "execution_count": 68,
   "id": "691702ed",
   "metadata": {},
   "outputs": [
    {
     "data": {
      "text/plain": [
       "Index(['StateName', 'StateAbbrev', 'DataLevel', 'Charter', 'SchoolName',\n",
       "       'SchoolType', 'NCESSchoolID', 'StateAssignedSchoolID', 'DistrictName',\n",
       "       'DistrictType', 'NCESDistrictID', 'StateAssignedDistrictID',\n",
       "       'EnrollmentTotal', 'TimePeriodInterval', 'TimePeriodStart',\n",
       "       'TimePeriodEnd', 'LearningModel', 'LearningModelGrK5',\n",
       "       'LearningModelGr68', 'LearningModelGr912', 'LearningModelStateCat',\n",
       "       'LearningModelStateCatGrK5', 'LearningModelStateCatGr68',\n",
       "       'LearningModelStateCatGr912', 'EnrollmentInPerson', 'EnrollmentHybrid',\n",
       "       'EnrollmentVirtual', 'StaffCount', 'StaffCountInPerson'],\n",
       "      dtype='object')"
      ]
     },
     "execution_count": 68,
     "metadata": {},
     "output_type": "execute_result"
    }
   ],
   "source": [
    "mode.columns"
   ]
  },
  {
   "cell_type": "code",
   "execution_count": 69,
   "id": "1f64d983",
   "metadata": {},
   "outputs": [
    {
     "data": {
      "text/html": [
       "<div>\n",
       "<style scoped>\n",
       "    .dataframe tbody tr th:only-of-type {\n",
       "        vertical-align: middle;\n",
       "    }\n",
       "\n",
       "    .dataframe tbody tr th {\n",
       "        vertical-align: top;\n",
       "    }\n",
       "\n",
       "    .dataframe thead th {\n",
       "        text-align: right;\n",
       "    }\n",
       "</style>\n",
       "<table border=\"1\" class=\"dataframe\">\n",
       "  <thead>\n",
       "    <tr style=\"text-align: right;\">\n",
       "      <th></th>\n",
       "      <th>schoolcode</th>\n",
       "      <th>charter</th>\n",
       "    </tr>\n",
       "  </thead>\n",
       "  <tbody>\n",
       "    <tr>\n",
       "      <th>0</th>\n",
       "      <td>19642121995596</td>\n",
       "      <td>0</td>\n",
       "    </tr>\n",
       "    <tr>\n",
       "      <th>11</th>\n",
       "      <td>19642126010862</td>\n",
       "      <td>0</td>\n",
       "    </tr>\n",
       "    <tr>\n",
       "      <th>22</th>\n",
       "      <td>19642121930361</td>\n",
       "      <td>0</td>\n",
       "    </tr>\n",
       "    <tr>\n",
       "      <th>33</th>\n",
       "      <td>19642126071369</td>\n",
       "      <td>0</td>\n",
       "    </tr>\n",
       "    <tr>\n",
       "      <th>44</th>\n",
       "      <td>19642126010953</td>\n",
       "      <td>0</td>\n",
       "    </tr>\n",
       "  </tbody>\n",
       "</table>\n",
       "</div>"
      ],
      "text/plain": [
       "        schoolcode  charter\n",
       "0   19642121995596        0\n",
       "11  19642126010862        0\n",
       "22  19642121930361        0\n",
       "33  19642126071369        0\n",
       "44  19642126010953        0"
      ]
     },
     "execution_count": 69,
     "metadata": {},
     "output_type": "execute_result"
    }
   ],
   "source": [
    "charter_mode = mode.loc[:, ['StateAssignedSchoolID', 'Charter']].drop_duplicates().rename(columns = {'StateAssignedSchoolID':\n",
    "             'schoolcode', 'Charter':'charter'})\n",
    "charter_map = {'No':0, 'Yes':1}\n",
    "charter_mode['charter'] = charter_mode['charter'].map(charter_map)\n",
    "charter_mode.head()"
   ]
  },
  {
   "cell_type": "code",
   "execution_count": 70,
   "id": "ce5e5647",
   "metadata": {},
   "outputs": [
    {
     "data": {
      "text/html": [
       "<div>\n",
       "<style scoped>\n",
       "    .dataframe tbody tr th:only-of-type {\n",
       "        vertical-align: middle;\n",
       "    }\n",
       "\n",
       "    .dataframe tbody tr th {\n",
       "        vertical-align: top;\n",
       "    }\n",
       "\n",
       "    .dataframe thead th {\n",
       "        text-align: right;\n",
       "    }\n",
       "</style>\n",
       "<table border=\"1\" class=\"dataframe\">\n",
       "  <thead>\n",
       "    <tr style=\"text-align: right;\">\n",
       "      <th>LearningModel</th>\n",
       "      <th>schoolcode</th>\n",
       "      <th>hybridper</th>\n",
       "      <th>virtualper</th>\n",
       "      <th>schoolmode</th>\n",
       "    </tr>\n",
       "  </thead>\n",
       "  <tbody>\n",
       "    <tr>\n",
       "      <th>0</th>\n",
       "      <td>1100170112607</td>\n",
       "      <td>0.0</td>\n",
       "      <td>1.0</td>\n",
       "      <td>1.0</td>\n",
       "    </tr>\n",
       "    <tr>\n",
       "      <th>1</th>\n",
       "      <td>1100170123968</td>\n",
       "      <td>0.0</td>\n",
       "      <td>1.0</td>\n",
       "      <td>1.0</td>\n",
       "    </tr>\n",
       "    <tr>\n",
       "      <th>2</th>\n",
       "      <td>1100170124172</td>\n",
       "      <td>0.0</td>\n",
       "      <td>1.0</td>\n",
       "      <td>1.0</td>\n",
       "    </tr>\n",
       "    <tr>\n",
       "      <th>3</th>\n",
       "      <td>1100170125567</td>\n",
       "      <td>0.0</td>\n",
       "      <td>1.0</td>\n",
       "      <td>1.0</td>\n",
       "    </tr>\n",
       "    <tr>\n",
       "      <th>4</th>\n",
       "      <td>1100170130419</td>\n",
       "      <td>0.0</td>\n",
       "      <td>1.0</td>\n",
       "      <td>1.0</td>\n",
       "    </tr>\n",
       "  </tbody>\n",
       "</table>\n",
       "</div>"
      ],
      "text/plain": [
       "LearningModel     schoolcode  hybridper  virtualper  schoolmode\n",
       "0              1100170112607        0.0         1.0         1.0\n",
       "1              1100170123968        0.0         1.0         1.0\n",
       "2              1100170124172        0.0         1.0         1.0\n",
       "3              1100170125567        0.0         1.0         1.0\n",
       "4              1100170130419        0.0         1.0         1.0"
      ]
     },
     "execution_count": 70,
     "metadata": {},
     "output_type": "execute_result"
    }
   ],
   "source": [
    "ca_mode = mode.groupby(['StateAssignedSchoolID'])['LearningModel'].value_counts(\n",
    "    normalize = True).to_frame().rename(columns = {'LearningModel':'normalized'}).reset_index().rename(\n",
    "columns = {'StateAssignedSchoolID':'schoolcode'})\n",
    "\n",
    "ca_mode = ca_mode.pivot(columns = 'LearningModel', values = 'normalized', \n",
    "index = 'schoolcode').reset_index().fillna(0).loc[:, ['schoolcode', 'Hybrid', 'Virtual']].rename(\n",
    "columns = {'Hybrid':'hybridper', 'Virtual':'virtualper'})\n",
    "\n",
    "ca_mode['schoolmode'] = 1 * ca_mode['virtualper'] + 0.5 * ca_mode['hybridper']\n",
    "\n",
    "ca_mode.loc[:, ['hybridper', 'virtualper', 'schoolmode']] = round(\n",
    "    ca_mode.loc[:, ['hybridper', 'virtualper', 'schoolmode']], 2)\n",
    "\n",
    "ca_mode.head()"
   ]
  },
  {
   "cell_type": "markdown",
   "id": "cdf0c6f5",
   "metadata": {},
   "source": [
    "### Merge Test Data and Schooling Mode Data"
   ]
  },
  {
   "cell_type": "code",
   "execution_count": 76,
   "id": "9ff03fae",
   "metadata": {},
   "outputs": [],
   "source": [
    "test = pd.read_csv('mathpass_ca_15_21.csv').iloc[:, 1:]\n",
    "test_mode = test.merge(ca_mode, on = 'schoolcode').merge(charter_mode, on ='schoolcode').rename(\n",
    "    columns = {'County Code':'countycode', 'District Code':'districtcode'}).drop(\n",
    "    columns = ['School Code', 'totalenrolled'])\n",
    "\n",
    "test_mode.loc[test_mode['year'] != 2021, ['hybridper', 'virtualper', 'schoolmode']] = 0\n",
    "test_mode['year'] = test_mode['year'].astype('str')\n",
    "test_mode['schoolcode'] = test_mode['schoolcode'].astype('str') + 'ca'\n",
    "test_mode['countycode'] = test_mode['countycode'].astype('str') + 'ca'\n",
    "test_mode['districtcode'] = test_mode['countycode'] + test_mode['districtcode'].astype('str') + 'ca'\n",
    "test_mode['state'] = 'ca'\n",
    "\n",
    "test_mode.to_csv('final_data_ca_mathpass.csv')"
   ]
  },
  {
   "cell_type": "code",
   "execution_count": null,
   "id": "78194aaa",
   "metadata": {},
   "outputs": [],
   "source": []
  }
 ],
 "metadata": {
  "kernelspec": {
   "display_name": "Python 3 (ipykernel)",
   "language": "python",
   "name": "python3"
  },
  "language_info": {
   "codemirror_mode": {
    "name": "ipython",
    "version": 3
   },
   "file_extension": ".py",
   "mimetype": "text/x-python",
   "name": "python",
   "nbconvert_exporter": "python",
   "pygments_lexer": "ipython3",
   "version": "3.9.7"
  }
 },
 "nbformat": 4,
 "nbformat_minor": 5
}
