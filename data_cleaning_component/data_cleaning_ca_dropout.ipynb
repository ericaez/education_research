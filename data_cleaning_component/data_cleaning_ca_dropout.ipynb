{
 "cells": [
  {
   "cell_type": "code",
   "execution_count": 2,
   "id": "aa1cec1e",
   "metadata": {},
   "outputs": [],
   "source": [
    "import pandas as pd"
   ]
  },
  {
   "cell_type": "markdown",
   "id": "5429d64f",
   "metadata": {},
   "source": [
    "## Year 2021"
   ]
  },
  {
   "cell_type": "markdown",
   "id": "9cb04ebe",
   "metadata": {},
   "source": [
    "### Drop-out Data"
   ]
  },
  {
   "cell_type": "markdown",
   "id": "76aa6a67",
   "metadata": {},
   "source": [
    "https://www3.cde.ca.gov/demo-downloads/acgr/acgr21.txt"
   ]
  },
  {
   "cell_type": "code",
   "execution_count": 3,
   "id": "96854ce0",
   "metadata": {},
   "outputs": [],
   "source": [
    "data = pd.read_csv('drop21.csv')"
   ]
  },
  {
   "cell_type": "code",
   "execution_count": 4,
   "id": "83129367",
   "metadata": {},
   "outputs": [
    {
     "data": {
      "text/plain": [
       "Index(['AcademicYear', 'AggregateLevel', 'CountyCode', 'DistrictCode',\n",
       "       'SchoolCode', 'CountyName', 'DistrictName', 'SchoolName',\n",
       "       'CharterSchool', 'DASS', 'ReportingCategory', 'CohortStudents',\n",
       "       'Regular HS Diploma Graduates (Count)',\n",
       "       'Regular HS Diploma Graduates (Rate)', 'Met UC/CSU Grad Req's (Count)',\n",
       "       'Met UC/CSU Grad Req's (Rate)', 'Seal of Biliteracy (Count)',\n",
       "       'Seal of Biliteracy (Rate)', 'Golden State Seal Merit Diploma (Count)',\n",
       "       'Golden State Seal Merit Diploma (Rate', 'CHSPE Completer (Count)',\n",
       "       'CHSPE Completer (Rate)', 'Adult Ed. HS Diploma (Count)',\n",
       "       'Adult Ed. HS Diploma (Rate)', 'SPED Certificate (Count)',\n",
       "       'SPED Certificate (Rate)', 'GED Completer (Count)',\n",
       "       'GED Completer (Rate)', 'Other Transfer (Count)',\n",
       "       'Other Transfer (Rate)', 'Dropout (Count)', 'Dropout (Rate)',\n",
       "       'Still Enrolled (Count)', 'Still Enrolled (Rate)'],\n",
       "      dtype='object')"
      ]
     },
     "execution_count": 4,
     "metadata": {},
     "output_type": "execute_result"
    }
   ],
   "source": [
    "data.columns"
   ]
  },
  {
   "cell_type": "code",
   "execution_count": 5,
   "id": "91a287b6",
   "metadata": {},
   "outputs": [],
   "source": [
    "condition = ((data['AggregateLevel'] == 'S') & (data['ReportingCategory'] == 'TA')\n",
    "             & (data['CohortStudents'] != '*') & (data['CharterSchool'] == 'All') &\n",
    "            (data['DASS'] == 'All'))"
   ]
  },
  {
   "cell_type": "code",
   "execution_count": 6,
   "id": "dfd17a34",
   "metadata": {},
   "outputs": [
    {
     "data": {
      "text/html": [
       "<div>\n",
       "<style scoped>\n",
       "    .dataframe tbody tr th:only-of-type {\n",
       "        vertical-align: middle;\n",
       "    }\n",
       "\n",
       "    .dataframe tbody tr th {\n",
       "        vertical-align: top;\n",
       "    }\n",
       "\n",
       "    .dataframe thead th {\n",
       "        text-align: right;\n",
       "    }\n",
       "</style>\n",
       "<table border=\"1\" class=\"dataframe\">\n",
       "  <thead>\n",
       "    <tr style=\"text-align: right;\">\n",
       "      <th></th>\n",
       "      <th>CountyCode</th>\n",
       "      <th>DistrictCode</th>\n",
       "      <th>totalenrolled</th>\n",
       "      <th>dropout</th>\n",
       "      <th>schoolcode</th>\n",
       "    </tr>\n",
       "  </thead>\n",
       "  <tbody>\n",
       "    <tr>\n",
       "      <th>66219</th>\n",
       "      <td>1</td>\n",
       "      <td>10017</td>\n",
       "      <td>94</td>\n",
       "      <td>9.6</td>\n",
       "      <td>1100170112607</td>\n",
       "    </tr>\n",
       "    <tr>\n",
       "      <th>66287</th>\n",
       "      <td>1</td>\n",
       "      <td>10017</td>\n",
       "      <td>63</td>\n",
       "      <td>66.7</td>\n",
       "      <td>1100170130401</td>\n",
       "    </tr>\n",
       "    <tr>\n",
       "      <th>66355</th>\n",
       "      <td>1</td>\n",
       "      <td>10017</td>\n",
       "      <td>63</td>\n",
       "      <td>57.1</td>\n",
       "      <td>1100170130419</td>\n",
       "    </tr>\n",
       "    <tr>\n",
       "      <th>66420</th>\n",
       "      <td>1</td>\n",
       "      <td>10017</td>\n",
       "      <td>19</td>\n",
       "      <td>15.8</td>\n",
       "      <td>1100170136101</td>\n",
       "    </tr>\n",
       "    <tr>\n",
       "      <th>66479</th>\n",
       "      <td>1</td>\n",
       "      <td>10017</td>\n",
       "      <td>106</td>\n",
       "      <td>18.9</td>\n",
       "      <td>1100170136226</td>\n",
       "    </tr>\n",
       "  </tbody>\n",
       "</table>\n",
       "</div>"
      ],
      "text/plain": [
       "      CountyCode DistrictCode totalenrolled  dropout     schoolcode\n",
       "66219          1        10017            94      9.6  1100170112607\n",
       "66287          1        10017            63     66.7  1100170130401\n",
       "66355          1        10017            63     57.1  1100170130419\n",
       "66420          1        10017            19     15.8  1100170136101\n",
       "66479          1        10017           106     18.9  1100170136226"
      ]
     },
     "execution_count": 6,
     "metadata": {},
     "output_type": "execute_result"
    }
   ],
   "source": [
    "drop_data = data.loc[condition, ['CountyCode', 'DistrictCode', 'SchoolCode', 'CohortStudents',\n",
    "                   'Dropout (Rate)']].rename(columns = {'CohortStudents':'totalenrolled',\n",
    "                                                        'Dropout (Rate)':'dropout'})\n",
    "drop_data.loc[:, ['CountyCode', 'DistrictCode', 'SchoolCode']] = drop_data.loc[:, [\n",
    "    'CountyCode', 'DistrictCode', 'SchoolCode']].astype('int').astype('str')\n",
    "drop_data['dropout'] = round(drop_data['dropout'].astype('float'), 2)\n",
    "\n",
    "for i in list(drop_data['SchoolCode']):\n",
    "    if len(i) != 7:\n",
    "        add_len = 7 - len(i)\n",
    "        add_str = '0' * add_len\n",
    "        drop_data.loc[drop_data['SchoolCode'] == i, 'SchoolCode'] = add_str + i\n",
    "\n",
    "drop_data['schoolcode'] = drop_data['CountyCode'] + drop_data['DistrictCode'] + drop_data['SchoolCode']\n",
    "\n",
    "drop_data = drop_data.drop_duplicates().drop(columns = 'SchoolCode')\n",
    "\n",
    "drop_data.head()"
   ]
  },
  {
   "cell_type": "markdown",
   "id": "c1bfa833",
   "metadata": {},
   "source": [
    "### Demographics Data"
   ]
  },
  {
   "cell_type": "markdown",
   "id": "09eca451",
   "metadata": {},
   "source": [
    "https://dq.cde.ca.gov/dataquest/dlfile/dlfile.aspx?cLevel=School&cYear=2020-21&cCat=Enrollment&cPage=filesenr.asp"
   ]
  },
  {
   "cell_type": "code",
   "execution_count": 7,
   "id": "0ac52e41",
   "metadata": {},
   "outputs": [],
   "source": [
    "data = pd.read_csv('enr21.txt', sep = '\\t')"
   ]
  },
  {
   "cell_type": "code",
   "execution_count": 8,
   "id": "6c752de5",
   "metadata": {},
   "outputs": [
    {
     "data": {
      "text/plain": [
       "Index(['CDS_CODE', 'COUNTY', 'DISTRICT', 'SCHOOL', 'ETHNIC', 'GENDER', 'KDGN',\n",
       "       'GR_1', 'GR_2', 'GR_3', 'GR_4', 'GR_5', 'GR_6', 'GR_7', 'GR_8',\n",
       "       'UNGR_ELM', 'GR_9', 'GR_10', 'GR_11', 'GR_12', 'UNGR_SEC', 'ENR_TOTAL',\n",
       "       'ADULT'],\n",
       "      dtype='object')"
      ]
     },
     "execution_count": 8,
     "metadata": {},
     "output_type": "execute_result"
    }
   ],
   "source": [
    "data.columns"
   ]
  },
  {
   "cell_type": "code",
   "execution_count": 9,
   "id": "cfd1949f",
   "metadata": {},
   "outputs": [
    {
     "name": "stderr",
     "output_type": "stream",
     "text": [
      "/var/folders/7s/7pz0sdt94z3dpk3yrw82q8jm0000gn/T/ipykernel_32531/1592906387.py:12: SettingWithCopyWarning: \n",
      "A value is trying to be set on a copy of a slice from a DataFrame.\n",
      "Try using .loc[row_indexer,col_indexer] = value instead\n",
      "\n",
      "See the caveats in the documentation: https://pandas.pydata.org/pandas-docs/stable/user_guide/indexing.html#returning-a-view-versus-a-copy\n",
      "  demo['ETHNIC'] = demo['ETHNIC'].map(race_map)\n"
     ]
    },
    {
     "data": {
      "text/html": [
       "<div>\n",
       "<style scoped>\n",
       "    .dataframe tbody tr th:only-of-type {\n",
       "        vertical-align: middle;\n",
       "    }\n",
       "\n",
       "    .dataframe tbody tr th {\n",
       "        vertical-align: top;\n",
       "    }\n",
       "\n",
       "    .dataframe thead th {\n",
       "        text-align: right;\n",
       "    }\n",
       "</style>\n",
       "<table border=\"1\" class=\"dataframe\">\n",
       "  <thead>\n",
       "    <tr style=\"text-align: right;\">\n",
       "      <th></th>\n",
       "      <th>schoolcode</th>\n",
       "      <th>black</th>\n",
       "      <th>hispanic</th>\n",
       "      <th>white</th>\n",
       "    </tr>\n",
       "  </thead>\n",
       "  <tbody>\n",
       "    <tr>\n",
       "      <th>0</th>\n",
       "      <td>1100170112607</td>\n",
       "      <td>35.54</td>\n",
       "      <td>49.51</td>\n",
       "      <td>4.17</td>\n",
       "    </tr>\n",
       "    <tr>\n",
       "      <th>1</th>\n",
       "      <td>1100170123968</td>\n",
       "      <td>18.58</td>\n",
       "      <td>63.24</td>\n",
       "      <td>1.98</td>\n",
       "    </tr>\n",
       "    <tr>\n",
       "      <th>2</th>\n",
       "      <td>1100170124172</td>\n",
       "      <td>8.83</td>\n",
       "      <td>6.67</td>\n",
       "      <td>9.01</td>\n",
       "    </tr>\n",
       "    <tr>\n",
       "      <th>3</th>\n",
       "      <td>1100170125567</td>\n",
       "      <td>20.51</td>\n",
       "      <td>29.87</td>\n",
       "      <td>27.09</td>\n",
       "    </tr>\n",
       "    <tr>\n",
       "      <th>4</th>\n",
       "      <td>1100170130401</td>\n",
       "      <td>62.00</td>\n",
       "      <td>32.00</td>\n",
       "      <td>2.00</td>\n",
       "    </tr>\n",
       "  </tbody>\n",
       "</table>\n",
       "</div>"
      ],
      "text/plain": [
       "      schoolcode  black  hispanic  white\n",
       "0  1100170112607  35.54     49.51   4.17\n",
       "1  1100170123968  18.58     63.24   1.98\n",
       "2  1100170124172   8.83      6.67   9.01\n",
       "3  1100170125567  20.51     29.87  27.09\n",
       "4  1100170130401  62.00     32.00   2.00"
      ]
     },
     "execution_count": 9,
     "metadata": {},
     "output_type": "execute_result"
    }
   ],
   "source": [
    "total_enroll = data.loc[:, ['CDS_CODE', 'ETHNIC', 'GENDER', 'ENR_TOTAL']].groupby('CDS_CODE'\n",
    "    ).sum().reset_index().loc[:,['CDS_CODE', 'ENR_TOTAL']].rename(columns = {'ENR_TOTAL':'total'})\n",
    "total_enroll = total_enroll.loc[total_enroll['total'] > 0, :]\n",
    "\n",
    "group_enroll = data.loc[:, ['CDS_CODE', 'ETHNIC', 'GENDER', 'ENR_TOTAL']].groupby(['CDS_CODE', 'ETHNIC']\n",
    "    ).sum().reset_index()\n",
    "\n",
    "race_map = {5:'hispanic', 6:'black', 7:'white'}\n",
    "\n",
    "demo = group_enroll.loc[group_enroll['ETHNIC'].isin([5, 6, 7]), :]\n",
    "\n",
    "demo['ETHNIC'] = demo['ETHNIC'].map(race_map)\n",
    "\n",
    "demo = demo.merge(total_enroll, on ='CDS_CODE')\n",
    "\n",
    "demo['percent'] = round((demo['ENR_TOTAL'] / demo['total']) * 100, 2)\n",
    "\n",
    "demo = demo.pivot(columns = 'ETHNIC', index = 'CDS_CODE', values = 'percent').reset_index().fillna(0)\n",
    "\n",
    "demo = demo.merge(total_enroll, on = 'CDS_CODE').rename(columns = {'CDS_CODE':'schoolcode'}).drop(\n",
    "    columns = 'total')\n",
    "\n",
    "demo['schoolcode'] = demo['schoolcode'].astype('str')\n",
    "\n",
    "demo.head()"
   ]
  },
  {
   "cell_type": "markdown",
   "id": "3112a125",
   "metadata": {},
   "source": [
    "### FRPM Data"
   ]
  },
  {
   "cell_type": "markdown",
   "id": "74543e58",
   "metadata": {},
   "source": [
    "https://www.cde.ca.gov/ds/ad/documents/frpm2021.xlsx"
   ]
  },
  {
   "cell_type": "code",
   "execution_count": 10,
   "id": "929b6817",
   "metadata": {},
   "outputs": [
    {
     "data": {
      "text/plain": [
       "Index(['Academic Year', 'County Code', 'District Code', 'School Code',\n",
       "       'County Name', 'District Name', 'School Name', 'District Type',\n",
       "       'School Type', 'Educational \\nOption Type', 'NSLP \\nProvision \\nStatus',\n",
       "       'Charter \\nSchool \\n(Y/N)', 'Charter \\nSchool \\nNumber',\n",
       "       'Charter \\nFunding \\nType', 'IRC', 'Low Grade', 'High Grade',\n",
       "       'Enrollment \\n(K-12)', 'Free Meal \\nCount \\n(K-12)',\n",
       "       'Percent (%) \\nEligible Free \\n(K-12)', 'FRPM Count \\n(K-12)',\n",
       "       'Percent (%) \\nEligible FRPM \\n(K-12)', 'Enrollment \\n(Ages 5-17)',\n",
       "       'Free Meal \\nCount \\n(Ages 5-17)',\n",
       "       'Percent (%) \\nEligible Free \\n(Ages 5-17)', 'FRPM Count \\n(Ages 5-17)',\n",
       "       'Percent (%) \\nEligible FRPM \\n(Ages 5-17)',\n",
       "       'CALPADS Fall 1 \\nCertification Status'],\n",
       "      dtype='object', name=1)"
      ]
     },
     "execution_count": 10,
     "metadata": {},
     "output_type": "execute_result"
    }
   ],
   "source": [
    "data = pd.read_csv('frpm21.csv', header = None).iloc[1:, :]\n",
    "\n",
    "data.columns = data.iloc[0, :]\n",
    "\n",
    "data = data.iloc[1:, :]\n",
    "\n",
    "data.columns"
   ]
  },
  {
   "cell_type": "code",
   "execution_count": 11,
   "id": "e980949d",
   "metadata": {},
   "outputs": [
    {
     "data": {
      "text/html": [
       "<div>\n",
       "<style scoped>\n",
       "    .dataframe tbody tr th:only-of-type {\n",
       "        vertical-align: middle;\n",
       "    }\n",
       "\n",
       "    .dataframe tbody tr th {\n",
       "        vertical-align: top;\n",
       "    }\n",
       "\n",
       "    .dataframe thead th {\n",
       "        text-align: right;\n",
       "    }\n",
       "</style>\n",
       "<table border=\"1\" class=\"dataframe\">\n",
       "  <thead>\n",
       "    <tr style=\"text-align: right;\">\n",
       "      <th>1</th>\n",
       "      <th>schoolcode</th>\n",
       "      <th>lowincome</th>\n",
       "    </tr>\n",
       "  </thead>\n",
       "  <tbody>\n",
       "    <tr>\n",
       "      <th>2</th>\n",
       "      <td>1100170130419</td>\n",
       "      <td>72.0</td>\n",
       "    </tr>\n",
       "    <tr>\n",
       "      <th>3</th>\n",
       "      <td>1100170130401</td>\n",
       "      <td>100.0</td>\n",
       "    </tr>\n",
       "    <tr>\n",
       "      <th>4</th>\n",
       "      <td>1100170137448</td>\n",
       "      <td>74.1</td>\n",
       "    </tr>\n",
       "    <tr>\n",
       "      <th>5</th>\n",
       "      <td>1100170123968</td>\n",
       "      <td>69.8</td>\n",
       "    </tr>\n",
       "    <tr>\n",
       "      <th>6</th>\n",
       "      <td>1100170136101</td>\n",
       "      <td>26.9</td>\n",
       "    </tr>\n",
       "  </tbody>\n",
       "</table>\n",
       "</div>"
      ],
      "text/plain": [
       "1     schoolcode  lowincome\n",
       "2  1100170130419       72.0\n",
       "3  1100170130401      100.0\n",
       "4  1100170137448       74.1\n",
       "5  1100170123968       69.8\n",
       "6  1100170136101       26.9"
      ]
     },
     "execution_count": 11,
     "metadata": {},
     "output_type": "execute_result"
    }
   ],
   "source": [
    "frpm = data.loc[:, ['County Code', 'District Code', 'School Code',\n",
    "            'Percent (%) \\nEligible FRPM \\n(Ages 5-17)']].rename(columns = {'Academic Year':'year',\n",
    "            'Percent (%) \\nEligible FRPM \\n(Ages 5-17)':'lowincome'})\n",
    "\n",
    "frpm['lowincome'] = round(frpm['lowincome'].str.rstrip('%').astype('float'), 2)\n",
    "frpm['County Code'] = frpm['County Code'].astype('int').astype('str')\n",
    "frpm['schoolcode'] = frpm['County Code'] + frpm['District Code'] + frpm['School Code']\n",
    "\n",
    "frpm = frpm.loc[:, ['schoolcode', 'lowincome']]\n",
    "\n",
    "frpm.head()"
   ]
  },
  {
   "cell_type": "code",
   "execution_count": 12,
   "id": "64d6c042",
   "metadata": {},
   "outputs": [
    {
     "data": {
      "text/html": [
       "<div>\n",
       "<style scoped>\n",
       "    .dataframe tbody tr th:only-of-type {\n",
       "        vertical-align: middle;\n",
       "    }\n",
       "\n",
       "    .dataframe tbody tr th {\n",
       "        vertical-align: top;\n",
       "    }\n",
       "\n",
       "    .dataframe thead th {\n",
       "        text-align: right;\n",
       "    }\n",
       "</style>\n",
       "<table border=\"1\" class=\"dataframe\">\n",
       "  <thead>\n",
       "    <tr style=\"text-align: right;\">\n",
       "      <th></th>\n",
       "      <th>schoolcode</th>\n",
       "      <th>lowincome</th>\n",
       "      <th>black</th>\n",
       "      <th>hispanic</th>\n",
       "      <th>white</th>\n",
       "      <th>CountyCode</th>\n",
       "      <th>DistrictCode</th>\n",
       "      <th>totalenrolled</th>\n",
       "      <th>dropout</th>\n",
       "      <th>year</th>\n",
       "    </tr>\n",
       "  </thead>\n",
       "  <tbody>\n",
       "    <tr>\n",
       "      <th>0</th>\n",
       "      <td>1100170130419</td>\n",
       "      <td>72.0</td>\n",
       "      <td>34.29</td>\n",
       "      <td>56.19</td>\n",
       "      <td>3.81</td>\n",
       "      <td>1</td>\n",
       "      <td>10017</td>\n",
       "      <td>63</td>\n",
       "      <td>57.1</td>\n",
       "      <td>2021</td>\n",
       "    </tr>\n",
       "    <tr>\n",
       "      <th>1</th>\n",
       "      <td>1100170130401</td>\n",
       "      <td>100.0</td>\n",
       "      <td>62.00</td>\n",
       "      <td>32.00</td>\n",
       "      <td>2.00</td>\n",
       "      <td>1</td>\n",
       "      <td>10017</td>\n",
       "      <td>63</td>\n",
       "      <td>66.7</td>\n",
       "      <td>2021</td>\n",
       "    </tr>\n",
       "    <tr>\n",
       "      <th>2</th>\n",
       "      <td>1100170136101</td>\n",
       "      <td>26.9</td>\n",
       "      <td>3.18</td>\n",
       "      <td>14.61</td>\n",
       "      <td>35.58</td>\n",
       "      <td>1</td>\n",
       "      <td>10017</td>\n",
       "      <td>19</td>\n",
       "      <td>15.8</td>\n",
       "      <td>2021</td>\n",
       "    </tr>\n",
       "    <tr>\n",
       "      <th>3</th>\n",
       "      <td>1100170112607</td>\n",
       "      <td>78.1</td>\n",
       "      <td>35.54</td>\n",
       "      <td>49.51</td>\n",
       "      <td>4.17</td>\n",
       "      <td>1</td>\n",
       "      <td>10017</td>\n",
       "      <td>94</td>\n",
       "      <td>9.6</td>\n",
       "      <td>2021</td>\n",
       "    </tr>\n",
       "    <tr>\n",
       "      <th>4</th>\n",
       "      <td>1100170136226</td>\n",
       "      <td>63.2</td>\n",
       "      <td>37.31</td>\n",
       "      <td>46.27</td>\n",
       "      <td>7.46</td>\n",
       "      <td>1</td>\n",
       "      <td>10017</td>\n",
       "      <td>106</td>\n",
       "      <td>18.9</td>\n",
       "      <td>2021</td>\n",
       "    </tr>\n",
       "  </tbody>\n",
       "</table>\n",
       "</div>"
      ],
      "text/plain": [
       "      schoolcode  lowincome  black  hispanic  white CountyCode DistrictCode  \\\n",
       "0  1100170130419       72.0  34.29     56.19   3.81          1        10017   \n",
       "1  1100170130401      100.0  62.00     32.00   2.00          1        10017   \n",
       "2  1100170136101       26.9   3.18     14.61  35.58          1        10017   \n",
       "3  1100170112607       78.1  35.54     49.51   4.17          1        10017   \n",
       "4  1100170136226       63.2  37.31     46.27   7.46          1        10017   \n",
       "\n",
       "   totalenrolled  dropout  year  \n",
       "0             63     57.1  2021  \n",
       "1             63     66.7  2021  \n",
       "2             19     15.8  2021  \n",
       "3             94      9.6  2021  \n",
       "4            106     18.9  2021  "
      ]
     },
     "execution_count": 12,
     "metadata": {},
     "output_type": "execute_result"
    }
   ],
   "source": [
    "drop21 = frpm.merge(demo, on = 'schoolcode').merge(drop_data, on = 'schoolcode')\n",
    "drop21.totalenrolled = drop21.totalenrolled.astype('int')\n",
    "drop21['year'] = '2021'\n",
    "drop21.head()"
   ]
  },
  {
   "cell_type": "markdown",
   "id": "2e8f3cad",
   "metadata": {},
   "source": [
    "## Year 2019"
   ]
  },
  {
   "cell_type": "markdown",
   "id": "30e12812",
   "metadata": {},
   "source": [
    "### Drop-out Data"
   ]
  },
  {
   "cell_type": "markdown",
   "id": "e9e2f5c1",
   "metadata": {},
   "source": [
    "https://www3.cde.ca.gov/demo-downloads/acgr/acgr19.txt"
   ]
  },
  {
   "cell_type": "code",
   "execution_count": 13,
   "id": "5366a95b",
   "metadata": {},
   "outputs": [],
   "source": [
    "data = pd.read_csv('drop19.csv')"
   ]
  },
  {
   "cell_type": "code",
   "execution_count": 14,
   "id": "ac45e0db",
   "metadata": {},
   "outputs": [
    {
     "data": {
      "text/plain": [
       "Index(['AcademicYear', 'AggregateLevel', 'CountyCode', 'DistrictCode',\n",
       "       'SchoolCode', 'CountyName', 'DistrictName', 'SchoolName',\n",
       "       'CharterSchool', 'DASS', 'ReportingCategory', 'CohortStudents',\n",
       "       'Regular HS Diploma Graduates (Count)',\n",
       "       'Regular HS Diploma Graduates (Rate)', 'Met UC/CSU Grad Req's (Count)',\n",
       "       'Met UC/CSU Grad Req's (Rate)', 'Seal of Biliteracy (Count)',\n",
       "       'Seal of Biliteracy (Rate)', 'Golden State Seal Merit Diploma (Count)',\n",
       "       'Golden State Seal Merit Diploma (Rate', 'CHSPE Completer (Count)',\n",
       "       'CHSPE Completer (Rate)', 'Adult Ed. HS Diploma (Count)',\n",
       "       'Adult Ed. HS Diploma (Rate)', 'SPED Certificate (Count)',\n",
       "       'SPED Certificate (Rate)', 'GED Completer (Count)',\n",
       "       'GED Completer (Rate)', 'Other Transfer (Count)',\n",
       "       'Other Transfer (Rate)', 'Dropout (Count)', 'Dropout (Rate)',\n",
       "       'Still Enrolled (Count)', 'Still Enrolled (Rate)'],\n",
       "      dtype='object')"
      ]
     },
     "execution_count": 14,
     "metadata": {},
     "output_type": "execute_result"
    }
   ],
   "source": [
    "data.columns"
   ]
  },
  {
   "cell_type": "code",
   "execution_count": 15,
   "id": "1ae58276",
   "metadata": {},
   "outputs": [],
   "source": [
    "condition = ((data['AggregateLevel'] == 'S') & (data['ReportingCategory'] == 'TA')\n",
    "             & (data['CohortStudents'] != '*') & (data['CharterSchool'] == 'All') &\n",
    "            (data['DASS'] == 'All'))"
   ]
  },
  {
   "cell_type": "code",
   "execution_count": 16,
   "id": "a1cda651",
   "metadata": {},
   "outputs": [
    {
     "data": {
      "text/html": [
       "<div>\n",
       "<style scoped>\n",
       "    .dataframe tbody tr th:only-of-type {\n",
       "        vertical-align: middle;\n",
       "    }\n",
       "\n",
       "    .dataframe tbody tr th {\n",
       "        vertical-align: top;\n",
       "    }\n",
       "\n",
       "    .dataframe thead th {\n",
       "        text-align: right;\n",
       "    }\n",
       "</style>\n",
       "<table border=\"1\" class=\"dataframe\">\n",
       "  <thead>\n",
       "    <tr style=\"text-align: right;\">\n",
       "      <th></th>\n",
       "      <th>CountyCode</th>\n",
       "      <th>DistrictCode</th>\n",
       "      <th>totalenrolled</th>\n",
       "      <th>dropout</th>\n",
       "      <th>schoolcode</th>\n",
       "    </tr>\n",
       "  </thead>\n",
       "  <tbody>\n",
       "    <tr>\n",
       "      <th>55740</th>\n",
       "      <td>1</td>\n",
       "      <td>10017</td>\n",
       "      <td>85</td>\n",
       "      <td>3.5</td>\n",
       "      <td>1100170112607</td>\n",
       "    </tr>\n",
       "    <tr>\n",
       "      <th>55793</th>\n",
       "      <td>1</td>\n",
       "      <td>10017</td>\n",
       "      <td>77</td>\n",
       "      <td>67.5</td>\n",
       "      <td>1100170130401</td>\n",
       "    </tr>\n",
       "    <tr>\n",
       "      <th>55849</th>\n",
       "      <td>1</td>\n",
       "      <td>10017</td>\n",
       "      <td>80</td>\n",
       "      <td>46.3</td>\n",
       "      <td>1100170130419</td>\n",
       "    </tr>\n",
       "    <tr>\n",
       "      <th>55961</th>\n",
       "      <td>1</td>\n",
       "      <td>10017</td>\n",
       "      <td>73</td>\n",
       "      <td>30.1</td>\n",
       "      <td>1100170136226</td>\n",
       "    </tr>\n",
       "    <tr>\n",
       "      <th>56047</th>\n",
       "      <td>1</td>\n",
       "      <td>31617</td>\n",
       "      <td>47</td>\n",
       "      <td>57.4</td>\n",
       "      <td>1316170131763</td>\n",
       "    </tr>\n",
       "  </tbody>\n",
       "</table>\n",
       "</div>"
      ],
      "text/plain": [
       "      CountyCode DistrictCode totalenrolled  dropout     schoolcode\n",
       "55740          1        10017            85      3.5  1100170112607\n",
       "55793          1        10017            77     67.5  1100170130401\n",
       "55849          1        10017            80     46.3  1100170130419\n",
       "55961          1        10017            73     30.1  1100170136226\n",
       "56047          1        31617            47     57.4  1316170131763"
      ]
     },
     "execution_count": 16,
     "metadata": {},
     "output_type": "execute_result"
    }
   ],
   "source": [
    "drop_data = data.loc[condition, ['CountyCode', 'DistrictCode', 'SchoolCode', 'CohortStudents',\n",
    "                   'Dropout (Rate)']].rename(columns = {'CohortStudents':'totalenrolled',\n",
    "                                                        'Dropout (Rate)':'dropout'})\n",
    "drop_data.loc[:, ['CountyCode', 'DistrictCode', 'SchoolCode']] = drop_data.loc[:, [\n",
    "    'CountyCode', 'DistrictCode', 'SchoolCode']].astype('int').astype('str')\n",
    "drop_data['dropout'] = round(drop_data['dropout'].astype('float'), 2)\n",
    "\n",
    "for i in list(drop_data['SchoolCode']):\n",
    "    if len(i) != 7:\n",
    "        add_len = 7 - len(i)\n",
    "        add_str = '0' * add_len\n",
    "        drop_data.loc[drop_data['SchoolCode'] == i, 'SchoolCode'] = add_str + i\n",
    "\n",
    "drop_data['schoolcode'] = drop_data['CountyCode'] + drop_data['DistrictCode'] + drop_data['SchoolCode']\n",
    "\n",
    "drop_data = drop_data.drop_duplicates().drop(columns = 'SchoolCode')\n",
    "\n",
    "drop_data.head()"
   ]
  },
  {
   "cell_type": "markdown",
   "id": "6e634db8",
   "metadata": {},
   "source": [
    "### Demographics Data"
   ]
  },
  {
   "cell_type": "markdown",
   "id": "97244d35",
   "metadata": {},
   "source": [
    "https://dq.cde.ca.gov/dataquest/dlfile/dlfile.aspx?cLevel=School&cYear=2018-19&cCat=Enrollment&cPage=filesenr.asp"
   ]
  },
  {
   "cell_type": "code",
   "execution_count": 17,
   "id": "471263b7",
   "metadata": {},
   "outputs": [],
   "source": [
    "data = pd.read_csv('enr19.txt', sep = '\\t')"
   ]
  },
  {
   "cell_type": "code",
   "execution_count": 18,
   "id": "dd1f88c5",
   "metadata": {},
   "outputs": [
    {
     "data": {
      "text/plain": [
       "Index(['CDS_CODE', 'COUNTY', 'DISTRICT', 'SCHOOL', 'ETHNIC', 'GENDER', 'KDGN',\n",
       "       'GR_1', 'GR_2', 'GR_3', 'GR_4', 'GR_5', 'GR_6', 'GR_7', 'GR_8',\n",
       "       'UNGR_ELM', 'GR_9', 'GR_10', 'GR_11', 'GR_12', 'UNGR_SEC', 'ENR_TOTAL',\n",
       "       'ADULT'],\n",
       "      dtype='object')"
      ]
     },
     "execution_count": 18,
     "metadata": {},
     "output_type": "execute_result"
    }
   ],
   "source": [
    "data.columns"
   ]
  },
  {
   "cell_type": "code",
   "execution_count": 19,
   "id": "ea4f7430",
   "metadata": {},
   "outputs": [
    {
     "name": "stderr",
     "output_type": "stream",
     "text": [
      "/var/folders/7s/7pz0sdt94z3dpk3yrw82q8jm0000gn/T/ipykernel_32531/1592906387.py:12: SettingWithCopyWarning: \n",
      "A value is trying to be set on a copy of a slice from a DataFrame.\n",
      "Try using .loc[row_indexer,col_indexer] = value instead\n",
      "\n",
      "See the caveats in the documentation: https://pandas.pydata.org/pandas-docs/stable/user_guide/indexing.html#returning-a-view-versus-a-copy\n",
      "  demo['ETHNIC'] = demo['ETHNIC'].map(race_map)\n"
     ]
    },
    {
     "data": {
      "text/html": [
       "<div>\n",
       "<style scoped>\n",
       "    .dataframe tbody tr th:only-of-type {\n",
       "        vertical-align: middle;\n",
       "    }\n",
       "\n",
       "    .dataframe tbody tr th {\n",
       "        vertical-align: top;\n",
       "    }\n",
       "\n",
       "    .dataframe thead th {\n",
       "        text-align: right;\n",
       "    }\n",
       "</style>\n",
       "<table border=\"1\" class=\"dataframe\">\n",
       "  <thead>\n",
       "    <tr style=\"text-align: right;\">\n",
       "      <th></th>\n",
       "      <th>schoolcode</th>\n",
       "      <th>black</th>\n",
       "      <th>hispanic</th>\n",
       "      <th>white</th>\n",
       "    </tr>\n",
       "  </thead>\n",
       "  <tbody>\n",
       "    <tr>\n",
       "      <th>0</th>\n",
       "      <td>1100170112607</td>\n",
       "      <td>32.73</td>\n",
       "      <td>56.36</td>\n",
       "      <td>3.64</td>\n",
       "    </tr>\n",
       "    <tr>\n",
       "      <th>1</th>\n",
       "      <td>1100170123968</td>\n",
       "      <td>14.94</td>\n",
       "      <td>57.68</td>\n",
       "      <td>2.90</td>\n",
       "    </tr>\n",
       "    <tr>\n",
       "      <th>2</th>\n",
       "      <td>1100170124172</td>\n",
       "      <td>6.07</td>\n",
       "      <td>5.84</td>\n",
       "      <td>8.09</td>\n",
       "    </tr>\n",
       "    <tr>\n",
       "      <th>3</th>\n",
       "      <td>1100170125567</td>\n",
       "      <td>18.98</td>\n",
       "      <td>25.69</td>\n",
       "      <td>30.56</td>\n",
       "    </tr>\n",
       "    <tr>\n",
       "      <th>4</th>\n",
       "      <td>1100170130401</td>\n",
       "      <td>63.04</td>\n",
       "      <td>26.09</td>\n",
       "      <td>10.87</td>\n",
       "    </tr>\n",
       "  </tbody>\n",
       "</table>\n",
       "</div>"
      ],
      "text/plain": [
       "      schoolcode  black  hispanic  white\n",
       "0  1100170112607  32.73     56.36   3.64\n",
       "1  1100170123968  14.94     57.68   2.90\n",
       "2  1100170124172   6.07      5.84   8.09\n",
       "3  1100170125567  18.98     25.69  30.56\n",
       "4  1100170130401  63.04     26.09  10.87"
      ]
     },
     "execution_count": 19,
     "metadata": {},
     "output_type": "execute_result"
    }
   ],
   "source": [
    "total_enroll = data.loc[:, ['CDS_CODE', 'ETHNIC', 'GENDER', 'ENR_TOTAL']].groupby('CDS_CODE'\n",
    "    ).sum().reset_index().loc[:,['CDS_CODE', 'ENR_TOTAL']].rename(columns = {'ENR_TOTAL':'total'})\n",
    "total_enroll = total_enroll.loc[total_enroll['total'] > 0, :]\n",
    "\n",
    "group_enroll = data.loc[:, ['CDS_CODE', 'ETHNIC', 'GENDER', 'ENR_TOTAL']].groupby(['CDS_CODE', 'ETHNIC']\n",
    "    ).sum().reset_index()\n",
    "\n",
    "race_map = {5:'hispanic', 6:'black', 7:'white'}\n",
    "\n",
    "demo = group_enroll.loc[group_enroll['ETHNIC'].isin([5, 6, 7]), :]\n",
    "\n",
    "demo['ETHNIC'] = demo['ETHNIC'].map(race_map)\n",
    "\n",
    "demo = demo.merge(total_enroll, on ='CDS_CODE')\n",
    "\n",
    "demo['percent'] = round((demo['ENR_TOTAL'] / demo['total']) * 100, 2)\n",
    "\n",
    "demo = demo.pivot(columns = 'ETHNIC', index = 'CDS_CODE', values = 'percent').reset_index().fillna(0)\n",
    "\n",
    "demo = demo.merge(total_enroll, on = 'CDS_CODE').rename(columns = {'CDS_CODE':'schoolcode'}).drop(\n",
    "    columns = 'total')\n",
    "\n",
    "demo['schoolcode'] = demo['schoolcode'].astype('str')\n",
    "\n",
    "demo.head()"
   ]
  },
  {
   "cell_type": "markdown",
   "id": "e3cbe41d",
   "metadata": {},
   "source": [
    "### FRPM Data"
   ]
  },
  {
   "cell_type": "markdown",
   "id": "bef21e32",
   "metadata": {},
   "source": [
    "https://www.cde.ca.gov/ds/ad/documents/frpm1819.xlsx"
   ]
  },
  {
   "cell_type": "code",
   "execution_count": 20,
   "id": "4cafa179",
   "metadata": {},
   "outputs": [
    {
     "data": {
      "text/plain": [
       "Index(['Academic Year', 'County Code', 'District Code', 'School Code',\n",
       "       'County Name', 'District Name', 'School Name', 'District Type',\n",
       "       'School Type', 'Educational \\nOption Type', 'NSLP \\nProvision \\nStatus',\n",
       "       'Charter \\nSchool \\n(Y/N)', 'Charter \\nSchool \\nNumber',\n",
       "       'Charter \\nFunding \\nType', 'IRC', 'Low Grade', 'High Grade',\n",
       "       'Enrollment \\n(K-12)', 'Free Meal \\nCount \\n(K-12)',\n",
       "       'Percent (%) \\nEligible Free \\n(K-12)', 'FRPM Count \\n(K-12)',\n",
       "       'Percent (%) \\nEligible FRPM \\n(K-12)', 'Enrollment \\n(Ages 5-17)',\n",
       "       'Free Meal \\nCount \\n(Ages 5-17)',\n",
       "       'Percent (%) \\nEligible Free \\n(Ages 5-17)', 'FRPM Count \\n(Ages 5-17)',\n",
       "       'Percent (%) \\nEligible FRPM \\n(Ages 5-17)',\n",
       "       'CALPADS Fall 1 \\nCertification Status'],\n",
       "      dtype='object', name=1)"
      ]
     },
     "execution_count": 20,
     "metadata": {},
     "output_type": "execute_result"
    }
   ],
   "source": [
    "data = pd.read_csv('frpm19.csv', header = None).iloc[1:, :]\n",
    "\n",
    "data.columns = data.iloc[0, :]\n",
    "\n",
    "data = data.iloc[1:, :]\n",
    "\n",
    "data.columns"
   ]
  },
  {
   "cell_type": "code",
   "execution_count": 21,
   "id": "85a82744",
   "metadata": {},
   "outputs": [
    {
     "data": {
      "text/html": [
       "<div>\n",
       "<style scoped>\n",
       "    .dataframe tbody tr th:only-of-type {\n",
       "        vertical-align: middle;\n",
       "    }\n",
       "\n",
       "    .dataframe tbody tr th {\n",
       "        vertical-align: top;\n",
       "    }\n",
       "\n",
       "    .dataframe thead th {\n",
       "        text-align: right;\n",
       "    }\n",
       "</style>\n",
       "<table border=\"1\" class=\"dataframe\">\n",
       "  <thead>\n",
       "    <tr style=\"text-align: right;\">\n",
       "      <th>1</th>\n",
       "      <th>schoolcode</th>\n",
       "      <th>lowincome</th>\n",
       "    </tr>\n",
       "  </thead>\n",
       "  <tbody>\n",
       "    <tr>\n",
       "      <th>2</th>\n",
       "      <td>1100170112607</td>\n",
       "      <td>78.6</td>\n",
       "    </tr>\n",
       "    <tr>\n",
       "      <th>3</th>\n",
       "      <td>1100170123968</td>\n",
       "      <td>51.3</td>\n",
       "    </tr>\n",
       "    <tr>\n",
       "      <th>4</th>\n",
       "      <td>1100170124172</td>\n",
       "      <td>14.4</td>\n",
       "    </tr>\n",
       "    <tr>\n",
       "      <th>5</th>\n",
       "      <td>1100170125567</td>\n",
       "      <td>30.9</td>\n",
       "    </tr>\n",
       "    <tr>\n",
       "      <th>6</th>\n",
       "      <td>1100170130401</td>\n",
       "      <td>100.0</td>\n",
       "    </tr>\n",
       "  </tbody>\n",
       "</table>\n",
       "</div>"
      ],
      "text/plain": [
       "1     schoolcode  lowincome\n",
       "2  1100170112607       78.6\n",
       "3  1100170123968       51.3\n",
       "4  1100170124172       14.4\n",
       "5  1100170125567       30.9\n",
       "6  1100170130401      100.0"
      ]
     },
     "execution_count": 21,
     "metadata": {},
     "output_type": "execute_result"
    }
   ],
   "source": [
    "frpm = data.loc[:, ['County Code', 'District Code', 'School Code',\n",
    "            'Percent (%) \\nEligible FRPM \\n(Ages 5-17)']].rename(columns = {'Academic Year':'year',\n",
    "            'Percent (%) \\nEligible FRPM \\n(Ages 5-17)':'lowincome'})\n",
    "\n",
    "frpm['lowincome'] = round(frpm['lowincome'].str.rstrip('%').astype('float'), 2)\n",
    "frpm['County Code'] = frpm['County Code'].astype('int').astype('str')\n",
    "frpm['schoolcode'] = frpm['County Code'] + frpm['District Code'] + frpm['School Code']\n",
    "\n",
    "frpm = frpm.loc[:, ['schoolcode', 'lowincome']]\n",
    "\n",
    "frpm.head()"
   ]
  },
  {
   "cell_type": "code",
   "execution_count": 22,
   "id": "564e5331",
   "metadata": {},
   "outputs": [
    {
     "data": {
      "text/html": [
       "<div>\n",
       "<style scoped>\n",
       "    .dataframe tbody tr th:only-of-type {\n",
       "        vertical-align: middle;\n",
       "    }\n",
       "\n",
       "    .dataframe tbody tr th {\n",
       "        vertical-align: top;\n",
       "    }\n",
       "\n",
       "    .dataframe thead th {\n",
       "        text-align: right;\n",
       "    }\n",
       "</style>\n",
       "<table border=\"1\" class=\"dataframe\">\n",
       "  <thead>\n",
       "    <tr style=\"text-align: right;\">\n",
       "      <th></th>\n",
       "      <th>schoolcode</th>\n",
       "      <th>lowincome</th>\n",
       "      <th>black</th>\n",
       "      <th>hispanic</th>\n",
       "      <th>white</th>\n",
       "      <th>CountyCode</th>\n",
       "      <th>DistrictCode</th>\n",
       "      <th>totalenrolled</th>\n",
       "      <th>dropout</th>\n",
       "      <th>year</th>\n",
       "    </tr>\n",
       "  </thead>\n",
       "  <tbody>\n",
       "    <tr>\n",
       "      <th>0</th>\n",
       "      <td>1100170112607</td>\n",
       "      <td>78.6</td>\n",
       "      <td>32.73</td>\n",
       "      <td>56.36</td>\n",
       "      <td>3.64</td>\n",
       "      <td>1</td>\n",
       "      <td>10017</td>\n",
       "      <td>85</td>\n",
       "      <td>3.5</td>\n",
       "      <td>2019</td>\n",
       "    </tr>\n",
       "    <tr>\n",
       "      <th>1</th>\n",
       "      <td>1100170130401</td>\n",
       "      <td>100.0</td>\n",
       "      <td>63.04</td>\n",
       "      <td>26.09</td>\n",
       "      <td>10.87</td>\n",
       "      <td>1</td>\n",
       "      <td>10017</td>\n",
       "      <td>77</td>\n",
       "      <td>67.5</td>\n",
       "      <td>2019</td>\n",
       "    </tr>\n",
       "    <tr>\n",
       "      <th>2</th>\n",
       "      <td>1100170130419</td>\n",
       "      <td>84.5</td>\n",
       "      <td>31.58</td>\n",
       "      <td>56.39</td>\n",
       "      <td>6.02</td>\n",
       "      <td>1</td>\n",
       "      <td>10017</td>\n",
       "      <td>80</td>\n",
       "      <td>46.3</td>\n",
       "      <td>2019</td>\n",
       "    </tr>\n",
       "    <tr>\n",
       "      <th>3</th>\n",
       "      <td>1100170136226</td>\n",
       "      <td>50.0</td>\n",
       "      <td>46.48</td>\n",
       "      <td>42.25</td>\n",
       "      <td>1.41</td>\n",
       "      <td>1</td>\n",
       "      <td>10017</td>\n",
       "      <td>73</td>\n",
       "      <td>30.1</td>\n",
       "      <td>2019</td>\n",
       "    </tr>\n",
       "    <tr>\n",
       "      <th>4</th>\n",
       "      <td>1316170131763</td>\n",
       "      <td>100.0</td>\n",
       "      <td>6.99</td>\n",
       "      <td>51.88</td>\n",
       "      <td>22.58</td>\n",
       "      <td>1</td>\n",
       "      <td>31617</td>\n",
       "      <td>47</td>\n",
       "      <td>57.4</td>\n",
       "      <td>2019</td>\n",
       "    </tr>\n",
       "  </tbody>\n",
       "</table>\n",
       "</div>"
      ],
      "text/plain": [
       "      schoolcode  lowincome  black  hispanic  white CountyCode DistrictCode  \\\n",
       "0  1100170112607       78.6  32.73     56.36   3.64          1        10017   \n",
       "1  1100170130401      100.0  63.04     26.09  10.87          1        10017   \n",
       "2  1100170130419       84.5  31.58     56.39   6.02          1        10017   \n",
       "3  1100170136226       50.0  46.48     42.25   1.41          1        10017   \n",
       "4  1316170131763      100.0   6.99     51.88  22.58          1        31617   \n",
       "\n",
       "   totalenrolled  dropout  year  \n",
       "0             85      3.5  2019  \n",
       "1             77     67.5  2019  \n",
       "2             80     46.3  2019  \n",
       "3             73     30.1  2019  \n",
       "4             47     57.4  2019  "
      ]
     },
     "execution_count": 22,
     "metadata": {},
     "output_type": "execute_result"
    }
   ],
   "source": [
    "drop19 = frpm.merge(demo, on = 'schoolcode').merge(drop_data, on = 'schoolcode')\n",
    "drop19.totalenrolled = drop19.totalenrolled.astype('int')\n",
    "drop19['year'] = '2019'\n",
    "drop19.head()"
   ]
  },
  {
   "cell_type": "markdown",
   "id": "3206582a",
   "metadata": {},
   "source": [
    "## Year 2018"
   ]
  },
  {
   "cell_type": "markdown",
   "id": "6a3f70f9",
   "metadata": {},
   "source": [
    "### Drop-out Data"
   ]
  },
  {
   "cell_type": "markdown",
   "id": "de622f4f",
   "metadata": {},
   "source": [
    "https://www3.cde.ca.gov/demo-downloads/acgr/acgr18.txt"
   ]
  },
  {
   "cell_type": "code",
   "execution_count": 23,
   "id": "293fb771",
   "metadata": {},
   "outputs": [],
   "source": [
    "data = pd.read_csv('drop18.csv')"
   ]
  },
  {
   "cell_type": "code",
   "execution_count": 24,
   "id": "52df7a36",
   "metadata": {},
   "outputs": [
    {
     "data": {
      "text/plain": [
       "Index(['AcademicYear', 'AggregateLevel', 'CountyCode', 'DistrictCode',\n",
       "       'SchoolCode', 'CountyName', 'DistrictName', 'SchoolName',\n",
       "       'CharterSchool', 'DASS', 'ReportingCategory', 'CohortStudents',\n",
       "       'Regular HS Diploma Graduates (Count)',\n",
       "       'Regular HS Diploma Graduates (Rate)', 'Met UC/CSU Grad Req's (Count)',\n",
       "       'Met UC/CSU Grad Req's (Rate)', 'Seal of Biliteracy (Count)',\n",
       "       'Seal of Biliteracy (Rate)', 'Golden State Seal Merit Diploma (Count)',\n",
       "       'Golden State Seal Merit Diploma (Rate', 'CHSPE Completer (Count)',\n",
       "       'CHSPE Completer (Rate)', 'Adult Ed. HS Diploma (Count)',\n",
       "       'Adult Ed. HS Diploma (Rate)', 'SPED Certificate (Count)',\n",
       "       'SPED Certificate (Rate)', 'GED Completer (Count)',\n",
       "       'GED Completer (Rate)', 'Other Transfer (Count)',\n",
       "       'Other Transfer (Rate)', 'Dropout (Count)', 'Dropout (Rate)',\n",
       "       'Still Enrolled (Count)', 'Still Enrolled (Rate)'],\n",
       "      dtype='object')"
      ]
     },
     "execution_count": 24,
     "metadata": {},
     "output_type": "execute_result"
    }
   ],
   "source": [
    "data.columns"
   ]
  },
  {
   "cell_type": "code",
   "execution_count": 25,
   "id": "b36a7faf",
   "metadata": {},
   "outputs": [],
   "source": [
    "condition = ((data['AggregateLevel'] == 'S') & (data['ReportingCategory'] == 'TA')\n",
    "             & (data['CohortStudents'] != '*') & (data['CharterSchool'] == 'All') &\n",
    "            (data['DASS'] == 'All'))"
   ]
  },
  {
   "cell_type": "code",
   "execution_count": 26,
   "id": "fc169137",
   "metadata": {},
   "outputs": [
    {
     "data": {
      "text/html": [
       "<div>\n",
       "<style scoped>\n",
       "    .dataframe tbody tr th:only-of-type {\n",
       "        vertical-align: middle;\n",
       "    }\n",
       "\n",
       "    .dataframe tbody tr th {\n",
       "        vertical-align: top;\n",
       "    }\n",
       "\n",
       "    .dataframe thead th {\n",
       "        text-align: right;\n",
       "    }\n",
       "</style>\n",
       "<table border=\"1\" class=\"dataframe\">\n",
       "  <thead>\n",
       "    <tr style=\"text-align: right;\">\n",
       "      <th></th>\n",
       "      <th>CountyCode</th>\n",
       "      <th>DistrictCode</th>\n",
       "      <th>totalenrolled</th>\n",
       "      <th>dropout</th>\n",
       "      <th>schoolcode</th>\n",
       "    </tr>\n",
       "  </thead>\n",
       "  <tbody>\n",
       "    <tr>\n",
       "      <th>55970</th>\n",
       "      <td>1</td>\n",
       "      <td>10017</td>\n",
       "      <td>87</td>\n",
       "      <td>4.6</td>\n",
       "      <td>1100170112607</td>\n",
       "    </tr>\n",
       "    <tr>\n",
       "      <th>56027</th>\n",
       "      <td>1</td>\n",
       "      <td>10017</td>\n",
       "      <td>93</td>\n",
       "      <td>65.6</td>\n",
       "      <td>1100170130401</td>\n",
       "    </tr>\n",
       "    <tr>\n",
       "      <th>56088</th>\n",
       "      <td>1</td>\n",
       "      <td>10017</td>\n",
       "      <td>95</td>\n",
       "      <td>38.9</td>\n",
       "      <td>1100170130419</td>\n",
       "    </tr>\n",
       "    <tr>\n",
       "      <th>56150</th>\n",
       "      <td>1</td>\n",
       "      <td>10017</td>\n",
       "      <td>69</td>\n",
       "      <td>31.9</td>\n",
       "      <td>1100170136226</td>\n",
       "    </tr>\n",
       "    <tr>\n",
       "      <th>56243</th>\n",
       "      <td>1</td>\n",
       "      <td>31617</td>\n",
       "      <td>38</td>\n",
       "      <td>2.6</td>\n",
       "      <td>1316170131763</td>\n",
       "    </tr>\n",
       "  </tbody>\n",
       "</table>\n",
       "</div>"
      ],
      "text/plain": [
       "      CountyCode DistrictCode totalenrolled  dropout     schoolcode\n",
       "55970          1        10017            87      4.6  1100170112607\n",
       "56027          1        10017            93     65.6  1100170130401\n",
       "56088          1        10017            95     38.9  1100170130419\n",
       "56150          1        10017            69     31.9  1100170136226\n",
       "56243          1        31617            38      2.6  1316170131763"
      ]
     },
     "execution_count": 26,
     "metadata": {},
     "output_type": "execute_result"
    }
   ],
   "source": [
    "drop_data = data.loc[condition, ['CountyCode', 'DistrictCode', 'SchoolCode', 'CohortStudents',\n",
    "                   'Dropout (Rate)']].rename(columns = {'CohortStudents':'totalenrolled',\n",
    "                                                        'Dropout (Rate)':'dropout'})\n",
    "drop_data.loc[:, ['CountyCode', 'DistrictCode', 'SchoolCode']] = drop_data.loc[:, [\n",
    "    'CountyCode', 'DistrictCode', 'SchoolCode']].astype('int').astype('str')\n",
    "drop_data['dropout'] = round(drop_data['dropout'].astype('float'), 2)\n",
    "\n",
    "for i in list(drop_data['SchoolCode']):\n",
    "    if len(i) != 7:\n",
    "        add_len = 7 - len(i)\n",
    "        add_str = '0' * add_len\n",
    "        drop_data.loc[drop_data['SchoolCode'] == i, 'SchoolCode'] = add_str + i\n",
    "\n",
    "drop_data['schoolcode'] = drop_data['CountyCode'] + drop_data['DistrictCode'] + drop_data['SchoolCode']\n",
    "\n",
    "drop_data = drop_data.drop_duplicates().drop(columns = 'SchoolCode')\n",
    "\n",
    "drop_data.head()"
   ]
  },
  {
   "cell_type": "markdown",
   "id": "b135cf51",
   "metadata": {},
   "source": [
    "### Demographics Data"
   ]
  },
  {
   "cell_type": "markdown",
   "id": "a295a16b",
   "metadata": {},
   "source": [
    "https://dq.cde.ca.gov/dataquest/dlfile/dlfile.aspx?cLevel=School&cYear=2017-18&cCat=Enrollment&cPage=filesenr.asp"
   ]
  },
  {
   "cell_type": "code",
   "execution_count": 27,
   "id": "549e9a3b",
   "metadata": {},
   "outputs": [],
   "source": [
    "data = pd.read_csv('enr18.txt', sep = '\\t')"
   ]
  },
  {
   "cell_type": "code",
   "execution_count": 28,
   "id": "5dd0d7c0",
   "metadata": {},
   "outputs": [
    {
     "data": {
      "text/plain": [
       "Index(['CDS_CODE', 'COUNTY', 'DISTRICT', 'SCHOOL', 'ETHNIC', 'GENDER', 'KDGN',\n",
       "       'GR_1', 'GR_2', 'GR_3', 'GR_4', 'GR_5', 'GR_6', 'GR_7', 'GR_8',\n",
       "       'UNGR_ELM', 'GR_9', 'GR_10', 'GR_11', 'GR_12', 'UNGR_SEC', 'ENR_TOTAL',\n",
       "       'ADULT'],\n",
       "      dtype='object')"
      ]
     },
     "execution_count": 28,
     "metadata": {},
     "output_type": "execute_result"
    }
   ],
   "source": [
    "data.columns"
   ]
  },
  {
   "cell_type": "code",
   "execution_count": 29,
   "id": "8f0e76e6",
   "metadata": {},
   "outputs": [
    {
     "name": "stderr",
     "output_type": "stream",
     "text": [
      "/var/folders/7s/7pz0sdt94z3dpk3yrw82q8jm0000gn/T/ipykernel_32531/1592906387.py:12: SettingWithCopyWarning: \n",
      "A value is trying to be set on a copy of a slice from a DataFrame.\n",
      "Try using .loc[row_indexer,col_indexer] = value instead\n",
      "\n",
      "See the caveats in the documentation: https://pandas.pydata.org/pandas-docs/stable/user_guide/indexing.html#returning-a-view-versus-a-copy\n",
      "  demo['ETHNIC'] = demo['ETHNIC'].map(race_map)\n"
     ]
    },
    {
     "data": {
      "text/html": [
       "<div>\n",
       "<style scoped>\n",
       "    .dataframe tbody tr th:only-of-type {\n",
       "        vertical-align: middle;\n",
       "    }\n",
       "\n",
       "    .dataframe tbody tr th {\n",
       "        vertical-align: top;\n",
       "    }\n",
       "\n",
       "    .dataframe thead th {\n",
       "        text-align: right;\n",
       "    }\n",
       "</style>\n",
       "<table border=\"1\" class=\"dataframe\">\n",
       "  <thead>\n",
       "    <tr style=\"text-align: right;\">\n",
       "      <th></th>\n",
       "      <th>schoolcode</th>\n",
       "      <th>black</th>\n",
       "      <th>hispanic</th>\n",
       "      <th>white</th>\n",
       "    </tr>\n",
       "  </thead>\n",
       "  <tbody>\n",
       "    <tr>\n",
       "      <th>0</th>\n",
       "      <td>1100170112607</td>\n",
       "      <td>33.41</td>\n",
       "      <td>55.69</td>\n",
       "      <td>2.66</td>\n",
       "    </tr>\n",
       "    <tr>\n",
       "      <th>1</th>\n",
       "      <td>1100170123968</td>\n",
       "      <td>19.05</td>\n",
       "      <td>57.94</td>\n",
       "      <td>3.97</td>\n",
       "    </tr>\n",
       "    <tr>\n",
       "      <th>2</th>\n",
       "      <td>1100170124172</td>\n",
       "      <td>4.91</td>\n",
       "      <td>4.39</td>\n",
       "      <td>8.27</td>\n",
       "    </tr>\n",
       "    <tr>\n",
       "      <th>3</th>\n",
       "      <td>1100170125567</td>\n",
       "      <td>19.42</td>\n",
       "      <td>26.56</td>\n",
       "      <td>30.36</td>\n",
       "    </tr>\n",
       "    <tr>\n",
       "      <th>4</th>\n",
       "      <td>1100170130401</td>\n",
       "      <td>69.86</td>\n",
       "      <td>16.44</td>\n",
       "      <td>5.48</td>\n",
       "    </tr>\n",
       "  </tbody>\n",
       "</table>\n",
       "</div>"
      ],
      "text/plain": [
       "      schoolcode  black  hispanic  white\n",
       "0  1100170112607  33.41     55.69   2.66\n",
       "1  1100170123968  19.05     57.94   3.97\n",
       "2  1100170124172   4.91      4.39   8.27\n",
       "3  1100170125567  19.42     26.56  30.36\n",
       "4  1100170130401  69.86     16.44   5.48"
      ]
     },
     "execution_count": 29,
     "metadata": {},
     "output_type": "execute_result"
    }
   ],
   "source": [
    "total_enroll = data.loc[:, ['CDS_CODE', 'ETHNIC', 'GENDER', 'ENR_TOTAL']].groupby('CDS_CODE'\n",
    "    ).sum().reset_index().loc[:,['CDS_CODE', 'ENR_TOTAL']].rename(columns = {'ENR_TOTAL':'total'})\n",
    "total_enroll = total_enroll.loc[total_enroll['total'] > 0, :]\n",
    "\n",
    "group_enroll = data.loc[:, ['CDS_CODE', 'ETHNIC', 'GENDER', 'ENR_TOTAL']].groupby(['CDS_CODE', 'ETHNIC']\n",
    "    ).sum().reset_index()\n",
    "\n",
    "race_map = {5:'hispanic', 6:'black', 7:'white'}\n",
    "\n",
    "demo = group_enroll.loc[group_enroll['ETHNIC'].isin([5, 6, 7]), :]\n",
    "\n",
    "demo['ETHNIC'] = demo['ETHNIC'].map(race_map)\n",
    "\n",
    "demo = demo.merge(total_enroll, on ='CDS_CODE')\n",
    "\n",
    "demo['percent'] = round((demo['ENR_TOTAL'] / demo['total']) * 100, 2)\n",
    "\n",
    "demo = demo.pivot(columns = 'ETHNIC', index = 'CDS_CODE', values = 'percent').reset_index().fillna(0)\n",
    "\n",
    "demo = demo.merge(total_enroll, on = 'CDS_CODE').rename(columns = {'CDS_CODE':'schoolcode'}).drop(\n",
    "    columns = 'total')\n",
    "\n",
    "demo['schoolcode'] = demo['schoolcode'].astype('str')\n",
    "\n",
    "demo.head()"
   ]
  },
  {
   "cell_type": "markdown",
   "id": "eefb481a",
   "metadata": {},
   "source": [
    "### FRPM Data"
   ]
  },
  {
   "cell_type": "markdown",
   "id": "b6b49262",
   "metadata": {},
   "source": [
    "https://www.cde.ca.gov/ds/ad/documents/frpm1718.xlsx"
   ]
  },
  {
   "cell_type": "code",
   "execution_count": 30,
   "id": "35e50459",
   "metadata": {},
   "outputs": [
    {
     "data": {
      "text/plain": [
       "Index(['Academic Year', 'County Code', 'District Code', 'School Code',\n",
       "       'County Name', 'District Name', 'School Name', 'District Type',\n",
       "       'School Type', 'Educational \\nOption Type', 'NSLP \\nProvision \\nStatus',\n",
       "       'Charter \\nSchool \\n(Y/N)', 'Charter \\nSchool \\nNumber',\n",
       "       'Charter \\nFunding \\nType', 'IRC', 'Low Grade', 'High Grade',\n",
       "       'Enrollment \\n(K-12)', 'Free Meal \\nCount \\n(K-12)',\n",
       "       'Percent (%) \\nEligible Free \\n(K-12)', 'FRPM Count \\n(K-12)',\n",
       "       'Percent (%) \\nEligible FRPM \\n(K-12)', 'Enrollment \\n(Ages 5-17)',\n",
       "       'Free Meal \\nCount \\n(Ages 5-17)',\n",
       "       'Percent (%) \\nEligible Free \\n(Ages 5-17)', 'FRPM Count \\n(Ages 5-17)',\n",
       "       'Percent (%) \\nEligible FRPM \\n(Ages 5-17)',\n",
       "       '2017-18 \\nCALPADS Fall 1 \\nCertification Status'],\n",
       "      dtype='object', name=1)"
      ]
     },
     "execution_count": 30,
     "metadata": {},
     "output_type": "execute_result"
    }
   ],
   "source": [
    "data = pd.read_csv('frpm18.csv', header = None).iloc[1:, :]\n",
    "\n",
    "data.columns = data.iloc[0, :]\n",
    "\n",
    "data = data.iloc[1:, :]\n",
    "\n",
    "data.columns"
   ]
  },
  {
   "cell_type": "code",
   "execution_count": 31,
   "id": "d180837b",
   "metadata": {},
   "outputs": [
    {
     "data": {
      "text/html": [
       "<div>\n",
       "<style scoped>\n",
       "    .dataframe tbody tr th:only-of-type {\n",
       "        vertical-align: middle;\n",
       "    }\n",
       "\n",
       "    .dataframe tbody tr th {\n",
       "        vertical-align: top;\n",
       "    }\n",
       "\n",
       "    .dataframe thead th {\n",
       "        text-align: right;\n",
       "    }\n",
       "</style>\n",
       "<table border=\"1\" class=\"dataframe\">\n",
       "  <thead>\n",
       "    <tr style=\"text-align: right;\">\n",
       "      <th>1</th>\n",
       "      <th>schoolcode</th>\n",
       "      <th>lowincome</th>\n",
       "    </tr>\n",
       "  </thead>\n",
       "  <tbody>\n",
       "    <tr>\n",
       "      <th>2</th>\n",
       "      <td>1100170112607</td>\n",
       "      <td>74.6</td>\n",
       "    </tr>\n",
       "    <tr>\n",
       "      <th>3</th>\n",
       "      <td>1100170123968</td>\n",
       "      <td>70.0</td>\n",
       "    </tr>\n",
       "    <tr>\n",
       "      <th>4</th>\n",
       "      <td>1100170124172</td>\n",
       "      <td>13.7</td>\n",
       "    </tr>\n",
       "    <tr>\n",
       "      <th>5</th>\n",
       "      <td>1100170125567</td>\n",
       "      <td>29.0</td>\n",
       "    </tr>\n",
       "    <tr>\n",
       "      <th>6</th>\n",
       "      <td>1100170130401</td>\n",
       "      <td>100.0</td>\n",
       "    </tr>\n",
       "  </tbody>\n",
       "</table>\n",
       "</div>"
      ],
      "text/plain": [
       "1     schoolcode  lowincome\n",
       "2  1100170112607       74.6\n",
       "3  1100170123968       70.0\n",
       "4  1100170124172       13.7\n",
       "5  1100170125567       29.0\n",
       "6  1100170130401      100.0"
      ]
     },
     "execution_count": 31,
     "metadata": {},
     "output_type": "execute_result"
    }
   ],
   "source": [
    "frpm = data.loc[:, ['County Code', 'District Code', 'School Code',\n",
    "            'Percent (%) \\nEligible FRPM \\n(Ages 5-17)']].rename(columns = {'Academic Year':'year',\n",
    "            'Percent (%) \\nEligible FRPM \\n(Ages 5-17)':'lowincome'})\n",
    "\n",
    "frpm['lowincome'] = round(frpm['lowincome'].str.rstrip('%').astype('float'), 2)\n",
    "frpm['County Code'] = frpm['County Code'].astype('int').astype('str')\n",
    "frpm['schoolcode'] = frpm['County Code'] + frpm['District Code'] + frpm['School Code']\n",
    "\n",
    "frpm = frpm.loc[:, ['schoolcode', 'lowincome']]\n",
    "\n",
    "frpm.head()"
   ]
  },
  {
   "cell_type": "code",
   "execution_count": 32,
   "id": "c8ae904f",
   "metadata": {},
   "outputs": [
    {
     "data": {
      "text/html": [
       "<div>\n",
       "<style scoped>\n",
       "    .dataframe tbody tr th:only-of-type {\n",
       "        vertical-align: middle;\n",
       "    }\n",
       "\n",
       "    .dataframe tbody tr th {\n",
       "        vertical-align: top;\n",
       "    }\n",
       "\n",
       "    .dataframe thead th {\n",
       "        text-align: right;\n",
       "    }\n",
       "</style>\n",
       "<table border=\"1\" class=\"dataframe\">\n",
       "  <thead>\n",
       "    <tr style=\"text-align: right;\">\n",
       "      <th></th>\n",
       "      <th>schoolcode</th>\n",
       "      <th>lowincome</th>\n",
       "      <th>black</th>\n",
       "      <th>hispanic</th>\n",
       "      <th>white</th>\n",
       "      <th>CountyCode</th>\n",
       "      <th>DistrictCode</th>\n",
       "      <th>totalenrolled</th>\n",
       "      <th>dropout</th>\n",
       "      <th>year</th>\n",
       "    </tr>\n",
       "  </thead>\n",
       "  <tbody>\n",
       "    <tr>\n",
       "      <th>0</th>\n",
       "      <td>1100170112607</td>\n",
       "      <td>74.6</td>\n",
       "      <td>33.41</td>\n",
       "      <td>55.69</td>\n",
       "      <td>2.66</td>\n",
       "      <td>1</td>\n",
       "      <td>10017</td>\n",
       "      <td>87</td>\n",
       "      <td>4.6</td>\n",
       "      <td>2018</td>\n",
       "    </tr>\n",
       "    <tr>\n",
       "      <th>1</th>\n",
       "      <td>1100170130401</td>\n",
       "      <td>100.0</td>\n",
       "      <td>69.86</td>\n",
       "      <td>16.44</td>\n",
       "      <td>5.48</td>\n",
       "      <td>1</td>\n",
       "      <td>10017</td>\n",
       "      <td>93</td>\n",
       "      <td>65.6</td>\n",
       "      <td>2018</td>\n",
       "    </tr>\n",
       "    <tr>\n",
       "      <th>2</th>\n",
       "      <td>1100170130419</td>\n",
       "      <td>81.8</td>\n",
       "      <td>35.06</td>\n",
       "      <td>48.85</td>\n",
       "      <td>5.75</td>\n",
       "      <td>1</td>\n",
       "      <td>10017</td>\n",
       "      <td>95</td>\n",
       "      <td>38.9</td>\n",
       "      <td>2018</td>\n",
       "    </tr>\n",
       "    <tr>\n",
       "      <th>3</th>\n",
       "      <td>1100170136226</td>\n",
       "      <td>66.7</td>\n",
       "      <td>56.52</td>\n",
       "      <td>30.43</td>\n",
       "      <td>4.35</td>\n",
       "      <td>1</td>\n",
       "      <td>10017</td>\n",
       "      <td>69</td>\n",
       "      <td>31.9</td>\n",
       "      <td>2018</td>\n",
       "    </tr>\n",
       "    <tr>\n",
       "      <th>4</th>\n",
       "      <td>1316170131763</td>\n",
       "      <td>99.7</td>\n",
       "      <td>7.73</td>\n",
       "      <td>50.93</td>\n",
       "      <td>23.20</td>\n",
       "      <td>1</td>\n",
       "      <td>31617</td>\n",
       "      <td>38</td>\n",
       "      <td>2.6</td>\n",
       "      <td>2018</td>\n",
       "    </tr>\n",
       "  </tbody>\n",
       "</table>\n",
       "</div>"
      ],
      "text/plain": [
       "      schoolcode  lowincome  black  hispanic  white CountyCode DistrictCode  \\\n",
       "0  1100170112607       74.6  33.41     55.69   2.66          1        10017   \n",
       "1  1100170130401      100.0  69.86     16.44   5.48          1        10017   \n",
       "2  1100170130419       81.8  35.06     48.85   5.75          1        10017   \n",
       "3  1100170136226       66.7  56.52     30.43   4.35          1        10017   \n",
       "4  1316170131763       99.7   7.73     50.93  23.20          1        31617   \n",
       "\n",
       "   totalenrolled  dropout  year  \n",
       "0             87      4.6  2018  \n",
       "1             93     65.6  2018  \n",
       "2             95     38.9  2018  \n",
       "3             69     31.9  2018  \n",
       "4             38      2.6  2018  "
      ]
     },
     "execution_count": 32,
     "metadata": {},
     "output_type": "execute_result"
    }
   ],
   "source": [
    "drop18 = frpm.merge(demo, on = 'schoolcode').merge(drop_data, on = 'schoolcode')\n",
    "drop18.totalenrolled = drop18.totalenrolled.astype('int')\n",
    "drop18['year'] = '2018'\n",
    "drop18.head()"
   ]
  },
  {
   "cell_type": "markdown",
   "id": "e2b616e9",
   "metadata": {},
   "source": [
    "## Year 2017"
   ]
  },
  {
   "cell_type": "markdown",
   "id": "02400489",
   "metadata": {},
   "source": [
    "### Drop-out Data"
   ]
  },
  {
   "cell_type": "markdown",
   "id": "ac41110c",
   "metadata": {},
   "source": [
    "https://www3.cde.ca.gov/demo-downloads/acgr/acgr17.txt"
   ]
  },
  {
   "cell_type": "code",
   "execution_count": 33,
   "id": "7934941a",
   "metadata": {},
   "outputs": [],
   "source": [
    "data = pd.read_csv('drop17.csv')"
   ]
  },
  {
   "cell_type": "code",
   "execution_count": 34,
   "id": "471e26b2",
   "metadata": {},
   "outputs": [
    {
     "data": {
      "text/plain": [
       "Index(['AcademicYear', 'AggregateLevel', 'CountyCode', 'DistrictCode',\n",
       "       'SchoolCode', 'CountyName', 'DistrictName', 'SchoolName',\n",
       "       'CharterSchool', 'DASS', 'ReportingCategory', 'CohortStudents',\n",
       "       'Regular HS Diploma Graduates (Count)',\n",
       "       'Regular HS Diploma Graduates (Rate)', 'Met UC/CSU Grad Req's (Count)',\n",
       "       'Met UC/CSU Grad Req's (Rate)', 'Seal of Biliteracy (Count)',\n",
       "       'Seal of Biliteracy (Rate)', 'Golden State Seal Merit Diploma (Count)',\n",
       "       'Golden State Seal Merit Diploma (Rate', 'CHSPE Completer (Count)',\n",
       "       'CHSPE Completer (Rate)', 'Adult Ed. HS Diploma (Count)',\n",
       "       'Adult Ed. HS Diploma (Rate)', 'SPED Certificate (Count)',\n",
       "       'SPED Certificate (Rate)', 'GED Completer (Count)',\n",
       "       'GED Completer (Rate)', 'Other Transfer (Count)',\n",
       "       'Other Transfer (Rate)', 'Dropout (Count)', 'Dropout (Rate)',\n",
       "       'Still Enrolled (Count)', 'Still Enrolled (Rate)'],\n",
       "      dtype='object')"
      ]
     },
     "execution_count": 34,
     "metadata": {},
     "output_type": "execute_result"
    }
   ],
   "source": [
    "data.columns"
   ]
  },
  {
   "cell_type": "code",
   "execution_count": 35,
   "id": "62eccd62",
   "metadata": {},
   "outputs": [],
   "source": [
    "condition = ((data['AggregateLevel'] == 'S') & (data['ReportingCategory'] == 'TA')\n",
    "             & (data['CohortStudents'] != '*') & (data['CharterSchool'] == 'All') &\n",
    "            (data['DASS'] == 'All'))"
   ]
  },
  {
   "cell_type": "code",
   "execution_count": 36,
   "id": "b6a4859a",
   "metadata": {},
   "outputs": [
    {
     "data": {
      "text/html": [
       "<div>\n",
       "<style scoped>\n",
       "    .dataframe tbody tr th:only-of-type {\n",
       "        vertical-align: middle;\n",
       "    }\n",
       "\n",
       "    .dataframe tbody tr th {\n",
       "        vertical-align: top;\n",
       "    }\n",
       "\n",
       "    .dataframe thead th {\n",
       "        text-align: right;\n",
       "    }\n",
       "</style>\n",
       "<table border=\"1\" class=\"dataframe\">\n",
       "  <thead>\n",
       "    <tr style=\"text-align: right;\">\n",
       "      <th></th>\n",
       "      <th>CountyCode</th>\n",
       "      <th>DistrictCode</th>\n",
       "      <th>totalenrolled</th>\n",
       "      <th>dropout</th>\n",
       "      <th>schoolcode</th>\n",
       "    </tr>\n",
       "  </thead>\n",
       "  <tbody>\n",
       "    <tr>\n",
       "      <th>55347</th>\n",
       "      <td>1</td>\n",
       "      <td>10017</td>\n",
       "      <td>81</td>\n",
       "      <td>4.9</td>\n",
       "      <td>1100170112607</td>\n",
       "    </tr>\n",
       "    <tr>\n",
       "      <th>55401</th>\n",
       "      <td>1</td>\n",
       "      <td>10017</td>\n",
       "      <td>95</td>\n",
       "      <td>55.8</td>\n",
       "      <td>1100170130401</td>\n",
       "    </tr>\n",
       "    <tr>\n",
       "      <th>55461</th>\n",
       "      <td>1</td>\n",
       "      <td>10017</td>\n",
       "      <td>171</td>\n",
       "      <td>36.8</td>\n",
       "      <td>1100170130419</td>\n",
       "    </tr>\n",
       "    <tr>\n",
       "      <th>55518</th>\n",
       "      <td>1</td>\n",
       "      <td>31609</td>\n",
       "      <td>12</td>\n",
       "      <td>0.0</td>\n",
       "      <td>1316090131755</td>\n",
       "    </tr>\n",
       "    <tr>\n",
       "      <th>55569</th>\n",
       "      <td>1</td>\n",
       "      <td>31617</td>\n",
       "      <td>47</td>\n",
       "      <td>0.0</td>\n",
       "      <td>1316170131763</td>\n",
       "    </tr>\n",
       "  </tbody>\n",
       "</table>\n",
       "</div>"
      ],
      "text/plain": [
       "      CountyCode DistrictCode totalenrolled  dropout     schoolcode\n",
       "55347          1        10017            81      4.9  1100170112607\n",
       "55401          1        10017            95     55.8  1100170130401\n",
       "55461          1        10017           171     36.8  1100170130419\n",
       "55518          1        31609            12      0.0  1316090131755\n",
       "55569          1        31617            47      0.0  1316170131763"
      ]
     },
     "execution_count": 36,
     "metadata": {},
     "output_type": "execute_result"
    }
   ],
   "source": [
    "drop_data = data.loc[condition, ['CountyCode', 'DistrictCode', 'SchoolCode', 'CohortStudents',\n",
    "                   'Dropout (Rate)']].rename(columns = {'CohortStudents':'totalenrolled',\n",
    "                                                        'Dropout (Rate)':'dropout'})\n",
    "drop_data.loc[:, ['CountyCode', 'DistrictCode', 'SchoolCode']] = drop_data.loc[:, [\n",
    "    'CountyCode', 'DistrictCode', 'SchoolCode']].astype('int').astype('str')\n",
    "drop_data['dropout'] = round(drop_data['dropout'].astype('float'), 2)\n",
    "\n",
    "for i in list(drop_data['SchoolCode']):\n",
    "    if len(i) != 7:\n",
    "        add_len = 7 - len(i)\n",
    "        add_str = '0' * add_len\n",
    "        drop_data.loc[drop_data['SchoolCode'] == i, 'SchoolCode'] = add_str + i\n",
    "\n",
    "drop_data['schoolcode'] = drop_data['CountyCode'] + drop_data['DistrictCode'] + drop_data['SchoolCode']\n",
    "\n",
    "drop_data = drop_data.drop_duplicates().drop(columns = 'SchoolCode')\n",
    "\n",
    "drop_data.head()"
   ]
  },
  {
   "cell_type": "markdown",
   "id": "c7c22cb8",
   "metadata": {},
   "source": [
    "### Demographics Data"
   ]
  },
  {
   "cell_type": "markdown",
   "id": "d8c2ac24",
   "metadata": {},
   "source": [
    "https://dq.cde.ca.gov/dataquest/dlfile/dlfile.aspx?cLevel=School&cYear=2016-17&cCat=Enrollment&cPage=filesenr.asp"
   ]
  },
  {
   "cell_type": "code",
   "execution_count": 37,
   "id": "a0079c08",
   "metadata": {},
   "outputs": [],
   "source": [
    "data = pd.read_csv('enr17.txt', sep = '\\t')"
   ]
  },
  {
   "cell_type": "code",
   "execution_count": 38,
   "id": "90fd007d",
   "metadata": {},
   "outputs": [
    {
     "data": {
      "text/plain": [
       "Index(['CDS_CODE', 'COUNTY', 'DISTRICT', 'SCHOOL', 'ETHNIC', 'GENDER', 'KDGN',\n",
       "       'GR_1', 'GR_2', 'GR_3', 'GR_4', 'GR_5', 'GR_6', 'GR_7', 'GR_8',\n",
       "       'UNGR_ELM', 'GR_9', 'GR_10', 'GR_11', 'GR_12', 'UNGR_SEC', 'ENR_TOTAL',\n",
       "       'ADULT'],\n",
       "      dtype='object')"
      ]
     },
     "execution_count": 38,
     "metadata": {},
     "output_type": "execute_result"
    }
   ],
   "source": [
    "data.columns"
   ]
  },
  {
   "cell_type": "code",
   "execution_count": 39,
   "id": "6d7829d3",
   "metadata": {},
   "outputs": [
    {
     "name": "stderr",
     "output_type": "stream",
     "text": [
      "/var/folders/7s/7pz0sdt94z3dpk3yrw82q8jm0000gn/T/ipykernel_32531/1592906387.py:12: SettingWithCopyWarning: \n",
      "A value is trying to be set on a copy of a slice from a DataFrame.\n",
      "Try using .loc[row_indexer,col_indexer] = value instead\n",
      "\n",
      "See the caveats in the documentation: https://pandas.pydata.org/pandas-docs/stable/user_guide/indexing.html#returning-a-view-versus-a-copy\n",
      "  demo['ETHNIC'] = demo['ETHNIC'].map(race_map)\n"
     ]
    },
    {
     "data": {
      "text/html": [
       "<div>\n",
       "<style scoped>\n",
       "    .dataframe tbody tr th:only-of-type {\n",
       "        vertical-align: middle;\n",
       "    }\n",
       "\n",
       "    .dataframe tbody tr th {\n",
       "        vertical-align: top;\n",
       "    }\n",
       "\n",
       "    .dataframe thead th {\n",
       "        text-align: right;\n",
       "    }\n",
       "</style>\n",
       "<table border=\"1\" class=\"dataframe\">\n",
       "  <thead>\n",
       "    <tr style=\"text-align: right;\">\n",
       "      <th></th>\n",
       "      <th>schoolcode</th>\n",
       "      <th>black</th>\n",
       "      <th>hispanic</th>\n",
       "      <th>white</th>\n",
       "    </tr>\n",
       "  </thead>\n",
       "  <tbody>\n",
       "    <tr>\n",
       "      <th>0</th>\n",
       "      <td>1100170112607</td>\n",
       "      <td>37.22</td>\n",
       "      <td>52.61</td>\n",
       "      <td>4.47</td>\n",
       "    </tr>\n",
       "    <tr>\n",
       "      <th>1</th>\n",
       "      <td>1100170123968</td>\n",
       "      <td>11.06</td>\n",
       "      <td>60.10</td>\n",
       "      <td>7.69</td>\n",
       "    </tr>\n",
       "    <tr>\n",
       "      <th>2</th>\n",
       "      <td>1100170124172</td>\n",
       "      <td>3.92</td>\n",
       "      <td>5.04</td>\n",
       "      <td>9.80</td>\n",
       "    </tr>\n",
       "    <tr>\n",
       "      <th>3</th>\n",
       "      <td>1100170125567</td>\n",
       "      <td>20.05</td>\n",
       "      <td>25.67</td>\n",
       "      <td>30.75</td>\n",
       "    </tr>\n",
       "    <tr>\n",
       "      <th>4</th>\n",
       "      <td>1100170130401</td>\n",
       "      <td>66.67</td>\n",
       "      <td>24.14</td>\n",
       "      <td>2.30</td>\n",
       "    </tr>\n",
       "  </tbody>\n",
       "</table>\n",
       "</div>"
      ],
      "text/plain": [
       "      schoolcode  black  hispanic  white\n",
       "0  1100170112607  37.22     52.61   4.47\n",
       "1  1100170123968  11.06     60.10   7.69\n",
       "2  1100170124172   3.92      5.04   9.80\n",
       "3  1100170125567  20.05     25.67  30.75\n",
       "4  1100170130401  66.67     24.14   2.30"
      ]
     },
     "execution_count": 39,
     "metadata": {},
     "output_type": "execute_result"
    }
   ],
   "source": [
    "total_enroll = data.loc[:, ['CDS_CODE', 'ETHNIC', 'GENDER', 'ENR_TOTAL']].groupby('CDS_CODE'\n",
    "    ).sum().reset_index().loc[:,['CDS_CODE', 'ENR_TOTAL']].rename(columns = {'ENR_TOTAL':'total'})\n",
    "total_enroll = total_enroll.loc[total_enroll['total'] > 0, :]\n",
    "\n",
    "group_enroll = data.loc[:, ['CDS_CODE', 'ETHNIC', 'GENDER', 'ENR_TOTAL']].groupby(['CDS_CODE', 'ETHNIC']\n",
    "    ).sum().reset_index()\n",
    "\n",
    "race_map = {5:'hispanic', 6:'black', 7:'white'}\n",
    "\n",
    "demo = group_enroll.loc[group_enroll['ETHNIC'].isin([5, 6, 7]), :]\n",
    "\n",
    "demo['ETHNIC'] = demo['ETHNIC'].map(race_map)\n",
    "\n",
    "demo = demo.merge(total_enroll, on ='CDS_CODE')\n",
    "\n",
    "demo['percent'] = round((demo['ENR_TOTAL'] / demo['total']) * 100, 2)\n",
    "\n",
    "demo = demo.pivot(columns = 'ETHNIC', index = 'CDS_CODE', values = 'percent').reset_index().fillna(0)\n",
    "\n",
    "demo = demo.merge(total_enroll, on = 'CDS_CODE').rename(columns = {'CDS_CODE':'schoolcode'}).drop(\n",
    "    columns = 'total')\n",
    "\n",
    "demo['schoolcode'] = demo['schoolcode'].astype('str')\n",
    "\n",
    "demo.head()"
   ]
  },
  {
   "cell_type": "markdown",
   "id": "6ebcdc7d",
   "metadata": {},
   "source": [
    "### FRPM Data"
   ]
  },
  {
   "cell_type": "markdown",
   "id": "08849a96",
   "metadata": {},
   "source": [
    "https://www.cde.ca.gov/ds/ad/documents/frpm1617.xls"
   ]
  },
  {
   "cell_type": "code",
   "execution_count": 40,
   "id": "876cc535",
   "metadata": {},
   "outputs": [
    {
     "data": {
      "text/plain": [
       "Index(['Academic Year', 'County Code', 'District Code', 'School Code',\n",
       "       'County Name', 'District Name', 'School Name', 'District Type',\n",
       "       'School Type', 'Educational \\nOption Type', 'NSLP \\nProvision \\nStatus',\n",
       "       'Charter \\nSchool \\n(Y/N)', 'Charter \\nSchool \\nNumber',\n",
       "       'Charter \\nFunding \\nType', 'IRC', 'Low Grade', 'High Grade',\n",
       "       'Enrollment \\n(K-12)', 'Free Meal \\nCount \\n(K-12)',\n",
       "       'Percent (%) \\nEligible Free \\n(K-12)', 'FRPM Count \\n(K-12)',\n",
       "       'Percent (%) \\nEligible FRPM \\n(K-12)', 'Enrollment \\n(Ages 5-17)',\n",
       "       'Free Meal \\nCount \\n(Ages 5-17)',\n",
       "       'Percent (%) \\nEligible Free \\n(Ages 5-17)', 'FRPM Count \\n(Ages 5-17)',\n",
       "       'Percent (%) \\nEligible FRPM \\n(Ages 5-17)',\n",
       "       '2016-17 \\nCALPADS Fall 1 \\nCertification Status'],\n",
       "      dtype='object', name=1)"
      ]
     },
     "execution_count": 40,
     "metadata": {},
     "output_type": "execute_result"
    }
   ],
   "source": [
    "data = pd.read_csv('frpm17.csv', header = None).iloc[1:, :]\n",
    "\n",
    "data.columns = data.iloc[0, :]\n",
    "\n",
    "data = data.iloc[1:, :]\n",
    "\n",
    "data.columns"
   ]
  },
  {
   "cell_type": "code",
   "execution_count": 41,
   "id": "446e708b",
   "metadata": {},
   "outputs": [
    {
     "data": {
      "text/html": [
       "<div>\n",
       "<style scoped>\n",
       "    .dataframe tbody tr th:only-of-type {\n",
       "        vertical-align: middle;\n",
       "    }\n",
       "\n",
       "    .dataframe tbody tr th {\n",
       "        vertical-align: top;\n",
       "    }\n",
       "\n",
       "    .dataframe thead th {\n",
       "        text-align: right;\n",
       "    }\n",
       "</style>\n",
       "<table border=\"1\" class=\"dataframe\">\n",
       "  <thead>\n",
       "    <tr style=\"text-align: right;\">\n",
       "      <th>1</th>\n",
       "      <th>schoolcode</th>\n",
       "      <th>lowincome</th>\n",
       "    </tr>\n",
       "  </thead>\n",
       "  <tbody>\n",
       "    <tr>\n",
       "      <th>2</th>\n",
       "      <td>1100170112607</td>\n",
       "      <td>74.3</td>\n",
       "    </tr>\n",
       "    <tr>\n",
       "      <th>3</th>\n",
       "      <td>1100170123968</td>\n",
       "      <td>63.3</td>\n",
       "    </tr>\n",
       "    <tr>\n",
       "      <th>4</th>\n",
       "      <td>1100170124172</td>\n",
       "      <td>9.2</td>\n",
       "    </tr>\n",
       "    <tr>\n",
       "      <th>5</th>\n",
       "      <td>1100170125567</td>\n",
       "      <td>27.5</td>\n",
       "    </tr>\n",
       "    <tr>\n",
       "      <th>6</th>\n",
       "      <td>1100170130401</td>\n",
       "      <td>100.0</td>\n",
       "    </tr>\n",
       "  </tbody>\n",
       "</table>\n",
       "</div>"
      ],
      "text/plain": [
       "1     schoolcode  lowincome\n",
       "2  1100170112607       74.3\n",
       "3  1100170123968       63.3\n",
       "4  1100170124172        9.2\n",
       "5  1100170125567       27.5\n",
       "6  1100170130401      100.0"
      ]
     },
     "execution_count": 41,
     "metadata": {},
     "output_type": "execute_result"
    }
   ],
   "source": [
    "frpm = data.loc[:, ['County Code', 'District Code', 'School Code',\n",
    "            'Percent (%) \\nEligible FRPM \\n(Ages 5-17)']].rename(columns = {'Academic Year':'year',\n",
    "            'Percent (%) \\nEligible FRPM \\n(Ages 5-17)':'lowincome'})\n",
    "\n",
    "frpm['lowincome'] = round(frpm['lowincome'].str.rstrip('%').astype('float'), 2)\n",
    "frpm['County Code'] = frpm['County Code'].astype('int').astype('str')\n",
    "frpm['schoolcode'] = frpm['County Code'] + frpm['District Code'] + frpm['School Code']\n",
    "\n",
    "frpm = frpm.loc[:, ['schoolcode', 'lowincome']]\n",
    "\n",
    "frpm.head()"
   ]
  },
  {
   "cell_type": "code",
   "execution_count": 42,
   "id": "c65ee932",
   "metadata": {},
   "outputs": [
    {
     "data": {
      "text/html": [
       "<div>\n",
       "<style scoped>\n",
       "    .dataframe tbody tr th:only-of-type {\n",
       "        vertical-align: middle;\n",
       "    }\n",
       "\n",
       "    .dataframe tbody tr th {\n",
       "        vertical-align: top;\n",
       "    }\n",
       "\n",
       "    .dataframe thead th {\n",
       "        text-align: right;\n",
       "    }\n",
       "</style>\n",
       "<table border=\"1\" class=\"dataframe\">\n",
       "  <thead>\n",
       "    <tr style=\"text-align: right;\">\n",
       "      <th></th>\n",
       "      <th>schoolcode</th>\n",
       "      <th>lowincome</th>\n",
       "      <th>black</th>\n",
       "      <th>hispanic</th>\n",
       "      <th>white</th>\n",
       "      <th>CountyCode</th>\n",
       "      <th>DistrictCode</th>\n",
       "      <th>totalenrolled</th>\n",
       "      <th>dropout</th>\n",
       "      <th>year</th>\n",
       "    </tr>\n",
       "  </thead>\n",
       "  <tbody>\n",
       "    <tr>\n",
       "      <th>0</th>\n",
       "      <td>1100170112607</td>\n",
       "      <td>74.3</td>\n",
       "      <td>37.22</td>\n",
       "      <td>52.61</td>\n",
       "      <td>4.47</td>\n",
       "      <td>1</td>\n",
       "      <td>10017</td>\n",
       "      <td>81</td>\n",
       "      <td>4.9</td>\n",
       "      <td>2017</td>\n",
       "    </tr>\n",
       "    <tr>\n",
       "      <th>1</th>\n",
       "      <td>1100170130401</td>\n",
       "      <td>100.0</td>\n",
       "      <td>66.67</td>\n",
       "      <td>24.14</td>\n",
       "      <td>2.30</td>\n",
       "      <td>1</td>\n",
       "      <td>10017</td>\n",
       "      <td>95</td>\n",
       "      <td>55.8</td>\n",
       "      <td>2017</td>\n",
       "    </tr>\n",
       "    <tr>\n",
       "      <th>2</th>\n",
       "      <td>1100170130419</td>\n",
       "      <td>79.9</td>\n",
       "      <td>39.26</td>\n",
       "      <td>45.04</td>\n",
       "      <td>5.37</td>\n",
       "      <td>1</td>\n",
       "      <td>10017</td>\n",
       "      <td>171</td>\n",
       "      <td>36.8</td>\n",
       "      <td>2017</td>\n",
       "    </tr>\n",
       "    <tr>\n",
       "      <th>3</th>\n",
       "      <td>1316090131755</td>\n",
       "      <td>100.0</td>\n",
       "      <td>2.56</td>\n",
       "      <td>53.85</td>\n",
       "      <td>25.64</td>\n",
       "      <td>1</td>\n",
       "      <td>31609</td>\n",
       "      <td>12</td>\n",
       "      <td>0.0</td>\n",
       "      <td>2017</td>\n",
       "    </tr>\n",
       "    <tr>\n",
       "      <th>4</th>\n",
       "      <td>1316170131763</td>\n",
       "      <td>92.8</td>\n",
       "      <td>8.68</td>\n",
       "      <td>50.00</td>\n",
       "      <td>22.37</td>\n",
       "      <td>1</td>\n",
       "      <td>31617</td>\n",
       "      <td>47</td>\n",
       "      <td>0.0</td>\n",
       "      <td>2017</td>\n",
       "    </tr>\n",
       "  </tbody>\n",
       "</table>\n",
       "</div>"
      ],
      "text/plain": [
       "      schoolcode  lowincome  black  hispanic  white CountyCode DistrictCode  \\\n",
       "0  1100170112607       74.3  37.22     52.61   4.47          1        10017   \n",
       "1  1100170130401      100.0  66.67     24.14   2.30          1        10017   \n",
       "2  1100170130419       79.9  39.26     45.04   5.37          1        10017   \n",
       "3  1316090131755      100.0   2.56     53.85  25.64          1        31609   \n",
       "4  1316170131763       92.8   8.68     50.00  22.37          1        31617   \n",
       "\n",
       "   totalenrolled  dropout  year  \n",
       "0             81      4.9  2017  \n",
       "1             95     55.8  2017  \n",
       "2            171     36.8  2017  \n",
       "3             12      0.0  2017  \n",
       "4             47      0.0  2017  "
      ]
     },
     "execution_count": 42,
     "metadata": {},
     "output_type": "execute_result"
    }
   ],
   "source": [
    "drop17 = frpm.merge(demo, on = 'schoolcode').merge(drop_data, on = 'schoolcode')\n",
    "drop17.totalenrolled = drop17.totalenrolled.astype('int')\n",
    "drop17['year'] = '2017'\n",
    "drop17.head()"
   ]
  },
  {
   "cell_type": "markdown",
   "id": "fa449461",
   "metadata": {},
   "source": [
    "### Merge Data (2017 - 2021)"
   ]
  },
  {
   "cell_type": "code",
   "execution_count": 44,
   "id": "fb2844bf",
   "metadata": {},
   "outputs": [],
   "source": [
    "mutual_school = list(set(drop17.schoolcode).intersection(set(drop18.schoolcode)).intersection(\n",
    "    set(drop19.schoolcode)).intersection(set(drop21.schoolcode)))\n",
    "\n",
    "mutual_drop17 = drop17.loc[drop17['schoolcode'].isin(mutual_school)]\n",
    "mutual_drop18 = drop18.loc[drop18['schoolcode'].isin(mutual_school)]\n",
    "mutual_drop19 = drop19.loc[drop19['schoolcode'].isin(mutual_school)]\n",
    "mutual_drop21 = drop21.loc[drop21['schoolcode'].isin(mutual_school)]"
   ]
  },
  {
   "cell_type": "code",
   "execution_count": 45,
   "id": "fa1847f5",
   "metadata": {},
   "outputs": [],
   "source": [
    "pd.concat([mutual_drop17,mutual_drop18, mutual_drop19,mutual_drop21]).rename(columns = {\n",
    "    'CountyCode':'countycode', 'DistrictCode':'districtcode'\n",
    "}).to_csv('dropout_ca_17_21.csv')"
   ]
  },
  {
   "cell_type": "markdown",
   "id": "fc4864ac",
   "metadata": {},
   "source": [
    "### Pandemic Instruction Modality Data"
   ]
  },
  {
   "cell_type": "code",
   "execution_count": 46,
   "id": "340a98c4",
   "metadata": {},
   "outputs": [],
   "source": [
    "mode = pd.read_csv('schoolmode.csv')"
   ]
  },
  {
   "cell_type": "code",
   "execution_count": 47,
   "id": "691702ed",
   "metadata": {},
   "outputs": [
    {
     "data": {
      "text/plain": [
       "Index(['StateName', 'StateAbbrev', 'DataLevel', 'Charter', 'SchoolName',\n",
       "       'SchoolType', 'NCESSchoolID', 'StateAssignedSchoolID', 'DistrictName',\n",
       "       'DistrictType', 'NCESDistrictID', 'StateAssignedDistrictID',\n",
       "       'EnrollmentTotal', 'TimePeriodInterval', 'TimePeriodStart',\n",
       "       'TimePeriodEnd', 'LearningModel', 'LearningModelGrK5',\n",
       "       'LearningModelGr68', 'LearningModelGr912', 'LearningModelStateCat',\n",
       "       'LearningModelStateCatGrK5', 'LearningModelStateCatGr68',\n",
       "       'LearningModelStateCatGr912', 'EnrollmentInPerson', 'EnrollmentHybrid',\n",
       "       'EnrollmentVirtual', 'StaffCount', 'StaffCountInPerson'],\n",
       "      dtype='object')"
      ]
     },
     "execution_count": 47,
     "metadata": {},
     "output_type": "execute_result"
    }
   ],
   "source": [
    "mode.columns"
   ]
  },
  {
   "cell_type": "code",
   "execution_count": 48,
   "id": "1f64d983",
   "metadata": {},
   "outputs": [
    {
     "data": {
      "text/html": [
       "<div>\n",
       "<style scoped>\n",
       "    .dataframe tbody tr th:only-of-type {\n",
       "        vertical-align: middle;\n",
       "    }\n",
       "\n",
       "    .dataframe tbody tr th {\n",
       "        vertical-align: top;\n",
       "    }\n",
       "\n",
       "    .dataframe thead th {\n",
       "        text-align: right;\n",
       "    }\n",
       "</style>\n",
       "<table border=\"1\" class=\"dataframe\">\n",
       "  <thead>\n",
       "    <tr style=\"text-align: right;\">\n",
       "      <th></th>\n",
       "      <th>schoolcode</th>\n",
       "      <th>charter</th>\n",
       "    </tr>\n",
       "  </thead>\n",
       "  <tbody>\n",
       "    <tr>\n",
       "      <th>0</th>\n",
       "      <td>19642121995596</td>\n",
       "      <td>0</td>\n",
       "    </tr>\n",
       "    <tr>\n",
       "      <th>11</th>\n",
       "      <td>19642126010862</td>\n",
       "      <td>0</td>\n",
       "    </tr>\n",
       "    <tr>\n",
       "      <th>22</th>\n",
       "      <td>19642121930361</td>\n",
       "      <td>0</td>\n",
       "    </tr>\n",
       "    <tr>\n",
       "      <th>33</th>\n",
       "      <td>19642126071369</td>\n",
       "      <td>0</td>\n",
       "    </tr>\n",
       "    <tr>\n",
       "      <th>44</th>\n",
       "      <td>19642126010953</td>\n",
       "      <td>0</td>\n",
       "    </tr>\n",
       "  </tbody>\n",
       "</table>\n",
       "</div>"
      ],
      "text/plain": [
       "        schoolcode  charter\n",
       "0   19642121995596        0\n",
       "11  19642126010862        0\n",
       "22  19642121930361        0\n",
       "33  19642126071369        0\n",
       "44  19642126010953        0"
      ]
     },
     "execution_count": 48,
     "metadata": {},
     "output_type": "execute_result"
    }
   ],
   "source": [
    "charter_mode = mode.loc[:, ['StateAssignedSchoolID', 'Charter']].drop_duplicates().rename(columns = {'StateAssignedSchoolID':\n",
    "             'schoolcode', 'Charter':'charter'})\n",
    "charter_map = {'No':0, 'Yes':1}\n",
    "charter_mode['charter'] = charter_mode['charter'].map(charter_map)\n",
    "charter_mode.head()"
   ]
  },
  {
   "cell_type": "code",
   "execution_count": 49,
   "id": "ce5e5647",
   "metadata": {},
   "outputs": [
    {
     "data": {
      "text/html": [
       "<div>\n",
       "<style scoped>\n",
       "    .dataframe tbody tr th:only-of-type {\n",
       "        vertical-align: middle;\n",
       "    }\n",
       "\n",
       "    .dataframe tbody tr th {\n",
       "        vertical-align: top;\n",
       "    }\n",
       "\n",
       "    .dataframe thead th {\n",
       "        text-align: right;\n",
       "    }\n",
       "</style>\n",
       "<table border=\"1\" class=\"dataframe\">\n",
       "  <thead>\n",
       "    <tr style=\"text-align: right;\">\n",
       "      <th>LearningModel</th>\n",
       "      <th>schoolcode</th>\n",
       "      <th>hybridper</th>\n",
       "      <th>virtualper</th>\n",
       "      <th>schoolmode</th>\n",
       "    </tr>\n",
       "  </thead>\n",
       "  <tbody>\n",
       "    <tr>\n",
       "      <th>0</th>\n",
       "      <td>1100170112607</td>\n",
       "      <td>0.0</td>\n",
       "      <td>1.0</td>\n",
       "      <td>1.0</td>\n",
       "    </tr>\n",
       "    <tr>\n",
       "      <th>1</th>\n",
       "      <td>1100170123968</td>\n",
       "      <td>0.0</td>\n",
       "      <td>1.0</td>\n",
       "      <td>1.0</td>\n",
       "    </tr>\n",
       "    <tr>\n",
       "      <th>2</th>\n",
       "      <td>1100170124172</td>\n",
       "      <td>0.0</td>\n",
       "      <td>1.0</td>\n",
       "      <td>1.0</td>\n",
       "    </tr>\n",
       "    <tr>\n",
       "      <th>3</th>\n",
       "      <td>1100170125567</td>\n",
       "      <td>0.0</td>\n",
       "      <td>1.0</td>\n",
       "      <td>1.0</td>\n",
       "    </tr>\n",
       "    <tr>\n",
       "      <th>4</th>\n",
       "      <td>1100170130419</td>\n",
       "      <td>0.0</td>\n",
       "      <td>1.0</td>\n",
       "      <td>1.0</td>\n",
       "    </tr>\n",
       "  </tbody>\n",
       "</table>\n",
       "</div>"
      ],
      "text/plain": [
       "LearningModel     schoolcode  hybridper  virtualper  schoolmode\n",
       "0              1100170112607        0.0         1.0         1.0\n",
       "1              1100170123968        0.0         1.0         1.0\n",
       "2              1100170124172        0.0         1.0         1.0\n",
       "3              1100170125567        0.0         1.0         1.0\n",
       "4              1100170130419        0.0         1.0         1.0"
      ]
     },
     "execution_count": 49,
     "metadata": {},
     "output_type": "execute_result"
    }
   ],
   "source": [
    "ca_mode = mode.groupby(['StateAssignedSchoolID'])['LearningModel'].value_counts(\n",
    "    normalize = True).to_frame().rename(columns = {'LearningModel':'normalized'}).reset_index().rename(\n",
    "columns = {'StateAssignedSchoolID':'schoolcode'})\n",
    "\n",
    "ca_mode = ca_mode.pivot(columns = 'LearningModel', values = 'normalized', \n",
    "index = 'schoolcode').reset_index().fillna(0).loc[:, ['schoolcode', 'Hybrid', 'Virtual']].rename(\n",
    "columns = {'Hybrid':'hybridper', 'Virtual':'virtualper'})\n",
    "\n",
    "ca_mode['schoolmode'] = 1 * ca_mode['virtualper'] + 0.5 * ca_mode['hybridper']\n",
    "\n",
    "ca_mode.loc[:, ['hybridper', 'virtualper', 'schoolmode']] = round(\n",
    "    ca_mode.loc[:, ['hybridper', 'virtualper', 'schoolmode']], 2)\n",
    "\n",
    "ca_mode.head()"
   ]
  },
  {
   "cell_type": "markdown",
   "id": "cdf0c6f5",
   "metadata": {},
   "source": [
    "### Merge Test Data and Schooling Mode Data"
   ]
  },
  {
   "cell_type": "code",
   "execution_count": 50,
   "id": "9ff03fae",
   "metadata": {},
   "outputs": [],
   "source": [
    "drop = pd.read_csv('dropout_ca_17_21.csv').iloc[:, 1:]\n",
    "drop_mode = drop.merge(ca_mode, on = 'schoolcode').merge(charter_mode, on ='schoolcode').rename(\n",
    "    columns = {'CountyCode':'countycode', 'DistrictCode':'districtcode'})\n",
    "\n",
    "drop_mode.loc[drop_mode['year'] != 2021, ['hybridper', 'virtualper', 'schoolmode']] = 0\n",
    "drop_mode['year'] = drop_mode['year'].astype('str')\n",
    "drop_mode['schoolcode'] = drop_mode['schoolcode'].astype('str') + 'ca'\n",
    "drop_mode['countycode'] = drop_mode['countycode'].astype('str') + 'ca'\n",
    "drop_mode['districtcode'] = drop_mode['countycode'] + drop_mode['districtcode'].astype('str') + 'ca'\n",
    "drop_mode['state'] = 'ca'\n",
    "\n",
    "drop_mode.to_csv('final_data_ca_dropout.csv')"
   ]
  },
  {
   "cell_type": "code",
   "execution_count": null,
   "id": "4b868c71",
   "metadata": {},
   "outputs": [],
   "source": []
  }
 ],
 "metadata": {
  "kernelspec": {
   "display_name": "Python 3 (ipykernel)",
   "language": "python",
   "name": "python3"
  },
  "language_info": {
   "codemirror_mode": {
    "name": "ipython",
    "version": 3
   },
   "file_extension": ".py",
   "mimetype": "text/x-python",
   "name": "python",
   "nbconvert_exporter": "python",
   "pygments_lexer": "ipython3",
   "version": "3.9.7"
  }
 },
 "nbformat": 4,
 "nbformat_minor": 5
}
