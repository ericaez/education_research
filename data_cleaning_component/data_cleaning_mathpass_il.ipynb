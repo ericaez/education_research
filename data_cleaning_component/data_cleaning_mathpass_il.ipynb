{
 "cells": [
  {
   "cell_type": "code",
   "execution_count": 37,
   "id": "96a4427a",
   "metadata": {},
   "outputs": [],
   "source": [
    "import pandas as pd\n",
    "import numpy as np"
   ]
  },
  {
   "cell_type": "markdown",
   "id": "11a2e927",
   "metadata": {},
   "source": [
    "## Year 2021"
   ]
  },
  {
   "cell_type": "code",
   "execution_count": 38,
   "id": "6461c1ad",
   "metadata": {},
   "outputs": [],
   "source": [
    "s21 = pd.read_csv('sat21.csv')\n",
    "s21 = s21[s21['Type'] == 'School']"
   ]
  },
  {
   "cell_type": "code",
   "execution_count": 39,
   "id": "6f6c607f",
   "metadata": {},
   "outputs": [],
   "source": [
    "col_name = ['RCDTS',\n",
    " 'School Name',\n",
    " 'District',\n",
    " 'City',\n",
    " 'County',\n",
    " 'District Size',\n",
    " 'School Type',\n",
    " 'Grades Served',\n",
    " 'SAT Reading Average Score',\n",
    " 'SAT Math Average Score',\n",
    " 'SAT Reading Total Students Level 1 %',\n",
    " 'SAT Reading Total Students Level 2 %',\n",
    " 'SAT Reading Total Students Level 3 %',\n",
    " 'SAT Reading Total Students Level 4 %',\n",
    " 'SAT Math Total Students Level 1 %',\n",
    " 'SAT Math Total Students Level 2 %',\n",
    " 'SAT Math Total Students Level 3 %',\n",
    " 'SAT Math Total Students Level 4 %',\n",
    " '# Students SAT Math Participation','# SAT Math Participation - Male',\n",
    " '# SAT Math Participation - Female',\n",
    " '# SAT Math Participation - White',\n",
    " '# SAT Math Participation - Black or African American',\n",
    " '# SAT Math Participation - Hispanic or Latino',\n",
    " '# SAT Math Participation - Asian',\n",
    " '# SAT Math Participation - Native Hawaiian or Other Pacific Islander',\n",
    " '# SAT Math Participation - American Indian or Alaska Native',\n",
    " '# SAT Math Participation - Two or More Race',\n",
    " '# SAT Math Participation - Children with Disabilities',\n",
    " '# SAT Math Participation - IEP',\n",
    " '# SAT Math Participation - EL',\n",
    " '# SAT Math Participation - Low Income']"
   ]
  },
  {
   "cell_type": "code",
   "execution_count": 40,
   "id": "fd7faf0a",
   "metadata": {},
   "outputs": [],
   "source": [
    "s21 = s21.loc[:, col_name]\n",
    "s21['mathpass'] = s21['SAT Math Total Students Level 3 %'] + s21['SAT Math Total Students Level 4 %']\n",
    "s21['white'] = s21['# SAT Math Participation - White'] / s21['# Students SAT Math Participation']\n",
    "s21['black'] = s21['# SAT Math Participation - Black or African American'] / s21['# Students SAT Math Participation']\n",
    "s21['hispanic'] = s21['# SAT Math Participation - Hispanic or Latino'] / s21['# Students SAT Math Participation']\n",
    "s21['lowincome'] = s21['# SAT Math Participation - Low Income'] / s21['# Students SAT Math Participation']\n",
    "\n",
    "final_colname = ['RCDTS', '# Students SAT Math Participation', 'mathpass',\n",
    "       'white', 'black', 'hispanic', 'lowincome', 'charter']\n",
    "s21 = s21.replace(np.nan, 0)"
   ]
  },
  {
   "cell_type": "code",
   "execution_count": 41,
   "id": "d1afc394",
   "metadata": {},
   "outputs": [],
   "source": [
    "type_map = {'HIGH SCHOOL': 0, 'ELEMENTARY': 0, 'CHARTER SCH': 1}\n",
    "s21['charter'] = s21['School Type'].map(type_map)\n",
    "\n",
    "final_s21 = s21.loc[:, final_colname]\n",
    "final_s21.rename(columns = {'# Students SAT Math Participation':'totaltested'}).to_csv('mathpass_il_21.csv')"
   ]
  },
  {
   "cell_type": "markdown",
   "id": "a0d35daa",
   "metadata": {},
   "source": [
    "## Year 2019"
   ]
  },
  {
   "cell_type": "code",
   "execution_count": 42,
   "id": "0c1c026b",
   "metadata": {},
   "outputs": [],
   "source": [
    "s19 = pd.read_csv('sat19.csv')\n",
    "s19 = s19[s19['Type'] == 'School']"
   ]
  },
  {
   "cell_type": "code",
   "execution_count": 43,
   "id": "810fc594",
   "metadata": {},
   "outputs": [],
   "source": [
    "col_name = ['RCDTS',\n",
    " 'Type',\n",
    " 'School Name',\n",
    " 'District',\n",
    " 'City',\n",
    " 'County',\n",
    " 'District Type',\n",
    " 'District Size',\n",
    " 'School Type',\n",
    " 'Grades Served',\n",
    " 'SAT Reading Average',\n",
    " 'SAT Math Average',\n",
    " 'SAT Reading Total Students Level 1 %',\n",
    " 'SAT Reading Total Students Level 2 %',\n",
    " 'SAT Reading Total Students Level 3 %',\n",
    " 'SAT Reading Total Students Level 4 %',\n",
    " 'SAT Math Total Students Level 1 %',\n",
    " 'SAT Math Total Students Level 2 %',\n",
    " 'SAT Math Total Students Level 3 %',\n",
    " 'SAT Math Total Students Level 4 %', '# Students SAT Math Participation',\n",
    " '# SAT Math Participation - Male',\n",
    " '# SAT Math Participation - Female',\n",
    " '# SAT Math Participation - White',\n",
    " '# SAT Math Participation - Black or African American',\n",
    " '# SAT Math Participation - Hispanic or Latino',\n",
    " '# SAT Math Participation - Asian',\n",
    " '# SAT Math Participation - Native Hawaiian or Other Pacific Islander',\n",
    " '# SAT Math Participation - American Indian or Alaska Native',\n",
    " '# SAT Math Participation - Two or More Race',\n",
    " '# SAT Math Participation - Children with Disabilities',\n",
    " '# SAT Math Participation - IEP',\n",
    " '# SAT Math Participation - EL',\n",
    " '# SAT Math Participation - Low Income']"
   ]
  },
  {
   "cell_type": "code",
   "execution_count": 44,
   "id": "a77d3d72",
   "metadata": {},
   "outputs": [],
   "source": [
    "s19 = s19.loc[:, col_name]\n",
    "s19['mathpass'] = s19['SAT Math Total Students Level 3 %'] + s19['SAT Math Total Students Level 4 %']\n",
    "s19['white'] = s19['# SAT Math Participation - White'] / s19['# Students SAT Math Participation']\n",
    "s19['black'] = s19['# SAT Math Participation - Black or African American'] / s19['# Students SAT Math Participation']\n",
    "s19['hispanic'] = s19['# SAT Math Participation - Hispanic or Latino'] / s19['# Students SAT Math Participation']\n",
    "s19['lowincome'] = s19['# SAT Math Participation - Low Income'] / s19['# Students SAT Math Participation']\n",
    "\n",
    "final_colname = ['RCDTS', '# Students SAT Math Participation', 'mathpass',\n",
    "       'white', 'black', 'hispanic', 'lowincome', 'charter']\n",
    "s19 = s19.replace(np.nan, 0)"
   ]
  },
  {
   "cell_type": "code",
   "execution_count": 45,
   "id": "14cb728e",
   "metadata": {},
   "outputs": [],
   "source": [
    "type_map = {'HIGH SCHOOL': 0, 'ELEMENTARY': 0, 'CHARTER SCH': 1}\n",
    "s19['charter'] = s19['School Type'].map(type_map)\n",
    "\n",
    "final_s19 = s19.loc[:, final_colname]\n",
    "final_s19.rename(columns = {'# Students SAT Math Participation':'totaltested'}).to_csv('mathpass_il_19.csv')"
   ]
  },
  {
   "cell_type": "markdown",
   "id": "9b64cb7f",
   "metadata": {},
   "source": [
    "## Year 2018"
   ]
  },
  {
   "cell_type": "code",
   "execution_count": 46,
   "id": "f7417ff9",
   "metadata": {},
   "outputs": [],
   "source": [
    "s18 = pd.read_csv('sat18.csv')\n",
    "s18 = s18[s18['Type'] == 'School']"
   ]
  },
  {
   "cell_type": "code",
   "execution_count": 47,
   "id": "25412ed9",
   "metadata": {},
   "outputs": [],
   "source": [
    "col_name = ['RCDTS',\n",
    " 'Type',\n",
    " 'School Name',\n",
    " 'District',\n",
    " 'City',\n",
    " 'County',\n",
    " 'District Type',\n",
    " 'District Size',\n",
    " 'School Type',\n",
    " 'Grades Served',\n",
    " 'SAT Reading Total Students Level 1 %',\n",
    " 'SAT Reading Total Students Level 2 %',\n",
    " 'SAT Reading Total Students Level 3 %',\n",
    " 'SAT Reading Total Students Level 4 %',\n",
    " 'SAT Math Total Students Level 1 %',\n",
    " 'SAT Math Total Students Level 2 %',\n",
    " 'SAT Math Total Students Level 3 %',\n",
    " 'SAT Math Total Students Level 4 %',\n",
    " 'Total Students SAT Math Participation',\n",
    " 'Female Students SAT Math Participation',\n",
    " 'Male Students SAT Math Participation',\n",
    " 'White Students SAT Math Participation',\n",
    " 'Black or African American Students SAT Math Participation',\n",
    " 'Hispanic or Latino Students SAT Math Participation',\n",
    " 'Asian Students SAT Math Participation',\n",
    " 'Native Hawaiian or Other Pacific Islander Students SAT Math Participation',\n",
    " 'American Indian or Alaska Native Students SAT Math Participation',\n",
    " 'Two or More Race Students SAT Math Participation',\n",
    " 'IEP Students SAT Math Participation',\n",
    " 'EL Students SAT Math Participation',\n",
    " 'Low Income Students SAT Math Participation']"
   ]
  },
  {
   "cell_type": "code",
   "execution_count": 48,
   "id": "f79ccf81",
   "metadata": {},
   "outputs": [],
   "source": [
    "s18 = s18.loc[:, col_name]\n",
    "s18['mathpass'] = s18['SAT Math Total Students Level 3 %'] + s18['SAT Math Total Students Level 4 %']"
   ]
  },
  {
   "cell_type": "code",
   "execution_count": 49,
   "id": "ef260de9",
   "metadata": {},
   "outputs": [],
   "source": [
    "s18['white'] = s18['White Students SAT Math Participation'] / s18['Total Students SAT Math Participation']\n",
    "s18['black'] = s18['Black or African American Students SAT Math Participation'] / s18['Total Students SAT Math Participation']\n",
    "s18['hispanic'] = s18['Hispanic or Latino Students SAT Math Participation'] / s18['Total Students SAT Math Participation']\n",
    "s18['lowincome'] = s18['Low Income Students SAT Math Participation'] / s18['Total Students SAT Math Participation']\n",
    "\n",
    "s18 = s18.rename(columns = {'Total Students SAT Math Participation':'totaltested'})\n",
    "\n",
    "final_colname = ['RCDTS', 'totaltested', 'mathpass',\n",
    "       'white', 'black', 'hispanic', 'lowincome', 'charter']\n",
    "s18 = s18.replace(np.nan, 0)"
   ]
  },
  {
   "cell_type": "code",
   "execution_count": 50,
   "id": "c81e7eed",
   "metadata": {},
   "outputs": [],
   "source": [
    "type_map = {'HIGH SCHOOL': 0, 'ELEMENTARY': 0, 'CHARTER SCH': 1}\n",
    "s18['charter'] = s18['School Type'].map(type_map)\n",
    "\n",
    "final_s18 = s18.loc[:, final_colname]\n",
    "final_s18.rename(columns = {'# Students SAT Math Participation':'totaltested'}).to_csv('mathpass_il_18.csv')"
   ]
  },
  {
   "cell_type": "markdown",
   "id": "cad05e2b",
   "metadata": {},
   "source": [
    "## Year 2017"
   ]
  },
  {
   "cell_type": "code",
   "execution_count": 59,
   "id": "826ad69c",
   "metadata": {},
   "outputs": [],
   "source": [
    "# demographics data\n",
    "s17 = pd.read_csv('test17.csv')\n",
    "\n",
    "# obtain high school demographics data only\n",
    "s18 = pd.read_csv('mathpass_il_18.csv').loc[:, ['RCDTS']]\n",
    "s17 = s17.merge(s18, on = 'RCDTS')\n",
    "\n",
    "s17 = s17.rename(columns = {'School Enrollment Math':'# Students SAT Math Participation'})\n",
    "\n",
    "s17['white'] = s17['White Math'] / s17['# Students SAT Math Participation']\n",
    "s17['hispanic'] = s17['Black Math'] / s17['# Students SAT Math Participation']\n",
    "s17['black'] = s17['Hispanic Math'] / s17['# Students SAT Math Participation']\n",
    "s17['lowincome'] = s17['Low income Math'] / s17['# Students SAT Math Participation']\n",
    "\n",
    "s17 = s17.loc[:, ['RCDTS', '# Students SAT Math Participation', 'white', 'hispanic', 'black', 'lowincome']]\n",
    "\n",
    "# obtain school type information\n",
    "drop17 = pd.read_csv('dropout_17.csv').loc[:, ['RCDTS', 'School Type Code']]\n",
    "s17 = drop17.merge(s17, on = 'RCDTS')\n",
    "\n",
    "type_map = {'0': 0, '2': 0, 'C': 1}\n",
    "\n",
    "s17['charter'] = s17['School Type Code'].map(type_map)\n",
    "\n",
    "s17 = s17.drop(columns = 'School Type Code').rename(columns = {'# Students SAT Math Participation':'totaltested'})\n",
    "\n",
    "s17 = s17.merge(pd.read_csv('prof17.csv'), on = 'RCDTS').drop(columns = 'ela_prof').rename(columns = \n",
    "{'math_prof':'mathpass'})\n",
    "\n",
    "s17.to_csv('mathpass_il_17.csv')"
   ]
  },
  {
   "cell_type": "markdown",
   "id": "eecd8350",
   "metadata": {},
   "source": [
    "## Merge four years of data"
   ]
  },
  {
   "cell_type": "code",
   "execution_count": 62,
   "id": "d5ffdbb8",
   "metadata": {},
   "outputs": [],
   "source": [
    "m21 = pd.read_csv('mathpass_il_21.csv').iloc[:, 1:]\n",
    "m19 = pd.read_csv('mathpass_il_19.csv').iloc[:, 1:]\n",
    "m18 = pd.read_csv('mathpass_il_18.csv').iloc[:, 1:]\n",
    "m17 = pd.read_csv('mathpass_il_17.csv').iloc[:, 1:]\n",
    "\n",
    "m21['year'] = '2021'\n",
    "m19['year'] = '2019'\n",
    "m18['year'] = '2018'\n",
    "m17['year'] = '2017'\n",
    "\n",
    "school_code = list((set(m21['RCDTS']).intersection(set(m19['RCDTS']))).intersection(\n",
    "    set(m18['RCDTS'])).intersection(set(m17['RCDTS'])))\n",
    "\n",
    "m21 = m21.set_index('RCDTS').loc[school_code, :]\n",
    "m19 = m19.set_index('RCDTS').loc[school_code, :]\n",
    "m18 = m18.set_index('RCDTS').loc[school_code, :]\n",
    "m17 = m17.set_index('RCDTS').loc[school_code, :]\n",
    "\n",
    "final_math = pd.concat([m21, m19, m18, m17]).reset_index()"
   ]
  },
  {
   "cell_type": "markdown",
   "id": "0aef1299",
   "metadata": {},
   "source": [
    "## Merge with schooling mode"
   ]
  },
  {
   "cell_type": "code",
   "execution_count": 63,
   "id": "a3d42f83",
   "metadata": {},
   "outputs": [],
   "source": [
    "mode = pd.read_csv('schoolmode.csv')[['Charter', 'StateAssignedSchoolID', 'EnrollmentTotal',\n",
    "                     'TimePeriodStart', 'TimePeriodEnd', 'LearningModel']]\n",
    "\n",
    "illi_mode = mode.groupby(['StateAssignedSchoolID'])['LearningModel'].value_counts(\n",
    "    normalize = True).to_frame().rename(columns = {'LearningModel':'normalized'}).reset_index()\n",
    "\n",
    "score_map = {'Virtual': 0, 'Hybrid': 50, 'Closed': 0, 'In-person': 100}\n",
    "illi_mode['score'] = illi_mode['LearningModel'].map(score_map)\n",
    "\n",
    "def weighted_average(df):\n",
    "    return(sum(df['normalized'] * df['score']))\n",
    "\n",
    "school_score = illi_mode.groupby(['StateAssignedSchoolID']).apply(\n",
    "    weighted_average).sort_values().to_frame().reset_index().rename(columns = {0: 'schoolmode', \n",
    "                        'DistrictName':'District Name', 'SchoolName':'School Name'})\n",
    "\n",
    "school_score.loc[:, ['schoolmode']] = school_score.loc[:, ['schoolmode']] / 100\n",
    "school_score.loc[:, ['schoolmode']] = 1 - school_score.loc[:, ['schoolmode']]"
   ]
  },
  {
   "cell_type": "code",
   "execution_count": 64,
   "id": "92baa75f",
   "metadata": {},
   "outputs": [],
   "source": [
    "norm_mode = mode.groupby(['StateAssignedSchoolID'])['LearningModel'].value_counts(\n",
    "    normalize = True).to_frame().rename(columns = {'LearningModel': 'normalized'}).reset_index()\n",
    "pivot_df = pd.pivot(norm_mode, index = ['StateAssignedSchoolID'], \n",
    "         columns = 'LearningModel', values = 'normalized').reset_index()\n",
    "pivot_df = pivot_df.replace(np.nan, 0)\n",
    "new_illi_mode = pivot_df.merge(school_score, on = 'StateAssignedSchoolID')\n",
    "new_illi_mode = new_illi_mode.rename(columns = {\n",
    "    'Closed':'closedper','Hybrid':'hybridper','In-person':'inpersonper',\n",
    "          'Virtual':'virtualper'})\n",
    "new_illi_mode.to_csv('schoolmode_il.csv')"
   ]
  },
  {
   "cell_type": "code",
   "execution_count": 70,
   "id": "c9f2dd33",
   "metadata": {},
   "outputs": [],
   "source": [
    "mode = pd.read_csv('schoolmode_il.csv').iloc[:, 1:]\n",
    "for i in list(final_math.RCDTS):\n",
    "    if i[0] == '0':\n",
    "        final_math.loc[final_math['RCDTS'] == i, 'RCDTS'] = i[1:]\n",
    "        \n",
    "math_mode = final_math.set_index('RCDTS').merge(mode.set_index('StateAssignedSchoolID'), \n",
    "                                        left_index = True, right_index = True).reset_index().rename(columns = \n",
    "                                                                                                   {'index':\n",
    "                                                                                                   'RCDTS'})\n",
    "math_mode.loc[math_mode['year'] != '2021', 'schoolmode'] = 0\n",
    "math_mode.loc[math_mode['year'] != '2021', 'virtualper'] = 0\n",
    "math_mode.loc[math_mode['year'] != '2021', 'hybridper'] = 0"
   ]
  },
  {
   "cell_type": "code",
   "execution_count": 71,
   "id": "5ad01b62",
   "metadata": {},
   "outputs": [],
   "source": [
    "math_mode['schoolcode'] = math_mode['RCDTS'].astype('str') + 'il'\n",
    "math_mode['districtcode'] = math_mode.RCDTS.apply(lambda x: x[:5]) + 'il'\n",
    "math_mode['countycode'] = math_mode.RCDTS.apply(lambda x: x[:8]) + 'il'\n",
    "math_mode['state'] = 'il'\n",
    "math_mode = math_mode.drop(columns = ['closedper', 'inpersonper', 'RCDTS'])\n",
    "math_mode['totaltested'] = math_mode['totaltested'].astype('int')\n",
    "math_mode.loc[:, ['white', 'black', 'hispanic', 'lowincome']] = round(\n",
    "math_mode.loc[:, ['white', 'black', 'hispanic', 'lowincome']] * 100, 2)\n",
    "math_mode['mathpass'] = round(math_mode['mathpass'], 2)\n",
    "math_mode.loc[:, ['hybridper', 'virtualper', 'schoolmode']] = round(\n",
    "math_mode.loc[:, ['hybridper', 'virtualper', 'schoolmode']], 4)\n"
   ]
  },
  {
   "cell_type": "code",
   "execution_count": 74,
   "id": "16abdcb1",
   "metadata": {},
   "outputs": [],
   "source": [
    "math_mode.to_csv('final_data_mathpass_il.csv')"
   ]
  },
  {
   "cell_type": "code",
   "execution_count": null,
   "id": "51a6295d",
   "metadata": {},
   "outputs": [],
   "source": []
  }
 ],
 "metadata": {
  "kernelspec": {
   "display_name": "Python 3 (ipykernel)",
   "language": "python",
   "name": "python3"
  },
  "language_info": {
   "codemirror_mode": {
    "name": "ipython",
    "version": 3
   },
   "file_extension": ".py",
   "mimetype": "text/x-python",
   "name": "python",
   "nbconvert_exporter": "python",
   "pygments_lexer": "ipython3",
   "version": "3.9.7"
  }
 },
 "nbformat": 4,
 "nbformat_minor": 5
}
