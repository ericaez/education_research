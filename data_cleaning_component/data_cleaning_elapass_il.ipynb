{
 "cells": [
  {
   "cell_type": "code",
   "execution_count": 2,
   "id": "27947981",
   "metadata": {},
   "outputs": [],
   "source": [
    "import pandas as pd\n",
    "import numpy as np"
   ]
  },
  {
   "cell_type": "markdown",
   "id": "ff976fb3",
   "metadata": {},
   "source": [
    "## Year 2021"
   ]
  },
  {
   "cell_type": "code",
   "execution_count": 2,
   "id": "0c107087",
   "metadata": {},
   "outputs": [],
   "source": [
    "s21 = pd.read_csv('sat21.csv')\n",
    "s21 = s21[s21['Type'] == 'School']"
   ]
  },
  {
   "cell_type": "code",
   "execution_count": 3,
   "id": "64755453",
   "metadata": {},
   "outputs": [],
   "source": [
    "col_name = ['RCDTS',\n",
    " 'School Name',\n",
    " 'District',\n",
    " 'City',\n",
    " 'County',\n",
    " 'District Size',\n",
    " 'School Type',\n",
    " 'Grades Served',\n",
    " 'SAT Reading Average Score',\n",
    " 'SAT Reading Total Students Level 1 %',\n",
    " 'SAT Reading Total Students Level 2 %',\n",
    " 'SAT Reading Total Students Level 3 %',\n",
    " 'SAT Reading Total Students Level 4 %',\n",
    " '# Students SAT ELA Participation',\n",
    " '# SAT ELA Participation - Female',\n",
    " '# SAT ELA Participation - Male',\n",
    " '# SAT ELA Participation - White',\n",
    " '# SAT ELA Participation - Black or African American',\n",
    " '# SAT ELA Participation - Hispanic or Latino',\n",
    " '# SAT ELA Participation - Asian',\n",
    " '# SAT ELA Participation - Native Hawaiian or Other Pacific Islander',\n",
    " '# SAT ELA Participation - American Indian or Alaska Native',\n",
    " '# SAT ELA Participation - Two or More Race',\n",
    " '# SAT ELA Participation - Children with Disabilities',\n",
    " '# SAT ELA Participation - IEP',\n",
    " '# SAT ELA Participation - EL',\n",
    " '# SAT ELA Participation - Low Income']"
   ]
  },
  {
   "cell_type": "code",
   "execution_count": 4,
   "id": "daa2e775",
   "metadata": {},
   "outputs": [],
   "source": [
    "s21 = s21.loc[:, col_name]\n",
    "s21['elapass'] = s21['SAT Reading Total Students Level 3 %'] + s21['SAT Reading Total Students Level 4 %']"
   ]
  },
  {
   "cell_type": "code",
   "execution_count": 5,
   "id": "cb46c05f",
   "metadata": {},
   "outputs": [],
   "source": [
    "s21['white'] = s21['# SAT ELA Participation - White'] / s21['# Students SAT ELA Participation']\n",
    "s21['black'] = s21['# SAT ELA Participation - Black or African American'] / s21['# Students SAT ELA Participation']\n",
    "s21['hispanic'] = s21['# SAT ELA Participation - Hispanic or Latino'] / s21['# Students SAT ELA Participation']\n",
    "s21['lowincome'] = s21['# SAT ELA Participation - Low Income'] / s21['# Students SAT ELA Participation']"
   ]
  },
  {
   "cell_type": "code",
   "execution_count": 8,
   "id": "d27dff08",
   "metadata": {},
   "outputs": [],
   "source": [
    "final_colname = ['RCDTS', '# Students SAT ELA Participation', 'elapass',\n",
    "       'white', 'black', 'hispanic', 'lowincome', 'charter']\n",
    "s21 = s21.replace(np.nan, 0)"
   ]
  },
  {
   "cell_type": "code",
   "execution_count": 9,
   "id": "915948cb",
   "metadata": {},
   "outputs": [],
   "source": [
    "type_map = {'HIGH SCHOOL': 0, 'ELEMENTARY': 0, 'CHARTER SCH': 1}\n",
    "s21['charter'] = s21['School Type'].map(type_map)\n",
    "\n",
    "final_s21 = s21.loc[:, final_colname]\n",
    "final_s21.rename(columns = {'# Students SAT ELA Participation':'totaltested'}).to_csv('elapass_il_21.csv')"
   ]
  },
  {
   "cell_type": "markdown",
   "id": "72ba67cf",
   "metadata": {},
   "source": [
    "## Year 2019"
   ]
  },
  {
   "cell_type": "code",
   "execution_count": 10,
   "id": "9811d0c4",
   "metadata": {},
   "outputs": [],
   "source": [
    "s19 = pd.read_csv('sat19.csv')\n",
    "s19 = s19[s19['Type'] == 'School']"
   ]
  },
  {
   "cell_type": "code",
   "execution_count": 13,
   "id": "b49fd246",
   "metadata": {},
   "outputs": [],
   "source": [
    "col_name = ['RCDTS',\n",
    " 'Type',\n",
    " 'School Name',\n",
    " 'District',\n",
    " 'City',\n",
    " 'County',\n",
    " 'District Type',\n",
    " 'District Size',\n",
    " 'School Type',\n",
    " 'Grades Served',\n",
    " 'SAT Reading Average',\n",
    " 'SAT Reading Total Students Level 1 %',\n",
    " 'SAT Reading Total Students Level 2 %',\n",
    " 'SAT Reading Total Students Level 3 %',\n",
    " 'SAT Reading Total Students Level 4 %',\n",
    " '# Students SAT ELA Participation',\n",
    " '# SAT ELA Participation - Female',\n",
    " '# SAT ELA Participation - Male',\n",
    " '# SAT ELA Participation - White',\n",
    " '# SAT ELA Participation - Black or African American',\n",
    " '# SAT ELA Participation - Hispanic or Latino',\n",
    " '# SAT ELA Participation - Asian',\n",
    " '# SAT ELA Participation - Native Hawaiian or Other Pacific Islander',\n",
    " '# SAT ELA Participation - American Indian or Alaska Native',\n",
    " '# SAT ELA Participation - Two or More Race',\n",
    " '# SAT ELA Participation - Children with Disabilities',\n",
    " '# SAT ELA Participation - IEP',\n",
    " '# SAT ELA Participation - EL',\n",
    " '# SAT ELA Participation - Low Income']"
   ]
  },
  {
   "cell_type": "code",
   "execution_count": 16,
   "id": "3324669f",
   "metadata": {},
   "outputs": [],
   "source": [
    "s19 = s19.loc[:, col_name]\n",
    "s19['elapass'] = s19['SAT Reading Total Students Level 3 %'] + s19['SAT Reading Total Students Level 4 %']\n",
    "s19['white'] = s19['# SAT ELA Participation - White'] / s19['# Students SAT ELA Participation']\n",
    "s19['black'] = s19['# SAT ELA Participation - Black or African American'] / s19['# Students SAT ELA Participation']\n",
    "s19['hispanic'] = s19['# SAT ELA Participation - Hispanic or Latino'] / s19['# Students SAT ELA Participation']\n",
    "s19['lowincome'] = s19['# SAT ELA Participation - Low Income'] / s19['# Students SAT ELA Participation']\n",
    "\n",
    "final_colname = ['RCDTS', '# Students SAT ELA Participation', 'elapass',\n",
    "       'white', 'black', 'hispanic', 'lowincome', 'charter']\n",
    "s19 = s19.replace(np.nan, 0)"
   ]
  },
  {
   "cell_type": "code",
   "execution_count": 17,
   "id": "28d40155",
   "metadata": {},
   "outputs": [],
   "source": [
    "type_map = {'HIGH SCHOOL': 0, 'ELEMENTARY': 0, 'CHARTER SCH': 1}\n",
    "s19['charter'] = s19['School Type'].map(type_map)\n",
    "\n",
    "final_s19 = s19.loc[:, final_colname]\n",
    "final_s19.rename(columns = {'# Students SAT ELA Participation':'totaltested'}).to_csv('elapass_il_19.csv')"
   ]
  },
  {
   "cell_type": "markdown",
   "id": "951f27b9",
   "metadata": {},
   "source": [
    "## Year 2018"
   ]
  },
  {
   "cell_type": "code",
   "execution_count": 24,
   "id": "bcd32831",
   "metadata": {},
   "outputs": [],
   "source": [
    "s18 = pd.read_csv('sat18.csv')\n",
    "s18 = s18[s18['Type'] == 'School']"
   ]
  },
  {
   "cell_type": "code",
   "execution_count": 25,
   "id": "519ec915",
   "metadata": {},
   "outputs": [],
   "source": [
    "col_name = ['RCDTS',\n",
    " 'Type',\n",
    " 'School Name',\n",
    " 'District',\n",
    " 'City',\n",
    " 'County',\n",
    " 'District Type',\n",
    " 'District Size',\n",
    " 'School Type',\n",
    " 'Grades Served',\n",
    " 'SAT Reading Total Students Level 1 %',\n",
    " 'SAT Reading Total Students Level 2 %',\n",
    " 'SAT Reading Total Students Level 3 %',\n",
    " 'SAT Reading Total Students Level 4 %',\n",
    " 'Total Students SAT ELA Participation',\n",
    " 'Female Students SAT ELA Participation',\n",
    " 'Male Students SAT ELA Participation',\n",
    " 'White Students SAT ELA Participation',\n",
    " 'Black or African American Students SAT ELA Participation',\n",
    " 'Hispanic or Latino Students SAT ELA Participation',\n",
    " 'Asian Students SAT ELA Participation',\n",
    " 'Native Hawaiian or Other Pacific Islander Students SAT ELA Participation',\n",
    " 'American Indian or Alaska Native Students SAT ELA Participation',\n",
    " 'Two or More Race Students SAT ELA Participation',\n",
    " 'IEP Students SAT ELA Participation',\n",
    " 'EL Students SAT ELA Participation',\n",
    " 'Low Income Students SAT ELA Participation']"
   ]
  },
  {
   "cell_type": "code",
   "execution_count": 26,
   "id": "3f32dded",
   "metadata": {},
   "outputs": [],
   "source": [
    "s18 = s18.loc[:, col_name]\n",
    "s18['elapass'] = s18['SAT Reading Total Students Level 3 %'] + s18['SAT Reading Total Students Level 4 %']"
   ]
  },
  {
   "cell_type": "code",
   "execution_count": 27,
   "id": "6a41786d",
   "metadata": {},
   "outputs": [],
   "source": [
    "s18['white'] = s18['White Students SAT ELA Participation'] / s18['Total Students SAT ELA Participation']\n",
    "s18['black'] = s18['Black or African American Students SAT ELA Participation'] / s18['Total Students SAT ELA Participation']\n",
    "s18['hispanic'] = s18['Hispanic or Latino Students SAT ELA Participation'] / s18['Total Students SAT ELA Participation']\n",
    "s18['lowincome'] = s18['Low Income Students SAT ELA Participation'] / s18['Total Students SAT ELA Participation']\n",
    "\n",
    "s18 = s18.rename(columns = {'Total Students SAT ELA Participation':'totaltested'})\n",
    "\n",
    "final_colname = ['RCDTS', 'totaltested', 'elapass',\n",
    "       'white', 'black', 'hispanic', 'lowincome', 'charter']\n",
    "s18 = s18.replace(np.nan, 0)"
   ]
  },
  {
   "cell_type": "code",
   "execution_count": 29,
   "id": "b0beafe0",
   "metadata": {},
   "outputs": [],
   "source": [
    "type_map = {'HIGH SCHOOL': 0, 'ELEMENTARY': 0, 'CHARTER SCH': 1}\n",
    "s18['charter'] = s18['School Type'].map(type_map)\n",
    "\n",
    "final_s18 = s18.loc[:, final_colname]\n",
    "final_s18.to_csv('elapass_il_18.csv')"
   ]
  },
  {
   "cell_type": "markdown",
   "id": "8b9065c6",
   "metadata": {},
   "source": [
    "## Year 2017"
   ]
  },
  {
   "cell_type": "code",
   "execution_count": 32,
   "id": "004ab170",
   "metadata": {},
   "outputs": [],
   "source": [
    "# demographics data\n",
    "s17 = pd.read_csv('test17.csv')\n",
    "\n",
    "# obtain high school demographics data only\n",
    "s18 = pd.read_csv('elapass_il_18.csv').loc[:, ['RCDTS']]\n",
    "s17 = s17.merge(s18, on = 'RCDTS')\n",
    "\n",
    "s17 = s17.rename(columns = {'School Enrollment ELA':'# Students SAT ELA Participation'})\n",
    "\n",
    "s17['white'] = s17['White Math'] / s17['# Students SAT ELA Participation']\n",
    "s17['hispanic'] = s17['Black Math'] / s17['# Students SAT ELA Participation']\n",
    "s17['black'] = s17['Hispanic Math'] / s17['# Students SAT ELA Participation']\n",
    "s17['lowincome'] = s17['Low income Math'] / s17['# Students SAT ELA Participation']\n",
    "\n",
    "s17 = s17.loc[:, ['RCDTS', '# Students SAT ELA Participation', 'white', 'hispanic', 'black', 'lowincome']]\n",
    "\n",
    "# obtain school type information\n",
    "drop17 = pd.read_csv('dropout_17.csv').loc[:, ['RCDTS', 'School Type Code']]\n",
    "s17 = drop17.merge(s17, on = 'RCDTS')\n",
    "\n",
    "type_map = {'0': 0, '2': 0, 'C': 1}\n",
    "\n",
    "s17['charter'] = s17['School Type Code'].map(type_map)\n",
    "\n",
    "s17 = s17.drop(columns = 'School Type Code').rename(columns = {'# Students SAT ELA Participation':'totaltested'})\n",
    "\n",
    "s17 = s17.merge(pd.read_csv('prof17.csv'), on = 'RCDTS').drop(columns = 'math_prof').rename(columns = \n",
    "{'ela_prof':'elapass'})\n",
    "\n",
    "s17.to_csv('elapass_il_17.csv')"
   ]
  },
  {
   "cell_type": "markdown",
   "id": "90654e1b",
   "metadata": {},
   "source": [
    "## Merge four years of data"
   ]
  },
  {
   "cell_type": "code",
   "execution_count": 3,
   "id": "baa6cb18",
   "metadata": {},
   "outputs": [],
   "source": [
    "e21 = pd.read_csv('elapass_il_21.csv').iloc[:, 1:]\n",
    "e19 = pd.read_csv('elapass_il_19.csv').iloc[:, 1:]\n",
    "e18 = pd.read_csv('elapass_il_18.csv').iloc[:, 1:]\n",
    "e17 = pd.read_csv('elapass_il_17.csv').iloc[:, 1:]\n",
    "\n",
    "e21['year'] = '2021'\n",
    "e19['year'] = '2019'\n",
    "e18['year'] = '2018'\n",
    "e17['year'] = '2017'\n",
    "\n",
    "school_code = list((set(e21['RCDTS']).intersection(set(e19['RCDTS']))).intersection(\n",
    "    set(e18['RCDTS'])).intersection(set(e17['RCDTS'])))\n",
    "\n",
    "e21 = e21.set_index('RCDTS').loc[school_code, :]\n",
    "e19 = e19.set_index('RCDTS').loc[school_code, :]\n",
    "e18 = e18.set_index('RCDTS').loc[school_code, :]\n",
    "e17 = e17.set_index('RCDTS').loc[school_code, :]\n",
    "\n",
    "final_ela = pd.concat([e21, e19, e18, e17]).reset_index()"
   ]
  },
  {
   "cell_type": "markdown",
   "id": "c142e8ac",
   "metadata": {},
   "source": [
    "## Merge with schooling mode"
   ]
  },
  {
   "cell_type": "code",
   "execution_count": 4,
   "id": "4b27c5b2",
   "metadata": {},
   "outputs": [],
   "source": [
    "mode = pd.read_csv('schoolmode.csv')[['Charter', 'StateAssignedSchoolID', 'EnrollmentTotal',\n",
    "                     'TimePeriodStart', 'TimePeriodEnd', 'LearningModel']]\n",
    "\n",
    "illi_mode = mode.groupby(['StateAssignedSchoolID'])['LearningModel'].value_counts(\n",
    "    normalize = True).to_frame().rename(columns = {'LearningModel':'normalized'}).reset_index()\n",
    "\n",
    "score_map = {'Virtual': 0, 'Hybrid': 50, 'Closed': 0, 'In-person': 100}\n",
    "illi_mode['score'] = illi_mode['LearningModel'].map(score_map)\n",
    "\n",
    "def weighted_average(df):\n",
    "    return(sum(df['normalized'] * df['score']))\n",
    "\n",
    "school_score = illi_mode.groupby(['StateAssignedSchoolID']).apply(\n",
    "    weighted_average).sort_values().to_frame().reset_index().rename(columns = {0: 'schoolmode', \n",
    "                        'DistrictName':'District Name', 'SchoolName':'School Name'})\n",
    "\n",
    "school_score.loc[:, ['schoolmode']] = school_score.loc[:, ['schoolmode']] / 100\n",
    "school_score.loc[:, ['schoolmode']] = 1 - school_score.loc[:, ['schoolmode']]"
   ]
  },
  {
   "cell_type": "code",
   "execution_count": 5,
   "id": "d12f81ac",
   "metadata": {},
   "outputs": [],
   "source": [
    "norm_mode = mode.groupby(['StateAssignedSchoolID'])['LearningModel'].value_counts(\n",
    "    normalize = True).to_frame().rename(columns = {'LearningModel': 'normalized'}).reset_index()\n",
    "pivot_df = pd.pivot(norm_mode, index = ['StateAssignedSchoolID'], \n",
    "         columns = 'LearningModel', values = 'normalized').reset_index()\n",
    "pivot_df = pivot_df.replace(np.nan, 0)\n",
    "new_illi_mode = pivot_df.merge(school_score, on = 'StateAssignedSchoolID')\n",
    "new_illi_mode = new_illi_mode.rename(columns = {\n",
    "    'Closed':'closedper','Hybrid':'hybridper','In-person':'inpersonper',\n",
    "          'Virtual':'virtualper'})\n",
    "new_illi_mode.to_csv('schoolmode_il.csv')"
   ]
  },
  {
   "cell_type": "code",
   "execution_count": 22,
   "id": "9594177e",
   "metadata": {},
   "outputs": [],
   "source": [
    "mode = pd.read_csv('schoolmode_il.csv').iloc[:, 1:]\n",
    "for i in list(final_ela.RCDTS):\n",
    "    if i[0] == '0':\n",
    "        final_ela.loc[final_ela['RCDTS'] == i, 'RCDTS'] = i[1:]\n",
    "        \n",
    "ela_mode = final_ela.set_index('RCDTS').merge(mode.set_index('StateAssignedSchoolID'), \n",
    "                                        left_index = True, right_index = True).reset_index().rename(columns = \n",
    "                                                                                                   {'index':\n",
    "                                                                                                   'RCDTS'})\n",
    "ela_mode.loc[ela_mode['year'] != '2021', 'schoolmode'] = 0\n",
    "ela_mode.loc[ela_mode['year'] != '2021', 'virtualper'] = 0\n",
    "ela_mode.loc[ela_mode['year'] != '2021', 'hybridper'] = 0"
   ]
  },
  {
   "cell_type": "code",
   "execution_count": 23,
   "id": "ec84f100",
   "metadata": {},
   "outputs": [],
   "source": [
    "ela_mode['schoolcode'] = ela_mode['RCDTS'].astype('str') + 'il'\n",
    "ela_mode['countycode'] = ela_mode.RCDTS.apply(lambda x: x[:4]) + 'il'\n",
    "ela_mode['districtcode'] = ela_mode.RCDTS.apply(lambda x: x[:-4]) + 'il'\n",
    "ela_mode['state'] = 'il'\n",
    "ela_mode = ela_mode.drop(columns = ['closedper', 'inpersonper', 'RCDTS'])\n",
    "ela_mode['totaltested'] = ela_mode['totaltested'].astype('int')\n",
    "ela_mode.loc[:, ['white', 'black', 'hispanic', 'lowincome']] = round(\n",
    "ela_mode.loc[:, ['white', 'black', 'hispanic', 'lowincome']] * 100, 2)\n",
    "ela_mode['elapass'] = round(ela_mode['elapass'], 2)\n",
    "ela_mode.loc[:, ['hybridper', 'virtualper', 'schoolmode']] = round(\n",
    "ela_mode.loc[:, ['hybridper', 'virtualper', 'schoolmode']], 4)"
   ]
  },
  {
   "cell_type": "code",
   "execution_count": 26,
   "id": "84ed250e",
   "metadata": {},
   "outputs": [],
   "source": [
    "ela_mode.to_csv('final_data_elapass_il.csv')"
   ]
  }
 ],
 "metadata": {
  "kernelspec": {
   "display_name": "Python 3 (ipykernel)",
   "language": "python",
   "name": "python3"
  },
  "language_info": {
   "codemirror_mode": {
    "name": "ipython",
    "version": 3
   },
   "file_extension": ".py",
   "mimetype": "text/x-python",
   "name": "python",
   "nbconvert_exporter": "python",
   "pygments_lexer": "ipython3",
   "version": "3.9.7"
  }
 },
 "nbformat": 4,
 "nbformat_minor": 5
}
