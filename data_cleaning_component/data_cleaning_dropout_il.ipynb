{
 "cells": [
  {
   "cell_type": "code",
   "execution_count": 15,
   "id": "c4ed97b5",
   "metadata": {},
   "outputs": [],
   "source": [
    "import pandas as pd\n",
    "import numpy as np"
   ]
  },
  {
   "cell_type": "markdown",
   "id": "caad2be0",
   "metadata": {},
   "source": [
    "## Year 2021"
   ]
  },
  {
   "cell_type": "code",
   "execution_count": 16,
   "id": "57f6ba24",
   "metadata": {},
   "outputs": [],
   "source": [
    "d21 = pd.read_csv('dropout21.csv').dropna()"
   ]
  },
  {
   "cell_type": "markdown",
   "id": "918ef0dc",
   "metadata": {},
   "source": [
    "## Year 2019"
   ]
  },
  {
   "cell_type": "code",
   "execution_count": 17,
   "id": "d08dc918",
   "metadata": {},
   "outputs": [],
   "source": [
    "d19 = pd.read_csv('dropout19.csv').dropna()"
   ]
  },
  {
   "cell_type": "markdown",
   "id": "9c93dc60",
   "metadata": {},
   "source": [
    "## Year 2018"
   ]
  },
  {
   "cell_type": "code",
   "execution_count": 18,
   "id": "205ddc7f",
   "metadata": {},
   "outputs": [],
   "source": [
    "d18 = pd.read_csv('dropout18.csv').dropna()"
   ]
  },
  {
   "cell_type": "markdown",
   "id": "cefd5862",
   "metadata": {},
   "source": [
    "## Year 2017"
   ]
  },
  {
   "cell_type": "code",
   "execution_count": 19,
   "id": "1ed0be3f",
   "metadata": {},
   "outputs": [],
   "source": [
    "d17 = pd.read_csv('dropout17.csv').dropna()"
   ]
  },
  {
   "cell_type": "markdown",
   "id": "446f6fec",
   "metadata": {},
   "source": [
    "## Merge Four Years of Drop-outs"
   ]
  },
  {
   "cell_type": "code",
   "execution_count": 20,
   "id": "b1effe19",
   "metadata": {},
   "outputs": [],
   "source": [
    "d21['year'] = 2021\n",
    "d19['year'] = 2019\n",
    "d18['year'] = 2018\n",
    "d17['year'] = 2017\n",
    "\n",
    "school_code = list((set(d21['RCDTS']).intersection(set(d19['RCDTS']))).intersection(set(d18['RCDTS'])).intersection(set(d17['RCDTS'])))\n",
    "\n",
    "d21 = d21.set_index('RCDTS').loc[school_code, :]\n",
    "d19 = d19.set_index('RCDTS').loc[school_code, :]\n",
    "d18 = d18.set_index('RCDTS').loc[school_code, :]\n",
    "d17 = d17.set_index('RCDTS').loc[school_code, :]"
   ]
  },
  {
   "cell_type": "code",
   "execution_count": 21,
   "id": "f34e747c",
   "metadata": {},
   "outputs": [],
   "source": [
    "final_drop = pd.concat([d21, d19, d18, d17]).reset_index()\n",
    "\n",
    "type_map = {'HIGH SCHOOL': 0, 'ELEMENTARY': 0, 'ELEMENTARY ': 0, 'CHARTER SCH': 1}\n",
    "final_drop['charter'] = final_drop['School Type'].map(type_map)"
   ]
  },
  {
   "cell_type": "markdown",
   "id": "5ee8e05f",
   "metadata": {},
   "source": [
    "## Schooling Mode"
   ]
  },
  {
   "cell_type": "code",
   "execution_count": 22,
   "id": "5d65685a",
   "metadata": {},
   "outputs": [],
   "source": [
    "mode = pd.read_csv('schoolmode.csv')[['Charter', 'StateAssignedSchoolID', 'EnrollmentTotal',\n",
    "                     'TimePeriodStart', 'TimePeriodEnd', 'LearningModel']]\n",
    "\n",
    "illi_mode = mode.groupby(['StateAssignedSchoolID'])['LearningModel'].value_counts(\n",
    "    normalize = True).to_frame().rename(columns = {'LearningModel':'normalized'}).reset_index()\n",
    "\n",
    "score_map = {'Virtual': 0, 'Hybrid': 50, 'Closed': 0, 'In-person': 100}\n",
    "illi_mode['score'] = illi_mode['LearningModel'].map(score_map)\n",
    "\n",
    "def weighted_average(df):\n",
    "    return(sum(df['normalized'] * df['score']))\n",
    "\n",
    "school_score = illi_mode.groupby(['StateAssignedSchoolID']).apply(\n",
    "    weighted_average).sort_values().to_frame().reset_index().rename(columns = {0: 'schoolmode', \n",
    "                        'DistrictName':'District Name', 'SchoolName':'School Name'})\n",
    "\n",
    "school_score.loc[:, ['schoolmode']] = school_score.loc[:, ['schoolmode']] / 100\n",
    "school_score.loc[:, ['schoolmode']] = 1 - school_score.loc[:, ['schoolmode']]"
   ]
  },
  {
   "cell_type": "code",
   "execution_count": 23,
   "id": "30097d3d",
   "metadata": {},
   "outputs": [],
   "source": [
    "norm_mode = mode.groupby(['StateAssignedSchoolID'])['LearningModel'].value_counts(\n",
    "    normalize = True).to_frame().rename(columns = {'LearningModel': 'normalized'}).reset_index()\n",
    "pivot_df = pd.pivot(norm_mode, index = ['StateAssignedSchoolID'], \n",
    "         columns = 'LearningModel', values = 'normalized').reset_index()\n",
    "pivot_df = pivot_df.replace(np.nan, 0)\n",
    "new_illi_mode = pivot_df.merge(school_score, on = 'StateAssignedSchoolID')\n",
    "new_illi_mode = new_illi_mode.rename(columns = {\n",
    "    'Closed':'closedper','Hybrid':'hybridper','In-person':'inpersonper',\n",
    "          'Virtual':'virtualper'})\n",
    "new_illi_mode.to_csv('schoolmode_il.csv')"
   ]
  },
  {
   "cell_type": "markdown",
   "id": "faddddbc",
   "metadata": {},
   "source": [
    "## Merge drop-out and school mode"
   ]
  },
  {
   "cell_type": "code",
   "execution_count": 24,
   "id": "90070dbd",
   "metadata": {},
   "outputs": [],
   "source": [
    "mode = pd.read_csv('schoolmode_il.csv').iloc[:, 1:]\n",
    "for i in list(final_drop.RCDTS):\n",
    "    if i[0] == '0':\n",
    "        final_drop.loc[final_drop['RCDTS'] == i, 'RCDTS'] = i[1:]\n",
    "        \n",
    "drop_mode = final_drop.set_index('RCDTS').merge(mode.set_index('StateAssignedSchoolID'), \n",
    "                                        left_index = True, right_index = True).reset_index().rename(columns = \n",
    "                                                                                                   {'index':\n",
    "                                                                                                   'RCDTS'})\n",
    "\n",
    "drop_mode.loc[drop_mode['year'] != 2021, 'schoolmode'] = 0\n",
    "drop_mode.loc[drop_mode['year'] != 2021, 'virtualper'] = 0\n",
    "drop_mode.loc[drop_mode['year'] != 2021, 'inpersonper'] = 1\n",
    "drop_mode.loc[drop_mode['year'] != 2021, 'hybridper'] = 0\n",
    "drop_mode.loc[drop_mode['year'] != 2021, 'closedper'] = 0\n"
   ]
  },
  {
   "cell_type": "code",
   "execution_count": 50,
   "id": "3f34c94f",
   "metadata": {},
   "outputs": [],
   "source": [
    "drop_mode['schoolcode'] = drop_mode['RCDTS'].astype('str') + 'il'\n",
    "drop_mode['countycode'] = drop_mode.RCDTS.apply(lambda x: x[:5]) + 'il'\n",
    "drop_mode['districtcode'] = drop_mode.RCDTS.apply(lambda x: x[:8]) + 'il'\n",
    "drop_mode['year'] = drop_mode['year'].astype('str')\n",
    "drop_mode.loc[:, ['dropout', 'white', 'black', 'hispanic', 'lowincome']] = round(\n",
    "drop_mode.loc[:, ['dropout', 'white', 'black', 'hispanic', 'lowincome']], 2)\n",
    "drop_mode.loc[:, ['hybridper', 'virtualper', 'schoolmode']] = round(\n",
    "drop_mode.loc[:, ['hybridper', 'virtualper', 'schoolmode']], 4)\n"
   ]
  },
  {
   "cell_type": "code",
   "execution_count": 52,
   "id": "ab9f5c65",
   "metadata": {},
   "outputs": [
    {
     "data": {
      "text/plain": [
       "Index(['RCDTS', 'School Name', 'District', 'City', 'County', 'School Type',\n",
       "       'totalenrolled', 'white', 'black', 'hispanic', 'lowincome', 'dropout',\n",
       "       'year', 'charter', 'closedper', 'hybridper', 'inpersonper',\n",
       "       'virtualper', 'schoolmode', 'schoolcode', 'countycode', 'districtcode'],\n",
       "      dtype='object')"
      ]
     },
     "execution_count": 52,
     "metadata": {},
     "output_type": "execute_result"
    }
   ],
   "source": [
    "drop_mode.columns"
   ]
  },
  {
   "cell_type": "code",
   "execution_count": 57,
   "id": "81b56f3b",
   "metadata": {},
   "outputs": [],
   "source": [
    "drop_mode = drop_mode.drop(columns = ['RCDTS', 'School Name', 'District', 'City', 'County', 'School Type', 'closedper',\n",
    "                         'inpersonper'])\n",
    "drop_mode['state'] = 'il'\n",
    "drop_mode.to_csv('final_data_drop_il.csv')"
   ]
  },
  {
   "cell_type": "code",
   "execution_count": null,
   "id": "b7db53ec",
   "metadata": {},
   "outputs": [],
   "source": []
  }
 ],
 "metadata": {
  "kernelspec": {
   "display_name": "Python 3 (ipykernel)",
   "language": "python",
   "name": "python3"
  },
  "language_info": {
   "codemirror_mode": {
    "name": "ipython",
    "version": 3
   },
   "file_extension": ".py",
   "mimetype": "text/x-python",
   "name": "python",
   "nbconvert_exporter": "python",
   "pygments_lexer": "ipython3",
   "version": "3.9.7"
  }
 },
 "nbformat": 4,
 "nbformat_minor": 5
}
