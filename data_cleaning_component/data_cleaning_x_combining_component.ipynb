{
 "cells": [
  {
   "cell_type": "code",
   "execution_count": 1,
   "metadata": {},
   "outputs": [],
   "source": [
    "import pandas as pd\n",
    "import numpy as np\n",
    "import os\n",
    "\n",
    "pd.set_option('display.max_columns', None)"
   ]
  },
  {
   "cell_type": "code",
   "execution_count": 4,
   "metadata": {},
   "outputs": [],
   "source": [
    "dropout_states = [\"tx\", \"nyc\", \"il\", \"ca\"]\n",
    "dropout_dfs = []\n",
    "\n",
    "for state in dropout_states:\n",
    "    dropout_dfs.append(pd.read_csv(f\"../final_data_component/final_data_{state}_dropout.csv\"))\n",
    "\n",
    "final_data_all_state_dropout = pd.concat(dropout_dfs, ignore_index=True)\n",
    "final_data_all_state_dropout.to_csv(\"../final_data_all_state/final_data_all_state_dropout.csv\")"
   ]
  },
  {
   "cell_type": "code",
   "execution_count": null,
   "metadata": {},
   "outputs": [],
   "source": []
  }
 ],
 "metadata": {
  "kernelspec": {
   "display_name": "Python 3",
   "language": "python",
   "name": "python3"
  },
  "language_info": {
   "codemirror_mode": {
    "name": "ipython",
    "version": 3
   },
   "file_extension": ".py",
   "mimetype": "text/x-python",
   "name": "python",
   "nbconvert_exporter": "python",
   "pygments_lexer": "ipython3",
   "version": "3.11.1"
  },
  "orig_nbformat": 4
 },
 "nbformat": 4,
 "nbformat_minor": 2
}
