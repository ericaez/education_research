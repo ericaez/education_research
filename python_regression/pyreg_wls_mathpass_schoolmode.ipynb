{
 "cells": [
  {
   "cell_type": "code",
   "execution_count": 1,
   "id": "904745c6",
   "metadata": {},
   "outputs": [],
   "source": [
    "import pandas as pd\n",
    "import statsmodels.formula.api as smf\n",
    "import statsmodels.api as sm\n",
    "import numpy as np\n",
    "from sklearn.linear_model import LinearRegression"
   ]
  },
  {
   "cell_type": "markdown",
   "id": "f3f84eb8",
   "metadata": {},
   "source": [
    "## School FE"
   ]
  },
  {
   "cell_type": "markdown",
   "id": "c6ac1d58",
   "metadata": {},
   "source": [
    "### No interactions"
   ]
  },
  {
   "cell_type": "code",
   "execution_count": 7,
   "id": "59cd2090",
   "metadata": {},
   "outputs": [],
   "source": [
    "math = pd.read_csv('final_data_all_state_mathpass.csv').iloc[:, 1:]\n",
    "math['year'] = math['year'].astype('str')\n",
    "math_dummy = pd.get_dummies(math.drop(columns = ['districtcode', 'countycode', 'state']))\n",
    "\n",
    "model = sm.WLS(endog = math_dummy.mathpass, exog = math_dummy.drop(columns = ['mathpass', 'charter', \n",
    "                                                                              'virtualper','hybridper', \n",
    "                                                                              'totaltested']), \n",
    "           weights = math_dummy.totaltested)\n",
    "\n",
    "wls = model.fit()\n",
    "\n",
    "summary_df = wls.summary2().tables[1]\n",
    "coeffs_of_interest = ['schoolmode', 'black','hispanic', 'white', 'lowincome']\n",
    "summary_of_interest = summary_df.loc[coeffs_of_interest]\n",
    "summary_of_interest "
   ]
  },
  {
   "cell_type": "markdown",
   "id": "048674c0",
   "metadata": {},
   "source": [
    "### Race interactions"
   ]
  },
  {
   "cell_type": "code",
   "execution_count": null,
   "id": "13ab5621",
   "metadata": {},
   "outputs": [],
   "source": [
    "math = pd.read_csv('final_data_all_state_mathpass.csv').iloc[:, 1:]\n",
    "math['year'] = math['year'].astype('str')\n",
    "math['black_remote'] = math['black'] * math['schoolmode']\n",
    "math['his_remote'] = math['hispanic'] * math['schoolmode']\n",
    "math_dummy = pd.get_dummies(math.drop(columns = ['districtcode', 'countycode', 'state']))\n",
    "\n",
    "model = sm.WLS(endog = math_dummy.mathpass, exog = math_dummy.drop(columns = ['mathpass', 'charter', \n",
    "                                                                              'virtualper','hybridper', \n",
    "                                                                              'totaltested', 'his_remote']), \n",
    "           weights = math_dummy.totaltested)\n",
    "\n",
    "wls = model.fit()\n",
    "\n",
    "summary_df = wls.summary2().tables[1]\n",
    "coeffs_of_interest = ['schoolmode', 'black','hispanic', 'white', 'lowincome', 'black_remote']\n",
    "summary_of_interest = summary_df.loc[coeffs_of_interest]\n",
    "summary_of_interest "
   ]
  },
  {
   "cell_type": "code",
   "execution_count": null,
   "id": "9bc4177c",
   "metadata": {},
   "outputs": [],
   "source": [
    "model = sm.WLS(endog = math_dummy.mathpass, exog = math_dummy.drop(columns = ['mathpass', 'charter', \n",
    "                                                                              'virtualper','hybridper', \n",
    "                                                                              'totaltested', 'black_remote']), \n",
    "           weights = math_dummy.totaltested)\n",
    "\n",
    "wls = model.fit()\n",
    "\n",
    "summary_df = wls.summary2().tables[1]\n",
    "coeffs_of_interest = ['schoolmode', 'black','hispanic', 'white', 'lowincome', 'his_remote']\n",
    "summary_of_interest = summary_df.loc[coeffs_of_interest]\n",
    "summary_of_interest "
   ]
  },
  {
   "cell_type": "markdown",
   "id": "0b1d9921",
   "metadata": {},
   "source": [
    "### Income interactions"
   ]
  },
  {
   "cell_type": "code",
   "execution_count": null,
   "id": "114f740a",
   "metadata": {},
   "outputs": [],
   "source": [
    "math = pd.read_csv('final_data_all_state_mathpass.csv').iloc[:, 1:]\n",
    "math['year'] = math['year'].astype('str')\n",
    "math['income_remote'] = math['lowincome'] * math['schoolmode']\n",
    "math_dummy = pd.get_dummies(math.drop(columns = ['districtcode', 'countycode', 'state']))\n",
    "\n",
    "model = sm.WLS(endog = math_dummy.mathpass, exog = math_dummy.drop(columns = ['mathpass', 'charter', \n",
    "                                                                              'virtualper','hybridper', \n",
    "                                                                              'totaltested']), \n",
    "           weights = math_dummy.totaltested)\n",
    "\n",
    "wls = model.fit()\n",
    "\n",
    "summary_df = wls.summary2().tables[1]\n",
    "coeffs_of_interest = ['schoolmode', 'black','hispanic', 'white', 'lowincome', 'income_remote']\n",
    "summary_of_interest = summary_df.loc[coeffs_of_interest]\n",
    "summary_of_interest "
   ]
  },
  {
   "cell_type": "markdown",
   "id": "43146e10",
   "metadata": {},
   "source": [
    "### Charter interactions"
   ]
  },
  {
   "cell_type": "code",
   "execution_count": null,
   "id": "b4ce112f",
   "metadata": {},
   "outputs": [],
   "source": [
    "math = pd.read_csv('final_data_all_state_mathpass.csv').iloc[:, 1:]\n",
    "math['year'] = math['year'].astype('str')\n",
    "math['charter_remote'] = math['charter'] * math['schoolmode']\n",
    "math_dummy = pd.get_dummies(math.drop(columns = ['districtcode', 'countycode', 'state']))\n",
    "\n",
    "model = sm.WLS(endog = math_dummy.mathpass, exog = math_dummy.drop(columns = ['mathpass', \n",
    "                                                                              'virtualper','hybridper', \n",
    "                                                                              'totaltested']), \n",
    "           weights = math_dummy.totaltested)\n",
    "\n",
    "wls = model.fit()\n",
    "\n",
    "summary_df = wls.summary2().tables[1]\n",
    "coeffs_of_interest = ['schoolmode', 'black','hispanic', 'white', 'lowincome', 'charter_remote']\n",
    "summary_of_interest = summary_df.loc[coeffs_of_interest]\n",
    "summary_of_interest "
   ]
  },
  {
   "cell_type": "markdown",
   "id": "69282188",
   "metadata": {},
   "source": [
    "### District-year interactions"
   ]
  },
  {
   "cell_type": "code",
   "execution_count": null,
   "id": "befcb033",
   "metadata": {},
   "outputs": [],
   "source": [
    "math = pd.read_csv('final_data_all_state_mathpass.csv').iloc[:, 1:]\n",
    "math['year'] = math['year'].astype('str')\n",
    "math['district_year'] = math['districtcode'] + math['year']\n",
    "math_dummy = pd.get_dummies(math.drop(columns = ['districtcode', 'countycode', 'state']))\n",
    "\n",
    "model = sm.WLS(endog = math_dummy.mathpass, exog = math_dummy.drop(columns = ['mathpass', 'charter', \n",
    "                                                                              'virtualper','hybridper', \n",
    "                                                                              'totaltested']), \n",
    "           weights = math_dummy.totaltested)\n",
    "\n",
    "wls = model.fit()\n",
    "\n",
    "summary_df = wls.summary2().tables[1]\n",
    "coeffs_of_interest = ['schoolmode', 'black','hispanic', 'white', 'lowincome', 'district_year']\n",
    "summary_of_interest = summary_df.loc[coeffs_of_interest]\n",
    "summary_of_interest "
   ]
  },
  {
   "cell_type": "markdown",
   "id": "6f4bbc67",
   "metadata": {},
   "source": [
    "### County-year interactions"
   ]
  },
  {
   "cell_type": "code",
   "execution_count": null,
   "id": "0c927f0e",
   "metadata": {},
   "outputs": [],
   "source": [
    "math = pd.read_csv('final_data_all_state_mathpass.csv').iloc[:, 1:]\n",
    "math['year'] = math['year'].astype('str')\n",
    "math['county_year'] = math['countycode'] + math['year']\n",
    "math_dummy = pd.get_dummies(math.drop(columns = ['districtcode', 'countycode', 'state']))\n",
    "\n",
    "model = sm.WLS(endog = math_dummy.mathpass, exog = math_dummy.drop(columns = ['mathpass', 'charter', \n",
    "                                                                              'virtualper','hybridper', \n",
    "                                                                              'totaltested']), \n",
    "           weights = math_dummy.totaltested)\n",
    "\n",
    "wls = model.fit()\n",
    "\n",
    "summary_df = wls.summary2().tables[1]\n",
    "coeffs_of_interest = ['schoolmode', 'black','hispanic', 'white', 'lowincome', 'county_year']\n",
    "summary_of_interest = summary_df.loc[coeffs_of_interest]\n",
    "summary_of_interest "
   ]
  },
  {
   "cell_type": "markdown",
   "id": "44420be0",
   "metadata": {},
   "source": [
    "### State-year interactions"
   ]
  },
  {
   "cell_type": "code",
   "execution_count": null,
   "id": "ace58152",
   "metadata": {},
   "outputs": [],
   "source": [
    "math = pd.read_csv('final_data_all_state_mathpass.csv').iloc[:, 1:]\n",
    "math['year'] = math['year'].astype('str')\n",
    "math['state_year'] = math['state'] + math['year']\n",
    "math_dummy = pd.get_dummies(math.drop(columns = ['districtcode', 'countycode', 'state']))\n",
    "\n",
    "model = sm.WLS(endog = math_dummy.mathpass, exog = math_dummy.drop(columns = ['mathpass', 'charter', \n",
    "                                                                              'virtualper','hybridper', \n",
    "                                                                              'totaltested']), \n",
    "           weights = math_dummy.totaltested)\n",
    "\n",
    "wls = model.fit()\n",
    "\n",
    "summary_df = wls.summary2().tables[1]\n",
    "coeffs_of_interest = ['schoolmode', 'black','hispanic', 'white', 'lowincome', 'state_year']\n",
    "summary_of_interest = summary_df.loc[coeffs_of_interest]\n",
    "summary_of_interest "
   ]
  },
  {
   "cell_type": "markdown",
   "id": "f6eaf5bd",
   "metadata": {},
   "source": [
    "## District FE"
   ]
  },
  {
   "cell_type": "markdown",
   "id": "b1703e75",
   "metadata": {},
   "source": [
    "### No interactions"
   ]
  },
  {
   "cell_type": "code",
   "execution_count": 18,
   "id": "661832fa",
   "metadata": {},
   "outputs": [],
   "source": [
    "math = pd.read_csv('final_data_all_state_mathpass.csv').iloc[:, 1:]\n",
    "math['year'] = math['year'].astype('str')\n",
    "math_district = math.groupby(['districtcode', 'year']).mean().reset_index().drop(columns = 'totaltested')\n",
    "total = math.groupby(['districtcode', 'year']).sum().reset_index().loc[:, ['districtcode', \n",
    "                                                                           'totaltested', 'year']]\n",
    "math_district = math_district.merge(total, on = ['districtcode', 'year'])\n",
    "math_dummy = pd.get_dummies(math_district)\n",
    "\n",
    "model = sm.WLS(endog = math_dummy.mathpass, exog = math_dummy.drop(columns = ['mathpass', 'charter',\n",
    "                                                                              'virtualper',\n",
    "                                                                    'hybridper', 'totaltested']), \n",
    "           weights = math_dummy.totaltested)\n",
    "\n",
    "wls = model.fit()\n",
    "\n",
    "summary_df = wls.summary2().tables[1]\n",
    "coeffs_of_interest = ['schoolmode', 'black','hispanic', 'white', 'lowincome']\n",
    "summary_of_interest = summary_df.loc[coeffs_of_interest]\n",
    "summary_of_interest "
   ]
  },
  {
   "cell_type": "markdown",
   "id": "0e9540f1",
   "metadata": {},
   "source": [
    "### Race interactions"
   ]
  },
  {
   "cell_type": "code",
   "execution_count": null,
   "id": "d450bae2",
   "metadata": {},
   "outputs": [],
   "source": [
    "math_district['black_remote'] = math_district['black'] * math_district['schoolmode']\n",
    "math_district['his_remote'] = math_district['hispanic'] * math_district['schoolmode']\n",
    "math_dummy = pd.get_dummies(math_district)\n",
    "\n",
    "model = sm.WLS(endog = math_dummy.mathpass, exog = math_dummy.drop(columns = ['mathpass', 'charter',\n",
    "                                                                              'virtualper','hybridper', \n",
    "                                                                              'totaltested', 'his_remote']), \n",
    "           weights = math_dummy.totaltested)\n",
    "\n",
    "wls = model.fit()\n",
    "\n",
    "summary_df = wls.summary2().tables[1]\n",
    "coeffs_of_interest = ['schoolmode', 'black','hispanic', 'white', 'lowincome', 'black_remote']\n",
    "summary_of_interest = summary_df.loc[coeffs_of_interest]\n",
    "summary_of_interest "
   ]
  },
  {
   "cell_type": "code",
   "execution_count": null,
   "id": "2e4c6c65",
   "metadata": {},
   "outputs": [],
   "source": [
    "model = sm.WLS(endog = math_dummy.mathpass, exog = math_dummy.drop(columns = ['mathpass', 'charter',\n",
    "                                                                              'virtualper','hybridper', \n",
    "                                                                              'totaltested', 'black_remote']), \n",
    "           weights = math_dummy.totaltested)\n",
    "\n",
    "wls = model.fit()\n",
    "\n",
    "summary_df = wls.summary2().tables[1]\n",
    "coeffs_of_interest = ['schoolmode', 'black','hispanic', 'white', 'lowincome', 'his_remote']\n",
    "summary_of_interest = summary_df.loc[coeffs_of_interest]\n",
    "summary_of_interest "
   ]
  },
  {
   "cell_type": "markdown",
   "id": "91d98576",
   "metadata": {},
   "source": [
    "### Income interactions"
   ]
  },
  {
   "cell_type": "code",
   "execution_count": null,
   "id": "69307791",
   "metadata": {},
   "outputs": [],
   "source": [
    "math = pd.read_csv('final_data_all_state_mathpass.csv').iloc[:, 1:]\n",
    "math['year'] = math['year'].astype('str')\n",
    "math_district = math.groupby(['districtcode', 'year']).mean().reset_index().drop(columns = 'totaltested')\n",
    "total = math.groupby(['districtcode', 'year']).sum().reset_index().loc[:, ['districtcode', \n",
    "                                                                           'totaltested', 'year']]\n",
    "math_district = math_district.merge(total, on = ['districtcode', 'year'])\n",
    "math_district['income_remote'] = math_district['lowincome'] * math_district['schoolmode']\n",
    "math_dummy = pd.get_dummies(math_district)\n",
    "\n",
    "model = sm.WLS(endog = math_dummy.mathpass, exog = math_dummy.drop(columns = ['mathpass', 'charter',\n",
    "                                                                              'virtualper','hybridper', \n",
    "                                                                              'totaltested']), \n",
    "           weights = math_dummy.totaltested)\n",
    "\n",
    "wls = model.fit()\n",
    "\n",
    "summary_df = wls.summary2().tables[1]\n",
    "coeffs_of_interest = ['schoolmode', 'black','hispanic', 'white', 'lowincome', 'income_remote']\n",
    "summary_of_interest = summary_df.loc[coeffs_of_interest]\n",
    "summary_of_interest "
   ]
  },
  {
   "cell_type": "markdown",
   "id": "14b6d8e3",
   "metadata": {},
   "source": [
    "### Charter interactions"
   ]
  },
  {
   "cell_type": "code",
   "execution_count": null,
   "id": "4f8ddc0f",
   "metadata": {},
   "outputs": [],
   "source": [
    "math = pd.read_csv('final_data_all_state_mathpass.csv').iloc[:, 1:]\n",
    "math['year'] = math['year'].astype('str')\n",
    "math_district = math.groupby(['districtcode', 'year']).mean().reset_index().drop(columns = 'totaltested')\n",
    "total = math.groupby(['districtcode', 'year']).sum().reset_index().loc[:, ['districtcode', \n",
    "                                                                           'totaltested', 'year']]\n",
    "math_district = math_district.merge(total, on = ['districtcode', 'year'])\n",
    "math_district['charter_remote'] = math_district['charter'] * math_district['schoolmode']\n",
    "math_dummy = pd.get_dummies(math_district)\n",
    "\n",
    "model = sm.WLS(endog = math_dummy.mathpass, exog = math_dummy.drop(columns = ['mathpass',\n",
    "                                                                              'virtualper','hybridper', \n",
    "                                                                              'totaltested']), \n",
    "           weights = math_dummy.totaltested)\n",
    "\n",
    "wls = model.fit()\n",
    "\n",
    "summary_df = wls.summary2().tables[1]\n",
    "coeffs_of_interest = ['schoolmode', 'black','hispanic', 'white', 'lowincome', 'charter_remote']\n",
    "summary_of_interest = summary_df.loc[coeffs_of_interest]\n",
    "summary_of_interest "
   ]
  },
  {
   "cell_type": "markdown",
   "id": "fcd63811",
   "metadata": {},
   "source": [
    "### County-year interactions"
   ]
  },
  {
   "cell_type": "code",
   "execution_count": 27,
   "id": "70c92336",
   "metadata": {},
   "outputs": [],
   "source": [
    "math = pd.read_csv('final_data_all_state_mathpass.csv').iloc[:, 1:]\n",
    "math['year'] = math['year'].astype('str')\n",
    "math_district = math.groupby(['districtcode', 'year']).mean().reset_index().drop(columns = 'totaltested')\n",
    "total = math.groupby(['districtcode', 'year']).sum().reset_index().loc[:, ['districtcode', \n",
    "                                                                           'totaltested', 'year']]\n",
    "math_district = math_district.merge(total, on = ['districtcode', 'year']).merge(\n",
    "    math.loc[:, ['districtcode', 'countycode']].drop_duplicates(), on = 'districtcode')\n",
    "math_district['county_year'] = math_district['countycode'] + math_district['year']\n",
    "math_dummy = pd.get_dummies(math_district)\n",
    "\n",
    "model = sm.WLS(endog = math_dummy.mathpass, exog = math_dummy.drop(columns = ['mathpass', 'charter',\n",
    "                                                                              'virtualper','hybridper', \n",
    "                                                                              'totaltested']), \n",
    "           weights = math_dummy.totaltested)\n",
    "\n",
    "wls = model.fit()\n",
    "\n",
    "summary_df = wls.summary2().tables[1]\n",
    "coeffs_of_interest = ['schoolmode', 'black','hispanic', 'white', 'lowincome']\n",
    "summary_of_interest = summary_df.loc[coeffs_of_interest]\n",
    "summary_of_interest "
   ]
  },
  {
   "cell_type": "markdown",
   "id": "c9053e07",
   "metadata": {},
   "source": [
    "### State-year interactions"
   ]
  },
  {
   "cell_type": "code",
   "execution_count": 32,
   "id": "6f2b7d61",
   "metadata": {},
   "outputs": [],
   "source": [
    "math = pd.read_csv('final_data_all_state_mathpass.csv').iloc[:, 1:]\n",
    "math['year'] = math['year'].astype('str')\n",
    "math_district = math.groupby(['districtcode', 'year']).mean().reset_index().drop(columns = 'totaltested')\n",
    "total = math.groupby(['districtcode', 'year']).sum().reset_index().loc[:, ['districtcode', \n",
    "                                                                           'totaltested', 'year']]\n",
    "math_district = math_district.merge(total, on = ['districtcode', 'year']).merge(\n",
    "    math.loc[:, ['districtcode', 'state']].drop_duplicates(), on = 'districtcode')\n",
    "math_district['state_year'] = math_district['state'] + math_district['year']\n",
    "math_dummy = pd.get_dummies(math_district)\n",
    "\n",
    "model = sm.WLS(endog = math_dummy.mathpass, exog = math_dummy.drop(columns = ['mathpass', 'charter',\n",
    "                                                                              'virtualper','hybridper', \n",
    "                                                                              'totaltested']), \n",
    "           weights = math_dummy.totaltested)\n",
    "\n",
    "wls = model.fit()\n",
    "\n",
    "summary_df = wls.summary2().tables[1]\n",
    "coeffs_of_interest = ['schoolmode', 'black','hispanic', 'white', 'lowincome']\n",
    "summary_of_interest = summary_df.loc[coeffs_of_interest]\n",
    "summary_of_interest "
   ]
  },
  {
   "cell_type": "code",
   "execution_count": null,
   "id": "80ec7839",
   "metadata": {},
   "outputs": [],
   "source": []
  }
 ],
 "metadata": {
  "kernelspec": {
   "display_name": "Python 3 (ipykernel)",
   "language": "python",
   "name": "python3"
  },
  "language_info": {
   "codemirror_mode": {
    "name": "ipython",
    "version": 3
   },
   "file_extension": ".py",
   "mimetype": "text/x-python",
   "name": "python",
   "nbconvert_exporter": "python",
   "pygments_lexer": "ipython3",
   "version": "3.9.7"
  }
 },
 "nbformat": 4,
 "nbformat_minor": 5
}
