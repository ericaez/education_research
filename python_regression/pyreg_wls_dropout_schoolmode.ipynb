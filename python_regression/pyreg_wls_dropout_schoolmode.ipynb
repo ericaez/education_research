{
 "cells": [
  {
   "cell_type": "code",
   "execution_count": 1,
   "id": "20085bcd",
   "metadata": {},
   "outputs": [],
   "source": [
    "import pandas as pd\n",
    "import statsmodels.formula.api as smf\n",
    "import statsmodels.api as sm\n",
    "import numpy as np\n",
    "from sklearn.linear_model import LinearRegression"
   ]
  },
  {
   "cell_type": "markdown",
   "id": "c521e674",
   "metadata": {},
   "source": [
    "## School FE"
   ]
  },
  {
   "cell_type": "markdown",
   "id": "2e2a08e7",
   "metadata": {},
   "source": [
    "### No interactions"
   ]
  },
  {
   "cell_type": "code",
   "execution_count": 7,
   "id": "75152b5a",
   "metadata": {},
   "outputs": [],
   "source": [
    "drop = pd.read_csv('final_data_all_state_dropout.csv').iloc[:, 1:]\n",
    "drop['year'] = drop['year'].astype('str')\n",
    "drop_dummy = pd.get_dummies(drop.drop(columns = ['districtcode', 'countycode', 'state']))\n",
    "\n",
    "model = sm.WLS(endog = drop_dummy.dropout, exog = drop_dummy.drop(columns = ['dropout', 'charter', \n",
    "                                                                              'virtualper','hybridper', \n",
    "                                                                              'totalenrolled']), \n",
    "           weights = drop_dummy.totalenrolled)\n",
    "\n",
    "wls = model.fit()\n",
    "\n",
    "summary_df = wls.summary2().tables[1]\n",
    "coeffs_of_interest = ['schoolmode', 'black','hispanic', 'white', 'lowincome']\n",
    "summary_of_interest = summary_df.loc[coeffs_of_interest]\n",
    "summary_of_interest "
   ]
  },
  {
   "cell_type": "markdown",
   "id": "41a9ee36",
   "metadata": {},
   "source": [
    "### Race interactions"
   ]
  },
  {
   "cell_type": "code",
   "execution_count": null,
   "id": "8e648a36",
   "metadata": {},
   "outputs": [],
   "source": [
    "drop = pd.read_csv('final_data_all_state_dropout.csv').iloc[:, 1:]\n",
    "drop['year'] = drop['year'].astype('str')\n",
    "drop['black_remote'] = drop['black'] * drop['schoolmode']\n",
    "drop['his_remote'] = drop['hispanic'] * drop['schoolmode']\n",
    "drop_dummy = pd.get_dummies(drop.drop(columns = ['districtcode', 'countycode', 'state']))\n",
    "\n",
    "model = sm.WLS(endog = drop_dummy.dropout, exog = drop_dummy.drop(columns = ['dropout', 'charter', \n",
    "                                                                              'virtualper','hybridper', \n",
    "                                                                              'totalenrolled', 'his_remote']), \n",
    "           weights = drop_dummy.totalenrolled)\n",
    "\n",
    "wls = model.fit()\n",
    "\n",
    "summary_df = wls.summary2().tables[1]\n",
    "coeffs_of_interest = ['schoolmode', 'black', 'hispanic', 'white', 'lowincome', 'black_remote']\n",
    "summary_of_interest = summary_df.loc[coeffs_of_interest]\n",
    "summary_of_interest "
   ]
  },
  {
   "cell_type": "code",
   "execution_count": null,
   "id": "a79d218b",
   "metadata": {},
   "outputs": [],
   "source": [
    "model = sm.WLS(endog = drop_dummy.dropout, exog = drop_dummy.drop(columns = ['dropout', 'charter', \n",
    "                                                                              'virtualper','hybridper', \n",
    "                                                                              'totalenrolled', 'black_remote']), \n",
    "           weights = drop_dummy.totalenrolled)\n",
    "\n",
    "wls = model.fit()\n",
    "\n",
    "summary_df = wls.summary2().tables[1]\n",
    "coeffs_of_interest = ['schoolmode', 'black','hispanic', 'white', 'lowincome', 'his_remote']\n",
    "summary_of_interest = summary_df.loc[coeffs_of_interest]\n",
    "summary_of_interest "
   ]
  },
  {
   "cell_type": "markdown",
   "id": "478c9775",
   "metadata": {},
   "source": [
    "### Income interactions"
   ]
  },
  {
   "cell_type": "code",
   "execution_count": null,
   "id": "f12609aa",
   "metadata": {},
   "outputs": [],
   "source": [
    "drop = pd.read_csv('final_data_all_state_dropout.csv').iloc[:, 1:]\n",
    "drop['year'] = drop['year'].astype('str')\n",
    "drop['income_remote'] = drop['lowincome'] * drop['schoolmode']\n",
    "drop_dummy = pd.get_dummies(drop.drop(columns = ['districtcode', 'countycode', 'state']))\n",
    "\n",
    "model = sm.WLS(endog = drop_dummy.dropout, exog = drop_dummy.drop(columns = ['dropout', 'charter', \n",
    "                                                                              'virtualper','hybridper', \n",
    "                                                                              'totalenrolled']), \n",
    "           weights = drop_dummy.totalenrolled)\n",
    "\n",
    "wls = model.fit()\n",
    "\n",
    "summary_df = wls.summary2().tables[1]\n",
    "coeffs_of_interest = ['schoolmode', 'black','hispanic', 'white', 'lowincome', 'income_remote']\n",
    "summary_of_interest = summary_df.loc[coeffs_of_interest]\n",
    "summary_of_interest "
   ]
  },
  {
   "cell_type": "markdown",
   "id": "d786268c",
   "metadata": {},
   "source": [
    "### Charter interactions"
   ]
  },
  {
   "cell_type": "code",
   "execution_count": null,
   "id": "53b3c9a4",
   "metadata": {},
   "outputs": [],
   "source": [
    "drop = pd.read_csv('final_data_all_state_dropout.csv').iloc[:, 1:]\n",
    "drop['year'] = drop['year'].astype('str')\n",
    "drop['charter_remote'] = drop['charter'] * drop['schoolmode']\n",
    "drop_dummy = pd.get_dummies(drop.drop(columns = ['districtcode', 'countycode', 'state']))\n",
    "\n",
    "model = sm.WLS(endog = drop_dummy.dropout, exog = drop_dummy.drop(columns = ['dropout',  \n",
    "                                                                              'virtualper','hybridper', \n",
    "                                                                              'totalenrolled']), \n",
    "           weights = drop_dummy.totalenrolled)\n",
    "\n",
    "wls = model.fit()\n",
    "\n",
    "summary_df = wls.summary2().tables[1]\n",
    "coeffs_of_interest = ['schoolmode', 'black','hispanic', 'white', 'lowincome', 'charter', 'charter_remote']\n",
    "summary_of_interest = summary_df.loc[coeffs_of_interest]\n",
    "summary_of_interest "
   ]
  },
  {
   "cell_type": "markdown",
   "id": "34afad61",
   "metadata": {},
   "source": [
    "### District-year interactions"
   ]
  },
  {
   "cell_type": "code",
   "execution_count": null,
   "id": "742e7eb3",
   "metadata": {},
   "outputs": [],
   "source": [
    "drop = pd.read_csv('final_data_all_state_dropout.csv').iloc[:, 1:]\n",
    "drop['year'] = drop['year'].astype('str')\n",
    "drop['district_year'] = drop['districtcode'] + drop['year']\n",
    "drop_dummy = pd.get_dummies(drop.drop(columns = ['districtcode', 'countycode', 'state']))\n",
    "\n",
    "model = sm.WLS(endog = drop_dummy.dropout, exog = drop_dummy.drop(columns = ['dropout', 'charter', \n",
    "                                                                              'virtualper','hybridper', \n",
    "                                                                              'totalenrolled']), \n",
    "           weights = drop_dummy.totalenrolled)\n",
    "\n",
    "wls = model.fit()\n",
    "\n",
    "summary_df = wls.summary2().tables[1]\n",
    "coeffs_of_interest = ['schoolmode', 'black','hispanic', 'white', 'lowincome']\n",
    "summary_of_interest = summary_df.loc[coeffs_of_interest]\n",
    "summary_of_interest "
   ]
  },
  {
   "cell_type": "markdown",
   "id": "bc5120de",
   "metadata": {},
   "source": [
    "### County-year interactions"
   ]
  },
  {
   "cell_type": "code",
   "execution_count": null,
   "id": "3011c61c",
   "metadata": {},
   "outputs": [],
   "source": [
    "drop = pd.read_csv('final_data_all_state_dropout.csv').iloc[:, 1:]\n",
    "drop['year'] = drop['year'].astype('str')\n",
    "drop['county_year'] = drop['countycode'] + drop['year']\n",
    "drop_dummy = pd.get_dummies(drop.drop(columns = ['districtcode', 'countycode', 'state']))\n",
    "\n",
    "model = sm.WLS(endog = drop_dummy.dropout, exog = drop_dummy.drop(columns = ['dropout', 'charter', \n",
    "                                                                              'virtualper','hybridper', \n",
    "                                                                              'totalenrolled']), \n",
    "           weights = drop_dummy.totalenrolled)\n",
    "\n",
    "wls = model.fit()\n",
    "\n",
    "summary_df = wls.summary2().tables[1]\n",
    "coeffs_of_interest = ['schoolmode', 'black','hispanic', 'white', 'lowincome']\n",
    "summary_of_interest = summary_df.loc[coeffs_of_interest]\n",
    "summary_of_interest "
   ]
  },
  {
   "cell_type": "markdown",
   "id": "070a33e4",
   "metadata": {},
   "source": [
    "### State-year interactions"
   ]
  },
  {
   "cell_type": "code",
   "execution_count": null,
   "id": "d3e51165",
   "metadata": {},
   "outputs": [],
   "source": [
    "drop = pd.read_csv('final_data_all_state_dropout.csv').iloc[:, 1:]\n",
    "drop['year'] = drop['year'].astype('str')\n",
    "drop['state_year'] = drop['state'] + drop['year']\n",
    "drop_dummy = pd.get_dummies(drop.drop(columns = ['districtcode', 'countycode', 'state']))\n",
    "\n",
    "model = sm.WLS(endog = drop_dummy.dropout, exog = drop_dummy.drop(columns = ['dropout', 'charter', \n",
    "                                                                              'virtualper','hybridper', \n",
    "                                                                              'totalenrolled']), \n",
    "           weights = drop_dummy.totalenrolled)\n",
    "\n",
    "wls = model.fit()\n",
    "\n",
    "summary_df = wls.summary2().tables[1]\n",
    "coeffs_of_interest = ['schoolmode', 'black','hispanic', 'white', 'lowincome']\n",
    "summary_of_interest = summary_df.loc[coeffs_of_interest]\n",
    "summary_of_interest "
   ]
  },
  {
   "cell_type": "markdown",
   "id": "1688a9a6",
   "metadata": {},
   "source": [
    "## District FE"
   ]
  },
  {
   "cell_type": "markdown",
   "id": "98045083",
   "metadata": {},
   "source": [
    "### No interactions"
   ]
  },
  {
   "cell_type": "code",
   "execution_count": 18,
   "id": "b59b672d",
   "metadata": {},
   "outputs": [],
   "source": [
    "drop = pd.read_csv('final_data_all_state_dropout.csv').iloc[:, 1:]\n",
    "drop['year'] = drop['year'].astype('str')\n",
    "drop_district = drop.groupby(['districtcode', 'year']).mean().reset_index().drop(columns = 'totalenrolled')\n",
    "total = drop.groupby(['districtcode', 'year']).sum().reset_index().loc[:, ['districtcode', \n",
    "                                                                           'totalenrolled', 'year']]\n",
    "drop_district = drop_district.merge(total, on = ['districtcode', 'year'])\n",
    "drop_dummy = pd.get_dummies(drop_district)\n",
    "\n",
    "model = sm.WLS(endog = drop_dummy.dropout, exog = drop_dummy.drop(columns = ['dropout', 'charter', \n",
    "                                                                              'virtualper','hybridper', \n",
    "                                                                              'totalenrolled']), \n",
    "           weights = drop_dummy.totalenrolled)\n",
    "\n",
    "wls = model.fit()\n",
    "\n",
    "summary_df = wls.summary2().tables[1]\n",
    "coeffs_of_interest = ['schoolmode', 'black','hispanic', 'white', 'lowincome']\n",
    "summary_of_interest = summary_df.loc[coeffs_of_interest]\n",
    "summary_of_interest "
   ]
  },
  {
   "cell_type": "markdown",
   "id": "729d461a",
   "metadata": {},
   "source": [
    "### Race interactions"
   ]
  },
  {
   "cell_type": "code",
   "execution_count": null,
   "id": "2019cfea",
   "metadata": {},
   "outputs": [],
   "source": [
    "drop_district['black_remote'] = drop_district['black'] * drop_district['schoolmode']\n",
    "drop_district['his_remote'] = drop_district['hispanic'] * drop_district['schoolmode']\n",
    "drop_dummy = pd.get_dummies(drop_district)\n",
    "\n",
    "model = sm.WLS(endog = drop_dummy.dropout, exog = drop_dummy.drop(columns = ['dropout', 'charter', \n",
    "                                                                              'virtualper','hybridper', \n",
    "                                                                              'totalenrolled', 'his_remote']), \n",
    "           weights = drop_dummy.totalenrolled)\n",
    "\n",
    "wls = model.fit()\n",
    "\n",
    "summary_df = wls.summary2().tables[1]\n",
    "coeffs_of_interest = ['schoolmode', 'black','hispanic', 'white', 'lowincome', 'black_remote']\n",
    "summary_of_interest = summary_df.loc[coeffs_of_interest]\n",
    "summary_of_interest "
   ]
  },
  {
   "cell_type": "code",
   "execution_count": null,
   "id": "0621470f",
   "metadata": {},
   "outputs": [],
   "source": [
    "model = sm.WLS(endog = drop_dummy.dropout, exog = drop_dummy.drop(columns = ['dropout', 'charter', \n",
    "                                                                              'virtualper','hybridper', \n",
    "                                                                              'totalenrolled', 'black_remote']), \n",
    "           weights = drop_dummy.totalenrolled)\n",
    "wls = model.fit()\n",
    "\n",
    "summary_df = wls.summary2().tables[1]\n",
    "coeffs_of_interest = ['schoolmode', 'black','hispanic', 'white', 'lowincome', 'his_remote']\n",
    "summary_of_interest = summary_df.loc[coeffs_of_interest]\n",
    "summary_of_interest "
   ]
  },
  {
   "cell_type": "markdown",
   "id": "7d920637",
   "metadata": {},
   "source": [
    "### Income interactions"
   ]
  },
  {
   "cell_type": "code",
   "execution_count": null,
   "id": "f07ae659",
   "metadata": {},
   "outputs": [],
   "source": [
    "drop = pd.read_csv('final_data_all_state_dropout.csv').iloc[:, 1:]\n",
    "drop['year'] = drop['year'].astype('str')\n",
    "drop_district = drop.groupby(['districtcode', 'year']).mean().reset_index().drop(columns = 'totalenrolled')\n",
    "total = drop.groupby(['districtcode', 'year']).sum().reset_index().loc[:, ['districtcode', \n",
    "                                                                           'totalenrolled', 'year']]\n",
    "drop_district = drop_district.merge(total, on = ['districtcode', 'year'])\n",
    "drop_district['income_remote'] = drop_district['lowincome'] * drop_district['schoolmode']\n",
    "drop_dummy = pd.get_dummies(drop_district)\n",
    "\n",
    "model = sm.WLS(endog = drop_dummy.dropout, exog = drop_dummy.drop(columns = ['dropout', 'charter', \n",
    "                                                                              'virtualper','hybridper', \n",
    "                                                                              'totalenrolled']), \n",
    "           weights = drop_dummy.totalenrolled)\n",
    "\n",
    "wls = model.fit()\n",
    "\n",
    "summary_df = wls.summary2().tables[1]\n",
    "coeffs_of_interest = ['schoolmode', 'black','hispanic', 'white', 'lowincome', 'income_remote']\n",
    "summary_of_interest = summary_df.loc[coeffs_of_interest]\n",
    "summary_of_interest "
   ]
  },
  {
   "cell_type": "markdown",
   "id": "58a3f193",
   "metadata": {},
   "source": [
    "### Charter interactions"
   ]
  },
  {
   "cell_type": "code",
   "execution_count": null,
   "id": "2c3949b1",
   "metadata": {},
   "outputs": [],
   "source": [
    "drop = pd.read_csv('final_data_all_state_dropout.csv').iloc[:, 1:]\n",
    "drop['year'] = drop['year'].astype('str')\n",
    "drop_district = drop.groupby(['districtcode', 'year']).mean().reset_index().drop(columns = 'totalenrolled')\n",
    "total = drop.groupby(['districtcode', 'year']).sum().reset_index().loc[:, ['districtcode', \n",
    "                                                                           'totalenrolled', 'year']]\n",
    "drop_district = drop_district.merge(total, on = ['districtcode', 'year'])\n",
    "drop_district['charter_remote'] = drop_district['charter'] * drop_district['schoolmode']\n",
    "drop_dummy = pd.get_dummies(drop_district)\n",
    "\n",
    "model = sm.WLS(endog = drop_dummy.dropout, exog = drop_dummy.drop(columns = ['dropout', \n",
    "                                                                              'virtualper','hybridper', \n",
    "                                                                              'totalenrolled']), \n",
    "           weights = drop_dummy.totalenrolled)\n",
    "\n",
    "wls = model.fit()\n",
    "\n",
    "summary_df = wls.summary2().tables[1]\n",
    "coeffs_of_interest = ['schoolmode', 'black','hispanic', 'white', 'lowincome','charter','charter_remote']\n",
    "summary_of_interest = summary_df.loc[coeffs_of_interest]\n",
    "summary_of_interest "
   ]
  },
  {
   "cell_type": "markdown",
   "id": "d0b470f8",
   "metadata": {},
   "source": [
    "### County-year interactions"
   ]
  },
  {
   "cell_type": "code",
   "execution_count": 27,
   "id": "35645ad1",
   "metadata": {},
   "outputs": [],
   "source": [
    "drop = pd.read_csv('final_data_all_state_dropout.csv').iloc[:, 1:]\n",
    "drop['year'] = drop['year'].astype('str')\n",
    "drop_district = drop.groupby(['districtcode', 'year']).mean().reset_index().drop(columns = 'totalenrolled')\n",
    "total = drop.groupby(['districtcode', 'year']).sum().reset_index().loc[:, ['districtcode', \n",
    "                                                                           'totalenrolled', 'year']]\n",
    "drop_district = drop_district.merge(total, on = ['districtcode', 'year']).merge(\n",
    "    drop.loc[:, ['districtcode', 'countycode']].drop_duplicates(), on = 'districtcode')\n",
    "drop_district['county_year'] = drop_district['countycode'] + drop_district['year']\n",
    "drop_dummy = pd.get_dummies(drop_district)\n",
    "\n",
    "model = sm.WLS(endog = drop_dummy.dropout, exog = drop_dummy.drop(columns = ['dropout', 'charter',\n",
    "                                                                              'virtualper','hybridper', \n",
    "                                                                              'totalenrolled']), \n",
    "           weights = drop_dummy.totalenrolled)\n",
    "\n",
    "\n",
    "wls = model.fit()\n",
    "\n",
    "summary_df = wls.summary2().tables[1]\n",
    "coeffs_of_interest = ['schoolmode', 'black','hispanic', 'white', 'lowincome']\n",
    "summary_of_interest = summary_df.loc[coeffs_of_interest]\n",
    "summary_of_interest "
   ]
  },
  {
   "cell_type": "markdown",
   "id": "553f5595",
   "metadata": {},
   "source": [
    "### State-year interactions"
   ]
  },
  {
   "cell_type": "code",
   "execution_count": 32,
   "id": "da643ba1",
   "metadata": {},
   "outputs": [],
   "source": [
    "drop = pd.read_csv('final_data_all_state_dropout.csv').iloc[:, 1:]\n",
    "drop['year'] = drop['year'].astype('str')\n",
    "drop_district = drop.groupby(['districtcode', 'year']).mean().reset_index().drop(columns = 'totalenrolled')\n",
    "total = drop.groupby(['districtcode', 'year']).sum().reset_index().loc[:, ['districtcode', \n",
    "                                                                           'totalenrolled', 'year']]\n",
    "drop_district = drop_district.merge(total, on = ['districtcode', 'year']).merge(\n",
    "    drop.loc[:, ['districtcode', 'state']].drop_duplicates(), on = 'districtcode')\n",
    "drop_district['state_year'] = drop_district['state'] + drop_district['year']\n",
    "drop_dummy = pd.get_dummies(drop_district)\n",
    "\n",
    "model = sm.WLS(endog = drop_dummy.dropout, exog = drop_dummy.drop(columns = ['dropout', 'charter',\n",
    "                                                                              'virtualper','hybridper', \n",
    "                                                                              'totalenrolled']), \n",
    "           weights = drop_dummy.totalenrolled)\n",
    "\n",
    "wls = model.fit()\n",
    "\n",
    "summary_df = wls.summary2().tables[1]\n",
    "coeffs_of_interest = ['schoolmode', 'black','hispanic', 'white', 'lowincome']\n",
    "summary_of_interest = summary_df.loc[coeffs_of_interest]\n",
    "summary_of_interest "
   ]
  },
  {
   "cell_type": "code",
   "execution_count": null,
   "id": "435ecea4",
   "metadata": {},
   "outputs": [],
   "source": []
  }
 ],
 "metadata": {
  "kernelspec": {
   "display_name": "Python 3 (ipykernel)",
   "language": "python",
   "name": "python3"
  },
  "language_info": {
   "codemirror_mode": {
    "name": "ipython",
    "version": 3
   },
   "file_extension": ".py",
   "mimetype": "text/x-python",
   "name": "python",
   "nbconvert_exporter": "python",
   "pygments_lexer": "ipython3",
   "version": "3.9.7"
  }
 },
 "nbformat": 4,
 "nbformat_minor": 5
}
