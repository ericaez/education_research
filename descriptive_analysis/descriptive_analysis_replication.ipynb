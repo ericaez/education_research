{
 "cells": [
  {
   "cell_type": "code",
   "execution_count": 10,
   "id": "e03efa16",
   "metadata": {},
   "outputs": [],
   "source": [
    "import pandas as pd"
   ]
  },
  {
   "cell_type": "markdown",
   "id": "d3e051ef",
   "metadata": {},
   "source": [
    "# Math Descriptive Analysis"
   ]
  },
  {
   "cell_type": "markdown",
   "id": "679e3f1a",
   "metadata": {},
   "source": [
    "### Year"
   ]
  },
  {
   "cell_type": "code",
   "execution_count": 11,
   "id": "c4e0a229",
   "metadata": {},
   "outputs": [],
   "source": [
    "math = pd.read_csv('final_data_all_state_mathpass.csv').iloc[:, 1:]\n",
    "math.groupby(['state', 'year']).mean().reset_index().loc[:, ['state', 'year', 'mathpass']].pivot(\n",
    "columns = 'year', values = 'mathpass', index = 'state').reset_index().to_csv('mathpass_by_year.csv')"
   ]
  },
  {
   "cell_type": "markdown",
   "id": "0bca2f74",
   "metadata": {},
   "source": [
    "### Race/Ethnicity"
   ]
  },
  {
   "cell_type": "code",
   "execution_count": 12,
   "id": "a91d4844",
   "metadata": {},
   "outputs": [],
   "source": [
    "math = pd.read_csv('final_data_all_state_mathpass.csv').iloc[:, 1:]\n",
    "math['bh'] = math['black'] + math['hispanic']\n",
    "\n",
    "math['bh_level'] = 'mid'\n",
    "math.loc[math['bh'] <= 25, 'bh_level'] = 'low'\n",
    "math.loc[math['bh'] >= 75, 'bh_level'] = 'high'\n",
    "\n",
    "math['b_level'] = 'mid'\n",
    "math.loc[math['black'] <= 25, 'b_level'] = 'low'\n",
    "math.loc[math['black'] >= 75, 'b_level'] = 'high'\n",
    "\n",
    "math['h_level'] = 'mid'\n",
    "math.loc[math['hispanic'] <= 25, 'h_level'] = 'low'\n",
    "math.loc[math['hispanic'] >= 75, 'h_level'] = 'high'\n",
    "\n",
    "math.groupby(['state', 'year', 'b_level']).mean().reset_index().loc[:, ['state', 'year', 'b_level',\n",
    "'mathpass']].pivot(columns = 'year', values = 'mathpass', index = ['state', 'b_level']).reset_index().to_csv(\n",
    "'mathpass_by_black.csv')\n",
    "\n",
    "math.groupby(['state', 'year', 'h_level']).mean().reset_index().loc[:, ['state', 'year', 'h_level',\n",
    "'mathpass']].pivot(columns = 'year', values = 'mathpass', index = ['state', 'h_level']).reset_index().to_csv(\n",
    "'mathpass_by_hispanic.csv')\n",
    "\n",
    "math.groupby(['state', 'year', 'bh_level']).mean().reset_index().loc[:, ['state', 'year', 'bh_level',\n",
    "'mathpass']].pivot(columns = 'year', values = 'mathpass', index = ['state', 'bh_level']).reset_index().to_csv(\n",
    "'mathpass_by_black_hispanic.csv')"
   ]
  },
  {
   "cell_type": "markdown",
   "id": "2822c0aa",
   "metadata": {},
   "source": [
    "### Income"
   ]
  },
  {
   "cell_type": "code",
   "execution_count": 13,
   "id": "9bca6ce8",
   "metadata": {},
   "outputs": [],
   "source": [
    "math = pd.read_csv('final_data_all_state_mathpass.csv').iloc[:, 1:]\n",
    "\n",
    "math['income_level'] = 'mid'\n",
    "math.loc[math['lowincome'] <= 25, 'income_level'] = 'high'\n",
    "math.loc[math['lowincome'] >= 75, 'income_level'] = 'low'\n",
    "\n",
    "math.groupby(['state', 'year', 'income_level']).mean().reset_index().loc[:, ['state', 'year', 'income_level', \n",
    "'mathpass']].pivot(index = ['state', 'income_level'], columns = 'year', values = 'mathpass').reset_index(\n",
    ").to_csv('mathpass_by_income.csv')"
   ]
  },
  {
   "cell_type": "markdown",
   "id": "fd283fb9",
   "metadata": {},
   "source": [
    "### School Type"
   ]
  },
  {
   "cell_type": "code",
   "execution_count": 14,
   "id": "4e0c8d7b",
   "metadata": {},
   "outputs": [],
   "source": [
    "math = pd.read_csv('final_data_all_state_mathpass.csv').iloc[:, 1:]\n",
    "\n",
    "math.groupby(['state', 'year', 'charter']).mean().reset_index().loc[:, ['state', 'year', 'charter', \n",
    "'mathpass']].pivot(index = ['state', 'charter'], columns = 'year', values = 'mathpass').reset_index(\n",
    ").to_csv('mathpass_by_schooltype.csv')"
   ]
  },
  {
   "cell_type": "markdown",
   "id": "77ddf24d",
   "metadata": {},
   "source": [
    "# ELA Descriptive Analysis"
   ]
  },
  {
   "cell_type": "markdown",
   "id": "a22f0002",
   "metadata": {},
   "source": [
    "### Year"
   ]
  },
  {
   "cell_type": "code",
   "execution_count": 15,
   "id": "e8d0d2e4",
   "metadata": {},
   "outputs": [],
   "source": [
    "ela = pd.read_csv('final_data_all_state_elapass.csv').iloc[:, 1:]\n",
    "ela.groupby(['state', 'year']).mean().reset_index().loc[:, ['state', 'year', 'elapass']].pivot(\n",
    "columns = 'year', values = 'elapass', index = 'state').reset_index().to_csv('elapass_by_year.csv')"
   ]
  },
  {
   "cell_type": "markdown",
   "id": "1f798804",
   "metadata": {},
   "source": [
    "### Race/Ethnicity"
   ]
  },
  {
   "cell_type": "code",
   "execution_count": 16,
   "id": "3375d779",
   "metadata": {},
   "outputs": [],
   "source": [
    "ela = pd.read_csv('final_data_all_state_elapass.csv').iloc[:, 1:]\n",
    "ela['bh'] = ela['black'] + ela['hispanic']\n",
    "\n",
    "ela['bh_level'] = 'mid'\n",
    "ela.loc[ela['bh'] <= 25, 'bh_level'] = 'low'\n",
    "ela.loc[ela['bh'] >= 75, 'bh_level'] = 'high'\n",
    "\n",
    "ela['b_level'] = 'mid'\n",
    "ela.loc[ela['black'] <= 25, 'b_level'] = 'low'\n",
    "ela.loc[ela['black'] >= 75, 'b_level'] = 'high'\n",
    "\n",
    "ela['h_level'] = 'mid'\n",
    "ela.loc[ela['hispanic'] <= 25, 'h_level'] = 'low'\n",
    "ela.loc[ela['hispanic'] >= 75, 'h_level'] = 'high'\n",
    "\n",
    "ela.groupby(['state', 'year', 'b_level']).mean().reset_index().loc[:, ['state', 'year', 'b_level',\n",
    "'elapass']].pivot(columns = 'year', values = 'elapass', index = ['state', 'b_level']).reset_index().to_csv(\n",
    "'elapass_by_black.csv')\n",
    "\n",
    "ela.groupby(['state', 'year', 'h_level']).mean().reset_index().loc[:, ['state', 'year', 'h_level',\n",
    "'elapass']].pivot(columns = 'year', values = 'elapass', index = ['state', 'h_level']).reset_index().to_csv(\n",
    "'elapass_by_hispanic.csv')\n",
    "\n",
    "ela.groupby(['state', 'year', 'bh_level']).mean().reset_index().loc[:, ['state', 'year', 'bh_level',\n",
    "'elapass']].pivot(columns = 'year', values = 'elapass', index = ['state', 'bh_level']).reset_index().to_csv(\n",
    "'elapass_by_black_hispanic.csv')"
   ]
  },
  {
   "cell_type": "markdown",
   "id": "1381ffff",
   "metadata": {},
   "source": [
    "### Income"
   ]
  },
  {
   "cell_type": "code",
   "execution_count": 17,
   "id": "d47d7662",
   "metadata": {},
   "outputs": [],
   "source": [
    "ela = pd.read_csv('final_data_all_state_elapass.csv').iloc[:, 1:]\n",
    "\n",
    "ela['income_level'] = 'mid'\n",
    "ela.loc[ela['lowincome'] <= 25, 'income_level'] = 'high'\n",
    "ela.loc[ela['lowincome'] >= 75, 'income_level'] = 'low'\n",
    "\n",
    "ela.groupby(['state', 'year', 'income_level']).mean().reset_index().loc[:, ['state', 'year', 'income_level', \n",
    "'elapass']].pivot(index = ['state', 'income_level'], columns = 'year', values = 'elapass').reset_index(\n",
    ").to_csv('elapass_by_income.csv')"
   ]
  },
  {
   "cell_type": "markdown",
   "id": "836ba884",
   "metadata": {},
   "source": [
    "### School Type"
   ]
  },
  {
   "cell_type": "code",
   "execution_count": 18,
   "id": "493ec110",
   "metadata": {},
   "outputs": [],
   "source": [
    "ela = pd.read_csv('final_data_all_state_elapass.csv').iloc[:, 1:]\n",
    "\n",
    "ela.groupby(['state', 'year', 'charter']).mean().reset_index().loc[:, ['state', 'year', 'charter', \n",
    "'elapass']].pivot(index = ['state', 'charter'], columns = 'year', values = 'elapass').reset_index(\n",
    ").to_csv('elapass_by_schooltype.csv')"
   ]
  },
  {
   "cell_type": "markdown",
   "id": "96ff2ee0",
   "metadata": {},
   "source": [
    "# Drop-out Descriptive Analysis"
   ]
  },
  {
   "cell_type": "markdown",
   "id": "3c83812b",
   "metadata": {},
   "source": [
    "### Year"
   ]
  },
  {
   "cell_type": "code",
   "execution_count": 2,
   "id": "212a563a",
   "metadata": {},
   "outputs": [],
   "source": [
    "drop = pd.read_csv('final_data_all_state_dropout.csv').iloc[:, 1:]\n",
    "drop.groupby(['state', 'year']).mean().reset_index().loc[:, ['state', 'year', 'dropout']].pivot(\n",
    "columns = 'year', values = 'dropout', index = 'state').reset_index().to_csv('dropout_by_year.csv')"
   ]
  },
  {
   "cell_type": "markdown",
   "id": "7453ebbd",
   "metadata": {},
   "source": [
    "### Race/Ethnicity"
   ]
  },
  {
   "cell_type": "code",
   "execution_count": 3,
   "id": "4ffda96f",
   "metadata": {},
   "outputs": [],
   "source": [
    "drop = pd.read_csv('final_data_all_state_dropout.csv').iloc[:, 1:]\n",
    "drop['bh'] = drop['black'] + drop['hispanic']\n",
    "\n",
    "drop['bh_level'] = 'mid'\n",
    "drop.loc[drop['bh'] <= 25, 'bh_level'] = 'low'\n",
    "drop.loc[drop['bh'] >= 75, 'bh_level'] = 'high'\n",
    "\n",
    "drop['b_level'] = 'mid'\n",
    "drop.loc[drop['black'] <= 25, 'b_level'] = 'low'\n",
    "drop.loc[drop['black'] >= 75, 'b_level'] = 'high'\n",
    "\n",
    "drop['h_level'] = 'mid'\n",
    "drop.loc[drop['hispanic'] <= 25, 'h_level'] = 'low'\n",
    "drop.loc[drop['hispanic'] >= 75, 'h_level'] = 'high'\n",
    "\n",
    "drop.groupby(['state', 'year', 'b_level']).mean().reset_index().loc[:, ['state', 'year', 'b_level',\n",
    "'dropout']].pivot(columns = 'year', values = 'dropout', index = ['state', 'b_level']).reset_index().to_csv(\n",
    "'dropout_by_black.csv')\n",
    "\n",
    "drop.groupby(['state', 'year', 'h_level']).mean().reset_index().loc[:, ['state', 'year', 'h_level',\n",
    "'dropout']].pivot(columns = 'year', values = 'dropout', index = ['state', 'h_level']).reset_index().to_csv(\n",
    "'dropout_by_hispanic.csv')\n",
    "\n",
    "drop.groupby(['state', 'year', 'bh_level']).mean().reset_index().loc[:, ['state', 'year', 'bh_level',\n",
    "'dropout']].pivot(columns = 'year', values = 'dropout', index = ['state', 'bh_level']).reset_index().to_csv(\n",
    "'dropout_by_black_hispanic.csv')"
   ]
  },
  {
   "cell_type": "markdown",
   "id": "fabbd90d",
   "metadata": {},
   "source": [
    "### Income"
   ]
  },
  {
   "cell_type": "code",
   "execution_count": 4,
   "id": "69ced1bc",
   "metadata": {},
   "outputs": [],
   "source": [
    "drop = pd.read_csv('final_data_all_state_dropout.csv').iloc[:, 1:]\n",
    "\n",
    "drop['income_level'] = 'mid'\n",
    "drop.loc[drop['lowincome'] <= 25, 'income_level'] = 'high'\n",
    "drop.loc[drop['lowincome'] >= 75, 'income_level'] = 'low'\n",
    "\n",
    "drop.groupby(['state', 'year', 'income_level']).mean().reset_index().loc[:, ['state', 'year', 'income_level', \n",
    "'dropout']].pivot(index = ['state', 'income_level'], columns = 'year', values = 'dropout').reset_index(\n",
    ").to_csv('dropout_by_income.csv')"
   ]
  },
  {
   "cell_type": "markdown",
   "id": "0004c0ec",
   "metadata": {},
   "source": [
    "### School Type"
   ]
  },
  {
   "cell_type": "code",
   "execution_count": 5,
   "id": "8eebdb83",
   "metadata": {},
   "outputs": [],
   "source": [
    "drop = pd.read_csv('final_data_all_state_dropout.csv').iloc[:, 1:]\n",
    "\n",
    "drop.groupby(['state', 'year', 'charter']).mean().reset_index().loc[:, ['state', 'year', 'charter', \n",
    "'dropout']].pivot(index = ['state', 'charter'], columns = 'year', values = 'dropout').reset_index(\n",
    ").to_csv('dropout_by_schooltype.csv')"
   ]
  },
  {
   "cell_type": "code",
   "execution_count": null,
   "id": "6630e87b",
   "metadata": {},
   "outputs": [],
   "source": []
  }
 ],
 "metadata": {
  "kernelspec": {
   "display_name": "Python 3 (ipykernel)",
   "language": "python",
   "name": "python3"
  },
  "language_info": {
   "codemirror_mode": {
    "name": "ipython",
    "version": 3
   },
   "file_extension": ".py",
   "mimetype": "text/x-python",
   "name": "python",
   "nbconvert_exporter": "python",
   "pygments_lexer": "ipython3",
   "version": "3.9.7"
  }
 },
 "nbformat": 4,
 "nbformat_minor": 5
}
