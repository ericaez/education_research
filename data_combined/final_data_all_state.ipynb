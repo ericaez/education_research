{
 "cells": [
  {
   "cell_type": "code",
   "execution_count": 15,
   "id": "1e750190",
   "metadata": {},
   "outputs": [
    {
     "name": "stdout",
     "output_type": "stream",
     "text": [
      "state  year\n",
      "ca     2017    1649\n",
      "       2018    1649\n",
      "       2019    1649\n",
      "       2021    1649\n",
      "il     2017     708\n",
      "       2018     708\n",
      "       2019     708\n",
      "       2021     708\n",
      "nyc    2017    1165\n",
      "       2018    1165\n",
      "       2019    1165\n",
      "       2021    1165\n",
      "tx     2017     370\n",
      "       2018     370\n",
      "       2019     370\n",
      "       2021     370\n",
      "Name: schoolmode, dtype: int64\n",
      "state  year\n",
      "ca     2015     930\n",
      "       2016     930\n",
      "       2017     930\n",
      "       2018     930\n",
      "       2019     930\n",
      "       2021     930\n",
      "il     2017     677\n",
      "       2018     677\n",
      "       2019     677\n",
      "       2021     677\n",
      "tx     2015    2741\n",
      "       2016    2741\n",
      "       2017    2741\n",
      "       2018    2741\n",
      "       2019    2741\n",
      "       2021    2741\n",
      "Name: schoolmode, dtype: int64\n",
      "state  year\n",
      "ca     2015     957\n",
      "       2016     957\n",
      "       2017     957\n",
      "       2018     957\n",
      "       2019     957\n",
      "       2021     957\n",
      "il     2017     677\n",
      "       2018     677\n",
      "       2019     677\n",
      "       2021     677\n",
      "tx     2015    1684\n",
      "       2016    1684\n",
      "       2017    1684\n",
      "       2018    1684\n",
      "       2019    1684\n",
      "       2021    1684\n",
      "Name: schoolmode, dtype: int64\n"
     ]
    }
   ],
   "source": [
    "import pandas as pd\n",
    "\n",
    "for outcome_var in [\"dropout\", \"mathpass\", \"elapass\"]:\n",
    "    data = pd.read_csv(f'../final_data_all_state/final_data_all_state_{outcome_var}.csv').iloc[:, 1:]\n",
    "    print(data.groupby([\"state\", \"year\"]).schoolmode.count())\n"
   ]
  },
  {
   "cell_type": "code",
   "execution_count": null,
   "id": "74c5e7fd",
   "metadata": {},
   "outputs": [],
   "source": []
  }
 ],
 "metadata": {
  "kernelspec": {
   "display_name": "Python 3 (ipykernel)",
   "language": "python",
   "name": "python3"
  },
  "language_info": {
   "codemirror_mode": {
    "name": "ipython",
    "version": 3
   },
   "file_extension": ".py",
   "mimetype": "text/x-python",
   "name": "python",
   "nbconvert_exporter": "python",
   "pygments_lexer": "ipython3",
   "version": "3.9.13"
  }
 },
 "nbformat": 4,
 "nbformat_minor": 5
}
