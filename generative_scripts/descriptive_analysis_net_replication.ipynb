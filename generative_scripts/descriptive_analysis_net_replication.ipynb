{
 "cells": [
  {
   "cell_type": "code",
   "execution_count": 1,
   "metadata": {},
   "outputs": [],
   "source": [
    "import pandas as pd"
   ]
  },
  {
   "cell_type": "code",
   "execution_count": 53,
   "metadata": {},
   "outputs": [],
   "source": [
    "def is_year_column(column_name):\n",
    "    try:\n",
    "        year = int(column_name)\n",
    "        return len(column_name) == 4\n",
    "    except ValueError:\n",
    "        return False\n",
    "\n",
    "def raw_dataframe_to_net_dataframe(path):\n",
    "    df = pd.read_csv(f'../descriptive_analysis/{path}.csv').drop(columns='Unnamed: 0')\n",
    "    \n",
    "    # Find the first year column\n",
    "    start_index = next(i for i, col in enumerate(df.columns) if is_year_column(col))\n",
    "    \n",
    "    # Calculate the differences relative to the previous year\n",
    "    diff_prev_year = df.copy()\n",
    "    diff_prev_year.iloc[:, start_index:] = df.iloc[:, start_index:].diff(axis=1)\n",
    "\n",
    "    # Calculate the differences relative to the first year\n",
    "    first_year = df.iloc[:, start_index].values.reshape(-1, 1)\n",
    "    diff_first_year = df.copy()\n",
    "    diff_first_year.iloc[:, start_index:] = df.iloc[:, start_index:].subtract(first_year, axis=0)\n",
    "\n",
    "    # Transform the data for the desired format\n",
    "    id_vars = df.columns[:start_index].tolist()  # Columns before the year columns\n",
    "    df_melted_prev = diff_prev_year.melt(id_vars=id_vars, value_name=\"Net Change from Prev Year\", var_name=\"Year\")\n",
    "    df_melted_first = diff_first_year.melt(id_vars=id_vars, value_name=\"Net Change from First Year\", var_name=\"Year\")\n",
    "\n",
    "    # Merge the datasets\n",
    "    df_merged = pd.merge(df_melted_prev, df_melted_first, on=id_vars + [\"Year\"])\n",
    "    df_merged = df_merged.sort_values(by=id_vars + ['Year'])\n",
    "    \n",
    "    df_merged.to_csv(f'../descriptive_analysis_by_net_change/{path}.csv')\n"
   ]
  },
  {
   "cell_type": "code",
   "execution_count": 60,
   "metadata": {},
   "outputs": [],
   "source": [
    "outcome_vars = [\"elapass\", \"mathpass\", \"dropout\"]\n",
    "descriptive_groups = [\"year\", \"black\", \"hispanic\", \"black_hispanic\", \"schooltype\", \"income\"]\n",
    "\n",
    "for outcome_var in outcome_vars:\n",
    "    for descriptive_group in descriptive_groups:\n",
    "        raw_dataframe_to_net_dataframe(f\"{outcome_var}_by_{descriptive_group}\")"
   ]
  },
  {
   "cell_type": "code",
   "execution_count": null,
   "metadata": {},
   "outputs": [],
   "source": []
  }
 ],
 "metadata": {
  "kernelspec": {
   "display_name": "Python 3",
   "language": "python",
   "name": "python3"
  },
  "language_info": {
   "codemirror_mode": {
    "name": "ipython",
    "version": 3
   },
   "file_extension": ".py",
   "mimetype": "text/x-python",
   "name": "python",
   "nbconvert_exporter": "python",
   "pygments_lexer": "ipython3",
   "version": "3.10.4"
  },
  "orig_nbformat": 4
 },
 "nbformat": 4,
 "nbformat_minor": 2
}
